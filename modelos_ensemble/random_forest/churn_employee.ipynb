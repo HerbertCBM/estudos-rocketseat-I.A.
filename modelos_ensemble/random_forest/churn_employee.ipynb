{
 "cells": [
  {
   "cell_type": "code",
   "execution_count": 44,
   "id": "142a68c4",
   "metadata": {},
   "outputs": [],
   "source": [
    "# EDA\n",
    "import pandas as pd\n",
    "import numpy as np\n",
    "from scipy.stats import chi2_contingency\n",
    "\n",
    "# Visualizações\n",
    "import plotly.express as px\n",
    "\n",
    "# Preparação dos dados\n",
    "from sklearn.compose import ColumnTransformer\n",
    "from sklearn.preprocessing import StandardScaler, OneHotEncoder\n",
    "\n",
    "# Ramdom Forest\n",
    "from sklearn.ensemble import RandomForestClassifier\n",
    "from sklearn.model_selection import train_test_split, StratifiedKFold, cross_validate\n",
    "from sklearn.metrics import classification_report, f1_score, confusion_matrix, \\\n",
    "                            ConfusionMatrixDisplay, log_loss, roc_auc_score, roc_curve, \\\n",
    "                            precision_score\n",
    "\n",
    "# Otimização de Hiperparãmetros\n",
    "import optuna"
   ]
  },
  {
   "cell_type": "markdown",
   "id": "02f303b0",
   "metadata": {},
   "source": [
    "### Carregar os Dados"
   ]
  },
  {
   "cell_type": "code",
   "execution_count": 45,
   "id": "6398d992",
   "metadata": {},
   "outputs": [
    {
     "name": "stderr",
     "output_type": "stream",
     "text": [
      "<>:2: SyntaxWarning:\n",
      "\n",
      "invalid escape sequence '\\d'\n",
      "\n",
      "<>:2: SyntaxWarning:\n",
      "\n",
      "invalid escape sequence '\\d'\n",
      "\n",
      "C:\\Users\\Carolina\\AppData\\Local\\Temp\\ipykernel_19536\\2338481280.py:2: SyntaxWarning:\n",
      "\n",
      "invalid escape sequence '\\d'\n",
      "\n"
     ]
    }
   ],
   "source": [
    "# Carregar o Dataset\n",
    "df_employees = pd.read_csv('.\\dataset\\employee_churn.csv', \n",
    "                          parse_dates=['data_contratacao', 'data_demissao', 'data_ultimo_feedback',\n",
    "                                       'data_ultimo_aumento', 'data_ultima_mudanca_cargo'],\n",
    "                          date_format='%Y-%m-%d')  "
   ]
  },
  {
   "cell_type": "code",
   "execution_count": 46,
   "id": "90d6f8b9",
   "metadata": {},
   "outputs": [
    {
     "name": "stdout",
     "output_type": "stream",
     "text": [
      "<class 'pandas.core.frame.DataFrame'>\n",
      "RangeIndex: 2000 entries, 0 to 1999\n",
      "Data columns (total 20 columns):\n",
      " #   Column                     Non-Null Count  Dtype         \n",
      "---  ------                     --------------  -----         \n",
      " 0   id                         2000 non-null   object        \n",
      " 1   idade                      2000 non-null   int64         \n",
      " 2   genero                     2000 non-null   object        \n",
      " 3   estado_civil               2000 non-null   object        \n",
      " 4   educacao                   2000 non-null   object        \n",
      " 5   regime_trabalho            2000 non-null   object        \n",
      " 6   data_contratacao           2000 non-null   datetime64[ns]\n",
      " 7   data_demissao              286 non-null    datetime64[ns]\n",
      " 8   tipo_demissao              286 non-null    object        \n",
      " 9   cargo                      2000 non-null   object        \n",
      " 10  salario_atual              2000 non-null   int64         \n",
      " 11  data_ultimo_feedback       2000 non-null   datetime64[ns]\n",
      " 12  data_ultimo_aumento        2000 non-null   datetime64[ns]\n",
      " 13  data_ultima_mudanca_cargo  2000 non-null   datetime64[ns]\n",
      " 14  nota_avaliacao             2000 non-null   float64       \n",
      " 15  acompanhamento_psicologo   2000 non-null   bool          \n",
      " 16  qtde_projetos              2000 non-null   int64         \n",
      " 17  qtde_clientes              2000 non-null   int64         \n",
      " 18  nivel_satisfacao_gestor    2000 non-null   float64       \n",
      " 19  churn                      2000 non-null   int64         \n",
      "dtypes: bool(1), datetime64[ns](5), float64(2), int64(5), object(7)\n",
      "memory usage: 299.0+ KB\n"
     ]
    }
   ],
   "source": [
    "# Visualizar estrutura do Dataset\n",
    "df_employees.info()"
   ]
  },
  {
   "cell_type": "code",
   "execution_count": 47,
   "id": "dab43725",
   "metadata": {},
   "outputs": [
    {
     "data": {
      "text/html": [
       "<div>\n",
       "<style scoped>\n",
       "    .dataframe tbody tr th:only-of-type {\n",
       "        vertical-align: middle;\n",
       "    }\n",
       "\n",
       "    .dataframe tbody tr th {\n",
       "        vertical-align: top;\n",
       "    }\n",
       "\n",
       "    .dataframe thead th {\n",
       "        text-align: right;\n",
       "    }\n",
       "</style>\n",
       "<table border=\"1\" class=\"dataframe\">\n",
       "  <thead>\n",
       "    <tr style=\"text-align: right;\">\n",
       "      <th></th>\n",
       "      <th>id</th>\n",
       "      <th>idade</th>\n",
       "      <th>genero</th>\n",
       "      <th>estado_civil</th>\n",
       "      <th>educacao</th>\n",
       "      <th>regime_trabalho</th>\n",
       "      <th>data_contratacao</th>\n",
       "      <th>data_demissao</th>\n",
       "      <th>tipo_demissao</th>\n",
       "      <th>cargo</th>\n",
       "      <th>salario_atual</th>\n",
       "      <th>data_ultimo_feedback</th>\n",
       "      <th>data_ultimo_aumento</th>\n",
       "      <th>data_ultima_mudanca_cargo</th>\n",
       "      <th>nota_avaliacao</th>\n",
       "      <th>acompanhamento_psicologo</th>\n",
       "      <th>qtde_projetos</th>\n",
       "      <th>qtde_clientes</th>\n",
       "      <th>nivel_satisfacao_gestor</th>\n",
       "      <th>churn</th>\n",
       "    </tr>\n",
       "  </thead>\n",
       "  <tbody>\n",
       "    <tr>\n",
       "      <th>1980</th>\n",
       "      <td>EMP1745</td>\n",
       "      <td>40</td>\n",
       "      <td>M</td>\n",
       "      <td>Casado(a)</td>\n",
       "      <td>Technical Degree</td>\n",
       "      <td>Presencial</td>\n",
       "      <td>2024-07-08</td>\n",
       "      <td>NaT</td>\n",
       "      <td>NaN</td>\n",
       "      <td>UX Designer</td>\n",
       "      <td>6751</td>\n",
       "      <td>2024-09-27</td>\n",
       "      <td>2024-08-04</td>\n",
       "      <td>2024-07-09</td>\n",
       "      <td>6.5</td>\n",
       "      <td>False</td>\n",
       "      <td>5</td>\n",
       "      <td>4</td>\n",
       "      <td>1.3</td>\n",
       "      <td>0</td>\n",
       "    </tr>\n",
       "    <tr>\n",
       "      <th>1981</th>\n",
       "      <td>EMP0323</td>\n",
       "      <td>46</td>\n",
       "      <td>Outro</td>\n",
       "      <td>Divorciado(a)</td>\n",
       "      <td>Technical Degree</td>\n",
       "      <td>Híbrido</td>\n",
       "      <td>2024-07-09</td>\n",
       "      <td>NaT</td>\n",
       "      <td>NaN</td>\n",
       "      <td>Tech Lead</td>\n",
       "      <td>7962</td>\n",
       "      <td>2024-08-15</td>\n",
       "      <td>2024-10-12</td>\n",
       "      <td>2024-08-21</td>\n",
       "      <td>8.4</td>\n",
       "      <td>True</td>\n",
       "      <td>9</td>\n",
       "      <td>1</td>\n",
       "      <td>3.2</td>\n",
       "      <td>0</td>\n",
       "    </tr>\n",
       "    <tr>\n",
       "      <th>1982</th>\n",
       "      <td>EMP0047</td>\n",
       "      <td>26</td>\n",
       "      <td>M</td>\n",
       "      <td>Solteiro(a)</td>\n",
       "      <td>Master</td>\n",
       "      <td>Presencial</td>\n",
       "      <td>2024-07-10</td>\n",
       "      <td>NaT</td>\n",
       "      <td>NaN</td>\n",
       "      <td>Data Scientist</td>\n",
       "      <td>22749</td>\n",
       "      <td>2024-08-18</td>\n",
       "      <td>2024-08-09</td>\n",
       "      <td>2024-07-17</td>\n",
       "      <td>9.3</td>\n",
       "      <td>True</td>\n",
       "      <td>7</td>\n",
       "      <td>1</td>\n",
       "      <td>6.3</td>\n",
       "      <td>0</td>\n",
       "    </tr>\n",
       "    <tr>\n",
       "      <th>1983</th>\n",
       "      <td>EMP0063</td>\n",
       "      <td>24</td>\n",
       "      <td>Outro</td>\n",
       "      <td>Divorciado(a)</td>\n",
       "      <td>Bachelor</td>\n",
       "      <td>Remoto</td>\n",
       "      <td>2024-07-11</td>\n",
       "      <td>NaT</td>\n",
       "      <td>NaN</td>\n",
       "      <td>Tech Lead</td>\n",
       "      <td>17891</td>\n",
       "      <td>2024-09-01</td>\n",
       "      <td>2024-08-04</td>\n",
       "      <td>2024-07-23</td>\n",
       "      <td>7.4</td>\n",
       "      <td>False</td>\n",
       "      <td>5</td>\n",
       "      <td>6</td>\n",
       "      <td>2.1</td>\n",
       "      <td>0</td>\n",
       "    </tr>\n",
       "    <tr>\n",
       "      <th>1984</th>\n",
       "      <td>EMP1864</td>\n",
       "      <td>46</td>\n",
       "      <td>M</td>\n",
       "      <td>Casado(a)</td>\n",
       "      <td>Technical Degree</td>\n",
       "      <td>Presencial</td>\n",
       "      <td>2024-07-12</td>\n",
       "      <td>NaT</td>\n",
       "      <td>NaN</td>\n",
       "      <td>Senior Developer</td>\n",
       "      <td>10274</td>\n",
       "      <td>2024-08-03</td>\n",
       "      <td>2024-08-14</td>\n",
       "      <td>2024-10-20</td>\n",
       "      <td>6.1</td>\n",
       "      <td>True</td>\n",
       "      <td>6</td>\n",
       "      <td>1</td>\n",
       "      <td>7.6</td>\n",
       "      <td>0</td>\n",
       "    </tr>\n",
       "    <tr>\n",
       "      <th>1985</th>\n",
       "      <td>EMP1333</td>\n",
       "      <td>39</td>\n",
       "      <td>Outro</td>\n",
       "      <td>Divorciado(a)</td>\n",
       "      <td>Bachelor</td>\n",
       "      <td>Remoto</td>\n",
       "      <td>2024-07-12</td>\n",
       "      <td>2024-09-20</td>\n",
       "      <td>Voluntária</td>\n",
       "      <td>Tech Lead</td>\n",
       "      <td>11728</td>\n",
       "      <td>2024-09-04</td>\n",
       "      <td>2024-08-02</td>\n",
       "      <td>2024-07-12</td>\n",
       "      <td>9.9</td>\n",
       "      <td>True</td>\n",
       "      <td>8</td>\n",
       "      <td>1</td>\n",
       "      <td>9.6</td>\n",
       "      <td>1</td>\n",
       "    </tr>\n",
       "    <tr>\n",
       "      <th>1986</th>\n",
       "      <td>EMP0071</td>\n",
       "      <td>24</td>\n",
       "      <td>Outro</td>\n",
       "      <td>Divorciado(a)</td>\n",
       "      <td>Technical Degree</td>\n",
       "      <td>Híbrido</td>\n",
       "      <td>2024-07-12</td>\n",
       "      <td>2024-10-20</td>\n",
       "      <td>Voluntária</td>\n",
       "      <td>UX Designer</td>\n",
       "      <td>13659</td>\n",
       "      <td>2024-07-24</td>\n",
       "      <td>2024-07-18</td>\n",
       "      <td>2024-10-03</td>\n",
       "      <td>9.9</td>\n",
       "      <td>False</td>\n",
       "      <td>6</td>\n",
       "      <td>6</td>\n",
       "      <td>3.3</td>\n",
       "      <td>1</td>\n",
       "    </tr>\n",
       "    <tr>\n",
       "      <th>1987</th>\n",
       "      <td>EMP1740</td>\n",
       "      <td>39</td>\n",
       "      <td>M</td>\n",
       "      <td>Casado(a)</td>\n",
       "      <td>Master</td>\n",
       "      <td>Híbrido</td>\n",
       "      <td>2024-07-12</td>\n",
       "      <td>NaT</td>\n",
       "      <td>NaN</td>\n",
       "      <td>Tech Lead</td>\n",
       "      <td>20329</td>\n",
       "      <td>2024-08-04</td>\n",
       "      <td>2024-09-28</td>\n",
       "      <td>2024-08-10</td>\n",
       "      <td>6.8</td>\n",
       "      <td>True</td>\n",
       "      <td>3</td>\n",
       "      <td>1</td>\n",
       "      <td>7.5</td>\n",
       "      <td>0</td>\n",
       "    </tr>\n",
       "    <tr>\n",
       "      <th>1988</th>\n",
       "      <td>EMP1858</td>\n",
       "      <td>44</td>\n",
       "      <td>M</td>\n",
       "      <td>Casado(a)</td>\n",
       "      <td>Technical Degree</td>\n",
       "      <td>Híbrido</td>\n",
       "      <td>2024-07-14</td>\n",
       "      <td>NaT</td>\n",
       "      <td>NaN</td>\n",
       "      <td>Tech Lead</td>\n",
       "      <td>20987</td>\n",
       "      <td>2024-10-16</td>\n",
       "      <td>2024-10-01</td>\n",
       "      <td>2024-07-17</td>\n",
       "      <td>9.7</td>\n",
       "      <td>False</td>\n",
       "      <td>8</td>\n",
       "      <td>7</td>\n",
       "      <td>9.5</td>\n",
       "      <td>0</td>\n",
       "    </tr>\n",
       "    <tr>\n",
       "      <th>1989</th>\n",
       "      <td>EMP0688</td>\n",
       "      <td>26</td>\n",
       "      <td>F</td>\n",
       "      <td>Solteiro(a)</td>\n",
       "      <td>PhD</td>\n",
       "      <td>Híbrido</td>\n",
       "      <td>2024-07-15</td>\n",
       "      <td>NaT</td>\n",
       "      <td>NaN</td>\n",
       "      <td>QA Engineer</td>\n",
       "      <td>9846</td>\n",
       "      <td>2024-10-07</td>\n",
       "      <td>2024-09-06</td>\n",
       "      <td>2024-10-01</td>\n",
       "      <td>8.5</td>\n",
       "      <td>True</td>\n",
       "      <td>3</td>\n",
       "      <td>7</td>\n",
       "      <td>2.1</td>\n",
       "      <td>0</td>\n",
       "    </tr>\n",
       "    <tr>\n",
       "      <th>1990</th>\n",
       "      <td>EMP0231</td>\n",
       "      <td>40</td>\n",
       "      <td>Outro</td>\n",
       "      <td>Viúvo(a)</td>\n",
       "      <td>Master</td>\n",
       "      <td>Remoto</td>\n",
       "      <td>2024-07-19</td>\n",
       "      <td>NaT</td>\n",
       "      <td>NaN</td>\n",
       "      <td>Product Manager</td>\n",
       "      <td>15704</td>\n",
       "      <td>2024-09-29</td>\n",
       "      <td>2024-08-26</td>\n",
       "      <td>2024-07-29</td>\n",
       "      <td>7.0</td>\n",
       "      <td>False</td>\n",
       "      <td>1</td>\n",
       "      <td>4</td>\n",
       "      <td>3.7</td>\n",
       "      <td>0</td>\n",
       "    </tr>\n",
       "    <tr>\n",
       "      <th>1991</th>\n",
       "      <td>EMP1939</td>\n",
       "      <td>41</td>\n",
       "      <td>M</td>\n",
       "      <td>Divorciado(a)</td>\n",
       "      <td>Bachelor</td>\n",
       "      <td>Presencial</td>\n",
       "      <td>2024-07-19</td>\n",
       "      <td>NaT</td>\n",
       "      <td>NaN</td>\n",
       "      <td>QA Engineer</td>\n",
       "      <td>6586</td>\n",
       "      <td>2024-10-21</td>\n",
       "      <td>2024-10-13</td>\n",
       "      <td>2024-09-08</td>\n",
       "      <td>8.8</td>\n",
       "      <td>False</td>\n",
       "      <td>6</td>\n",
       "      <td>6</td>\n",
       "      <td>7.9</td>\n",
       "      <td>0</td>\n",
       "    </tr>\n",
       "    <tr>\n",
       "      <th>1992</th>\n",
       "      <td>EMP1167</td>\n",
       "      <td>49</td>\n",
       "      <td>Outro</td>\n",
       "      <td>Viúvo(a)</td>\n",
       "      <td>PhD</td>\n",
       "      <td>Híbrido</td>\n",
       "      <td>2024-07-20</td>\n",
       "      <td>NaT</td>\n",
       "      <td>NaN</td>\n",
       "      <td>Tech Lead</td>\n",
       "      <td>13820</td>\n",
       "      <td>2024-09-09</td>\n",
       "      <td>2024-07-22</td>\n",
       "      <td>2024-08-18</td>\n",
       "      <td>7.4</td>\n",
       "      <td>False</td>\n",
       "      <td>6</td>\n",
       "      <td>6</td>\n",
       "      <td>6.0</td>\n",
       "      <td>0</td>\n",
       "    </tr>\n",
       "    <tr>\n",
       "      <th>1993</th>\n",
       "      <td>EMP1926</td>\n",
       "      <td>40</td>\n",
       "      <td>F</td>\n",
       "      <td>Casado(a)</td>\n",
       "      <td>Bachelor</td>\n",
       "      <td>Presencial</td>\n",
       "      <td>2024-07-20</td>\n",
       "      <td>NaT</td>\n",
       "      <td>NaN</td>\n",
       "      <td>Product Manager</td>\n",
       "      <td>7703</td>\n",
       "      <td>2024-09-15</td>\n",
       "      <td>2024-07-22</td>\n",
       "      <td>2024-07-24</td>\n",
       "      <td>8.6</td>\n",
       "      <td>True</td>\n",
       "      <td>4</td>\n",
       "      <td>5</td>\n",
       "      <td>5.6</td>\n",
       "      <td>0</td>\n",
       "    </tr>\n",
       "    <tr>\n",
       "      <th>1994</th>\n",
       "      <td>EMP1191</td>\n",
       "      <td>49</td>\n",
       "      <td>F</td>\n",
       "      <td>Solteiro(a)</td>\n",
       "      <td>Technical Degree</td>\n",
       "      <td>Híbrido</td>\n",
       "      <td>2024-07-23</td>\n",
       "      <td>NaT</td>\n",
       "      <td>NaN</td>\n",
       "      <td>Product Manager</td>\n",
       "      <td>14965</td>\n",
       "      <td>2024-08-14</td>\n",
       "      <td>2024-07-28</td>\n",
       "      <td>2024-08-29</td>\n",
       "      <td>6.3</td>\n",
       "      <td>False</td>\n",
       "      <td>4</td>\n",
       "      <td>3</td>\n",
       "      <td>7.1</td>\n",
       "      <td>0</td>\n",
       "    </tr>\n",
       "    <tr>\n",
       "      <th>1995</th>\n",
       "      <td>EMP0353</td>\n",
       "      <td>50</td>\n",
       "      <td>Outro</td>\n",
       "      <td>Viúvo(a)</td>\n",
       "      <td>Bachelor</td>\n",
       "      <td>Remoto</td>\n",
       "      <td>2024-07-23</td>\n",
       "      <td>NaT</td>\n",
       "      <td>NaN</td>\n",
       "      <td>QA Engineer</td>\n",
       "      <td>7378</td>\n",
       "      <td>2024-08-21</td>\n",
       "      <td>2024-09-03</td>\n",
       "      <td>2024-08-10</td>\n",
       "      <td>9.3</td>\n",
       "      <td>True</td>\n",
       "      <td>6</td>\n",
       "      <td>3</td>\n",
       "      <td>10.0</td>\n",
       "      <td>0</td>\n",
       "    </tr>\n",
       "    <tr>\n",
       "      <th>1996</th>\n",
       "      <td>EMP1808</td>\n",
       "      <td>26</td>\n",
       "      <td>F</td>\n",
       "      <td>Divorciado(a)</td>\n",
       "      <td>PhD</td>\n",
       "      <td>Presencial</td>\n",
       "      <td>2024-07-24</td>\n",
       "      <td>2024-10-06</td>\n",
       "      <td>Voluntária</td>\n",
       "      <td>Senior Developer</td>\n",
       "      <td>8501</td>\n",
       "      <td>2024-09-17</td>\n",
       "      <td>2024-09-17</td>\n",
       "      <td>2024-10-04</td>\n",
       "      <td>9.9</td>\n",
       "      <td>False</td>\n",
       "      <td>4</td>\n",
       "      <td>6</td>\n",
       "      <td>4.7</td>\n",
       "      <td>1</td>\n",
       "    </tr>\n",
       "    <tr>\n",
       "      <th>1997</th>\n",
       "      <td>EMP0503</td>\n",
       "      <td>35</td>\n",
       "      <td>F</td>\n",
       "      <td>Viúvo(a)</td>\n",
       "      <td>PhD</td>\n",
       "      <td>Presencial</td>\n",
       "      <td>2024-07-24</td>\n",
       "      <td>NaT</td>\n",
       "      <td>NaN</td>\n",
       "      <td>Senior Developer</td>\n",
       "      <td>22488</td>\n",
       "      <td>2024-10-14</td>\n",
       "      <td>2024-08-15</td>\n",
       "      <td>2024-10-19</td>\n",
       "      <td>8.0</td>\n",
       "      <td>False</td>\n",
       "      <td>6</td>\n",
       "      <td>1</td>\n",
       "      <td>6.8</td>\n",
       "      <td>0</td>\n",
       "    </tr>\n",
       "    <tr>\n",
       "      <th>1998</th>\n",
       "      <td>EMP1266</td>\n",
       "      <td>33</td>\n",
       "      <td>F</td>\n",
       "      <td>Viúvo(a)</td>\n",
       "      <td>Technical Degree</td>\n",
       "      <td>Híbrido</td>\n",
       "      <td>2024-07-25</td>\n",
       "      <td>NaT</td>\n",
       "      <td>NaN</td>\n",
       "      <td>QA Engineer</td>\n",
       "      <td>13748</td>\n",
       "      <td>2024-09-20</td>\n",
       "      <td>2024-08-07</td>\n",
       "      <td>2024-10-11</td>\n",
       "      <td>8.7</td>\n",
       "      <td>False</td>\n",
       "      <td>8</td>\n",
       "      <td>1</td>\n",
       "      <td>2.6</td>\n",
       "      <td>0</td>\n",
       "    </tr>\n",
       "    <tr>\n",
       "      <th>1999</th>\n",
       "      <td>EMP1815</td>\n",
       "      <td>53</td>\n",
       "      <td>F</td>\n",
       "      <td>Solteiro(a)</td>\n",
       "      <td>PhD</td>\n",
       "      <td>Presencial</td>\n",
       "      <td>2024-07-25</td>\n",
       "      <td>NaT</td>\n",
       "      <td>NaN</td>\n",
       "      <td>QA Engineer</td>\n",
       "      <td>16819</td>\n",
       "      <td>2024-10-09</td>\n",
       "      <td>2024-09-11</td>\n",
       "      <td>2024-09-04</td>\n",
       "      <td>7.9</td>\n",
       "      <td>False</td>\n",
       "      <td>9</td>\n",
       "      <td>2</td>\n",
       "      <td>2.3</td>\n",
       "      <td>0</td>\n",
       "    </tr>\n",
       "  </tbody>\n",
       "</table>\n",
       "</div>"
      ],
      "text/plain": [
       "           id  idade genero   estado_civil          educacao regime_trabalho  \\\n",
       "1980  EMP1745     40      M      Casado(a)  Technical Degree      Presencial   \n",
       "1981  EMP0323     46  Outro  Divorciado(a)  Technical Degree         Híbrido   \n",
       "1982  EMP0047     26      M    Solteiro(a)            Master      Presencial   \n",
       "1983  EMP0063     24  Outro  Divorciado(a)          Bachelor          Remoto   \n",
       "1984  EMP1864     46      M      Casado(a)  Technical Degree      Presencial   \n",
       "1985  EMP1333     39  Outro  Divorciado(a)          Bachelor          Remoto   \n",
       "1986  EMP0071     24  Outro  Divorciado(a)  Technical Degree         Híbrido   \n",
       "1987  EMP1740     39      M      Casado(a)            Master         Híbrido   \n",
       "1988  EMP1858     44      M      Casado(a)  Technical Degree         Híbrido   \n",
       "1989  EMP0688     26      F    Solteiro(a)               PhD         Híbrido   \n",
       "1990  EMP0231     40  Outro       Viúvo(a)            Master          Remoto   \n",
       "1991  EMP1939     41      M  Divorciado(a)          Bachelor      Presencial   \n",
       "1992  EMP1167     49  Outro       Viúvo(a)               PhD         Híbrido   \n",
       "1993  EMP1926     40      F      Casado(a)          Bachelor      Presencial   \n",
       "1994  EMP1191     49      F    Solteiro(a)  Technical Degree         Híbrido   \n",
       "1995  EMP0353     50  Outro       Viúvo(a)          Bachelor          Remoto   \n",
       "1996  EMP1808     26      F  Divorciado(a)               PhD      Presencial   \n",
       "1997  EMP0503     35      F       Viúvo(a)               PhD      Presencial   \n",
       "1998  EMP1266     33      F       Viúvo(a)  Technical Degree         Híbrido   \n",
       "1999  EMP1815     53      F    Solteiro(a)               PhD      Presencial   \n",
       "\n",
       "     data_contratacao data_demissao tipo_demissao             cargo  \\\n",
       "1980       2024-07-08           NaT           NaN       UX Designer   \n",
       "1981       2024-07-09           NaT           NaN         Tech Lead   \n",
       "1982       2024-07-10           NaT           NaN    Data Scientist   \n",
       "1983       2024-07-11           NaT           NaN         Tech Lead   \n",
       "1984       2024-07-12           NaT           NaN  Senior Developer   \n",
       "1985       2024-07-12    2024-09-20    Voluntária         Tech Lead   \n",
       "1986       2024-07-12    2024-10-20    Voluntária       UX Designer   \n",
       "1987       2024-07-12           NaT           NaN         Tech Lead   \n",
       "1988       2024-07-14           NaT           NaN         Tech Lead   \n",
       "1989       2024-07-15           NaT           NaN       QA Engineer   \n",
       "1990       2024-07-19           NaT           NaN   Product Manager   \n",
       "1991       2024-07-19           NaT           NaN       QA Engineer   \n",
       "1992       2024-07-20           NaT           NaN         Tech Lead   \n",
       "1993       2024-07-20           NaT           NaN   Product Manager   \n",
       "1994       2024-07-23           NaT           NaN   Product Manager   \n",
       "1995       2024-07-23           NaT           NaN       QA Engineer   \n",
       "1996       2024-07-24    2024-10-06    Voluntária  Senior Developer   \n",
       "1997       2024-07-24           NaT           NaN  Senior Developer   \n",
       "1998       2024-07-25           NaT           NaN       QA Engineer   \n",
       "1999       2024-07-25           NaT           NaN       QA Engineer   \n",
       "\n",
       "      salario_atual data_ultimo_feedback data_ultimo_aumento  \\\n",
       "1980           6751           2024-09-27          2024-08-04   \n",
       "1981           7962           2024-08-15          2024-10-12   \n",
       "1982          22749           2024-08-18          2024-08-09   \n",
       "1983          17891           2024-09-01          2024-08-04   \n",
       "1984          10274           2024-08-03          2024-08-14   \n",
       "1985          11728           2024-09-04          2024-08-02   \n",
       "1986          13659           2024-07-24          2024-07-18   \n",
       "1987          20329           2024-08-04          2024-09-28   \n",
       "1988          20987           2024-10-16          2024-10-01   \n",
       "1989           9846           2024-10-07          2024-09-06   \n",
       "1990          15704           2024-09-29          2024-08-26   \n",
       "1991           6586           2024-10-21          2024-10-13   \n",
       "1992          13820           2024-09-09          2024-07-22   \n",
       "1993           7703           2024-09-15          2024-07-22   \n",
       "1994          14965           2024-08-14          2024-07-28   \n",
       "1995           7378           2024-08-21          2024-09-03   \n",
       "1996           8501           2024-09-17          2024-09-17   \n",
       "1997          22488           2024-10-14          2024-08-15   \n",
       "1998          13748           2024-09-20          2024-08-07   \n",
       "1999          16819           2024-10-09          2024-09-11   \n",
       "\n",
       "     data_ultima_mudanca_cargo  nota_avaliacao  acompanhamento_psicologo  \\\n",
       "1980                2024-07-09             6.5                     False   \n",
       "1981                2024-08-21             8.4                      True   \n",
       "1982                2024-07-17             9.3                      True   \n",
       "1983                2024-07-23             7.4                     False   \n",
       "1984                2024-10-20             6.1                      True   \n",
       "1985                2024-07-12             9.9                      True   \n",
       "1986                2024-10-03             9.9                     False   \n",
       "1987                2024-08-10             6.8                      True   \n",
       "1988                2024-07-17             9.7                     False   \n",
       "1989                2024-10-01             8.5                      True   \n",
       "1990                2024-07-29             7.0                     False   \n",
       "1991                2024-09-08             8.8                     False   \n",
       "1992                2024-08-18             7.4                     False   \n",
       "1993                2024-07-24             8.6                      True   \n",
       "1994                2024-08-29             6.3                     False   \n",
       "1995                2024-08-10             9.3                      True   \n",
       "1996                2024-10-04             9.9                     False   \n",
       "1997                2024-10-19             8.0                     False   \n",
       "1998                2024-10-11             8.7                     False   \n",
       "1999                2024-09-04             7.9                     False   \n",
       "\n",
       "      qtde_projetos  qtde_clientes  nivel_satisfacao_gestor  churn  \n",
       "1980              5              4                      1.3      0  \n",
       "1981              9              1                      3.2      0  \n",
       "1982              7              1                      6.3      0  \n",
       "1983              5              6                      2.1      0  \n",
       "1984              6              1                      7.6      0  \n",
       "1985              8              1                      9.6      1  \n",
       "1986              6              6                      3.3      1  \n",
       "1987              3              1                      7.5      0  \n",
       "1988              8              7                      9.5      0  \n",
       "1989              3              7                      2.1      0  \n",
       "1990              1              4                      3.7      0  \n",
       "1991              6              6                      7.9      0  \n",
       "1992              6              6                      6.0      0  \n",
       "1993              4              5                      5.6      0  \n",
       "1994              4              3                      7.1      0  \n",
       "1995              6              3                     10.0      0  \n",
       "1996              4              6                      4.7      1  \n",
       "1997              6              1                      6.8      0  \n",
       "1998              8              1                      2.6      0  \n",
       "1999              9              2                      2.3      0  "
      ]
     },
     "execution_count": 47,
     "metadata": {},
     "output_type": "execute_result"
    }
   ],
   "source": [
    "# Mostrar primeiras linhas\n",
    "df_employees.tail(20)"
   ]
  },
  {
   "cell_type": "markdown",
   "id": "6efe46b5",
   "metadata": {},
   "source": [
    "- Após carregar os dados e visualizar a estrutura, foi obsevado que as variáveis do tipo data não estavam com a tipagem correta, por tanto, foi necessário voltar à celula de carga do dataset e para fazer a transformação das variáveis, direto no carregamento do dataset"
   ]
  },
  {
   "cell_type": "markdown",
   "id": "b668d375",
   "metadata": {},
   "source": [
    "### Feature Engineering"
   ]
  },
  {
   "cell_type": "code",
   "execution_count": 48,
   "id": "6d7c9557",
   "metadata": {},
   "outputs": [],
   "source": [
    "# Criar features baseadas em datas (diferenças em dias)\n",
    "\n",
    "# Calcular o tempo de empresa\n",
    "df_employees['tempo_empresa'] = df_employees.apply(lambda x:\n",
    "    (pd.Timestamp.now() - x['data_contratacao']).days if x['churn'] == 0 \n",
    "    else (x['data_demissao'] - x['data_contratacao']).days, axis=1)\n",
    "\n",
    "# Calcular tempo desde o ultimo feedbak\n",
    "df_employees['dias_desde_ultimo_feedback'] = (pd.Timestamp.now() - df_employees['data_ultimo_feedback']).dt.days\n",
    "\n",
    "# Calcular tempo desde o ultimo aumentos\n",
    "df_employees['dias_desde_ultimo_aumento'] = (pd.Timestamp.now() - df_employees['data_ultimo_aumento']).dt.days\n",
    "\n",
    "# Calcular tempo desde a ultima mudança de cargo\n",
    "df_employees['dias_desde_ultima_mudanca_cargo'] = (pd.Timestamp.now() - df_employees['data_ultima_mudanca_cargo']).dt.days\n",
    "\n"
   ]
  },
  {
   "cell_type": "code",
   "execution_count": 49,
   "id": "0efbaacb",
   "metadata": {},
   "outputs": [],
   "source": [
    "# Remover coluna ID\n",
    "df_employees.drop(columns=['id'], inplace=True, axis=1)"
   ]
  },
  {
   "cell_type": "code",
   "execution_count": 50,
   "id": "e346ff3d",
   "metadata": {},
   "outputs": [
    {
     "data": {
      "text/html": [
       "<div>\n",
       "<style scoped>\n",
       "    .dataframe tbody tr th:only-of-type {\n",
       "        vertical-align: middle;\n",
       "    }\n",
       "\n",
       "    .dataframe tbody tr th {\n",
       "        vertical-align: top;\n",
       "    }\n",
       "\n",
       "    .dataframe thead th {\n",
       "        text-align: right;\n",
       "    }\n",
       "</style>\n",
       "<table border=\"1\" class=\"dataframe\">\n",
       "  <thead>\n",
       "    <tr style=\"text-align: right;\">\n",
       "      <th></th>\n",
       "      <th>idade</th>\n",
       "      <th>genero</th>\n",
       "      <th>estado_civil</th>\n",
       "      <th>educacao</th>\n",
       "      <th>regime_trabalho</th>\n",
       "      <th>data_contratacao</th>\n",
       "      <th>data_demissao</th>\n",
       "      <th>tipo_demissao</th>\n",
       "      <th>cargo</th>\n",
       "      <th>salario_atual</th>\n",
       "      <th>...</th>\n",
       "      <th>nota_avaliacao</th>\n",
       "      <th>acompanhamento_psicologo</th>\n",
       "      <th>qtde_projetos</th>\n",
       "      <th>qtde_clientes</th>\n",
       "      <th>nivel_satisfacao_gestor</th>\n",
       "      <th>churn</th>\n",
       "      <th>tempo_empresa</th>\n",
       "      <th>dias_desde_ultimo_feedback</th>\n",
       "      <th>dias_desde_ultimo_aumento</th>\n",
       "      <th>dias_desde_ultima_mudanca_cargo</th>\n",
       "    </tr>\n",
       "  </thead>\n",
       "  <tbody>\n",
       "    <tr>\n",
       "      <th>0</th>\n",
       "      <td>37</td>\n",
       "      <td>F</td>\n",
       "      <td>Divorciado(a)</td>\n",
       "      <td>Master</td>\n",
       "      <td>Remoto</td>\n",
       "      <td>2020-01-02</td>\n",
       "      <td>NaT</td>\n",
       "      <td>NaN</td>\n",
       "      <td>Senior Developer</td>\n",
       "      <td>10207</td>\n",
       "      <td>...</td>\n",
       "      <td>9.6</td>\n",
       "      <td>True</td>\n",
       "      <td>5</td>\n",
       "      <td>1</td>\n",
       "      <td>7.0</td>\n",
       "      <td>0</td>\n",
       "      <td>1950</td>\n",
       "      <td>361</td>\n",
       "      <td>644</td>\n",
       "      <td>914</td>\n",
       "    </tr>\n",
       "    <tr>\n",
       "      <th>1</th>\n",
       "      <td>45</td>\n",
       "      <td>Outro</td>\n",
       "      <td>Divorciado(a)</td>\n",
       "      <td>Master</td>\n",
       "      <td>Remoto</td>\n",
       "      <td>2020-01-03</td>\n",
       "      <td>NaT</td>\n",
       "      <td>NaN</td>\n",
       "      <td>UX Designer</td>\n",
       "      <td>23921</td>\n",
       "      <td>...</td>\n",
       "      <td>8.4</td>\n",
       "      <td>True</td>\n",
       "      <td>8</td>\n",
       "      <td>4</td>\n",
       "      <td>9.1</td>\n",
       "      <td>0</td>\n",
       "      <td>1949</td>\n",
       "      <td>395</td>\n",
       "      <td>603</td>\n",
       "      <td>1179</td>\n",
       "    </tr>\n",
       "    <tr>\n",
       "      <th>2</th>\n",
       "      <td>54</td>\n",
       "      <td>M</td>\n",
       "      <td>Viúvo(a)</td>\n",
       "      <td>Technical Degree</td>\n",
       "      <td>Híbrido</td>\n",
       "      <td>2020-01-04</td>\n",
       "      <td>NaT</td>\n",
       "      <td>NaN</td>\n",
       "      <td>Tech Lead</td>\n",
       "      <td>15298</td>\n",
       "      <td>...</td>\n",
       "      <td>8.5</td>\n",
       "      <td>False</td>\n",
       "      <td>9</td>\n",
       "      <td>7</td>\n",
       "      <td>1.3</td>\n",
       "      <td>0</td>\n",
       "      <td>1948</td>\n",
       "      <td>689</td>\n",
       "      <td>1226</td>\n",
       "      <td>1456</td>\n",
       "    </tr>\n",
       "    <tr>\n",
       "      <th>3</th>\n",
       "      <td>44</td>\n",
       "      <td>M</td>\n",
       "      <td>Casado(a)</td>\n",
       "      <td>Bachelor</td>\n",
       "      <td>Remoto</td>\n",
       "      <td>2020-01-05</td>\n",
       "      <td>NaT</td>\n",
       "      <td>NaN</td>\n",
       "      <td>QA Engineer</td>\n",
       "      <td>15306</td>\n",
       "      <td>...</td>\n",
       "      <td>7.9</td>\n",
       "      <td>False</td>\n",
       "      <td>8</td>\n",
       "      <td>4</td>\n",
       "      <td>8.4</td>\n",
       "      <td>0</td>\n",
       "      <td>1947</td>\n",
       "      <td>1248</td>\n",
       "      <td>1220</td>\n",
       "      <td>248</td>\n",
       "    </tr>\n",
       "    <tr>\n",
       "      <th>4</th>\n",
       "      <td>53</td>\n",
       "      <td>Outro</td>\n",
       "      <td>Viúvo(a)</td>\n",
       "      <td>PhD</td>\n",
       "      <td>Presencial</td>\n",
       "      <td>2020-01-07</td>\n",
       "      <td>NaT</td>\n",
       "      <td>NaN</td>\n",
       "      <td>Senior Developer</td>\n",
       "      <td>17723</td>\n",
       "      <td>...</td>\n",
       "      <td>7.5</td>\n",
       "      <td>True</td>\n",
       "      <td>5</td>\n",
       "      <td>2</td>\n",
       "      <td>8.2</td>\n",
       "      <td>0</td>\n",
       "      <td>1945</td>\n",
       "      <td>1158</td>\n",
       "      <td>534</td>\n",
       "      <td>270</td>\n",
       "    </tr>\n",
       "  </tbody>\n",
       "</table>\n",
       "<p>5 rows × 23 columns</p>\n",
       "</div>"
      ],
      "text/plain": [
       "   idade genero   estado_civil          educacao regime_trabalho  \\\n",
       "0     37      F  Divorciado(a)            Master          Remoto   \n",
       "1     45  Outro  Divorciado(a)            Master          Remoto   \n",
       "2     54      M       Viúvo(a)  Technical Degree         Híbrido   \n",
       "3     44      M      Casado(a)          Bachelor          Remoto   \n",
       "4     53  Outro       Viúvo(a)               PhD      Presencial   \n",
       "\n",
       "  data_contratacao data_demissao tipo_demissao             cargo  \\\n",
       "0       2020-01-02           NaT           NaN  Senior Developer   \n",
       "1       2020-01-03           NaT           NaN       UX Designer   \n",
       "2       2020-01-04           NaT           NaN         Tech Lead   \n",
       "3       2020-01-05           NaT           NaN       QA Engineer   \n",
       "4       2020-01-07           NaT           NaN  Senior Developer   \n",
       "\n",
       "   salario_atual  ... nota_avaliacao acompanhamento_psicologo qtde_projetos  \\\n",
       "0          10207  ...            9.6                     True             5   \n",
       "1          23921  ...            8.4                     True             8   \n",
       "2          15298  ...            8.5                    False             9   \n",
       "3          15306  ...            7.9                    False             8   \n",
       "4          17723  ...            7.5                     True             5   \n",
       "\n",
       "   qtde_clientes  nivel_satisfacao_gestor  churn  tempo_empresa  \\\n",
       "0              1                      7.0      0           1950   \n",
       "1              4                      9.1      0           1949   \n",
       "2              7                      1.3      0           1948   \n",
       "3              4                      8.4      0           1947   \n",
       "4              2                      8.2      0           1945   \n",
       "\n",
       "   dias_desde_ultimo_feedback  dias_desde_ultimo_aumento  \\\n",
       "0                         361                        644   \n",
       "1                         395                        603   \n",
       "2                         689                       1226   \n",
       "3                        1248                       1220   \n",
       "4                        1158                        534   \n",
       "\n",
       "   dias_desde_ultima_mudanca_cargo  \n",
       "0                              914  \n",
       "1                             1179  \n",
       "2                             1456  \n",
       "3                              248  \n",
       "4                              270  \n",
       "\n",
       "[5 rows x 23 columns]"
      ]
     },
     "execution_count": 50,
     "metadata": {},
     "output_type": "execute_result"
    }
   ],
   "source": [
    "df_employees.head()"
   ]
  },
  {
   "cell_type": "markdown",
   "id": "f88c1930",
   "metadata": {},
   "source": [
    "### EDA"
   ]
  },
  {
   "cell_type": "code",
   "execution_count": 51,
   "id": "961213b3",
   "metadata": {},
   "outputs": [
    {
     "name": "stdout",
     "output_type": "stream",
     "text": [
      "Valores ausentes por coluna: \n"
     ]
    },
    {
     "data": {
      "text/plain": [
       "(None,\n",
       " idade                                 0\n",
       " genero                                0\n",
       " estado_civil                          0\n",
       " educacao                              0\n",
       " regime_trabalho                       0\n",
       " data_contratacao                      0\n",
       " data_demissao                      1714\n",
       " tipo_demissao                      1714\n",
       " cargo                                 0\n",
       " salario_atual                         0\n",
       " data_ultimo_feedback                  0\n",
       " data_ultimo_aumento                   0\n",
       " data_ultima_mudanca_cargo             0\n",
       " nota_avaliacao                        0\n",
       " acompanhamento_psicologo              0\n",
       " qtde_projetos                         0\n",
       " qtde_clientes                         0\n",
       " nivel_satisfacao_gestor               0\n",
       " churn                                 0\n",
       " tempo_empresa                         0\n",
       " dias_desde_ultimo_feedback            0\n",
       " dias_desde_ultimo_aumento             0\n",
       " dias_desde_ultima_mudanca_cargo       0\n",
       " dtype: int64)"
      ]
     },
     "execution_count": 51,
     "metadata": {},
     "output_type": "execute_result"
    }
   ],
   "source": [
    "# Varificação de valores ausentes\n",
    "print('Valores ausentes por coluna: '), df_employees.isnull().sum()"
   ]
  },
  {
   "cell_type": "code",
   "execution_count": 52,
   "id": "03209e87",
   "metadata": {},
   "outputs": [
    {
     "data": {
      "application/vnd.plotly.v1+json": {
       "config": {
        "plotlyServerURL": "https://plot.ly"
       },
       "data": [
        {
         "hovertemplate": "variable=count<br>churn=%{x}<br>Percentual=%{y}<extra></extra>",
         "legendgroup": "count",
         "marker": {
          "color": "#636efa",
          "opacity": 0.8,
          "pattern": {
           "shape": ""
          }
         },
         "name": "count",
         "orientation": "v",
         "showlegend": true,
         "textposition": "auto",
         "type": "bar",
         "x": {
          "bdata": "AAE=",
          "dtype": "i1"
         },
         "xaxis": "x",
         "y": {
          "bdata": "zczMzMxsVUCZmZmZmZksQA==",
          "dtype": "f8"
         },
         "yaxis": "y"
        }
       ],
       "layout": {
        "barmode": "relative",
        "legend": {
         "title": {
          "text": "variable"
         },
         "tracegroupgap": 0
        },
        "showlegend": false,
        "template": {
         "data": {
          "bar": [
           {
            "error_x": {
             "color": "#2a3f5f"
            },
            "error_y": {
             "color": "#2a3f5f"
            },
            "marker": {
             "line": {
              "color": "#E5ECF6",
              "width": 0.5
             },
             "pattern": {
              "fillmode": "overlay",
              "size": 10,
              "solidity": 0.2
             }
            },
            "type": "bar"
           }
          ],
          "barpolar": [
           {
            "marker": {
             "line": {
              "color": "#E5ECF6",
              "width": 0.5
             },
             "pattern": {
              "fillmode": "overlay",
              "size": 10,
              "solidity": 0.2
             }
            },
            "type": "barpolar"
           }
          ],
          "carpet": [
           {
            "aaxis": {
             "endlinecolor": "#2a3f5f",
             "gridcolor": "white",
             "linecolor": "white",
             "minorgridcolor": "white",
             "startlinecolor": "#2a3f5f"
            },
            "baxis": {
             "endlinecolor": "#2a3f5f",
             "gridcolor": "white",
             "linecolor": "white",
             "minorgridcolor": "white",
             "startlinecolor": "#2a3f5f"
            },
            "type": "carpet"
           }
          ],
          "choropleth": [
           {
            "colorbar": {
             "outlinewidth": 0,
             "ticks": ""
            },
            "type": "choropleth"
           }
          ],
          "contour": [
           {
            "colorbar": {
             "outlinewidth": 0,
             "ticks": ""
            },
            "colorscale": [
             [
              0,
              "#0d0887"
             ],
             [
              0.1111111111111111,
              "#46039f"
             ],
             [
              0.2222222222222222,
              "#7201a8"
             ],
             [
              0.3333333333333333,
              "#9c179e"
             ],
             [
              0.4444444444444444,
              "#bd3786"
             ],
             [
              0.5555555555555556,
              "#d8576b"
             ],
             [
              0.6666666666666666,
              "#ed7953"
             ],
             [
              0.7777777777777778,
              "#fb9f3a"
             ],
             [
              0.8888888888888888,
              "#fdca26"
             ],
             [
              1,
              "#f0f921"
             ]
            ],
            "type": "contour"
           }
          ],
          "contourcarpet": [
           {
            "colorbar": {
             "outlinewidth": 0,
             "ticks": ""
            },
            "type": "contourcarpet"
           }
          ],
          "heatmap": [
           {
            "colorbar": {
             "outlinewidth": 0,
             "ticks": ""
            },
            "colorscale": [
             [
              0,
              "#0d0887"
             ],
             [
              0.1111111111111111,
              "#46039f"
             ],
             [
              0.2222222222222222,
              "#7201a8"
             ],
             [
              0.3333333333333333,
              "#9c179e"
             ],
             [
              0.4444444444444444,
              "#bd3786"
             ],
             [
              0.5555555555555556,
              "#d8576b"
             ],
             [
              0.6666666666666666,
              "#ed7953"
             ],
             [
              0.7777777777777778,
              "#fb9f3a"
             ],
             [
              0.8888888888888888,
              "#fdca26"
             ],
             [
              1,
              "#f0f921"
             ]
            ],
            "type": "heatmap"
           }
          ],
          "histogram": [
           {
            "marker": {
             "pattern": {
              "fillmode": "overlay",
              "size": 10,
              "solidity": 0.2
             }
            },
            "type": "histogram"
           }
          ],
          "histogram2d": [
           {
            "colorbar": {
             "outlinewidth": 0,
             "ticks": ""
            },
            "colorscale": [
             [
              0,
              "#0d0887"
             ],
             [
              0.1111111111111111,
              "#46039f"
             ],
             [
              0.2222222222222222,
              "#7201a8"
             ],
             [
              0.3333333333333333,
              "#9c179e"
             ],
             [
              0.4444444444444444,
              "#bd3786"
             ],
             [
              0.5555555555555556,
              "#d8576b"
             ],
             [
              0.6666666666666666,
              "#ed7953"
             ],
             [
              0.7777777777777778,
              "#fb9f3a"
             ],
             [
              0.8888888888888888,
              "#fdca26"
             ],
             [
              1,
              "#f0f921"
             ]
            ],
            "type": "histogram2d"
           }
          ],
          "histogram2dcontour": [
           {
            "colorbar": {
             "outlinewidth": 0,
             "ticks": ""
            },
            "colorscale": [
             [
              0,
              "#0d0887"
             ],
             [
              0.1111111111111111,
              "#46039f"
             ],
             [
              0.2222222222222222,
              "#7201a8"
             ],
             [
              0.3333333333333333,
              "#9c179e"
             ],
             [
              0.4444444444444444,
              "#bd3786"
             ],
             [
              0.5555555555555556,
              "#d8576b"
             ],
             [
              0.6666666666666666,
              "#ed7953"
             ],
             [
              0.7777777777777778,
              "#fb9f3a"
             ],
             [
              0.8888888888888888,
              "#fdca26"
             ],
             [
              1,
              "#f0f921"
             ]
            ],
            "type": "histogram2dcontour"
           }
          ],
          "mesh3d": [
           {
            "colorbar": {
             "outlinewidth": 0,
             "ticks": ""
            },
            "type": "mesh3d"
           }
          ],
          "parcoords": [
           {
            "line": {
             "colorbar": {
              "outlinewidth": 0,
              "ticks": ""
             }
            },
            "type": "parcoords"
           }
          ],
          "pie": [
           {
            "automargin": true,
            "type": "pie"
           }
          ],
          "scatter": [
           {
            "fillpattern": {
             "fillmode": "overlay",
             "size": 10,
             "solidity": 0.2
            },
            "type": "scatter"
           }
          ],
          "scatter3d": [
           {
            "line": {
             "colorbar": {
              "outlinewidth": 0,
              "ticks": ""
             }
            },
            "marker": {
             "colorbar": {
              "outlinewidth": 0,
              "ticks": ""
             }
            },
            "type": "scatter3d"
           }
          ],
          "scattercarpet": [
           {
            "marker": {
             "colorbar": {
              "outlinewidth": 0,
              "ticks": ""
             }
            },
            "type": "scattercarpet"
           }
          ],
          "scattergeo": [
           {
            "marker": {
             "colorbar": {
              "outlinewidth": 0,
              "ticks": ""
             }
            },
            "type": "scattergeo"
           }
          ],
          "scattergl": [
           {
            "marker": {
             "colorbar": {
              "outlinewidth": 0,
              "ticks": ""
             }
            },
            "type": "scattergl"
           }
          ],
          "scattermap": [
           {
            "marker": {
             "colorbar": {
              "outlinewidth": 0,
              "ticks": ""
             }
            },
            "type": "scattermap"
           }
          ],
          "scattermapbox": [
           {
            "marker": {
             "colorbar": {
              "outlinewidth": 0,
              "ticks": ""
             }
            },
            "type": "scattermapbox"
           }
          ],
          "scatterpolar": [
           {
            "marker": {
             "colorbar": {
              "outlinewidth": 0,
              "ticks": ""
             }
            },
            "type": "scatterpolar"
           }
          ],
          "scatterpolargl": [
           {
            "marker": {
             "colorbar": {
              "outlinewidth": 0,
              "ticks": ""
             }
            },
            "type": "scatterpolargl"
           }
          ],
          "scatterternary": [
           {
            "marker": {
             "colorbar": {
              "outlinewidth": 0,
              "ticks": ""
             }
            },
            "type": "scatterternary"
           }
          ],
          "surface": [
           {
            "colorbar": {
             "outlinewidth": 0,
             "ticks": ""
            },
            "colorscale": [
             [
              0,
              "#0d0887"
             ],
             [
              0.1111111111111111,
              "#46039f"
             ],
             [
              0.2222222222222222,
              "#7201a8"
             ],
             [
              0.3333333333333333,
              "#9c179e"
             ],
             [
              0.4444444444444444,
              "#bd3786"
             ],
             [
              0.5555555555555556,
              "#d8576b"
             ],
             [
              0.6666666666666666,
              "#ed7953"
             ],
             [
              0.7777777777777778,
              "#fb9f3a"
             ],
             [
              0.8888888888888888,
              "#fdca26"
             ],
             [
              1,
              "#f0f921"
             ]
            ],
            "type": "surface"
           }
          ],
          "table": [
           {
            "cells": {
             "fill": {
              "color": "#EBF0F8"
             },
             "line": {
              "color": "white"
             }
            },
            "header": {
             "fill": {
              "color": "#C8D4E3"
             },
             "line": {
              "color": "white"
             }
            },
            "type": "table"
           }
          ]
         },
         "layout": {
          "annotationdefaults": {
           "arrowcolor": "#2a3f5f",
           "arrowhead": 0,
           "arrowwidth": 1
          },
          "autotypenumbers": "strict",
          "coloraxis": {
           "colorbar": {
            "outlinewidth": 0,
            "ticks": ""
           }
          },
          "colorscale": {
           "diverging": [
            [
             0,
             "#8e0152"
            ],
            [
             0.1,
             "#c51b7d"
            ],
            [
             0.2,
             "#de77ae"
            ],
            [
             0.3,
             "#f1b6da"
            ],
            [
             0.4,
             "#fde0ef"
            ],
            [
             0.5,
             "#f7f7f7"
            ],
            [
             0.6,
             "#e6f5d0"
            ],
            [
             0.7,
             "#b8e186"
            ],
            [
             0.8,
             "#7fbc41"
            ],
            [
             0.9,
             "#4d9221"
            ],
            [
             1,
             "#276419"
            ]
           ],
           "sequential": [
            [
             0,
             "#0d0887"
            ],
            [
             0.1111111111111111,
             "#46039f"
            ],
            [
             0.2222222222222222,
             "#7201a8"
            ],
            [
             0.3333333333333333,
             "#9c179e"
            ],
            [
             0.4444444444444444,
             "#bd3786"
            ],
            [
             0.5555555555555556,
             "#d8576b"
            ],
            [
             0.6666666666666666,
             "#ed7953"
            ],
            [
             0.7777777777777778,
             "#fb9f3a"
            ],
            [
             0.8888888888888888,
             "#fdca26"
            ],
            [
             1,
             "#f0f921"
            ]
           ],
           "sequentialminus": [
            [
             0,
             "#0d0887"
            ],
            [
             0.1111111111111111,
             "#46039f"
            ],
            [
             0.2222222222222222,
             "#7201a8"
            ],
            [
             0.3333333333333333,
             "#9c179e"
            ],
            [
             0.4444444444444444,
             "#bd3786"
            ],
            [
             0.5555555555555556,
             "#d8576b"
            ],
            [
             0.6666666666666666,
             "#ed7953"
            ],
            [
             0.7777777777777778,
             "#fb9f3a"
            ],
            [
             0.8888888888888888,
             "#fdca26"
            ],
            [
             1,
             "#f0f921"
            ]
           ]
          },
          "colorway": [
           "#636efa",
           "#EF553B",
           "#00cc96",
           "#ab63fa",
           "#FFA15A",
           "#19d3f3",
           "#FF6692",
           "#B6E880",
           "#FF97FF",
           "#FECB52"
          ],
          "font": {
           "color": "#2a3f5f"
          },
          "geo": {
           "bgcolor": "white",
           "lakecolor": "white",
           "landcolor": "#E5ECF6",
           "showlakes": true,
           "showland": true,
           "subunitcolor": "white"
          },
          "hoverlabel": {
           "align": "left"
          },
          "hovermode": "closest",
          "mapbox": {
           "style": "light"
          },
          "paper_bgcolor": "white",
          "plot_bgcolor": "#E5ECF6",
          "polar": {
           "angularaxis": {
            "gridcolor": "white",
            "linecolor": "white",
            "ticks": ""
           },
           "bgcolor": "#E5ECF6",
           "radialaxis": {
            "gridcolor": "white",
            "linecolor": "white",
            "ticks": ""
           }
          },
          "scene": {
           "xaxis": {
            "backgroundcolor": "#E5ECF6",
            "gridcolor": "white",
            "gridwidth": 2,
            "linecolor": "white",
            "showbackground": true,
            "ticks": "",
            "zerolinecolor": "white"
           },
           "yaxis": {
            "backgroundcolor": "#E5ECF6",
            "gridcolor": "white",
            "gridwidth": 2,
            "linecolor": "white",
            "showbackground": true,
            "ticks": "",
            "zerolinecolor": "white"
           },
           "zaxis": {
            "backgroundcolor": "#E5ECF6",
            "gridcolor": "white",
            "gridwidth": 2,
            "linecolor": "white",
            "showbackground": true,
            "ticks": "",
            "zerolinecolor": "white"
           }
          },
          "shapedefaults": {
           "line": {
            "color": "#2a3f5f"
           }
          },
          "ternary": {
           "aaxis": {
            "gridcolor": "white",
            "linecolor": "white",
            "ticks": ""
           },
           "baxis": {
            "gridcolor": "white",
            "linecolor": "white",
            "ticks": ""
           },
           "bgcolor": "#E5ECF6",
           "caxis": {
            "gridcolor": "white",
            "linecolor": "white",
            "ticks": ""
           }
          },
          "title": {
           "x": 0.05
          },
          "xaxis": {
           "automargin": true,
           "gridcolor": "white",
           "linecolor": "white",
           "ticks": "",
           "title": {
            "standoff": 15
           },
           "zerolinecolor": "white",
           "zerolinewidth": 2
          },
          "yaxis": {
           "automargin": true,
           "gridcolor": "white",
           "linecolor": "white",
           "ticks": "",
           "title": {
            "standoff": 15
           },
           "zerolinecolor": "white",
           "zerolinewidth": 2
          }
         }
        },
        "title": {
         "text": "Fator de Churn"
        },
        "xaxis": {
         "anchor": "y",
         "domain": [
          0,
          1
         ],
         "title": {
          "text": "churn"
         }
        },
        "yaxis": {
         "anchor": "x",
         "domain": [
          0,
          1
         ],
         "title": {
          "text": "Percentual"
         }
        }
       }
      }
     },
     "metadata": {},
     "output_type": "display_data"
    }
   ],
   "source": [
    "# Distribuição da variável target em percentual\n",
    "fig = px.bar(df_employees['churn'].value_counts()/ len(df_employees) * 100,\n",
    "             title='Fator de Churn',\n",
    "             labels={'index': 'Churn', 'value': 'Percentual'},\n",
    "             opacity=0.8\n",
    "             )\n",
    "\n",
    "fig.update_layout(showlegend=False)\n",
    "fig.show()\n"
   ]
  },
  {
   "cell_type": "markdown",
   "id": "d05d0f72",
   "metadata": {},
   "source": [
    "- Nota-se uma base desbalanceada, quantidade muito grande numa base em relação a outra"
   ]
  },
  {
   "cell_type": "code",
   "execution_count": 53,
   "id": "2fa6b9a4",
   "metadata": {},
   "outputs": [
    {
     "name": "stdout",
     "output_type": "stream",
     "text": [
      "Valores possíveis em genero:\n",
      "['F' 'Outro' 'M']\n",
      "\n",
      "Valores possíveis em estado_civil:\n",
      "['Divorciado(a)' 'Viúvo(a)' 'Casado(a)' 'Solteiro(a)']\n",
      "\n",
      "Valores possíveis em educacao:\n",
      "['Master' 'Technical Degree' 'Bachelor' 'PhD']\n",
      "\n",
      "Valores possíveis em regime_trabalho:\n",
      "['Remoto' 'Híbrido' 'Presencial']\n",
      "\n",
      "Valores possíveis em tipo_demissao:\n",
      "[nan 'Involuntária' 'Voluntária']\n",
      "\n",
      "Valores possíveis em cargo:\n",
      "['Senior Developer' 'UX Designer' 'Tech Lead' 'QA Engineer'\n",
      " 'Junior Developer' 'Product Manager' 'DevOps Engineer' 'Data Scientist']\n",
      "\n"
     ]
    }
   ],
   "source": [
    "# Valores possíveis para variáveis categóricas\n",
    "for col in df_employees.select_dtypes(include=['object']).columns:\n",
    "    print(f'Valores possíveis em {col}:\\n{df_employees[col].unique()}\\n')"
   ]
  },
  {
   "cell_type": "code",
   "execution_count": 54,
   "id": "54a0ee19",
   "metadata": {},
   "outputs": [
    {
     "data": {
      "text/html": [
       "<div>\n",
       "<style scoped>\n",
       "    .dataframe tbody tr th:only-of-type {\n",
       "        vertical-align: middle;\n",
       "    }\n",
       "\n",
       "    .dataframe tbody tr th {\n",
       "        vertical-align: top;\n",
       "    }\n",
       "\n",
       "    .dataframe thead th {\n",
       "        text-align: right;\n",
       "    }\n",
       "</style>\n",
       "<table border=\"1\" class=\"dataframe\">\n",
       "  <thead>\n",
       "    <tr style=\"text-align: right;\">\n",
       "      <th></th>\n",
       "      <th>idade</th>\n",
       "      <th>salario_atual</th>\n",
       "      <th>nota_avaliacao</th>\n",
       "      <th>qtde_projetos</th>\n",
       "      <th>qtde_clientes</th>\n",
       "      <th>nivel_satisfacao_gestor</th>\n",
       "      <th>churn</th>\n",
       "      <th>tempo_empresa</th>\n",
       "      <th>dias_desde_ultimo_feedback</th>\n",
       "      <th>dias_desde_ultimo_aumento</th>\n",
       "      <th>dias_desde_ultima_mudanca_cargo</th>\n",
       "    </tr>\n",
       "  </thead>\n",
       "  <tbody>\n",
       "    <tr>\n",
       "      <th>count</th>\n",
       "      <td>2000.00</td>\n",
       "      <td>2000.00</td>\n",
       "      <td>2000.00</td>\n",
       "      <td>2000.00</td>\n",
       "      <td>2000.00</td>\n",
       "      <td>2000.00</td>\n",
       "      <td>2000.00</td>\n",
       "      <td>2000.00</td>\n",
       "      <td>2000.00</td>\n",
       "      <td>2000.00</td>\n",
       "      <td>2000.00</td>\n",
       "    </tr>\n",
       "    <tr>\n",
       "      <th>mean</th>\n",
       "      <td>37.94</td>\n",
       "      <td>14801.83</td>\n",
       "      <td>8.00</td>\n",
       "      <td>4.98</td>\n",
       "      <td>4.00</td>\n",
       "      <td>5.49</td>\n",
       "      <td>0.14</td>\n",
       "      <td>1025.66</td>\n",
       "      <td>680.90</td>\n",
       "      <td>694.00</td>\n",
       "      <td>681.14</td>\n",
       "    </tr>\n",
       "    <tr>\n",
       "      <th>std</th>\n",
       "      <td>9.46</td>\n",
       "      <td>5763.45</td>\n",
       "      <td>1.16</td>\n",
       "      <td>2.59</td>\n",
       "      <td>1.99</td>\n",
       "      <td>2.61</td>\n",
       "      <td>0.35</td>\n",
       "      <td>512.64</td>\n",
       "      <td>395.60</td>\n",
       "      <td>397.62</td>\n",
       "      <td>395.91</td>\n",
       "    </tr>\n",
       "    <tr>\n",
       "      <th>min</th>\n",
       "      <td>22.00</td>\n",
       "      <td>5016.00</td>\n",
       "      <td>6.00</td>\n",
       "      <td>1.00</td>\n",
       "      <td>1.00</td>\n",
       "      <td>1.00</td>\n",
       "      <td>0.00</td>\n",
       "      <td>34.00</td>\n",
       "      <td>194.00</td>\n",
       "      <td>195.00</td>\n",
       "      <td>194.00</td>\n",
       "    </tr>\n",
       "    <tr>\n",
       "      <th>25%</th>\n",
       "      <td>30.00</td>\n",
       "      <td>9844.25</td>\n",
       "      <td>7.00</td>\n",
       "      <td>3.00</td>\n",
       "      <td>2.00</td>\n",
       "      <td>3.30</td>\n",
       "      <td>0.00</td>\n",
       "      <td>590.50</td>\n",
       "      <td>350.75</td>\n",
       "      <td>356.75</td>\n",
       "      <td>354.75</td>\n",
       "    </tr>\n",
       "    <tr>\n",
       "      <th>50%</th>\n",
       "      <td>38.00</td>\n",
       "      <td>14822.50</td>\n",
       "      <td>8.00</td>\n",
       "      <td>5.00</td>\n",
       "      <td>4.00</td>\n",
       "      <td>5.50</td>\n",
       "      <td>0.00</td>\n",
       "      <td>1024.50</td>\n",
       "      <td>579.50</td>\n",
       "      <td>594.00</td>\n",
       "      <td>571.00</td>\n",
       "    </tr>\n",
       "    <tr>\n",
       "      <th>75%</th>\n",
       "      <td>46.00</td>\n",
       "      <td>19702.50</td>\n",
       "      <td>9.00</td>\n",
       "      <td>7.00</td>\n",
       "      <td>6.00</td>\n",
       "      <td>7.70</td>\n",
       "      <td>0.00</td>\n",
       "      <td>1463.00</td>\n",
       "      <td>920.25</td>\n",
       "      <td>953.25</td>\n",
       "      <td>914.00</td>\n",
       "    </tr>\n",
       "    <tr>\n",
       "      <th>max</th>\n",
       "      <td>54.00</td>\n",
       "      <td>24988.00</td>\n",
       "      <td>10.00</td>\n",
       "      <td>9.00</td>\n",
       "      <td>7.00</td>\n",
       "      <td>10.00</td>\n",
       "      <td>1.00</td>\n",
       "      <td>1950.00</td>\n",
       "      <td>1913.00</td>\n",
       "      <td>1866.00</td>\n",
       "      <td>1906.00</td>\n",
       "    </tr>\n",
       "  </tbody>\n",
       "</table>\n",
       "</div>"
      ],
      "text/plain": [
       "         idade  salario_atual  nota_avaliacao  qtde_projetos  qtde_clientes  \\\n",
       "count  2000.00        2000.00         2000.00        2000.00        2000.00   \n",
       "mean     37.94       14801.83            8.00           4.98           4.00   \n",
       "std       9.46        5763.45            1.16           2.59           1.99   \n",
       "min      22.00        5016.00            6.00           1.00           1.00   \n",
       "25%      30.00        9844.25            7.00           3.00           2.00   \n",
       "50%      38.00       14822.50            8.00           5.00           4.00   \n",
       "75%      46.00       19702.50            9.00           7.00           6.00   \n",
       "max      54.00       24988.00           10.00           9.00           7.00   \n",
       "\n",
       "       nivel_satisfacao_gestor    churn  tempo_empresa  \\\n",
       "count                  2000.00  2000.00        2000.00   \n",
       "mean                      5.49     0.14        1025.66   \n",
       "std                       2.61     0.35         512.64   \n",
       "min                       1.00     0.00          34.00   \n",
       "25%                       3.30     0.00         590.50   \n",
       "50%                       5.50     0.00        1024.50   \n",
       "75%                       7.70     0.00        1463.00   \n",
       "max                      10.00     1.00        1950.00   \n",
       "\n",
       "       dias_desde_ultimo_feedback  dias_desde_ultimo_aumento  \\\n",
       "count                     2000.00                    2000.00   \n",
       "mean                       680.90                     694.00   \n",
       "std                        395.60                     397.62   \n",
       "min                        194.00                     195.00   \n",
       "25%                        350.75                     356.75   \n",
       "50%                        579.50                     594.00   \n",
       "75%                        920.25                     953.25   \n",
       "max                       1913.00                    1866.00   \n",
       "\n",
       "       dias_desde_ultima_mudanca_cargo  \n",
       "count                          2000.00  \n",
       "mean                            681.14  \n",
       "std                             395.91  \n",
       "min                             194.00  \n",
       "25%                             354.75  \n",
       "50%                             571.00  \n",
       "75%                             914.00  \n",
       "max                            1906.00  "
      ]
     },
     "execution_count": 54,
     "metadata": {},
     "output_type": "execute_result"
    }
   ],
   "source": [
    "# Estatísticas descritivas das variáveis numéricas\n",
    "round(df_employees.select_dtypes(include=['int64', 'float64']).describe(), 2)"
   ]
  },
  {
   "cell_type": "code",
   "execution_count": 55,
   "id": "bfb8623a",
   "metadata": {},
   "outputs": [
    {
     "data": {
      "application/vnd.plotly.v1+json": {
       "config": {
        "plotlyServerURL": "https://plot.ly"
       },
       "data": [
        {
         "alignmentgroup": "True",
         "hovertemplate": "churn=%{x}<br>idade=%{y}<extra></extra>",
         "legendgroup": "0",
         "marker": {
          "color": "#636efa"
         },
         "name": "0",
         "notched": false,
         "offsetgroup": "0",
         "orientation": "v",
         "showlegend": true,
         "type": "box",
         "x": {
          "bdata": "AAAAAAAAAAAAAAAAAAAAAAAAAAAAAAAAAAAAAAAAAAAAAAAAAAAAAAAAAAAAAAAAAAAAAAAAAAAAAAAAAAAAAAAAAAAAAAAAAAAAAAAAAAAAAAAAAAAAAAAAAAAAAAAAAAAAAAAAAAAAAAAAAAAAAAAAAAAAAAAAAAAAAAAAAAAAAAAAAAAAAAAAAAAAAAAAAAAAAAAAAAAAAAAAAAAAAAAAAAAAAAAAAAAAAAAAAAAAAAAAAAAAAAAAAAAAAAAAAAAAAAAAAAAAAAAAAAAAAAAAAAAAAAAAAAAAAAAAAAAAAAAAAAAAAAAAAAAAAAAAAAAAAAAAAAAAAAAAAAAAAAAAAAAAAAAAAAAAAAAAAAAAAAAAAAAAAAAAAAAAAAAAAAAAAAAAAAAAAAAAAAAAAAAAAAAAAAAAAAAAAAAAAAAAAAAAAAAAAAAAAAAAAAAAAAAAAAAAAAAAAAAAAAAAAAAAAAAAAAAAAAAAAAAAAAAAAAAAAAAAAAAAAAAAAAAAAAAAAAAAAAAAAAAAAAAAAAAAAAAAAAAAAAAAAAAAAAAAAAAAAAAAAAAAAAAAAAAAAAAAAAAAAAAAAAAAAAAAAAAAAAAAAAAAAAAAAAAAAAAAAAAAAAAAAAAAAAAAAAAAAAAAAAAAAAAAAAAAAAAAAAAAAAAAAAAAAAAAAAAAAAAAAAAAAAAAAAAAAAAAAAAAAAAAAAAAAAAAAAAAAAAAAAAAAAAAAAAAAAAAAAAAAAAAAAAAAAAAAAAAAAAAAAAAAAAAAAAAAAAAAAAAAAAAAAAAAAAAAAAAAAAAAAAAAAAAAAAAAAAAAAAAAAAAAAAAAAAAAAAAAAAAAAAAAAAAAAAAAAAAAAAAAAAAAAAAAAAAAAAAAAAAAAAAAAAAAAAAAAAAAAAAAAAAAAAAAAAAAAAAAAAAAAAAAAAAAAAAAAAAAAAAAAAAAAAAAAAAAAAAAAAAAAAAAAAAAAAAAAAAAAAAAAAAAAAAAAAAAAAAAAAAAAAAAAAAAAAAAAAAAAAAAAAAAAAAAAAAAAAAAAAAAAAAAAAAAAAAAAAAAAAAAAAAAAAAAAAAAAAAAAAAAAAAAAAAAAAAAAAAAAAAAAAAAAAAAAAAAAAAAAAAAAAAAAAAAAAAAAAAAAAAAAAAAAAAAAAAAAAAAAAAAAAAAAAAAAAAAAAAAAAAAAAAAAAAAAAAAAAAAAAAAAAAAAAAAAAAAAAAAAAAAAAAAAAAAAAAAAAAAAAAAAAAAAAAAAAAAAAAAAAAAAAAAAAAAAAAAAAAAAAAAAAAAAAAAAAAAAAAAAAAAAAAAAAAAAAAAAAAAAAAAAAAAAAAAAAAAAAAAAAAAAAAAAAAAAAAAAAAAAAAAAAAAAAAAAAAAAAAAAAAAAAAAAAAAAAAAAAAAAAAAAAAAAAAAAAAAAAAAAAAAAAAAAAAAAAAAAAAAAAAAAAAAAAAAAAAAAAAAAAAAAAAAAAAAAAAAAAAAAAAAAAAAAAAAAAAAAAAAAAAAAAAAAAAAAAAAAAAAAAAAAAAAAAAAAAAAAAAAAAAAAAAAAAAAAAAAAAAAAAAAAAAAAAAAAAAAAAAAAAAAAAAAAAAAAAAAAAAAAAAAAAAAAAAAAAAAAAAAAAAAAAAAAAAAAAAAAAAAAAAAAAAAAAAAAAAAAAAAAAAAAAAAAAAAAAAAAAAAAAAAAAAAAAAAAAAAAAAAAAAAAAAAAAAAAAAAAAAAAAAAAAAAAAAAAAAAAAAAAAAAAAAAAAAAAAAAAAAAAAAAAAAAAAAAAAAAAAAAAAAAAAAAAAAAAAAAAAAAAAAAAAAAAAAAAAAAAAAAAAAAAAAAAAAAAAAAAAAAAAAAAAAAAAAAAAAAAAAAAAAAAAAAAAAAAAAAAAAAAAAAAAAAAAAAAAAAAAAAAAAAAAAAAAAAAAAAAAAAAAAAAAAAAAAAAAAAAAAAAAAAAAAAAAAAAAAAAAAAAAAAAAAAAAAAAAAAAAAAAAAAAAAAAAAAAAAAAAAAAAAAAAAAAAAAAAAAAAAAAAAAAAAAAAAAAAAAAAAAAAAAAAAAAAAAAAAAAAAAAAAAAAAAAAAAAAAAAAAAAAAAAAAAAAAAAAAAAAAAAAAAAAAAAAAAAAAAAAAAAAAAAAAAAAAAAAAAAAAAAAAAAAAAAAAAAAAAAAAAAAAAAAAAAAAAAAAAAAAAAAAAAAAAAAAAAAAAAAAAAAAAAAAAAAAAAAAAAAAAAAAAAAAAAAAAAAAAAAAAAAAAAAAAAAAAAAAAAAAAAAAAAAAAAAAAAAAAAAAAAAAAA==",
          "dtype": "i1"
         },
         "x0": " ",
         "xaxis": "x",
         "y": {
          "bdata": "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",
          "dtype": "i1"
         },
         "y0": " ",
         "yaxis": "y"
        },
        {
         "alignmentgroup": "True",
         "hovertemplate": "churn=%{x}<br>idade=%{y}<extra></extra>",
         "legendgroup": "1",
         "marker": {
          "color": "#EF553B"
         },
         "name": "1",
         "notched": false,
         "offsetgroup": "1",
         "orientation": "v",
         "showlegend": true,
         "type": "box",
         "x": {
          "bdata": "AQEBAQEBAQEBAQEBAQEBAQEBAQEBAQEBAQEBAQEBAQEBAQEBAQEBAQEBAQEBAQEBAQEBAQEBAQEBAQEBAQEBAQEBAQEBAQEBAQEBAQEBAQEBAQEBAQEBAQEBAQEBAQEBAQEBAQEBAQEBAQEBAQEBAQEBAQEBAQEBAQEBAQEBAQEBAQEBAQEBAQEBAQEBAQEBAQEBAQEBAQEBAQEBAQEBAQEBAQEBAQEBAQEBAQEBAQEBAQEBAQEBAQEBAQEBAQEBAQEBAQEBAQEBAQEBAQEBAQEBAQEBAQEBAQEBAQEBAQEBAQEBAQEBAQEBAQEBAQEBAQEBAQEBAQEBAQEBAQEBAQEBAQEBAQEBAQEBAQEBAQEBAQEBAQEBAQEBAQEBAQ==",
          "dtype": "i1"
         },
         "x0": " ",
         "xaxis": "x",
         "y": {
          "bdata": "HS4ZLiQrIykbIhgyMyIuJhkfJhsuMh0nJCwxMTEtKTAqKCYyLDAgNDA0IiMeJBkbHC4WLy4aMyklJCYhMBg2HSErHzMiJBwmGSYsNhscICkgJCImICYyGSQjKyceLCIoMR4pGCwaNDIzGRceNTYbFxgzIycwNh41JTUyJzI1LCsaICorKSoxGSEfLR8qKSolMhYWLDAdGSYiLCUbISUXLRkoKRsdMzYxMzEiGSQjHhcXIjAtKS8iISI0NjEyIR0mIBcwIiQiNC8aKTQhKBgoHzI2JxovGyUdKiolKSc1MisnIxklMRczKCgwIyMpGjM0KS4jGh8YJi8YNSMoNDAsJjIoLyArLy8XIhgeHDEeKysjIRgeGSQZJi0aMScYGg==",
          "dtype": "i1"
         },
         "y0": " ",
         "yaxis": "y"
        }
       ],
       "layout": {
        "boxmode": "overlay",
        "legend": {
         "title": {
          "text": "churn"
         },
         "tracegroupgap": 0
        },
        "template": {
         "data": {
          "bar": [
           {
            "error_x": {
             "color": "#2a3f5f"
            },
            "error_y": {
             "color": "#2a3f5f"
            },
            "marker": {
             "line": {
              "color": "#E5ECF6",
              "width": 0.5
             },
             "pattern": {
              "fillmode": "overlay",
              "size": 10,
              "solidity": 0.2
             }
            },
            "type": "bar"
           }
          ],
          "barpolar": [
           {
            "marker": {
             "line": {
              "color": "#E5ECF6",
              "width": 0.5
             },
             "pattern": {
              "fillmode": "overlay",
              "size": 10,
              "solidity": 0.2
             }
            },
            "type": "barpolar"
           }
          ],
          "carpet": [
           {
            "aaxis": {
             "endlinecolor": "#2a3f5f",
             "gridcolor": "white",
             "linecolor": "white",
             "minorgridcolor": "white",
             "startlinecolor": "#2a3f5f"
            },
            "baxis": {
             "endlinecolor": "#2a3f5f",
             "gridcolor": "white",
             "linecolor": "white",
             "minorgridcolor": "white",
             "startlinecolor": "#2a3f5f"
            },
            "type": "carpet"
           }
          ],
          "choropleth": [
           {
            "colorbar": {
             "outlinewidth": 0,
             "ticks": ""
            },
            "type": "choropleth"
           }
          ],
          "contour": [
           {
            "colorbar": {
             "outlinewidth": 0,
             "ticks": ""
            },
            "colorscale": [
             [
              0,
              "#0d0887"
             ],
             [
              0.1111111111111111,
              "#46039f"
             ],
             [
              0.2222222222222222,
              "#7201a8"
             ],
             [
              0.3333333333333333,
              "#9c179e"
             ],
             [
              0.4444444444444444,
              "#bd3786"
             ],
             [
              0.5555555555555556,
              "#d8576b"
             ],
             [
              0.6666666666666666,
              "#ed7953"
             ],
             [
              0.7777777777777778,
              "#fb9f3a"
             ],
             [
              0.8888888888888888,
              "#fdca26"
             ],
             [
              1,
              "#f0f921"
             ]
            ],
            "type": "contour"
           }
          ],
          "contourcarpet": [
           {
            "colorbar": {
             "outlinewidth": 0,
             "ticks": ""
            },
            "type": "contourcarpet"
           }
          ],
          "heatmap": [
           {
            "colorbar": {
             "outlinewidth": 0,
             "ticks": ""
            },
            "colorscale": [
             [
              0,
              "#0d0887"
             ],
             [
              0.1111111111111111,
              "#46039f"
             ],
             [
              0.2222222222222222,
              "#7201a8"
             ],
             [
              0.3333333333333333,
              "#9c179e"
             ],
             [
              0.4444444444444444,
              "#bd3786"
             ],
             [
              0.5555555555555556,
              "#d8576b"
             ],
             [
              0.6666666666666666,
              "#ed7953"
             ],
             [
              0.7777777777777778,
              "#fb9f3a"
             ],
             [
              0.8888888888888888,
              "#fdca26"
             ],
             [
              1,
              "#f0f921"
             ]
            ],
            "type": "heatmap"
           }
          ],
          "histogram": [
           {
            "marker": {
             "pattern": {
              "fillmode": "overlay",
              "size": 10,
              "solidity": 0.2
             }
            },
            "type": "histogram"
           }
          ],
          "histogram2d": [
           {
            "colorbar": {
             "outlinewidth": 0,
             "ticks": ""
            },
            "colorscale": [
             [
              0,
              "#0d0887"
             ],
             [
              0.1111111111111111,
              "#46039f"
             ],
             [
              0.2222222222222222,
              "#7201a8"
             ],
             [
              0.3333333333333333,
              "#9c179e"
             ],
             [
              0.4444444444444444,
              "#bd3786"
             ],
             [
              0.5555555555555556,
              "#d8576b"
             ],
             [
              0.6666666666666666,
              "#ed7953"
             ],
             [
              0.7777777777777778,
              "#fb9f3a"
             ],
             [
              0.8888888888888888,
              "#fdca26"
             ],
             [
              1,
              "#f0f921"
             ]
            ],
            "type": "histogram2d"
           }
          ],
          "histogram2dcontour": [
           {
            "colorbar": {
             "outlinewidth": 0,
             "ticks": ""
            },
            "colorscale": [
             [
              0,
              "#0d0887"
             ],
             [
              0.1111111111111111,
              "#46039f"
             ],
             [
              0.2222222222222222,
              "#7201a8"
             ],
             [
              0.3333333333333333,
              "#9c179e"
             ],
             [
              0.4444444444444444,
              "#bd3786"
             ],
             [
              0.5555555555555556,
              "#d8576b"
             ],
             [
              0.6666666666666666,
              "#ed7953"
             ],
             [
              0.7777777777777778,
              "#fb9f3a"
             ],
             [
              0.8888888888888888,
              "#fdca26"
             ],
             [
              1,
              "#f0f921"
             ]
            ],
            "type": "histogram2dcontour"
           }
          ],
          "mesh3d": [
           {
            "colorbar": {
             "outlinewidth": 0,
             "ticks": ""
            },
            "type": "mesh3d"
           }
          ],
          "parcoords": [
           {
            "line": {
             "colorbar": {
              "outlinewidth": 0,
              "ticks": ""
             }
            },
            "type": "parcoords"
           }
          ],
          "pie": [
           {
            "automargin": true,
            "type": "pie"
           }
          ],
          "scatter": [
           {
            "fillpattern": {
             "fillmode": "overlay",
             "size": 10,
             "solidity": 0.2
            },
            "type": "scatter"
           }
          ],
          "scatter3d": [
           {
            "line": {
             "colorbar": {
              "outlinewidth": 0,
              "ticks": ""
             }
            },
            "marker": {
             "colorbar": {
              "outlinewidth": 0,
              "ticks": ""
             }
            },
            "type": "scatter3d"
           }
          ],
          "scattercarpet": [
           {
            "marker": {
             "colorbar": {
              "outlinewidth": 0,
              "ticks": ""
             }
            },
            "type": "scattercarpet"
           }
          ],
          "scattergeo": [
           {
            "marker": {
             "colorbar": {
              "outlinewidth": 0,
              "ticks": ""
             }
            },
            "type": "scattergeo"
           }
          ],
          "scattergl": [
           {
            "marker": {
             "colorbar": {
              "outlinewidth": 0,
              "ticks": ""
             }
            },
            "type": "scattergl"
           }
          ],
          "scattermap": [
           {
            "marker": {
             "colorbar": {
              "outlinewidth": 0,
              "ticks": ""
             }
            },
            "type": "scattermap"
           }
          ],
          "scattermapbox": [
           {
            "marker": {
             "colorbar": {
              "outlinewidth": 0,
              "ticks": ""
             }
            },
            "type": "scattermapbox"
           }
          ],
          "scatterpolar": [
           {
            "marker": {
             "colorbar": {
              "outlinewidth": 0,
              "ticks": ""
             }
            },
            "type": "scatterpolar"
           }
          ],
          "scatterpolargl": [
           {
            "marker": {
             "colorbar": {
              "outlinewidth": 0,
              "ticks": ""
             }
            },
            "type": "scatterpolargl"
           }
          ],
          "scatterternary": [
           {
            "marker": {
             "colorbar": {
              "outlinewidth": 0,
              "ticks": ""
             }
            },
            "type": "scatterternary"
           }
          ],
          "surface": [
           {
            "colorbar": {
             "outlinewidth": 0,
             "ticks": ""
            },
            "colorscale": [
             [
              0,
              "#0d0887"
             ],
             [
              0.1111111111111111,
              "#46039f"
             ],
             [
              0.2222222222222222,
              "#7201a8"
             ],
             [
              0.3333333333333333,
              "#9c179e"
             ],
             [
              0.4444444444444444,
              "#bd3786"
             ],
             [
              0.5555555555555556,
              "#d8576b"
             ],
             [
              0.6666666666666666,
              "#ed7953"
             ],
             [
              0.7777777777777778,
              "#fb9f3a"
             ],
             [
              0.8888888888888888,
              "#fdca26"
             ],
             [
              1,
              "#f0f921"
             ]
            ],
            "type": "surface"
           }
          ],
          "table": [
           {
            "cells": {
             "fill": {
              "color": "#EBF0F8"
             },
             "line": {
              "color": "white"
             }
            },
            "header": {
             "fill": {
              "color": "#C8D4E3"
             },
             "line": {
              "color": "white"
             }
            },
            "type": "table"
           }
          ]
         },
         "layout": {
          "annotationdefaults": {
           "arrowcolor": "#2a3f5f",
           "arrowhead": 0,
           "arrowwidth": 1
          },
          "autotypenumbers": "strict",
          "coloraxis": {
           "colorbar": {
            "outlinewidth": 0,
            "ticks": ""
           }
          },
          "colorscale": {
           "diverging": [
            [
             0,
             "#8e0152"
            ],
            [
             0.1,
             "#c51b7d"
            ],
            [
             0.2,
             "#de77ae"
            ],
            [
             0.3,
             "#f1b6da"
            ],
            [
             0.4,
             "#fde0ef"
            ],
            [
             0.5,
             "#f7f7f7"
            ],
            [
             0.6,
             "#e6f5d0"
            ],
            [
             0.7,
             "#b8e186"
            ],
            [
             0.8,
             "#7fbc41"
            ],
            [
             0.9,
             "#4d9221"
            ],
            [
             1,
             "#276419"
            ]
           ],
           "sequential": [
            [
             0,
             "#0d0887"
            ],
            [
             0.1111111111111111,
             "#46039f"
            ],
            [
             0.2222222222222222,
             "#7201a8"
            ],
            [
             0.3333333333333333,
             "#9c179e"
            ],
            [
             0.4444444444444444,
             "#bd3786"
            ],
            [
             0.5555555555555556,
             "#d8576b"
            ],
            [
             0.6666666666666666,
             "#ed7953"
            ],
            [
             0.7777777777777778,
             "#fb9f3a"
            ],
            [
             0.8888888888888888,
             "#fdca26"
            ],
            [
             1,
             "#f0f921"
            ]
           ],
           "sequentialminus": [
            [
             0,
             "#0d0887"
            ],
            [
             0.1111111111111111,
             "#46039f"
            ],
            [
             0.2222222222222222,
             "#7201a8"
            ],
            [
             0.3333333333333333,
             "#9c179e"
            ],
            [
             0.4444444444444444,
             "#bd3786"
            ],
            [
             0.5555555555555556,
             "#d8576b"
            ],
            [
             0.6666666666666666,
             "#ed7953"
            ],
            [
             0.7777777777777778,
             "#fb9f3a"
            ],
            [
             0.8888888888888888,
             "#fdca26"
            ],
            [
             1,
             "#f0f921"
            ]
           ]
          },
          "colorway": [
           "#636efa",
           "#EF553B",
           "#00cc96",
           "#ab63fa",
           "#FFA15A",
           "#19d3f3",
           "#FF6692",
           "#B6E880",
           "#FF97FF",
           "#FECB52"
          ],
          "font": {
           "color": "#2a3f5f"
          },
          "geo": {
           "bgcolor": "white",
           "lakecolor": "white",
           "landcolor": "#E5ECF6",
           "showlakes": true,
           "showland": true,
           "subunitcolor": "white"
          },
          "hoverlabel": {
           "align": "left"
          },
          "hovermode": "closest",
          "mapbox": {
           "style": "light"
          },
          "paper_bgcolor": "white",
          "plot_bgcolor": "#E5ECF6",
          "polar": {
           "angularaxis": {
            "gridcolor": "white",
            "linecolor": "white",
            "ticks": ""
           },
           "bgcolor": "#E5ECF6",
           "radialaxis": {
            "gridcolor": "white",
            "linecolor": "white",
            "ticks": ""
           }
          },
          "scene": {
           "xaxis": {
            "backgroundcolor": "#E5ECF6",
            "gridcolor": "white",
            "gridwidth": 2,
            "linecolor": "white",
            "showbackground": true,
            "ticks": "",
            "zerolinecolor": "white"
           },
           "yaxis": {
            "backgroundcolor": "#E5ECF6",
            "gridcolor": "white",
            "gridwidth": 2,
            "linecolor": "white",
            "showbackground": true,
            "ticks": "",
            "zerolinecolor": "white"
           },
           "zaxis": {
            "backgroundcolor": "#E5ECF6",
            "gridcolor": "white",
            "gridwidth": 2,
            "linecolor": "white",
            "showbackground": true,
            "ticks": "",
            "zerolinecolor": "white"
           }
          },
          "shapedefaults": {
           "line": {
            "color": "#2a3f5f"
           }
          },
          "ternary": {
           "aaxis": {
            "gridcolor": "white",
            "linecolor": "white",
            "ticks": ""
           },
           "baxis": {
            "gridcolor": "white",
            "linecolor": "white",
            "ticks": ""
           },
           "bgcolor": "#E5ECF6",
           "caxis": {
            "gridcolor": "white",
            "linecolor": "white",
            "ticks": ""
           }
          },
          "title": {
           "x": 0.05
          },
          "xaxis": {
           "automargin": true,
           "gridcolor": "white",
           "linecolor": "white",
           "ticks": "",
           "title": {
            "standoff": 15
           },
           "zerolinecolor": "white",
           "zerolinewidth": 2
          },
          "yaxis": {
           "automargin": true,
           "gridcolor": "white",
           "linecolor": "white",
           "ticks": "",
           "title": {
            "standoff": 15
           },
           "zerolinecolor": "white",
           "zerolinewidth": 2
          }
         }
        },
        "title": {
         "text": "BoxPlot de idade vs Churn"
        },
        "xaxis": {
         "anchor": "y",
         "categoryarray": [
          0,
          1
         ],
         "categoryorder": "array",
         "domain": [
          0,
          1
         ],
         "title": {
          "text": "churn"
         }
        },
        "yaxis": {
         "anchor": "x",
         "domain": [
          0,
          1
         ],
         "title": {
          "text": "idade"
         }
        }
       }
      }
     },
     "metadata": {},
     "output_type": "display_data"
    },
    {
     "data": {
      "application/vnd.plotly.v1+json": {
       "config": {
        "plotlyServerURL": "https://plot.ly"
       },
       "data": [
        {
         "alignmentgroup": "True",
         "hovertemplate": "churn=%{x}<br>salario_atual=%{y}<extra></extra>",
         "legendgroup": "0",
         "marker": {
          "color": "#636efa"
         },
         "name": "0",
         "notched": false,
         "offsetgroup": "0",
         "orientation": "v",
         "showlegend": true,
         "type": "box",
         "x": {
          "bdata": "AAAAAAAAAAAAAAAAAAAAAAAAAAAAAAAAAAAAAAAAAAAAAAAAAAAAAAAAAAAAAAAAAAAAAAAAAAAAAAAAAAAAAAAAAAAAAAAAAAAAAAAAAAAAAAAAAAAAAAAAAAAAAAAAAAAAAAAAAAAAAAAAAAAAAAAAAAAAAAAAAAAAAAAAAAAAAAAAAAAAAAAAAAAAAAAAAAAAAAAAAAAAAAAAAAAAAAAAAAAAAAAAAAAAAAAAAAAAAAAAAAAAAAAAAAAAAAAAAAAAAAAAAAAAAAAAAAAAAAAAAAAAAAAAAAAAAAAAAAAAAAAAAAAAAAAAAAAAAAAAAAAAAAAAAAAAAAAAAAAAAAAAAAAAAAAAAAAAAAAAAAAAAAAAAAAAAAAAAAAAAAAAAAAAAAAAAAAAAAAAAAAAAAAAAAAAAAAAAAAAAAAAAAAAAAAAAAAAAAAAAAAAAAAAAAAAAAAAAAAAAAAAAAAAAAAAAAAAAAAAAAAAAAAAAAAAAAAAAAAAAAAAAAAAAAAAAAAAAAAAAAAAAAAAAAAAAAAAAAAAAAAAAAAAAAAAAAAAAAAAAAAAAAAAAAAAAAAAAAAAAAAAAAAAAAAAAAAAAAAAAAAAAAAAAAAAAAAAAAAAAAAAAAAAAAAAAAAAAAAAAAAAAAAAAAAAAAAAAAAAAAAAAAAAAAAAAAAAAAAAAAAAAAAAAAAAAAAAAAAAAAAAAAAAAAAAAAAAAAAAAAAAAAAAAAAAAAAAAAAAAAAAAAAAAAAAAAAAAAAAAAAAAAAAAAAAAAAAAAAAAAAAAAAAAAAAAAAAAAAAAAAAAAAAAAAAAAAAAAAAAAAAAAAAAAAAAAAAAAAAAAAAAAAAAAAAAAAAAAAAAAAAAAAAAAAAAAAAAAAAAAAAAAAAAAAAAAAAAAAAAAAAAAAAAAAAAAAAAAAAAAAAAAAAAAAAAAAAAAAAAAAAAAAAAAAAAAAAAAAAAAAAAAAAAAAAAAAAAAAAAAAAAAAAAAAAAAAAAAAAAAAAAAAAAAAAAAAAAAAAAAAAAAAAAAAAAAAAAAAAAAAAAAAAAAAAAAAAAAAAAAAAAAAAAAAAAAAAAAAAAAAAAAAAAAAAAAAAAAAAAAAAAAAAAAAAAAAAAAAAAAAAAAAAAAAAAAAAAAAAAAAAAAAAAAAAAAAAAAAAAAAAAAAAAAAAAAAAAAAAAAAAAAAAAAAAAAAAAAAAAAAAAAAAAAAAAAAAAAAAAAAAAAAAAAAAAAAAAAAAAAAAAAAAAAAAAAAAAAAAAAAAAAAAAAAAAAAAAAAAAAAAAAAAAAAAAAAAAAAAAAAAAAAAAAAAAAAAAAAAAAAAAAAAAAAAAAAAAAAAAAAAAAAAAAAAAAAAAAAAAAAAAAAAAAAAAAAAAAAAAAAAAAAAAAAAAAAAAAAAAAAAAAAAAAAAAAAAAAAAAAAAAAAAAAAAAAAAAAAAAAAAAAAAAAAAAAAAAAAAAAAAAAAAAAAAAAAAAAAAAAAAAAAAAAAAAAAAAAAAAAAAAAAAAAAAAAAAAAAAAAAAAAAAAAAAAAAAAAAAAAAAAAAAAAAAAAAAAAAAAAAAAAAAAAAAAAAAAAAAAAAAAAAAAAAAAAAAAAAAAAAAAAAAAAAAAAAAAAAAAAAAAAAAAAAAAAAAAAAAAAAAAAAAAAAAAAAAAAAAAAAAAAAAAAAAAAAAAAAAAAAAAAAAAAAAAAAAAAAAAAAAAAAAAAAAAAAAAAAAAAAAAAAAAAAAAAAAAAAAAAAAAAAAAAAAAAAAAAAAAAAAAAAAAAAAAAAAAAAAAAAAAAAAAAAAAAAAAAAAAAAAAAAAAAAAAAAAAAAAAAAAAAAAAAAAAAAAAAAAAAAAAAAAAAAAAAAAAAAAAAAAAAAAAAAAAAAAAAAAAAAAAAAAAAAAAAAAAAAAAAAAAAAAAAAAAAAAAAAAAAAAAAAAAAAAAAAAAAAAAAAAAAAAAAAAAAAAAAAAAAAAAAAAAAAAAAAAAAAAAAAAAAAAAAAAAAAAAAAAAAAAAAAAAAAAAAAAAAAAAAAAAAAAAAAAAAAAAAAAAAAAAAAAAAAAAAAAAAAAAAAAAAAAAAAAAAAAAAAAAAAAAAAAAAAAAAAAAAAAAAAAAAAAAAAAAAAAAAAAAAAAAAAAAAAAAAAAAAAAAAAAAAAAAAAAAAAAAAAAAAAAAAAAAAAAAAAAAAAAAAAAAAAAAAAAAAAAAAAAAAAAAAAAAAAAAAAAAAAAAAAAAAAAAAAAAAAAAAAAAAAAAAAAAAAAAAAAAAAAAAAAAAAAAAAAAAAAAAAAAAAAAA==",
          "dtype": "i1"
         },
         "x0": " ",
         "xaxis": "x",
         "y": {
          "bdata": "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",
          "dtype": "i2"
         },
         "y0": " ",
         "yaxis": "y"
        },
        {
         "alignmentgroup": "True",
         "hovertemplate": "churn=%{x}<br>salario_atual=%{y}<extra></extra>",
         "legendgroup": "1",
         "marker": {
          "color": "#EF553B"
         },
         "name": "1",
         "notched": false,
         "offsetgroup": "1",
         "orientation": "v",
         "showlegend": true,
         "type": "box",
         "x": {
          "bdata": "AQEBAQEBAQEBAQEBAQEBAQEBAQEBAQEBAQEBAQEBAQEBAQEBAQEBAQEBAQEBAQEBAQEBAQEBAQEBAQEBAQEBAQEBAQEBAQEBAQEBAQEBAQEBAQEBAQEBAQEBAQEBAQEBAQEBAQEBAQEBAQEBAQEBAQEBAQEBAQEBAQEBAQEBAQEBAQEBAQEBAQEBAQEBAQEBAQEBAQEBAQEBAQEBAQEBAQEBAQEBAQEBAQEBAQEBAQEBAQEBAQEBAQEBAQEBAQEBAQEBAQEBAQEBAQEBAQEBAQEBAQEBAQEBAQEBAQEBAQEBAQEBAQEBAQEBAQEBAQEBAQEBAQEBAQEBAQEBAQEBAQEBAQEBAQEBAQEBAQEBAQEBAQEBAQEBAQEBAQEBAQ==",
          "dtype": "i1"
         },
         "x0": " ",
         "xaxis": "x",
         "y": {
          "bdata": "HzHqMH88YllnM5M3/hq0XAc5MFqBNtk9glUZOeUtrS4nVB5EAym8IX44mBNBNdY4dVZbJxtAkVE2Rjha7lLfNl0ZWDglFTAqEDXFQXVQ8l/vFcJEXT6XRfQ/KB8aTsYvsUb8VONSmSPbYO4xWDkmJwFECkzKHlFUFBx/U84xUWDMFacnXCLbHZwcUjURINAgiDUrKZg6qkbqGKIkUSlYF4A750vJJyAdxFxfSV0bc09rG1w7Pi1hWKIT9jGjM51WC0vXWFsUpR34JGBEml9cNmYwj0yNT6Mdf1PLOVNFkDvvSCsu4Tk7NXpThksURjsjezKFYc5ElDGmJxJQGh9mJuA3aSHNTmUeWU3VVfoWYCT5Tj5A7E1US4cfYy+rSWpLPS7xE5UcaCUCMnkpQUmPVT5d+hqcFidEkSbHOiwgaznRJXc7D1i6VU8W+CPpKKJKJFG1NUtVFFiYX50n+VQtUIUbSz+cRZEwZBfNGtkyGCpzRHdfwEQvU3MbKky3PkBFExXEKpZZjTrZNDM3sSbQP6VVq1ggXH4pbU13KcFZqTdSHc5A2VOdJZxF7R8dHqc6wE0ZINsUEj34IMpEYR/JWOBFejCsGq5H/U3TGWlIQFdSXmof0TSMIPYUIThzJxQXiDp/F8UxxiGRS9pA6FmvRbg6AjsJFpJhzBo4HEIhpVhYJzgvl1WjJcVGVFSuU5EiNS9EJ3VJwhcKX7If2hnKLchMVVioKNke1x6BU58qtUA9KhJXrBfQLVs1NSE=",
          "dtype": "i2"
         },
         "y0": " ",
         "yaxis": "y"
        }
       ],
       "layout": {
        "boxmode": "overlay",
        "legend": {
         "title": {
          "text": "churn"
         },
         "tracegroupgap": 0
        },
        "template": {
         "data": {
          "bar": [
           {
            "error_x": {
             "color": "#2a3f5f"
            },
            "error_y": {
             "color": "#2a3f5f"
            },
            "marker": {
             "line": {
              "color": "#E5ECF6",
              "width": 0.5
             },
             "pattern": {
              "fillmode": "overlay",
              "size": 10,
              "solidity": 0.2
             }
            },
            "type": "bar"
           }
          ],
          "barpolar": [
           {
            "marker": {
             "line": {
              "color": "#E5ECF6",
              "width": 0.5
             },
             "pattern": {
              "fillmode": "overlay",
              "size": 10,
              "solidity": 0.2
             }
            },
            "type": "barpolar"
           }
          ],
          "carpet": [
           {
            "aaxis": {
             "endlinecolor": "#2a3f5f",
             "gridcolor": "white",
             "linecolor": "white",
             "minorgridcolor": "white",
             "startlinecolor": "#2a3f5f"
            },
            "baxis": {
             "endlinecolor": "#2a3f5f",
             "gridcolor": "white",
             "linecolor": "white",
             "minorgridcolor": "white",
             "startlinecolor": "#2a3f5f"
            },
            "type": "carpet"
           }
          ],
          "choropleth": [
           {
            "colorbar": {
             "outlinewidth": 0,
             "ticks": ""
            },
            "type": "choropleth"
           }
          ],
          "contour": [
           {
            "colorbar": {
             "outlinewidth": 0,
             "ticks": ""
            },
            "colorscale": [
             [
              0,
              "#0d0887"
             ],
             [
              0.1111111111111111,
              "#46039f"
             ],
             [
              0.2222222222222222,
              "#7201a8"
             ],
             [
              0.3333333333333333,
              "#9c179e"
             ],
             [
              0.4444444444444444,
              "#bd3786"
             ],
             [
              0.5555555555555556,
              "#d8576b"
             ],
             [
              0.6666666666666666,
              "#ed7953"
             ],
             [
              0.7777777777777778,
              "#fb9f3a"
             ],
             [
              0.8888888888888888,
              "#fdca26"
             ],
             [
              1,
              "#f0f921"
             ]
            ],
            "type": "contour"
           }
          ],
          "contourcarpet": [
           {
            "colorbar": {
             "outlinewidth": 0,
             "ticks": ""
            },
            "type": "contourcarpet"
           }
          ],
          "heatmap": [
           {
            "colorbar": {
             "outlinewidth": 0,
             "ticks": ""
            },
            "colorscale": [
             [
              0,
              "#0d0887"
             ],
             [
              0.1111111111111111,
              "#46039f"
             ],
             [
              0.2222222222222222,
              "#7201a8"
             ],
             [
              0.3333333333333333,
              "#9c179e"
             ],
             [
              0.4444444444444444,
              "#bd3786"
             ],
             [
              0.5555555555555556,
              "#d8576b"
             ],
             [
              0.6666666666666666,
              "#ed7953"
             ],
             [
              0.7777777777777778,
              "#fb9f3a"
             ],
             [
              0.8888888888888888,
              "#fdca26"
             ],
             [
              1,
              "#f0f921"
             ]
            ],
            "type": "heatmap"
           }
          ],
          "histogram": [
           {
            "marker": {
             "pattern": {
              "fillmode": "overlay",
              "size": 10,
              "solidity": 0.2
             }
            },
            "type": "histogram"
           }
          ],
          "histogram2d": [
           {
            "colorbar": {
             "outlinewidth": 0,
             "ticks": ""
            },
            "colorscale": [
             [
              0,
              "#0d0887"
             ],
             [
              0.1111111111111111,
              "#46039f"
             ],
             [
              0.2222222222222222,
              "#7201a8"
             ],
             [
              0.3333333333333333,
              "#9c179e"
             ],
             [
              0.4444444444444444,
              "#bd3786"
             ],
             [
              0.5555555555555556,
              "#d8576b"
             ],
             [
              0.6666666666666666,
              "#ed7953"
             ],
             [
              0.7777777777777778,
              "#fb9f3a"
             ],
             [
              0.8888888888888888,
              "#fdca26"
             ],
             [
              1,
              "#f0f921"
             ]
            ],
            "type": "histogram2d"
           }
          ],
          "histogram2dcontour": [
           {
            "colorbar": {
             "outlinewidth": 0,
             "ticks": ""
            },
            "colorscale": [
             [
              0,
              "#0d0887"
             ],
             [
              0.1111111111111111,
              "#46039f"
             ],
             [
              0.2222222222222222,
              "#7201a8"
             ],
             [
              0.3333333333333333,
              "#9c179e"
             ],
             [
              0.4444444444444444,
              "#bd3786"
             ],
             [
              0.5555555555555556,
              "#d8576b"
             ],
             [
              0.6666666666666666,
              "#ed7953"
             ],
             [
              0.7777777777777778,
              "#fb9f3a"
             ],
             [
              0.8888888888888888,
              "#fdca26"
             ],
             [
              1,
              "#f0f921"
             ]
            ],
            "type": "histogram2dcontour"
           }
          ],
          "mesh3d": [
           {
            "colorbar": {
             "outlinewidth": 0,
             "ticks": ""
            },
            "type": "mesh3d"
           }
          ],
          "parcoords": [
           {
            "line": {
             "colorbar": {
              "outlinewidth": 0,
              "ticks": ""
             }
            },
            "type": "parcoords"
           }
          ],
          "pie": [
           {
            "automargin": true,
            "type": "pie"
           }
          ],
          "scatter": [
           {
            "fillpattern": {
             "fillmode": "overlay",
             "size": 10,
             "solidity": 0.2
            },
            "type": "scatter"
           }
          ],
          "scatter3d": [
           {
            "line": {
             "colorbar": {
              "outlinewidth": 0,
              "ticks": ""
             }
            },
            "marker": {
             "colorbar": {
              "outlinewidth": 0,
              "ticks": ""
             }
            },
            "type": "scatter3d"
           }
          ],
          "scattercarpet": [
           {
            "marker": {
             "colorbar": {
              "outlinewidth": 0,
              "ticks": ""
             }
            },
            "type": "scattercarpet"
           }
          ],
          "scattergeo": [
           {
            "marker": {
             "colorbar": {
              "outlinewidth": 0,
              "ticks": ""
             }
            },
            "type": "scattergeo"
           }
          ],
          "scattergl": [
           {
            "marker": {
             "colorbar": {
              "outlinewidth": 0,
              "ticks": ""
             }
            },
            "type": "scattergl"
           }
          ],
          "scattermap": [
           {
            "marker": {
             "colorbar": {
              "outlinewidth": 0,
              "ticks": ""
             }
            },
            "type": "scattermap"
           }
          ],
          "scattermapbox": [
           {
            "marker": {
             "colorbar": {
              "outlinewidth": 0,
              "ticks": ""
             }
            },
            "type": "scattermapbox"
           }
          ],
          "scatterpolar": [
           {
            "marker": {
             "colorbar": {
              "outlinewidth": 0,
              "ticks": ""
             }
            },
            "type": "scatterpolar"
           }
          ],
          "scatterpolargl": [
           {
            "marker": {
             "colorbar": {
              "outlinewidth": 0,
              "ticks": ""
             }
            },
            "type": "scatterpolargl"
           }
          ],
          "scatterternary": [
           {
            "marker": {
             "colorbar": {
              "outlinewidth": 0,
              "ticks": ""
             }
            },
            "type": "scatterternary"
           }
          ],
          "surface": [
           {
            "colorbar": {
             "outlinewidth": 0,
             "ticks": ""
            },
            "colorscale": [
             [
              0,
              "#0d0887"
             ],
             [
              0.1111111111111111,
              "#46039f"
             ],
             [
              0.2222222222222222,
              "#7201a8"
             ],
             [
              0.3333333333333333,
              "#9c179e"
             ],
             [
              0.4444444444444444,
              "#bd3786"
             ],
             [
              0.5555555555555556,
              "#d8576b"
             ],
             [
              0.6666666666666666,
              "#ed7953"
             ],
             [
              0.7777777777777778,
              "#fb9f3a"
             ],
             [
              0.8888888888888888,
              "#fdca26"
             ],
             [
              1,
              "#f0f921"
             ]
            ],
            "type": "surface"
           }
          ],
          "table": [
           {
            "cells": {
             "fill": {
              "color": "#EBF0F8"
             },
             "line": {
              "color": "white"
             }
            },
            "header": {
             "fill": {
              "color": "#C8D4E3"
             },
             "line": {
              "color": "white"
             }
            },
            "type": "table"
           }
          ]
         },
         "layout": {
          "annotationdefaults": {
           "arrowcolor": "#2a3f5f",
           "arrowhead": 0,
           "arrowwidth": 1
          },
          "autotypenumbers": "strict",
          "coloraxis": {
           "colorbar": {
            "outlinewidth": 0,
            "ticks": ""
           }
          },
          "colorscale": {
           "diverging": [
            [
             0,
             "#8e0152"
            ],
            [
             0.1,
             "#c51b7d"
            ],
            [
             0.2,
             "#de77ae"
            ],
            [
             0.3,
             "#f1b6da"
            ],
            [
             0.4,
             "#fde0ef"
            ],
            [
             0.5,
             "#f7f7f7"
            ],
            [
             0.6,
             "#e6f5d0"
            ],
            [
             0.7,
             "#b8e186"
            ],
            [
             0.8,
             "#7fbc41"
            ],
            [
             0.9,
             "#4d9221"
            ],
            [
             1,
             "#276419"
            ]
           ],
           "sequential": [
            [
             0,
             "#0d0887"
            ],
            [
             0.1111111111111111,
             "#46039f"
            ],
            [
             0.2222222222222222,
             "#7201a8"
            ],
            [
             0.3333333333333333,
             "#9c179e"
            ],
            [
             0.4444444444444444,
             "#bd3786"
            ],
            [
             0.5555555555555556,
             "#d8576b"
            ],
            [
             0.6666666666666666,
             "#ed7953"
            ],
            [
             0.7777777777777778,
             "#fb9f3a"
            ],
            [
             0.8888888888888888,
             "#fdca26"
            ],
            [
             1,
             "#f0f921"
            ]
           ],
           "sequentialminus": [
            [
             0,
             "#0d0887"
            ],
            [
             0.1111111111111111,
             "#46039f"
            ],
            [
             0.2222222222222222,
             "#7201a8"
            ],
            [
             0.3333333333333333,
             "#9c179e"
            ],
            [
             0.4444444444444444,
             "#bd3786"
            ],
            [
             0.5555555555555556,
             "#d8576b"
            ],
            [
             0.6666666666666666,
             "#ed7953"
            ],
            [
             0.7777777777777778,
             "#fb9f3a"
            ],
            [
             0.8888888888888888,
             "#fdca26"
            ],
            [
             1,
             "#f0f921"
            ]
           ]
          },
          "colorway": [
           "#636efa",
           "#EF553B",
           "#00cc96",
           "#ab63fa",
           "#FFA15A",
           "#19d3f3",
           "#FF6692",
           "#B6E880",
           "#FF97FF",
           "#FECB52"
          ],
          "font": {
           "color": "#2a3f5f"
          },
          "geo": {
           "bgcolor": "white",
           "lakecolor": "white",
           "landcolor": "#E5ECF6",
           "showlakes": true,
           "showland": true,
           "subunitcolor": "white"
          },
          "hoverlabel": {
           "align": "left"
          },
          "hovermode": "closest",
          "mapbox": {
           "style": "light"
          },
          "paper_bgcolor": "white",
          "plot_bgcolor": "#E5ECF6",
          "polar": {
           "angularaxis": {
            "gridcolor": "white",
            "linecolor": "white",
            "ticks": ""
           },
           "bgcolor": "#E5ECF6",
           "radialaxis": {
            "gridcolor": "white",
            "linecolor": "white",
            "ticks": ""
           }
          },
          "scene": {
           "xaxis": {
            "backgroundcolor": "#E5ECF6",
            "gridcolor": "white",
            "gridwidth": 2,
            "linecolor": "white",
            "showbackground": true,
            "ticks": "",
            "zerolinecolor": "white"
           },
           "yaxis": {
            "backgroundcolor": "#E5ECF6",
            "gridcolor": "white",
            "gridwidth": 2,
            "linecolor": "white",
            "showbackground": true,
            "ticks": "",
            "zerolinecolor": "white"
           },
           "zaxis": {
            "backgroundcolor": "#E5ECF6",
            "gridcolor": "white",
            "gridwidth": 2,
            "linecolor": "white",
            "showbackground": true,
            "ticks": "",
            "zerolinecolor": "white"
           }
          },
          "shapedefaults": {
           "line": {
            "color": "#2a3f5f"
           }
          },
          "ternary": {
           "aaxis": {
            "gridcolor": "white",
            "linecolor": "white",
            "ticks": ""
           },
           "baxis": {
            "gridcolor": "white",
            "linecolor": "white",
            "ticks": ""
           },
           "bgcolor": "#E5ECF6",
           "caxis": {
            "gridcolor": "white",
            "linecolor": "white",
            "ticks": ""
           }
          },
          "title": {
           "x": 0.05
          },
          "xaxis": {
           "automargin": true,
           "gridcolor": "white",
           "linecolor": "white",
           "ticks": "",
           "title": {
            "standoff": 15
           },
           "zerolinecolor": "white",
           "zerolinewidth": 2
          },
          "yaxis": {
           "automargin": true,
           "gridcolor": "white",
           "linecolor": "white",
           "ticks": "",
           "title": {
            "standoff": 15
           },
           "zerolinecolor": "white",
           "zerolinewidth": 2
          }
         }
        },
        "title": {
         "text": "BoxPlot de salario_atual vs Churn"
        },
        "xaxis": {
         "anchor": "y",
         "categoryarray": [
          0,
          1
         ],
         "categoryorder": "array",
         "domain": [
          0,
          1
         ],
         "title": {
          "text": "churn"
         }
        },
        "yaxis": {
         "anchor": "x",
         "domain": [
          0,
          1
         ],
         "title": {
          "text": "salario_atual"
         }
        }
       }
      }
     },
     "metadata": {},
     "output_type": "display_data"
    },
    {
     "data": {
      "application/vnd.plotly.v1+json": {
       "config": {
        "plotlyServerURL": "https://plot.ly"
       },
       "data": [
        {
         "alignmentgroup": "True",
         "hovertemplate": "churn=%{x}<br>nota_avaliacao=%{y}<extra></extra>",
         "legendgroup": "0",
         "marker": {
          "color": "#636efa"
         },
         "name": "0",
         "notched": false,
         "offsetgroup": "0",
         "orientation": "v",
         "showlegend": true,
         "type": "box",
         "x": {
          "bdata": "AAAAAAAAAAAAAAAAAAAAAAAAAAAAAAAAAAAAAAAAAAAAAAAAAAAAAAAAAAAAAAAAAAAAAAAAAAAAAAAAAAAAAAAAAAAAAAAAAAAAAAAAAAAAAAAAAAAAAAAAAAAAAAAAAAAAAAAAAAAAAAAAAAAAAAAAAAAAAAAAAAAAAAAAAAAAAAAAAAAAAAAAAAAAAAAAAAAAAAAAAAAAAAAAAAAAAAAAAAAAAAAAAAAAAAAAAAAAAAAAAAAAAAAAAAAAAAAAAAAAAAAAAAAAAAAAAAAAAAAAAAAAAAAAAAAAAAAAAAAAAAAAAAAAAAAAAAAAAAAAAAAAAAAAAAAAAAAAAAAAAAAAAAAAAAAAAAAAAAAAAAAAAAAAAAAAAAAAAAAAAAAAAAAAAAAAAAAAAAAAAAAAAAAAAAAAAAAAAAAAAAAAAAAAAAAAAAAAAAAAAAAAAAAAAAAAAAAAAAAAAAAAAAAAAAAAAAAAAAAAAAAAAAAAAAAAAAAAAAAAAAAAAAAAAAAAAAAAAAAAAAAAAAAAAAAAAAAAAAAAAAAAAAAAAAAAAAAAAAAAAAAAAAAAAAAAAAAAAAAAAAAAAAAAAAAAAAAAAAAAAAAAAAAAAAAAAAAAAAAAAAAAAAAAAAAAAAAAAAAAAAAAAAAAAAAAAAAAAAAAAAAAAAAAAAAAAAAAAAAAAAAAAAAAAAAAAAAAAAAAAAAAAAAAAAAAAAAAAAAAAAAAAAAAAAAAAAAAAAAAAAAAAAAAAAAAAAAAAAAAAAAAAAAAAAAAAAAAAAAAAAAAAAAAAAAAAAAAAAAAAAAAAAAAAAAAAAAAAAAAAAAAAAAAAAAAAAAAAAAAAAAAAAAAAAAAAAAAAAAAAAAAAAAAAAAAAAAAAAAAAAAAAAAAAAAAAAAAAAAAAAAAAAAAAAAAAAAAAAAAAAAAAAAAAAAAAAAAAAAAAAAAAAAAAAAAAAAAAAAAAAAAAAAAAAAAAAAAAAAAAAAAAAAAAAAAAAAAAAAAAAAAAAAAAAAAAAAAAAAAAAAAAAAAAAAAAAAAAAAAAAAAAAAAAAAAAAAAAAAAAAAAAAAAAAAAAAAAAAAAAAAAAAAAAAAAAAAAAAAAAAAAAAAAAAAAAAAAAAAAAAAAAAAAAAAAAAAAAAAAAAAAAAAAAAAAAAAAAAAAAAAAAAAAAAAAAAAAAAAAAAAAAAAAAAAAAAAAAAAAAAAAAAAAAAAAAAAAAAAAAAAAAAAAAAAAAAAAAAAAAAAAAAAAAAAAAAAAAAAAAAAAAAAAAAAAAAAAAAAAAAAAAAAAAAAAAAAAAAAAAAAAAAAAAAAAAAAAAAAAAAAAAAAAAAAAAAAAAAAAAAAAAAAAAAAAAAAAAAAAAAAAAAAAAAAAAAAAAAAAAAAAAAAAAAAAAAAAAAAAAAAAAAAAAAAAAAAAAAAAAAAAAAAAAAAAAAAAAAAAAAAAAAAAAAAAAAAAAAAAAAAAAAAAAAAAAAAAAAAAAAAAAAAAAAAAAAAAAAAAAAAAAAAAAAAAAAAAAAAAAAAAAAAAAAAAAAAAAAAAAAAAAAAAAAAAAAAAAAAAAAAAAAAAAAAAAAAAAAAAAAAAAAAAAAAAAAAAAAAAAAAAAAAAAAAAAAAAAAAAAAAAAAAAAAAAAAAAAAAAAAAAAAAAAAAAAAAAAAAAAAAAAAAAAAAAAAAAAAAAAAAAAAAAAAAAAAAAAAAAAAAAAAAAAAAAAAAAAAAAAAAAAAAAAAAAAAAAAAAAAAAAAAAAAAAAAAAAAAAAAAAAAAAAAAAAAAAAAAAAAAAAAAAAAAAAAAAAAAAAAAAAAAAAAAAAAAAAAAAAAAAAAAAAAAAAAAAAAAAAAAAAAAAAAAAAAAAAAAAAAAAAAAAAAAAAAAAAAAAAAAAAAAAAAAAAAAAAAAAAAAAAAAAAAAAAAAAAAAAAAAAAAAAAAAAAAAAAAAAAAAAAAAAAAAAAAAAAAAAAAAAAAAAAAAAAAAAAAAAAAAAAAAAAAAAAAAAAAAAAAAAAAAAAAAAAAAAAAAAAAAAAAAAAAAAAAAAAAAAAAAAAAAAAAAAAAAAAAAAAAAAAAAAAAAAAAAAAAAAAAAAAAAAAAAAAAAAAAAAAAAAAAAAAAAAAAAAAAAAAAAAAAAAAAAAAAAAAAAAAAAAAAAAAAAAAAAAAAAAAAAAAAAAAAAAAAAAAAAAAAAAAAAAAAAAAAAAAAAAAAAAAAAAAAAAAAAAAAAAAAAAAAAAAAAAAAAAAAAAAAAAAAAAAAAAAAAAAAAAAAAAAAAAAAAAAAAAAAAAAAAAAAA==",
          "dtype": "i1"
         },
         "x0": " ",
         "xaxis": "x",
         "y": {
          "bdata": "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",
          "dtype": "f8"
         },
         "y0": " ",
         "yaxis": "y"
        },
        {
         "alignmentgroup": "True",
         "hovertemplate": "churn=%{x}<br>nota_avaliacao=%{y}<extra></extra>",
         "legendgroup": "1",
         "marker": {
          "color": "#EF553B"
         },
         "name": "1",
         "notched": false,
         "offsetgroup": "1",
         "orientation": "v",
         "showlegend": true,
         "type": "box",
         "x": {
          "bdata": "AQEBAQEBAQEBAQEBAQEBAQEBAQEBAQEBAQEBAQEBAQEBAQEBAQEBAQEBAQEBAQEBAQEBAQEBAQEBAQEBAQEBAQEBAQEBAQEBAQEBAQEBAQEBAQEBAQEBAQEBAQEBAQEBAQEBAQEBAQEBAQEBAQEBAQEBAQEBAQEBAQEBAQEBAQEBAQEBAQEBAQEBAQEBAQEBAQEBAQEBAQEBAQEBAQEBAQEBAQEBAQEBAQEBAQEBAQEBAQEBAQEBAQEBAQEBAQEBAQEBAQEBAQEBAQEBAQEBAQEBAQEBAQEBAQEBAQEBAQEBAQEBAQEBAQEBAQEBAQEBAQEBAQEBAQEBAQEBAQEBAQEBAQEBAQEBAQEBAQEBAQEBAQEBAQEBAQEBAQEBAQ==",
          "dtype": "i1"
         },
         "x0": " ",
         "xaxis": "x",
         "y": {
          "bdata": "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",
          "dtype": "f8"
         },
         "y0": " ",
         "yaxis": "y"
        }
       ],
       "layout": {
        "boxmode": "overlay",
        "legend": {
         "title": {
          "text": "churn"
         },
         "tracegroupgap": 0
        },
        "template": {
         "data": {
          "bar": [
           {
            "error_x": {
             "color": "#2a3f5f"
            },
            "error_y": {
             "color": "#2a3f5f"
            },
            "marker": {
             "line": {
              "color": "#E5ECF6",
              "width": 0.5
             },
             "pattern": {
              "fillmode": "overlay",
              "size": 10,
              "solidity": 0.2
             }
            },
            "type": "bar"
           }
          ],
          "barpolar": [
           {
            "marker": {
             "line": {
              "color": "#E5ECF6",
              "width": 0.5
             },
             "pattern": {
              "fillmode": "overlay",
              "size": 10,
              "solidity": 0.2
             }
            },
            "type": "barpolar"
           }
          ],
          "carpet": [
           {
            "aaxis": {
             "endlinecolor": "#2a3f5f",
             "gridcolor": "white",
             "linecolor": "white",
             "minorgridcolor": "white",
             "startlinecolor": "#2a3f5f"
            },
            "baxis": {
             "endlinecolor": "#2a3f5f",
             "gridcolor": "white",
             "linecolor": "white",
             "minorgridcolor": "white",
             "startlinecolor": "#2a3f5f"
            },
            "type": "carpet"
           }
          ],
          "choropleth": [
           {
            "colorbar": {
             "outlinewidth": 0,
             "ticks": ""
            },
            "type": "choropleth"
           }
          ],
          "contour": [
           {
            "colorbar": {
             "outlinewidth": 0,
             "ticks": ""
            },
            "colorscale": [
             [
              0,
              "#0d0887"
             ],
             [
              0.1111111111111111,
              "#46039f"
             ],
             [
              0.2222222222222222,
              "#7201a8"
             ],
             [
              0.3333333333333333,
              "#9c179e"
             ],
             [
              0.4444444444444444,
              "#bd3786"
             ],
             [
              0.5555555555555556,
              "#d8576b"
             ],
             [
              0.6666666666666666,
              "#ed7953"
             ],
             [
              0.7777777777777778,
              "#fb9f3a"
             ],
             [
              0.8888888888888888,
              "#fdca26"
             ],
             [
              1,
              "#f0f921"
             ]
            ],
            "type": "contour"
           }
          ],
          "contourcarpet": [
           {
            "colorbar": {
             "outlinewidth": 0,
             "ticks": ""
            },
            "type": "contourcarpet"
           }
          ],
          "heatmap": [
           {
            "colorbar": {
             "outlinewidth": 0,
             "ticks": ""
            },
            "colorscale": [
             [
              0,
              "#0d0887"
             ],
             [
              0.1111111111111111,
              "#46039f"
             ],
             [
              0.2222222222222222,
              "#7201a8"
             ],
             [
              0.3333333333333333,
              "#9c179e"
             ],
             [
              0.4444444444444444,
              "#bd3786"
             ],
             [
              0.5555555555555556,
              "#d8576b"
             ],
             [
              0.6666666666666666,
              "#ed7953"
             ],
             [
              0.7777777777777778,
              "#fb9f3a"
             ],
             [
              0.8888888888888888,
              "#fdca26"
             ],
             [
              1,
              "#f0f921"
             ]
            ],
            "type": "heatmap"
           }
          ],
          "histogram": [
           {
            "marker": {
             "pattern": {
              "fillmode": "overlay",
              "size": 10,
              "solidity": 0.2
             }
            },
            "type": "histogram"
           }
          ],
          "histogram2d": [
           {
            "colorbar": {
             "outlinewidth": 0,
             "ticks": ""
            },
            "colorscale": [
             [
              0,
              "#0d0887"
             ],
             [
              0.1111111111111111,
              "#46039f"
             ],
             [
              0.2222222222222222,
              "#7201a8"
             ],
             [
              0.3333333333333333,
              "#9c179e"
             ],
             [
              0.4444444444444444,
              "#bd3786"
             ],
             [
              0.5555555555555556,
              "#d8576b"
             ],
             [
              0.6666666666666666,
              "#ed7953"
             ],
             [
              0.7777777777777778,
              "#fb9f3a"
             ],
             [
              0.8888888888888888,
              "#fdca26"
             ],
             [
              1,
              "#f0f921"
             ]
            ],
            "type": "histogram2d"
           }
          ],
          "histogram2dcontour": [
           {
            "colorbar": {
             "outlinewidth": 0,
             "ticks": ""
            },
            "colorscale": [
             [
              0,
              "#0d0887"
             ],
             [
              0.1111111111111111,
              "#46039f"
             ],
             [
              0.2222222222222222,
              "#7201a8"
             ],
             [
              0.3333333333333333,
              "#9c179e"
             ],
             [
              0.4444444444444444,
              "#bd3786"
             ],
             [
              0.5555555555555556,
              "#d8576b"
             ],
             [
              0.6666666666666666,
              "#ed7953"
             ],
             [
              0.7777777777777778,
              "#fb9f3a"
             ],
             [
              0.8888888888888888,
              "#fdca26"
             ],
             [
              1,
              "#f0f921"
             ]
            ],
            "type": "histogram2dcontour"
           }
          ],
          "mesh3d": [
           {
            "colorbar": {
             "outlinewidth": 0,
             "ticks": ""
            },
            "type": "mesh3d"
           }
          ],
          "parcoords": [
           {
            "line": {
             "colorbar": {
              "outlinewidth": 0,
              "ticks": ""
             }
            },
            "type": "parcoords"
           }
          ],
          "pie": [
           {
            "automargin": true,
            "type": "pie"
           }
          ],
          "scatter": [
           {
            "fillpattern": {
             "fillmode": "overlay",
             "size": 10,
             "solidity": 0.2
            },
            "type": "scatter"
           }
          ],
          "scatter3d": [
           {
            "line": {
             "colorbar": {
              "outlinewidth": 0,
              "ticks": ""
             }
            },
            "marker": {
             "colorbar": {
              "outlinewidth": 0,
              "ticks": ""
             }
            },
            "type": "scatter3d"
           }
          ],
          "scattercarpet": [
           {
            "marker": {
             "colorbar": {
              "outlinewidth": 0,
              "ticks": ""
             }
            },
            "type": "scattercarpet"
           }
          ],
          "scattergeo": [
           {
            "marker": {
             "colorbar": {
              "outlinewidth": 0,
              "ticks": ""
             }
            },
            "type": "scattergeo"
           }
          ],
          "scattergl": [
           {
            "marker": {
             "colorbar": {
              "outlinewidth": 0,
              "ticks": ""
             }
            },
            "type": "scattergl"
           }
          ],
          "scattermap": [
           {
            "marker": {
             "colorbar": {
              "outlinewidth": 0,
              "ticks": ""
             }
            },
            "type": "scattermap"
           }
          ],
          "scattermapbox": [
           {
            "marker": {
             "colorbar": {
              "outlinewidth": 0,
              "ticks": ""
             }
            },
            "type": "scattermapbox"
           }
          ],
          "scatterpolar": [
           {
            "marker": {
             "colorbar": {
              "outlinewidth": 0,
              "ticks": ""
             }
            },
            "type": "scatterpolar"
           }
          ],
          "scatterpolargl": [
           {
            "marker": {
             "colorbar": {
              "outlinewidth": 0,
              "ticks": ""
             }
            },
            "type": "scatterpolargl"
           }
          ],
          "scatterternary": [
           {
            "marker": {
             "colorbar": {
              "outlinewidth": 0,
              "ticks": ""
             }
            },
            "type": "scatterternary"
           }
          ],
          "surface": [
           {
            "colorbar": {
             "outlinewidth": 0,
             "ticks": ""
            },
            "colorscale": [
             [
              0,
              "#0d0887"
             ],
             [
              0.1111111111111111,
              "#46039f"
             ],
             [
              0.2222222222222222,
              "#7201a8"
             ],
             [
              0.3333333333333333,
              "#9c179e"
             ],
             [
              0.4444444444444444,
              "#bd3786"
             ],
             [
              0.5555555555555556,
              "#d8576b"
             ],
             [
              0.6666666666666666,
              "#ed7953"
             ],
             [
              0.7777777777777778,
              "#fb9f3a"
             ],
             [
              0.8888888888888888,
              "#fdca26"
             ],
             [
              1,
              "#f0f921"
             ]
            ],
            "type": "surface"
           }
          ],
          "table": [
           {
            "cells": {
             "fill": {
              "color": "#EBF0F8"
             },
             "line": {
              "color": "white"
             }
            },
            "header": {
             "fill": {
              "color": "#C8D4E3"
             },
             "line": {
              "color": "white"
             }
            },
            "type": "table"
           }
          ]
         },
         "layout": {
          "annotationdefaults": {
           "arrowcolor": "#2a3f5f",
           "arrowhead": 0,
           "arrowwidth": 1
          },
          "autotypenumbers": "strict",
          "coloraxis": {
           "colorbar": {
            "outlinewidth": 0,
            "ticks": ""
           }
          },
          "colorscale": {
           "diverging": [
            [
             0,
             "#8e0152"
            ],
            [
             0.1,
             "#c51b7d"
            ],
            [
             0.2,
             "#de77ae"
            ],
            [
             0.3,
             "#f1b6da"
            ],
            [
             0.4,
             "#fde0ef"
            ],
            [
             0.5,
             "#f7f7f7"
            ],
            [
             0.6,
             "#e6f5d0"
            ],
            [
             0.7,
             "#b8e186"
            ],
            [
             0.8,
             "#7fbc41"
            ],
            [
             0.9,
             "#4d9221"
            ],
            [
             1,
             "#276419"
            ]
           ],
           "sequential": [
            [
             0,
             "#0d0887"
            ],
            [
             0.1111111111111111,
             "#46039f"
            ],
            [
             0.2222222222222222,
             "#7201a8"
            ],
            [
             0.3333333333333333,
             "#9c179e"
            ],
            [
             0.4444444444444444,
             "#bd3786"
            ],
            [
             0.5555555555555556,
             "#d8576b"
            ],
            [
             0.6666666666666666,
             "#ed7953"
            ],
            [
             0.7777777777777778,
             "#fb9f3a"
            ],
            [
             0.8888888888888888,
             "#fdca26"
            ],
            [
             1,
             "#f0f921"
            ]
           ],
           "sequentialminus": [
            [
             0,
             "#0d0887"
            ],
            [
             0.1111111111111111,
             "#46039f"
            ],
            [
             0.2222222222222222,
             "#7201a8"
            ],
            [
             0.3333333333333333,
             "#9c179e"
            ],
            [
             0.4444444444444444,
             "#bd3786"
            ],
            [
             0.5555555555555556,
             "#d8576b"
            ],
            [
             0.6666666666666666,
             "#ed7953"
            ],
            [
             0.7777777777777778,
             "#fb9f3a"
            ],
            [
             0.8888888888888888,
             "#fdca26"
            ],
            [
             1,
             "#f0f921"
            ]
           ]
          },
          "colorway": [
           "#636efa",
           "#EF553B",
           "#00cc96",
           "#ab63fa",
           "#FFA15A",
           "#19d3f3",
           "#FF6692",
           "#B6E880",
           "#FF97FF",
           "#FECB52"
          ],
          "font": {
           "color": "#2a3f5f"
          },
          "geo": {
           "bgcolor": "white",
           "lakecolor": "white",
           "landcolor": "#E5ECF6",
           "showlakes": true,
           "showland": true,
           "subunitcolor": "white"
          },
          "hoverlabel": {
           "align": "left"
          },
          "hovermode": "closest",
          "mapbox": {
           "style": "light"
          },
          "paper_bgcolor": "white",
          "plot_bgcolor": "#E5ECF6",
          "polar": {
           "angularaxis": {
            "gridcolor": "white",
            "linecolor": "white",
            "ticks": ""
           },
           "bgcolor": "#E5ECF6",
           "radialaxis": {
            "gridcolor": "white",
            "linecolor": "white",
            "ticks": ""
           }
          },
          "scene": {
           "xaxis": {
            "backgroundcolor": "#E5ECF6",
            "gridcolor": "white",
            "gridwidth": 2,
            "linecolor": "white",
            "showbackground": true,
            "ticks": "",
            "zerolinecolor": "white"
           },
           "yaxis": {
            "backgroundcolor": "#E5ECF6",
            "gridcolor": "white",
            "gridwidth": 2,
            "linecolor": "white",
            "showbackground": true,
            "ticks": "",
            "zerolinecolor": "white"
           },
           "zaxis": {
            "backgroundcolor": "#E5ECF6",
            "gridcolor": "white",
            "gridwidth": 2,
            "linecolor": "white",
            "showbackground": true,
            "ticks": "",
            "zerolinecolor": "white"
           }
          },
          "shapedefaults": {
           "line": {
            "color": "#2a3f5f"
           }
          },
          "ternary": {
           "aaxis": {
            "gridcolor": "white",
            "linecolor": "white",
            "ticks": ""
           },
           "baxis": {
            "gridcolor": "white",
            "linecolor": "white",
            "ticks": ""
           },
           "bgcolor": "#E5ECF6",
           "caxis": {
            "gridcolor": "white",
            "linecolor": "white",
            "ticks": ""
           }
          },
          "title": {
           "x": 0.05
          },
          "xaxis": {
           "automargin": true,
           "gridcolor": "white",
           "linecolor": "white",
           "ticks": "",
           "title": {
            "standoff": 15
           },
           "zerolinecolor": "white",
           "zerolinewidth": 2
          },
          "yaxis": {
           "automargin": true,
           "gridcolor": "white",
           "linecolor": "white",
           "ticks": "",
           "title": {
            "standoff": 15
           },
           "zerolinecolor": "white",
           "zerolinewidth": 2
          }
         }
        },
        "title": {
         "text": "BoxPlot de nota_avaliacao vs Churn"
        },
        "xaxis": {
         "anchor": "y",
         "categoryarray": [
          0,
          1
         ],
         "categoryorder": "array",
         "domain": [
          0,
          1
         ],
         "title": {
          "text": "churn"
         }
        },
        "yaxis": {
         "anchor": "x",
         "domain": [
          0,
          1
         ],
         "title": {
          "text": "nota_avaliacao"
         }
        }
       }
      }
     },
     "metadata": {},
     "output_type": "display_data"
    },
    {
     "data": {
      "application/vnd.plotly.v1+json": {
       "config": {
        "plotlyServerURL": "https://plot.ly"
       },
       "data": [
        {
         "alignmentgroup": "True",
         "hovertemplate": "churn=%{x}<br>qtde_projetos=%{y}<extra></extra>",
         "legendgroup": "0",
         "marker": {
          "color": "#636efa"
         },
         "name": "0",
         "notched": false,
         "offsetgroup": "0",
         "orientation": "v",
         "showlegend": true,
         "type": "box",
         "x": {
          "bdata": "AAAAAAAAAAAAAAAAAAAAAAAAAAAAAAAAAAAAAAAAAAAAAAAAAAAAAAAAAAAAAAAAAAAAAAAAAAAAAAAAAAAAAAAAAAAAAAAAAAAAAAAAAAAAAAAAAAAAAAAAAAAAAAAAAAAAAAAAAAAAAAAAAAAAAAAAAAAAAAAAAAAAAAAAAAAAAAAAAAAAAAAAAAAAAAAAAAAAAAAAAAAAAAAAAAAAAAAAAAAAAAAAAAAAAAAAAAAAAAAAAAAAAAAAAAAAAAAAAAAAAAAAAAAAAAAAAAAAAAAAAAAAAAAAAAAAAAAAAAAAAAAAAAAAAAAAAAAAAAAAAAAAAAAAAAAAAAAAAAAAAAAAAAAAAAAAAAAAAAAAAAAAAAAAAAAAAAAAAAAAAAAAAAAAAAAAAAAAAAAAAAAAAAAAAAAAAAAAAAAAAAAAAAAAAAAAAAAAAAAAAAAAAAAAAAAAAAAAAAAAAAAAAAAAAAAAAAAAAAAAAAAAAAAAAAAAAAAAAAAAAAAAAAAAAAAAAAAAAAAAAAAAAAAAAAAAAAAAAAAAAAAAAAAAAAAAAAAAAAAAAAAAAAAAAAAAAAAAAAAAAAAAAAAAAAAAAAAAAAAAAAAAAAAAAAAAAAAAAAAAAAAAAAAAAAAAAAAAAAAAAAAAAAAAAAAAAAAAAAAAAAAAAAAAAAAAAAAAAAAAAAAAAAAAAAAAAAAAAAAAAAAAAAAAAAAAAAAAAAAAAAAAAAAAAAAAAAAAAAAAAAAAAAAAAAAAAAAAAAAAAAAAAAAAAAAAAAAAAAAAAAAAAAAAAAAAAAAAAAAAAAAAAAAAAAAAAAAAAAAAAAAAAAAAAAAAAAAAAAAAAAAAAAAAAAAAAAAAAAAAAAAAAAAAAAAAAAAAAAAAAAAAAAAAAAAAAAAAAAAAAAAAAAAAAAAAAAAAAAAAAAAAAAAAAAAAAAAAAAAAAAAAAAAAAAAAAAAAAAAAAAAAAAAAAAAAAAAAAAAAAAAAAAAAAAAAAAAAAAAAAAAAAAAAAAAAAAAAAAAAAAAAAAAAAAAAAAAAAAAAAAAAAAAAAAAAAAAAAAAAAAAAAAAAAAAAAAAAAAAAAAAAAAAAAAAAAAAAAAAAAAAAAAAAAAAAAAAAAAAAAAAAAAAAAAAAAAAAAAAAAAAAAAAAAAAAAAAAAAAAAAAAAAAAAAAAAAAAAAAAAAAAAAAAAAAAAAAAAAAAAAAAAAAAAAAAAAAAAAAAAAAAAAAAAAAAAAAAAAAAAAAAAAAAAAAAAAAAAAAAAAAAAAAAAAAAAAAAAAAAAAAAAAAAAAAAAAAAAAAAAAAAAAAAAAAAAAAAAAAAAAAAAAAAAAAAAAAAAAAAAAAAAAAAAAAAAAAAAAAAAAAAAAAAAAAAAAAAAAAAAAAAAAAAAAAAAAAAAAAAAAAAAAAAAAAAAAAAAAAAAAAAAAAAAAAAAAAAAAAAAAAAAAAAAAAAAAAAAAAAAAAAAAAAAAAAAAAAAAAAAAAAAAAAAAAAAAAAAAAAAAAAAAAAAAAAAAAAAAAAAAAAAAAAAAAAAAAAAAAAAAAAAAAAAAAAAAAAAAAAAAAAAAAAAAAAAAAAAAAAAAAAAAAAAAAAAAAAAAAAAAAAAAAAAAAAAAAAAAAAAAAAAAAAAAAAAAAAAAAAAAAAAAAAAAAAAAAAAAAAAAAAAAAAAAAAAAAAAAAAAAAAAAAAAAAAAAAAAAAAAAAAAAAAAAAAAAAAAAAAAAAAAAAAAAAAAAAAAAAAAAAAAAAAAAAAAAAAAAAAAAAAAAAAAAAAAAAAAAAAAAAAAAAAAAAAAAAAAAAAAAAAAAAAAAAAAAAAAAAAAAAAAAAAAAAAAAAAAAAAAAAAAAAAAAAAAAAAAAAAAAAAAAAAAAAAAAAAAAAAAAAAAAAAAAAAAAAAAAAAAAAAAAAAAAAAAAAAAAAAAAAAAAAAAAAAAAAAAAAAAAAAAAAAAAAAAAAAAAAAAAAAAAAAAAAAAAAAAAAAAAAAAAAAAAAAAAAAAAAAAAAAAAAAAAAAAAAAAAAAAAAAAAAAAAAAAAAAAAAAAAAAAAAAAAAAAAAAAAAAAAAAAAAAAAAAAAAAAAAAAAAAAAAAAAAAAAAAAAAAAAAAAAAAAAAAAAAAAAAAAAAAAAAAAAAAAAAAAAAAAAAAAAAAAAAAAAAAAAAAAAAAAAAAAAAAAAAAAAAAAAAAAAAAAAAAAAAAAAAAAAAAAAAAAAAAAAAAAAAAAAAAAAAAAAAAAAAAAAAAAAAAAAAAAAAAAAAAAAAAAAAAAAAAAAAAAAAAAAAAAAAAAA==",
          "dtype": "i1"
         },
         "x0": " ",
         "xaxis": "x",
         "y": {
          "bdata": "BQgJCAUIBggDBgMDAwYIAQECBQYJBgUIBgMHCAEBCQUEAQQGBAECBgEHCQgJBgQCAwUIBwYDAgQFCAcBCQkJCQkGAgUCAgkGAgkJAQcBAgkHBgYFBAEGCQUCBwgBAgEDBAQHBQECAgMDAwcEAgIJAgYGCQcHAgMBAgcIAQUBBgQFCAIHCAQGAQkBCQUBCAUGCQUBCAYFCAgGBwQEAQEBAwcJCAcCBAgECQcCAgEFBAgGBgkEAQQCCQUHBwQHCQcDCQgHAwUCBgYECQYDAgYIAQMCAwEDBQMCCQMIBQkECAgHBgYDAgIJCAUDBwgECAYCAwgGCAMIBQYGCAMHCQIDAgQDBwUICQUDBAEBCQICBAEJAgICBAkFAgEICQIFAgkHCQkCAwYBCQQFBwMBBQMHAQkFBwcBCQgFAwgJAwQBBQMIAgMGBwcDBQkIBgMJBgUHAwMCBwgHCAcCAgYDCAMJAggICAkDBgUBCQMCCQECBgQCBgQJCAYFCQkICQMDBwQGBwgJAwIIBwMHBgYFBwIBBAcHCQYBAwIDBgECBwkEBQkFAwkJBgUCCAECAQkBAgIDBAUDBgIDAggECAkCBAYCBgUCBQMHBgYJBAcEAgUHAgEJBQIHCAQGBAgICQIICQEJCAQBBAcHBwEFBQMICQYFBQEDBgQEAwIBAQYHBgUFBwICBgUJAwgFAQgBBQIIBQcIBAkIAwgFAQcDBwYIAgYHBwQBBAcJBAUJCQQGBwMDBwYJAwkJBQQBCQcDCAYBBAUIBQMFBwUDAgEBBgMJBwIFAwQIAQIGAggBBgkCBQkBCAkEBQUFAgMFBgcHBwMDBAgHBAYGCQEJAwkIBAYBBgYJCQYCAgMGAgcCCAMJBwUFBAIBAgYIBQgCAwMCBAYFBQECCQIDBAEGBQEFBwEIBwUEBwMEBAUCCQEIBwgGCQUCBAEDCAMDAQUIAgcBAwECCAYDBAcHAgMDBQMFBQMIAwgDBwEDAwkBAwECAwYECQYCAQMDBwEFBwYJAQYBBQUFBAgJBgcFAgcJCQMCBwUECAUEAQkBCAEFBQIBBQUFBwQBBgMEBQQGAgcCBAgECQEIAQgJBQYIAgUGBQgGBAYIAwcBBAUCCAYDAgkFBAIEAwEGBAgIAgIGCQYHBwcDBQMJAgYFBwkBAwUDBgcGCQUBBwUBBQIFBwkBAwEIAQIGAQIECQEEBgEHAgYBAwgGAgIGAQUGCAkFCQIHAgUFBQQHAgYICAkGCQgFBwkFAgEBBQMJAQcBBAMDCAIBBQcDBQEIAwMGBAUGAwIIBQUBBAYFBgUEAgYHCQEECQkIAwUIBwQEAQEJBAYGBgYJBgUDAwMEBQgJAgYCAQYGBAMGCAEDAQEGAQcEBgICCAcGAwgIBggBCAgGCQQEAQYDBwIDBQcJBwEJBwgBAwYGCAkEBAkFBAkECQcIBQEJAQEJAwIBBAgJBgIBCAQBAQMHAQkCBgkHAwYBAQEIAgMCAggIBgUFBAMFBwkFAgIHBgUJBwcDAwMFAwQECQgECQIDBQMGCAIDAwkGAgYECAkGBAcGCQkBCQMDCAkICAkHBQYHBQQEAQYDBwMGCAQGAwMHAwcBAQYHBgQEAQMBAgYCBQMDBAYEBAQJBAIJBgQIBwkGBQkFBwMCBQUEBQcHAgQFAwMJCAQHAQYJBgQFAgYEBwgFAgMHBgcIAwgIAgUEAwcCBAkIAQYCBwUIBQkHCAkJBAQJAgEGAQIGBwMECQEIAwUCCAkEAgUIBQkFAQMIAgIGBAQICAkBAQcEBgEFBgEEAwEBCAIIAwQDBwIFBgUJBQYBBgcBBwkHAgkIAQgIBggDBgMBBAYBBAkIAwYIBAEEBAIIAwkFBwYCCAUBBAMCBgcJBgUJBwMBCQgHBwQJBQUDAQMCBgkCBwMCBAYCCQEHBQEDBgEJCAQBBwYBAQcFAQMGCQQFAgMFCAEJAgkHAQUBBAcECQUCCAQGBwgGBwMDBggFAwICAwEJBQQJAgkCAgICBwUDCQgIAgEGBQUIAgEDAgkCCQYFBAIEBgQIAwEIBQgHAgkBAQMEBwkGAwUDBQcDAQEEBQYIBAcEAQECBggGCAEBBgEFAwEHBQQIBgMDAQUHBggBCAEGBgcDBwcIAgIFBQkCBwUIAQECAwkDBwkEAwcDBgIGBQYEBgcIBQgJCQMCBgkHBggEAgIGAQIGBQkFCQkFAwQHCQIEAgQBAQgBAwYDCAQFCAUEBAgJAwEFBAkDAwkECQUHCAEJBQgIBAkGBwcFBAMHAggFCQcFBgMIAwEGBgQEBgYICQ==",
          "dtype": "i1"
         },
         "y0": " ",
         "yaxis": "y"
        },
        {
         "alignmentgroup": "True",
         "hovertemplate": "churn=%{x}<br>qtde_projetos=%{y}<extra></extra>",
         "legendgroup": "1",
         "marker": {
          "color": "#EF553B"
         },
         "name": "1",
         "notched": false,
         "offsetgroup": "1",
         "orientation": "v",
         "showlegend": true,
         "type": "box",
         "x": {
          "bdata": "AQEBAQEBAQEBAQEBAQEBAQEBAQEBAQEBAQEBAQEBAQEBAQEBAQEBAQEBAQEBAQEBAQEBAQEBAQEBAQEBAQEBAQEBAQEBAQEBAQEBAQEBAQEBAQEBAQEBAQEBAQEBAQEBAQEBAQEBAQEBAQEBAQEBAQEBAQEBAQEBAQEBAQEBAQEBAQEBAQEBAQEBAQEBAQEBAQEBAQEBAQEBAQEBAQEBAQEBAQEBAQEBAQEBAQEBAQEBAQEBAQEBAQEBAQEBAQEBAQEBAQEBAQEBAQEBAQEBAQEBAQEBAQEBAQEBAQEBAQEBAQEBAQEBAQEBAQEBAQEBAQEBAQEBAQEBAQEBAQEBAQEBAQEBAQEBAQEBAQEBAQEBAQEBAQEBAQEBAQEBAQ==",
          "dtype": "i1"
         },
         "x0": " ",
         "xaxis": "x",
         "y": {
          "bdata": "BgEGAwkCAgIGCQgBBgIEAwkECAMHAQcDBwkCBgEEBQcJBAEJCAMCAQUHBQcGBwIIAQkIBgkJBgkGBwICCAECAQYFAQcBCAQEBwUJBwIEBAUBBQIFBQMEAgIJBwIFBQIBBAQEAgUJBQUBCQEHAwUGAwYEBwQFBAgBAQEGCAYHBwUEBwUFCAEEAggFAQgBBwUCAgkBCAUJBQUIBwIEBwkJAgQBAQcCBwUBBAIIBAUIAwgEAwcEBQUFAgkFBwUDAwkDAwcCBwkGCQkDAwYFAQYJAQkHBwUIBQgGCAYFAgkCBAcECAgJBgYEBgcFAQUEAQICBwIHAQEGBwQDBAMDAwMBCQMBCAEDBQQGCAkIBgkIBAEHAwkECAEFCAUIBQgGBA==",
          "dtype": "i1"
         },
         "y0": " ",
         "yaxis": "y"
        }
       ],
       "layout": {
        "boxmode": "overlay",
        "legend": {
         "title": {
          "text": "churn"
         },
         "tracegroupgap": 0
        },
        "template": {
         "data": {
          "bar": [
           {
            "error_x": {
             "color": "#2a3f5f"
            },
            "error_y": {
             "color": "#2a3f5f"
            },
            "marker": {
             "line": {
              "color": "#E5ECF6",
              "width": 0.5
             },
             "pattern": {
              "fillmode": "overlay",
              "size": 10,
              "solidity": 0.2
             }
            },
            "type": "bar"
           }
          ],
          "barpolar": [
           {
            "marker": {
             "line": {
              "color": "#E5ECF6",
              "width": 0.5
             },
             "pattern": {
              "fillmode": "overlay",
              "size": 10,
              "solidity": 0.2
             }
            },
            "type": "barpolar"
           }
          ],
          "carpet": [
           {
            "aaxis": {
             "endlinecolor": "#2a3f5f",
             "gridcolor": "white",
             "linecolor": "white",
             "minorgridcolor": "white",
             "startlinecolor": "#2a3f5f"
            },
            "baxis": {
             "endlinecolor": "#2a3f5f",
             "gridcolor": "white",
             "linecolor": "white",
             "minorgridcolor": "white",
             "startlinecolor": "#2a3f5f"
            },
            "type": "carpet"
           }
          ],
          "choropleth": [
           {
            "colorbar": {
             "outlinewidth": 0,
             "ticks": ""
            },
            "type": "choropleth"
           }
          ],
          "contour": [
           {
            "colorbar": {
             "outlinewidth": 0,
             "ticks": ""
            },
            "colorscale": [
             [
              0,
              "#0d0887"
             ],
             [
              0.1111111111111111,
              "#46039f"
             ],
             [
              0.2222222222222222,
              "#7201a8"
             ],
             [
              0.3333333333333333,
              "#9c179e"
             ],
             [
              0.4444444444444444,
              "#bd3786"
             ],
             [
              0.5555555555555556,
              "#d8576b"
             ],
             [
              0.6666666666666666,
              "#ed7953"
             ],
             [
              0.7777777777777778,
              "#fb9f3a"
             ],
             [
              0.8888888888888888,
              "#fdca26"
             ],
             [
              1,
              "#f0f921"
             ]
            ],
            "type": "contour"
           }
          ],
          "contourcarpet": [
           {
            "colorbar": {
             "outlinewidth": 0,
             "ticks": ""
            },
            "type": "contourcarpet"
           }
          ],
          "heatmap": [
           {
            "colorbar": {
             "outlinewidth": 0,
             "ticks": ""
            },
            "colorscale": [
             [
              0,
              "#0d0887"
             ],
             [
              0.1111111111111111,
              "#46039f"
             ],
             [
              0.2222222222222222,
              "#7201a8"
             ],
             [
              0.3333333333333333,
              "#9c179e"
             ],
             [
              0.4444444444444444,
              "#bd3786"
             ],
             [
              0.5555555555555556,
              "#d8576b"
             ],
             [
              0.6666666666666666,
              "#ed7953"
             ],
             [
              0.7777777777777778,
              "#fb9f3a"
             ],
             [
              0.8888888888888888,
              "#fdca26"
             ],
             [
              1,
              "#f0f921"
             ]
            ],
            "type": "heatmap"
           }
          ],
          "histogram": [
           {
            "marker": {
             "pattern": {
              "fillmode": "overlay",
              "size": 10,
              "solidity": 0.2
             }
            },
            "type": "histogram"
           }
          ],
          "histogram2d": [
           {
            "colorbar": {
             "outlinewidth": 0,
             "ticks": ""
            },
            "colorscale": [
             [
              0,
              "#0d0887"
             ],
             [
              0.1111111111111111,
              "#46039f"
             ],
             [
              0.2222222222222222,
              "#7201a8"
             ],
             [
              0.3333333333333333,
              "#9c179e"
             ],
             [
              0.4444444444444444,
              "#bd3786"
             ],
             [
              0.5555555555555556,
              "#d8576b"
             ],
             [
              0.6666666666666666,
              "#ed7953"
             ],
             [
              0.7777777777777778,
              "#fb9f3a"
             ],
             [
              0.8888888888888888,
              "#fdca26"
             ],
             [
              1,
              "#f0f921"
             ]
            ],
            "type": "histogram2d"
           }
          ],
          "histogram2dcontour": [
           {
            "colorbar": {
             "outlinewidth": 0,
             "ticks": ""
            },
            "colorscale": [
             [
              0,
              "#0d0887"
             ],
             [
              0.1111111111111111,
              "#46039f"
             ],
             [
              0.2222222222222222,
              "#7201a8"
             ],
             [
              0.3333333333333333,
              "#9c179e"
             ],
             [
              0.4444444444444444,
              "#bd3786"
             ],
             [
              0.5555555555555556,
              "#d8576b"
             ],
             [
              0.6666666666666666,
              "#ed7953"
             ],
             [
              0.7777777777777778,
              "#fb9f3a"
             ],
             [
              0.8888888888888888,
              "#fdca26"
             ],
             [
              1,
              "#f0f921"
             ]
            ],
            "type": "histogram2dcontour"
           }
          ],
          "mesh3d": [
           {
            "colorbar": {
             "outlinewidth": 0,
             "ticks": ""
            },
            "type": "mesh3d"
           }
          ],
          "parcoords": [
           {
            "line": {
             "colorbar": {
              "outlinewidth": 0,
              "ticks": ""
             }
            },
            "type": "parcoords"
           }
          ],
          "pie": [
           {
            "automargin": true,
            "type": "pie"
           }
          ],
          "scatter": [
           {
            "fillpattern": {
             "fillmode": "overlay",
             "size": 10,
             "solidity": 0.2
            },
            "type": "scatter"
           }
          ],
          "scatter3d": [
           {
            "line": {
             "colorbar": {
              "outlinewidth": 0,
              "ticks": ""
             }
            },
            "marker": {
             "colorbar": {
              "outlinewidth": 0,
              "ticks": ""
             }
            },
            "type": "scatter3d"
           }
          ],
          "scattercarpet": [
           {
            "marker": {
             "colorbar": {
              "outlinewidth": 0,
              "ticks": ""
             }
            },
            "type": "scattercarpet"
           }
          ],
          "scattergeo": [
           {
            "marker": {
             "colorbar": {
              "outlinewidth": 0,
              "ticks": ""
             }
            },
            "type": "scattergeo"
           }
          ],
          "scattergl": [
           {
            "marker": {
             "colorbar": {
              "outlinewidth": 0,
              "ticks": ""
             }
            },
            "type": "scattergl"
           }
          ],
          "scattermap": [
           {
            "marker": {
             "colorbar": {
              "outlinewidth": 0,
              "ticks": ""
             }
            },
            "type": "scattermap"
           }
          ],
          "scattermapbox": [
           {
            "marker": {
             "colorbar": {
              "outlinewidth": 0,
              "ticks": ""
             }
            },
            "type": "scattermapbox"
           }
          ],
          "scatterpolar": [
           {
            "marker": {
             "colorbar": {
              "outlinewidth": 0,
              "ticks": ""
             }
            },
            "type": "scatterpolar"
           }
          ],
          "scatterpolargl": [
           {
            "marker": {
             "colorbar": {
              "outlinewidth": 0,
              "ticks": ""
             }
            },
            "type": "scatterpolargl"
           }
          ],
          "scatterternary": [
           {
            "marker": {
             "colorbar": {
              "outlinewidth": 0,
              "ticks": ""
             }
            },
            "type": "scatterternary"
           }
          ],
          "surface": [
           {
            "colorbar": {
             "outlinewidth": 0,
             "ticks": ""
            },
            "colorscale": [
             [
              0,
              "#0d0887"
             ],
             [
              0.1111111111111111,
              "#46039f"
             ],
             [
              0.2222222222222222,
              "#7201a8"
             ],
             [
              0.3333333333333333,
              "#9c179e"
             ],
             [
              0.4444444444444444,
              "#bd3786"
             ],
             [
              0.5555555555555556,
              "#d8576b"
             ],
             [
              0.6666666666666666,
              "#ed7953"
             ],
             [
              0.7777777777777778,
              "#fb9f3a"
             ],
             [
              0.8888888888888888,
              "#fdca26"
             ],
             [
              1,
              "#f0f921"
             ]
            ],
            "type": "surface"
           }
          ],
          "table": [
           {
            "cells": {
             "fill": {
              "color": "#EBF0F8"
             },
             "line": {
              "color": "white"
             }
            },
            "header": {
             "fill": {
              "color": "#C8D4E3"
             },
             "line": {
              "color": "white"
             }
            },
            "type": "table"
           }
          ]
         },
         "layout": {
          "annotationdefaults": {
           "arrowcolor": "#2a3f5f",
           "arrowhead": 0,
           "arrowwidth": 1
          },
          "autotypenumbers": "strict",
          "coloraxis": {
           "colorbar": {
            "outlinewidth": 0,
            "ticks": ""
           }
          },
          "colorscale": {
           "diverging": [
            [
             0,
             "#8e0152"
            ],
            [
             0.1,
             "#c51b7d"
            ],
            [
             0.2,
             "#de77ae"
            ],
            [
             0.3,
             "#f1b6da"
            ],
            [
             0.4,
             "#fde0ef"
            ],
            [
             0.5,
             "#f7f7f7"
            ],
            [
             0.6,
             "#e6f5d0"
            ],
            [
             0.7,
             "#b8e186"
            ],
            [
             0.8,
             "#7fbc41"
            ],
            [
             0.9,
             "#4d9221"
            ],
            [
             1,
             "#276419"
            ]
           ],
           "sequential": [
            [
             0,
             "#0d0887"
            ],
            [
             0.1111111111111111,
             "#46039f"
            ],
            [
             0.2222222222222222,
             "#7201a8"
            ],
            [
             0.3333333333333333,
             "#9c179e"
            ],
            [
             0.4444444444444444,
             "#bd3786"
            ],
            [
             0.5555555555555556,
             "#d8576b"
            ],
            [
             0.6666666666666666,
             "#ed7953"
            ],
            [
             0.7777777777777778,
             "#fb9f3a"
            ],
            [
             0.8888888888888888,
             "#fdca26"
            ],
            [
             1,
             "#f0f921"
            ]
           ],
           "sequentialminus": [
            [
             0,
             "#0d0887"
            ],
            [
             0.1111111111111111,
             "#46039f"
            ],
            [
             0.2222222222222222,
             "#7201a8"
            ],
            [
             0.3333333333333333,
             "#9c179e"
            ],
            [
             0.4444444444444444,
             "#bd3786"
            ],
            [
             0.5555555555555556,
             "#d8576b"
            ],
            [
             0.6666666666666666,
             "#ed7953"
            ],
            [
             0.7777777777777778,
             "#fb9f3a"
            ],
            [
             0.8888888888888888,
             "#fdca26"
            ],
            [
             1,
             "#f0f921"
            ]
           ]
          },
          "colorway": [
           "#636efa",
           "#EF553B",
           "#00cc96",
           "#ab63fa",
           "#FFA15A",
           "#19d3f3",
           "#FF6692",
           "#B6E880",
           "#FF97FF",
           "#FECB52"
          ],
          "font": {
           "color": "#2a3f5f"
          },
          "geo": {
           "bgcolor": "white",
           "lakecolor": "white",
           "landcolor": "#E5ECF6",
           "showlakes": true,
           "showland": true,
           "subunitcolor": "white"
          },
          "hoverlabel": {
           "align": "left"
          },
          "hovermode": "closest",
          "mapbox": {
           "style": "light"
          },
          "paper_bgcolor": "white",
          "plot_bgcolor": "#E5ECF6",
          "polar": {
           "angularaxis": {
            "gridcolor": "white",
            "linecolor": "white",
            "ticks": ""
           },
           "bgcolor": "#E5ECF6",
           "radialaxis": {
            "gridcolor": "white",
            "linecolor": "white",
            "ticks": ""
           }
          },
          "scene": {
           "xaxis": {
            "backgroundcolor": "#E5ECF6",
            "gridcolor": "white",
            "gridwidth": 2,
            "linecolor": "white",
            "showbackground": true,
            "ticks": "",
            "zerolinecolor": "white"
           },
           "yaxis": {
            "backgroundcolor": "#E5ECF6",
            "gridcolor": "white",
            "gridwidth": 2,
            "linecolor": "white",
            "showbackground": true,
            "ticks": "",
            "zerolinecolor": "white"
           },
           "zaxis": {
            "backgroundcolor": "#E5ECF6",
            "gridcolor": "white",
            "gridwidth": 2,
            "linecolor": "white",
            "showbackground": true,
            "ticks": "",
            "zerolinecolor": "white"
           }
          },
          "shapedefaults": {
           "line": {
            "color": "#2a3f5f"
           }
          },
          "ternary": {
           "aaxis": {
            "gridcolor": "white",
            "linecolor": "white",
            "ticks": ""
           },
           "baxis": {
            "gridcolor": "white",
            "linecolor": "white",
            "ticks": ""
           },
           "bgcolor": "#E5ECF6",
           "caxis": {
            "gridcolor": "white",
            "linecolor": "white",
            "ticks": ""
           }
          },
          "title": {
           "x": 0.05
          },
          "xaxis": {
           "automargin": true,
           "gridcolor": "white",
           "linecolor": "white",
           "ticks": "",
           "title": {
            "standoff": 15
           },
           "zerolinecolor": "white",
           "zerolinewidth": 2
          },
          "yaxis": {
           "automargin": true,
           "gridcolor": "white",
           "linecolor": "white",
           "ticks": "",
           "title": {
            "standoff": 15
           },
           "zerolinecolor": "white",
           "zerolinewidth": 2
          }
         }
        },
        "title": {
         "text": "BoxPlot de qtde_projetos vs Churn"
        },
        "xaxis": {
         "anchor": "y",
         "categoryarray": [
          0,
          1
         ],
         "categoryorder": "array",
         "domain": [
          0,
          1
         ],
         "title": {
          "text": "churn"
         }
        },
        "yaxis": {
         "anchor": "x",
         "domain": [
          0,
          1
         ],
         "title": {
          "text": "qtde_projetos"
         }
        }
       }
      }
     },
     "metadata": {},
     "output_type": "display_data"
    },
    {
     "data": {
      "application/vnd.plotly.v1+json": {
       "config": {
        "plotlyServerURL": "https://plot.ly"
       },
       "data": [
        {
         "alignmentgroup": "True",
         "hovertemplate": "churn=%{x}<br>qtde_clientes=%{y}<extra></extra>",
         "legendgroup": "0",
         "marker": {
          "color": "#636efa"
         },
         "name": "0",
         "notched": false,
         "offsetgroup": "0",
         "orientation": "v",
         "showlegend": true,
         "type": "box",
         "x": {
          "bdata": "AAAAAAAAAAAAAAAAAAAAAAAAAAAAAAAAAAAAAAAAAAAAAAAAAAAAAAAAAAAAAAAAAAAAAAAAAAAAAAAAAAAAAAAAAAAAAAAAAAAAAAAAAAAAAAAAAAAAAAAAAAAAAAAAAAAAAAAAAAAAAAAAAAAAAAAAAAAAAAAAAAAAAAAAAAAAAAAAAAAAAAAAAAAAAAAAAAAAAAAAAAAAAAAAAAAAAAAAAAAAAAAAAAAAAAAAAAAAAAAAAAAAAAAAAAAAAAAAAAAAAAAAAAAAAAAAAAAAAAAAAAAAAAAAAAAAAAAAAAAAAAAAAAAAAAAAAAAAAAAAAAAAAAAAAAAAAAAAAAAAAAAAAAAAAAAAAAAAAAAAAAAAAAAAAAAAAAAAAAAAAAAAAAAAAAAAAAAAAAAAAAAAAAAAAAAAAAAAAAAAAAAAAAAAAAAAAAAAAAAAAAAAAAAAAAAAAAAAAAAAAAAAAAAAAAAAAAAAAAAAAAAAAAAAAAAAAAAAAAAAAAAAAAAAAAAAAAAAAAAAAAAAAAAAAAAAAAAAAAAAAAAAAAAAAAAAAAAAAAAAAAAAAAAAAAAAAAAAAAAAAAAAAAAAAAAAAAAAAAAAAAAAAAAAAAAAAAAAAAAAAAAAAAAAAAAAAAAAAAAAAAAAAAAAAAAAAAAAAAAAAAAAAAAAAAAAAAAAAAAAAAAAAAAAAAAAAAAAAAAAAAAAAAAAAAAAAAAAAAAAAAAAAAAAAAAAAAAAAAAAAAAAAAAAAAAAAAAAAAAAAAAAAAAAAAAAAAAAAAAAAAAAAAAAAAAAAAAAAAAAAAAAAAAAAAAAAAAAAAAAAAAAAAAAAAAAAAAAAAAAAAAAAAAAAAAAAAAAAAAAAAAAAAAAAAAAAAAAAAAAAAAAAAAAAAAAAAAAAAAAAAAAAAAAAAAAAAAAAAAAAAAAAAAAAAAAAAAAAAAAAAAAAAAAAAAAAAAAAAAAAAAAAAAAAAAAAAAAAAAAAAAAAAAAAAAAAAAAAAAAAAAAAAAAAAAAAAAAAAAAAAAAAAAAAAAAAAAAAAAAAAAAAAAAAAAAAAAAAAAAAAAAAAAAAAAAAAAAAAAAAAAAAAAAAAAAAAAAAAAAAAAAAAAAAAAAAAAAAAAAAAAAAAAAAAAAAAAAAAAAAAAAAAAAAAAAAAAAAAAAAAAAAAAAAAAAAAAAAAAAAAAAAAAAAAAAAAAAAAAAAAAAAAAAAAAAAAAAAAAAAAAAAAAAAAAAAAAAAAAAAAAAAAAAAAAAAAAAAAAAAAAAAAAAAAAAAAAAAAAAAAAAAAAAAAAAAAAAAAAAAAAAAAAAAAAAAAAAAAAAAAAAAAAAAAAAAAAAAAAAAAAAAAAAAAAAAAAAAAAAAAAAAAAAAAAAAAAAAAAAAAAAAAAAAAAAAAAAAAAAAAAAAAAAAAAAAAAAAAAAAAAAAAAAAAAAAAAAAAAAAAAAAAAAAAAAAAAAAAAAAAAAAAAAAAAAAAAAAAAAAAAAAAAAAAAAAAAAAAAAAAAAAAAAAAAAAAAAAAAAAAAAAAAAAAAAAAAAAAAAAAAAAAAAAAAAAAAAAAAAAAAAAAAAAAAAAAAAAAAAAAAAAAAAAAAAAAAAAAAAAAAAAAAAAAAAAAAAAAAAAAAAAAAAAAAAAAAAAAAAAAAAAAAAAAAAAAAAAAAAAAAAAAAAAAAAAAAAAAAAAAAAAAAAAAAAAAAAAAAAAAAAAAAAAAAAAAAAAAAAAAAAAAAAAAAAAAAAAAAAAAAAAAAAAAAAAAAAAAAAAAAAAAAAAAAAAAAAAAAAAAAAAAAAAAAAAAAAAAAAAAAAAAAAAAAAAAAAAAAAAAAAAAAAAAAAAAAAAAAAAAAAAAAAAAAAAAAAAAAAAAAAAAAAAAAAAAAAAAAAAAAAAAAAAAAAAAAAAAAAAAAAAAAAAAAAAAAAAAAAAAAAAAAAAAAAAAAAAAAAAAAAAAAAAAAAAAAAAAAAAAAAAAAAAAAAAAAAAAAAAAAAAAAAAAAAAAAAAAAAAAAAAAAAAAAAAAAAAAAAAAAAAAAAAAAAAAAAAAAAAAAAAAAAAAAAAAAAAAAAAAAAAAAAAAAAAAAAAAAAAAAAAAAAAAAAAAAAAAAAAAAAAAAAAAAAAAAAAAAAAAAAAAAAAAAAAAAAAAAAAAAAAAAAAAAAAAAAAAAAAAAAAAAAAAAAAAAAAAAAAAAAAAAAAAAAAAAAAAAAAAAAAAAAAAAAAAAAAAAAAAAAAAAAAAAAAAAAAAAAAAAAAAAAAAAAAAAAAAAAAAAAAAAAAAAAAAAAAAAAAAAAAA==",
          "dtype": "i1"
         },
         "x0": " ",
         "xaxis": "x",
         "y": {
          "bdata": "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",
          "dtype": "i1"
         },
         "y0": " ",
         "yaxis": "y"
        },
        {
         "alignmentgroup": "True",
         "hovertemplate": "churn=%{x}<br>qtde_clientes=%{y}<extra></extra>",
         "legendgroup": "1",
         "marker": {
          "color": "#EF553B"
         },
         "name": "1",
         "notched": false,
         "offsetgroup": "1",
         "orientation": "v",
         "showlegend": true,
         "type": "box",
         "x": {
          "bdata": "AQEBAQEBAQEBAQEBAQEBAQEBAQEBAQEBAQEBAQEBAQEBAQEBAQEBAQEBAQEBAQEBAQEBAQEBAQEBAQEBAQEBAQEBAQEBAQEBAQEBAQEBAQEBAQEBAQEBAQEBAQEBAQEBAQEBAQEBAQEBAQEBAQEBAQEBAQEBAQEBAQEBAQEBAQEBAQEBAQEBAQEBAQEBAQEBAQEBAQEBAQEBAQEBAQEBAQEBAQEBAQEBAQEBAQEBAQEBAQEBAQEBAQEBAQEBAQEBAQEBAQEBAQEBAQEBAQEBAQEBAQEBAQEBAQEBAQEBAQEBAQEBAQEBAQEBAQEBAQEBAQEBAQEBAQEBAQEBAQEBAQEBAQEBAQEBAQEBAQEBAQEBAQEBAQEBAQEBAQEBAQ==",
          "dtype": "i1"
         },
         "x0": " ",
         "xaxis": "x",
         "y": {
          "bdata": "AwECBAUCAwYHBQQFBAYBBQYEBQEDAgUBAQMEAgUCAQEEBQQCBwYGBQIEAwYCAwICAwcCAQMCBwQGBgIDAgUCAwIBAQUFBgMEAgQEBgEDAwcEBQIGBAEEAQECBQUGBQEGBgYEAQUEAwQFAQEFBgEGBAQFAQEGBwEBBQUGBAEHBgEDAwMBBQMGBAEEBQUHBAUDAgQDBwIDBwUFBQIBAgIEAgUBAgICAwUGAQEGBgYBBAcBBQcCAwYEBAIGAwYBAQYGBQcDBwQGAwMCAQIBAQYDAwEGAQUGAwQEAwMFBwMGBgIHBwcFAQEBAQECAQEHAwMDAwcHBwIFBgcDBQQHBAUEAgYBBwYDBwIBBgUCAQMGBgMGBwQHBQQBBgYHBwEGBg==",
          "dtype": "i1"
         },
         "y0": " ",
         "yaxis": "y"
        }
       ],
       "layout": {
        "boxmode": "overlay",
        "legend": {
         "title": {
          "text": "churn"
         },
         "tracegroupgap": 0
        },
        "template": {
         "data": {
          "bar": [
           {
            "error_x": {
             "color": "#2a3f5f"
            },
            "error_y": {
             "color": "#2a3f5f"
            },
            "marker": {
             "line": {
              "color": "#E5ECF6",
              "width": 0.5
             },
             "pattern": {
              "fillmode": "overlay",
              "size": 10,
              "solidity": 0.2
             }
            },
            "type": "bar"
           }
          ],
          "barpolar": [
           {
            "marker": {
             "line": {
              "color": "#E5ECF6",
              "width": 0.5
             },
             "pattern": {
              "fillmode": "overlay",
              "size": 10,
              "solidity": 0.2
             }
            },
            "type": "barpolar"
           }
          ],
          "carpet": [
           {
            "aaxis": {
             "endlinecolor": "#2a3f5f",
             "gridcolor": "white",
             "linecolor": "white",
             "minorgridcolor": "white",
             "startlinecolor": "#2a3f5f"
            },
            "baxis": {
             "endlinecolor": "#2a3f5f",
             "gridcolor": "white",
             "linecolor": "white",
             "minorgridcolor": "white",
             "startlinecolor": "#2a3f5f"
            },
            "type": "carpet"
           }
          ],
          "choropleth": [
           {
            "colorbar": {
             "outlinewidth": 0,
             "ticks": ""
            },
            "type": "choropleth"
           }
          ],
          "contour": [
           {
            "colorbar": {
             "outlinewidth": 0,
             "ticks": ""
            },
            "colorscale": [
             [
              0,
              "#0d0887"
             ],
             [
              0.1111111111111111,
              "#46039f"
             ],
             [
              0.2222222222222222,
              "#7201a8"
             ],
             [
              0.3333333333333333,
              "#9c179e"
             ],
             [
              0.4444444444444444,
              "#bd3786"
             ],
             [
              0.5555555555555556,
              "#d8576b"
             ],
             [
              0.6666666666666666,
              "#ed7953"
             ],
             [
              0.7777777777777778,
              "#fb9f3a"
             ],
             [
              0.8888888888888888,
              "#fdca26"
             ],
             [
              1,
              "#f0f921"
             ]
            ],
            "type": "contour"
           }
          ],
          "contourcarpet": [
           {
            "colorbar": {
             "outlinewidth": 0,
             "ticks": ""
            },
            "type": "contourcarpet"
           }
          ],
          "heatmap": [
           {
            "colorbar": {
             "outlinewidth": 0,
             "ticks": ""
            },
            "colorscale": [
             [
              0,
              "#0d0887"
             ],
             [
              0.1111111111111111,
              "#46039f"
             ],
             [
              0.2222222222222222,
              "#7201a8"
             ],
             [
              0.3333333333333333,
              "#9c179e"
             ],
             [
              0.4444444444444444,
              "#bd3786"
             ],
             [
              0.5555555555555556,
              "#d8576b"
             ],
             [
              0.6666666666666666,
              "#ed7953"
             ],
             [
              0.7777777777777778,
              "#fb9f3a"
             ],
             [
              0.8888888888888888,
              "#fdca26"
             ],
             [
              1,
              "#f0f921"
             ]
            ],
            "type": "heatmap"
           }
          ],
          "histogram": [
           {
            "marker": {
             "pattern": {
              "fillmode": "overlay",
              "size": 10,
              "solidity": 0.2
             }
            },
            "type": "histogram"
           }
          ],
          "histogram2d": [
           {
            "colorbar": {
             "outlinewidth": 0,
             "ticks": ""
            },
            "colorscale": [
             [
              0,
              "#0d0887"
             ],
             [
              0.1111111111111111,
              "#46039f"
             ],
             [
              0.2222222222222222,
              "#7201a8"
             ],
             [
              0.3333333333333333,
              "#9c179e"
             ],
             [
              0.4444444444444444,
              "#bd3786"
             ],
             [
              0.5555555555555556,
              "#d8576b"
             ],
             [
              0.6666666666666666,
              "#ed7953"
             ],
             [
              0.7777777777777778,
              "#fb9f3a"
             ],
             [
              0.8888888888888888,
              "#fdca26"
             ],
             [
              1,
              "#f0f921"
             ]
            ],
            "type": "histogram2d"
           }
          ],
          "histogram2dcontour": [
           {
            "colorbar": {
             "outlinewidth": 0,
             "ticks": ""
            },
            "colorscale": [
             [
              0,
              "#0d0887"
             ],
             [
              0.1111111111111111,
              "#46039f"
             ],
             [
              0.2222222222222222,
              "#7201a8"
             ],
             [
              0.3333333333333333,
              "#9c179e"
             ],
             [
              0.4444444444444444,
              "#bd3786"
             ],
             [
              0.5555555555555556,
              "#d8576b"
             ],
             [
              0.6666666666666666,
              "#ed7953"
             ],
             [
              0.7777777777777778,
              "#fb9f3a"
             ],
             [
              0.8888888888888888,
              "#fdca26"
             ],
             [
              1,
              "#f0f921"
             ]
            ],
            "type": "histogram2dcontour"
           }
          ],
          "mesh3d": [
           {
            "colorbar": {
             "outlinewidth": 0,
             "ticks": ""
            },
            "type": "mesh3d"
           }
          ],
          "parcoords": [
           {
            "line": {
             "colorbar": {
              "outlinewidth": 0,
              "ticks": ""
             }
            },
            "type": "parcoords"
           }
          ],
          "pie": [
           {
            "automargin": true,
            "type": "pie"
           }
          ],
          "scatter": [
           {
            "fillpattern": {
             "fillmode": "overlay",
             "size": 10,
             "solidity": 0.2
            },
            "type": "scatter"
           }
          ],
          "scatter3d": [
           {
            "line": {
             "colorbar": {
              "outlinewidth": 0,
              "ticks": ""
             }
            },
            "marker": {
             "colorbar": {
              "outlinewidth": 0,
              "ticks": ""
             }
            },
            "type": "scatter3d"
           }
          ],
          "scattercarpet": [
           {
            "marker": {
             "colorbar": {
              "outlinewidth": 0,
              "ticks": ""
             }
            },
            "type": "scattercarpet"
           }
          ],
          "scattergeo": [
           {
            "marker": {
             "colorbar": {
              "outlinewidth": 0,
              "ticks": ""
             }
            },
            "type": "scattergeo"
           }
          ],
          "scattergl": [
           {
            "marker": {
             "colorbar": {
              "outlinewidth": 0,
              "ticks": ""
             }
            },
            "type": "scattergl"
           }
          ],
          "scattermap": [
           {
            "marker": {
             "colorbar": {
              "outlinewidth": 0,
              "ticks": ""
             }
            },
            "type": "scattermap"
           }
          ],
          "scattermapbox": [
           {
            "marker": {
             "colorbar": {
              "outlinewidth": 0,
              "ticks": ""
             }
            },
            "type": "scattermapbox"
           }
          ],
          "scatterpolar": [
           {
            "marker": {
             "colorbar": {
              "outlinewidth": 0,
              "ticks": ""
             }
            },
            "type": "scatterpolar"
           }
          ],
          "scatterpolargl": [
           {
            "marker": {
             "colorbar": {
              "outlinewidth": 0,
              "ticks": ""
             }
            },
            "type": "scatterpolargl"
           }
          ],
          "scatterternary": [
           {
            "marker": {
             "colorbar": {
              "outlinewidth": 0,
              "ticks": ""
             }
            },
            "type": "scatterternary"
           }
          ],
          "surface": [
           {
            "colorbar": {
             "outlinewidth": 0,
             "ticks": ""
            },
            "colorscale": [
             [
              0,
              "#0d0887"
             ],
             [
              0.1111111111111111,
              "#46039f"
             ],
             [
              0.2222222222222222,
              "#7201a8"
             ],
             [
              0.3333333333333333,
              "#9c179e"
             ],
             [
              0.4444444444444444,
              "#bd3786"
             ],
             [
              0.5555555555555556,
              "#d8576b"
             ],
             [
              0.6666666666666666,
              "#ed7953"
             ],
             [
              0.7777777777777778,
              "#fb9f3a"
             ],
             [
              0.8888888888888888,
              "#fdca26"
             ],
             [
              1,
              "#f0f921"
             ]
            ],
            "type": "surface"
           }
          ],
          "table": [
           {
            "cells": {
             "fill": {
              "color": "#EBF0F8"
             },
             "line": {
              "color": "white"
             }
            },
            "header": {
             "fill": {
              "color": "#C8D4E3"
             },
             "line": {
              "color": "white"
             }
            },
            "type": "table"
           }
          ]
         },
         "layout": {
          "annotationdefaults": {
           "arrowcolor": "#2a3f5f",
           "arrowhead": 0,
           "arrowwidth": 1
          },
          "autotypenumbers": "strict",
          "coloraxis": {
           "colorbar": {
            "outlinewidth": 0,
            "ticks": ""
           }
          },
          "colorscale": {
           "diverging": [
            [
             0,
             "#8e0152"
            ],
            [
             0.1,
             "#c51b7d"
            ],
            [
             0.2,
             "#de77ae"
            ],
            [
             0.3,
             "#f1b6da"
            ],
            [
             0.4,
             "#fde0ef"
            ],
            [
             0.5,
             "#f7f7f7"
            ],
            [
             0.6,
             "#e6f5d0"
            ],
            [
             0.7,
             "#b8e186"
            ],
            [
             0.8,
             "#7fbc41"
            ],
            [
             0.9,
             "#4d9221"
            ],
            [
             1,
             "#276419"
            ]
           ],
           "sequential": [
            [
             0,
             "#0d0887"
            ],
            [
             0.1111111111111111,
             "#46039f"
            ],
            [
             0.2222222222222222,
             "#7201a8"
            ],
            [
             0.3333333333333333,
             "#9c179e"
            ],
            [
             0.4444444444444444,
             "#bd3786"
            ],
            [
             0.5555555555555556,
             "#d8576b"
            ],
            [
             0.6666666666666666,
             "#ed7953"
            ],
            [
             0.7777777777777778,
             "#fb9f3a"
            ],
            [
             0.8888888888888888,
             "#fdca26"
            ],
            [
             1,
             "#f0f921"
            ]
           ],
           "sequentialminus": [
            [
             0,
             "#0d0887"
            ],
            [
             0.1111111111111111,
             "#46039f"
            ],
            [
             0.2222222222222222,
             "#7201a8"
            ],
            [
             0.3333333333333333,
             "#9c179e"
            ],
            [
             0.4444444444444444,
             "#bd3786"
            ],
            [
             0.5555555555555556,
             "#d8576b"
            ],
            [
             0.6666666666666666,
             "#ed7953"
            ],
            [
             0.7777777777777778,
             "#fb9f3a"
            ],
            [
             0.8888888888888888,
             "#fdca26"
            ],
            [
             1,
             "#f0f921"
            ]
           ]
          },
          "colorway": [
           "#636efa",
           "#EF553B",
           "#00cc96",
           "#ab63fa",
           "#FFA15A",
           "#19d3f3",
           "#FF6692",
           "#B6E880",
           "#FF97FF",
           "#FECB52"
          ],
          "font": {
           "color": "#2a3f5f"
          },
          "geo": {
           "bgcolor": "white",
           "lakecolor": "white",
           "landcolor": "#E5ECF6",
           "showlakes": true,
           "showland": true,
           "subunitcolor": "white"
          },
          "hoverlabel": {
           "align": "left"
          },
          "hovermode": "closest",
          "mapbox": {
           "style": "light"
          },
          "paper_bgcolor": "white",
          "plot_bgcolor": "#E5ECF6",
          "polar": {
           "angularaxis": {
            "gridcolor": "white",
            "linecolor": "white",
            "ticks": ""
           },
           "bgcolor": "#E5ECF6",
           "radialaxis": {
            "gridcolor": "white",
            "linecolor": "white",
            "ticks": ""
           }
          },
          "scene": {
           "xaxis": {
            "backgroundcolor": "#E5ECF6",
            "gridcolor": "white",
            "gridwidth": 2,
            "linecolor": "white",
            "showbackground": true,
            "ticks": "",
            "zerolinecolor": "white"
           },
           "yaxis": {
            "backgroundcolor": "#E5ECF6",
            "gridcolor": "white",
            "gridwidth": 2,
            "linecolor": "white",
            "showbackground": true,
            "ticks": "",
            "zerolinecolor": "white"
           },
           "zaxis": {
            "backgroundcolor": "#E5ECF6",
            "gridcolor": "white",
            "gridwidth": 2,
            "linecolor": "white",
            "showbackground": true,
            "ticks": "",
            "zerolinecolor": "white"
           }
          },
          "shapedefaults": {
           "line": {
            "color": "#2a3f5f"
           }
          },
          "ternary": {
           "aaxis": {
            "gridcolor": "white",
            "linecolor": "white",
            "ticks": ""
           },
           "baxis": {
            "gridcolor": "white",
            "linecolor": "white",
            "ticks": ""
           },
           "bgcolor": "#E5ECF6",
           "caxis": {
            "gridcolor": "white",
            "linecolor": "white",
            "ticks": ""
           }
          },
          "title": {
           "x": 0.05
          },
          "xaxis": {
           "automargin": true,
           "gridcolor": "white",
           "linecolor": "white",
           "ticks": "",
           "title": {
            "standoff": 15
           },
           "zerolinecolor": "white",
           "zerolinewidth": 2
          },
          "yaxis": {
           "automargin": true,
           "gridcolor": "white",
           "linecolor": "white",
           "ticks": "",
           "title": {
            "standoff": 15
           },
           "zerolinecolor": "white",
           "zerolinewidth": 2
          }
         }
        },
        "title": {
         "text": "BoxPlot de qtde_clientes vs Churn"
        },
        "xaxis": {
         "anchor": "y",
         "categoryarray": [
          0,
          1
         ],
         "categoryorder": "array",
         "domain": [
          0,
          1
         ],
         "title": {
          "text": "churn"
         }
        },
        "yaxis": {
         "anchor": "x",
         "domain": [
          0,
          1
         ],
         "title": {
          "text": "qtde_clientes"
         }
        }
       }
      }
     },
     "metadata": {},
     "output_type": "display_data"
    },
    {
     "data": {
      "application/vnd.plotly.v1+json": {
       "config": {
        "plotlyServerURL": "https://plot.ly"
       },
       "data": [
        {
         "alignmentgroup": "True",
         "hovertemplate": "churn=%{x}<br>nivel_satisfacao_gestor=%{y}<extra></extra>",
         "legendgroup": "0",
         "marker": {
          "color": "#636efa"
         },
         "name": "0",
         "notched": false,
         "offsetgroup": "0",
         "orientation": "v",
         "showlegend": true,
         "type": "box",
         "x": {
          "bdata": "AAAAAAAAAAAAAAAAAAAAAAAAAAAAAAAAAAAAAAAAAAAAAAAAAAAAAAAAAAAAAAAAAAAAAAAAAAAAAAAAAAAAAAAAAAAAAAAAAAAAAAAAAAAAAAAAAAAAAAAAAAAAAAAAAAAAAAAAAAAAAAAAAAAAAAAAAAAAAAAAAAAAAAAAAAAAAAAAAAAAAAAAAAAAAAAAAAAAAAAAAAAAAAAAAAAAAAAAAAAAAAAAAAAAAAAAAAAAAAAAAAAAAAAAAAAAAAAAAAAAAAAAAAAAAAAAAAAAAAAAAAAAAAAAAAAAAAAAAAAAAAAAAAAAAAAAAAAAAAAAAAAAAAAAAAAAAAAAAAAAAAAAAAAAAAAAAAAAAAAAAAAAAAAAAAAAAAAAAAAAAAAAAAAAAAAAAAAAAAAAAAAAAAAAAAAAAAAAAAAAAAAAAAAAAAAAAAAAAAAAAAAAAAAAAAAAAAAAAAAAAAAAAAAAAAAAAAAAAAAAAAAAAAAAAAAAAAAAAAAAAAAAAAAAAAAAAAAAAAAAAAAAAAAAAAAAAAAAAAAAAAAAAAAAAAAAAAAAAAAAAAAAAAAAAAAAAAAAAAAAAAAAAAAAAAAAAAAAAAAAAAAAAAAAAAAAAAAAAAAAAAAAAAAAAAAAAAAAAAAAAAAAAAAAAAAAAAAAAAAAAAAAAAAAAAAAAAAAAAAAAAAAAAAAAAAAAAAAAAAAAAAAAAAAAAAAAAAAAAAAAAAAAAAAAAAAAAAAAAAAAAAAAAAAAAAAAAAAAAAAAAAAAAAAAAAAAAAAAAAAAAAAAAAAAAAAAAAAAAAAAAAAAAAAAAAAAAAAAAAAAAAAAAAAAAAAAAAAAAAAAAAAAAAAAAAAAAAAAAAAAAAAAAAAAAAAAAAAAAAAAAAAAAAAAAAAAAAAAAAAAAAAAAAAAAAAAAAAAAAAAAAAAAAAAAAAAAAAAAAAAAAAAAAAAAAAAAAAAAAAAAAAAAAAAAAAAAAAAAAAAAAAAAAAAAAAAAAAAAAAAAAAAAAAAAAAAAAAAAAAAAAAAAAAAAAAAAAAAAAAAAAAAAAAAAAAAAAAAAAAAAAAAAAAAAAAAAAAAAAAAAAAAAAAAAAAAAAAAAAAAAAAAAAAAAAAAAAAAAAAAAAAAAAAAAAAAAAAAAAAAAAAAAAAAAAAAAAAAAAAAAAAAAAAAAAAAAAAAAAAAAAAAAAAAAAAAAAAAAAAAAAAAAAAAAAAAAAAAAAAAAAAAAAAAAAAAAAAAAAAAAAAAAAAAAAAAAAAAAAAAAAAAAAAAAAAAAAAAAAAAAAAAAAAAAAAAAAAAAAAAAAAAAAAAAAAAAAAAAAAAAAAAAAAAAAAAAAAAAAAAAAAAAAAAAAAAAAAAAAAAAAAAAAAAAAAAAAAAAAAAAAAAAAAAAAAAAAAAAAAAAAAAAAAAAAAAAAAAAAAAAAAAAAAAAAAAAAAAAAAAAAAAAAAAAAAAAAAAAAAAAAAAAAAAAAAAAAAAAAAAAAAAAAAAAAAAAAAAAAAAAAAAAAAAAAAAAAAAAAAAAAAAAAAAAAAAAAAAAAAAAAAAAAAAAAAAAAAAAAAAAAAAAAAAAAAAAAAAAAAAAAAAAAAAAAAAAAAAAAAAAAAAAAAAAAAAAAAAAAAAAAAAAAAAAAAAAAAAAAAAAAAAAAAAAAAAAAAAAAAAAAAAAAAAAAAAAAAAAAAAAAAAAAAAAAAAAAAAAAAAAAAAAAAAAAAAAAAAAAAAAAAAAAAAAAAAAAAAAAAAAAAAAAAAAAAAAAAAAAAAAAAAAAAAAAAAAAAAAAAAAAAAAAAAAAAAAAAAAAAAAAAAAAAAAAAAAAAAAAAAAAAAAAAAAAAAAAAAAAAAAAAAAAAAAAAAAAAAAAAAAAAAAAAAAAAAAAAAAAAAAAAAAAAAAAAAAAAAAAAAAAAAAAAAAAAAAAAAAAAAAAAAAAAAAAAAAAAAAAAAAAAAAAAAAAAAAAAAAAAAAAAAAAAAAAAAAAAAAAAAAAAAAAAAAAAAAAAAAAAAAAAAAAAAAAAAAAAAAAAAAAAAAAAAAAAAAAAAAAAAAAAAAAAAAAAAAAAAAAAAAAAAAAAAAAAAAAAAAAAAAAAAAAAAAAAAAAAAAAAAAAAAAAAAAAAAAAAAAAAAAAAAAAAAAAAAAAAAAAAAAAAAAAAAAAAAAAAAAAAAAAAAAAAAAAAAAAAAAAAAAAAAAAAAAAAAAAAAAAAAAAAAAAAAAAAAAAAAAAAAAAAAAAAAAAAAAAAAAAAAAAAAAAAAAAAAAAAAAAAAAAAAAAAAAAAAAAAAAAAAAAAAA==",
          "dtype": "i1"
         },
         "x0": " ",
         "xaxis": "x",
         "y": {
          "bdata": "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",
          "dtype": "f8"
         },
         "y0": " ",
         "yaxis": "y"
        },
        {
         "alignmentgroup": "True",
         "hovertemplate": "churn=%{x}<br>nivel_satisfacao_gestor=%{y}<extra></extra>",
         "legendgroup": "1",
         "marker": {
          "color": "#EF553B"
         },
         "name": "1",
         "notched": false,
         "offsetgroup": "1",
         "orientation": "v",
         "showlegend": true,
         "type": "box",
         "x": {
          "bdata": "AQEBAQEBAQEBAQEBAQEBAQEBAQEBAQEBAQEBAQEBAQEBAQEBAQEBAQEBAQEBAQEBAQEBAQEBAQEBAQEBAQEBAQEBAQEBAQEBAQEBAQEBAQEBAQEBAQEBAQEBAQEBAQEBAQEBAQEBAQEBAQEBAQEBAQEBAQEBAQEBAQEBAQEBAQEBAQEBAQEBAQEBAQEBAQEBAQEBAQEBAQEBAQEBAQEBAQEBAQEBAQEBAQEBAQEBAQEBAQEBAQEBAQEBAQEBAQEBAQEBAQEBAQEBAQEBAQEBAQEBAQEBAQEBAQEBAQEBAQEBAQEBAQEBAQEBAQEBAQEBAQEBAQEBAQEBAQEBAQEBAQEBAQEBAQEBAQEBAQEBAQEBAQEBAQEBAQEBAQEBAQ==",
          "dtype": "i1"
         },
         "x0": " ",
         "xaxis": "x",
         "y": {
          "bdata": "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",
          "dtype": "f8"
         },
         "y0": " ",
         "yaxis": "y"
        }
       ],
       "layout": {
        "boxmode": "overlay",
        "legend": {
         "title": {
          "text": "churn"
         },
         "tracegroupgap": 0
        },
        "template": {
         "data": {
          "bar": [
           {
            "error_x": {
             "color": "#2a3f5f"
            },
            "error_y": {
             "color": "#2a3f5f"
            },
            "marker": {
             "line": {
              "color": "#E5ECF6",
              "width": 0.5
             },
             "pattern": {
              "fillmode": "overlay",
              "size": 10,
              "solidity": 0.2
             }
            },
            "type": "bar"
           }
          ],
          "barpolar": [
           {
            "marker": {
             "line": {
              "color": "#E5ECF6",
              "width": 0.5
             },
             "pattern": {
              "fillmode": "overlay",
              "size": 10,
              "solidity": 0.2
             }
            },
            "type": "barpolar"
           }
          ],
          "carpet": [
           {
            "aaxis": {
             "endlinecolor": "#2a3f5f",
             "gridcolor": "white",
             "linecolor": "white",
             "minorgridcolor": "white",
             "startlinecolor": "#2a3f5f"
            },
            "baxis": {
             "endlinecolor": "#2a3f5f",
             "gridcolor": "white",
             "linecolor": "white",
             "minorgridcolor": "white",
             "startlinecolor": "#2a3f5f"
            },
            "type": "carpet"
           }
          ],
          "choropleth": [
           {
            "colorbar": {
             "outlinewidth": 0,
             "ticks": ""
            },
            "type": "choropleth"
           }
          ],
          "contour": [
           {
            "colorbar": {
             "outlinewidth": 0,
             "ticks": ""
            },
            "colorscale": [
             [
              0,
              "#0d0887"
             ],
             [
              0.1111111111111111,
              "#46039f"
             ],
             [
              0.2222222222222222,
              "#7201a8"
             ],
             [
              0.3333333333333333,
              "#9c179e"
             ],
             [
              0.4444444444444444,
              "#bd3786"
             ],
             [
              0.5555555555555556,
              "#d8576b"
             ],
             [
              0.6666666666666666,
              "#ed7953"
             ],
             [
              0.7777777777777778,
              "#fb9f3a"
             ],
             [
              0.8888888888888888,
              "#fdca26"
             ],
             [
              1,
              "#f0f921"
             ]
            ],
            "type": "contour"
           }
          ],
          "contourcarpet": [
           {
            "colorbar": {
             "outlinewidth": 0,
             "ticks": ""
            },
            "type": "contourcarpet"
           }
          ],
          "heatmap": [
           {
            "colorbar": {
             "outlinewidth": 0,
             "ticks": ""
            },
            "colorscale": [
             [
              0,
              "#0d0887"
             ],
             [
              0.1111111111111111,
              "#46039f"
             ],
             [
              0.2222222222222222,
              "#7201a8"
             ],
             [
              0.3333333333333333,
              "#9c179e"
             ],
             [
              0.4444444444444444,
              "#bd3786"
             ],
             [
              0.5555555555555556,
              "#d8576b"
             ],
             [
              0.6666666666666666,
              "#ed7953"
             ],
             [
              0.7777777777777778,
              "#fb9f3a"
             ],
             [
              0.8888888888888888,
              "#fdca26"
             ],
             [
              1,
              "#f0f921"
             ]
            ],
            "type": "heatmap"
           }
          ],
          "histogram": [
           {
            "marker": {
             "pattern": {
              "fillmode": "overlay",
              "size": 10,
              "solidity": 0.2
             }
            },
            "type": "histogram"
           }
          ],
          "histogram2d": [
           {
            "colorbar": {
             "outlinewidth": 0,
             "ticks": ""
            },
            "colorscale": [
             [
              0,
              "#0d0887"
             ],
             [
              0.1111111111111111,
              "#46039f"
             ],
             [
              0.2222222222222222,
              "#7201a8"
             ],
             [
              0.3333333333333333,
              "#9c179e"
             ],
             [
              0.4444444444444444,
              "#bd3786"
             ],
             [
              0.5555555555555556,
              "#d8576b"
             ],
             [
              0.6666666666666666,
              "#ed7953"
             ],
             [
              0.7777777777777778,
              "#fb9f3a"
             ],
             [
              0.8888888888888888,
              "#fdca26"
             ],
             [
              1,
              "#f0f921"
             ]
            ],
            "type": "histogram2d"
           }
          ],
          "histogram2dcontour": [
           {
            "colorbar": {
             "outlinewidth": 0,
             "ticks": ""
            },
            "colorscale": [
             [
              0,
              "#0d0887"
             ],
             [
              0.1111111111111111,
              "#46039f"
             ],
             [
              0.2222222222222222,
              "#7201a8"
             ],
             [
              0.3333333333333333,
              "#9c179e"
             ],
             [
              0.4444444444444444,
              "#bd3786"
             ],
             [
              0.5555555555555556,
              "#d8576b"
             ],
             [
              0.6666666666666666,
              "#ed7953"
             ],
             [
              0.7777777777777778,
              "#fb9f3a"
             ],
             [
              0.8888888888888888,
              "#fdca26"
             ],
             [
              1,
              "#f0f921"
             ]
            ],
            "type": "histogram2dcontour"
           }
          ],
          "mesh3d": [
           {
            "colorbar": {
             "outlinewidth": 0,
             "ticks": ""
            },
            "type": "mesh3d"
           }
          ],
          "parcoords": [
           {
            "line": {
             "colorbar": {
              "outlinewidth": 0,
              "ticks": ""
             }
            },
            "type": "parcoords"
           }
          ],
          "pie": [
           {
            "automargin": true,
            "type": "pie"
           }
          ],
          "scatter": [
           {
            "fillpattern": {
             "fillmode": "overlay",
             "size": 10,
             "solidity": 0.2
            },
            "type": "scatter"
           }
          ],
          "scatter3d": [
           {
            "line": {
             "colorbar": {
              "outlinewidth": 0,
              "ticks": ""
             }
            },
            "marker": {
             "colorbar": {
              "outlinewidth": 0,
              "ticks": ""
             }
            },
            "type": "scatter3d"
           }
          ],
          "scattercarpet": [
           {
            "marker": {
             "colorbar": {
              "outlinewidth": 0,
              "ticks": ""
             }
            },
            "type": "scattercarpet"
           }
          ],
          "scattergeo": [
           {
            "marker": {
             "colorbar": {
              "outlinewidth": 0,
              "ticks": ""
             }
            },
            "type": "scattergeo"
           }
          ],
          "scattergl": [
           {
            "marker": {
             "colorbar": {
              "outlinewidth": 0,
              "ticks": ""
             }
            },
            "type": "scattergl"
           }
          ],
          "scattermap": [
           {
            "marker": {
             "colorbar": {
              "outlinewidth": 0,
              "ticks": ""
             }
            },
            "type": "scattermap"
           }
          ],
          "scattermapbox": [
           {
            "marker": {
             "colorbar": {
              "outlinewidth": 0,
              "ticks": ""
             }
            },
            "type": "scattermapbox"
           }
          ],
          "scatterpolar": [
           {
            "marker": {
             "colorbar": {
              "outlinewidth": 0,
              "ticks": ""
             }
            },
            "type": "scatterpolar"
           }
          ],
          "scatterpolargl": [
           {
            "marker": {
             "colorbar": {
              "outlinewidth": 0,
              "ticks": ""
             }
            },
            "type": "scatterpolargl"
           }
          ],
          "scatterternary": [
           {
            "marker": {
             "colorbar": {
              "outlinewidth": 0,
              "ticks": ""
             }
            },
            "type": "scatterternary"
           }
          ],
          "surface": [
           {
            "colorbar": {
             "outlinewidth": 0,
             "ticks": ""
            },
            "colorscale": [
             [
              0,
              "#0d0887"
             ],
             [
              0.1111111111111111,
              "#46039f"
             ],
             [
              0.2222222222222222,
              "#7201a8"
             ],
             [
              0.3333333333333333,
              "#9c179e"
             ],
             [
              0.4444444444444444,
              "#bd3786"
             ],
             [
              0.5555555555555556,
              "#d8576b"
             ],
             [
              0.6666666666666666,
              "#ed7953"
             ],
             [
              0.7777777777777778,
              "#fb9f3a"
             ],
             [
              0.8888888888888888,
              "#fdca26"
             ],
             [
              1,
              "#f0f921"
             ]
            ],
            "type": "surface"
           }
          ],
          "table": [
           {
            "cells": {
             "fill": {
              "color": "#EBF0F8"
             },
             "line": {
              "color": "white"
             }
            },
            "header": {
             "fill": {
              "color": "#C8D4E3"
             },
             "line": {
              "color": "white"
             }
            },
            "type": "table"
           }
          ]
         },
         "layout": {
          "annotationdefaults": {
           "arrowcolor": "#2a3f5f",
           "arrowhead": 0,
           "arrowwidth": 1
          },
          "autotypenumbers": "strict",
          "coloraxis": {
           "colorbar": {
            "outlinewidth": 0,
            "ticks": ""
           }
          },
          "colorscale": {
           "diverging": [
            [
             0,
             "#8e0152"
            ],
            [
             0.1,
             "#c51b7d"
            ],
            [
             0.2,
             "#de77ae"
            ],
            [
             0.3,
             "#f1b6da"
            ],
            [
             0.4,
             "#fde0ef"
            ],
            [
             0.5,
             "#f7f7f7"
            ],
            [
             0.6,
             "#e6f5d0"
            ],
            [
             0.7,
             "#b8e186"
            ],
            [
             0.8,
             "#7fbc41"
            ],
            [
             0.9,
             "#4d9221"
            ],
            [
             1,
             "#276419"
            ]
           ],
           "sequential": [
            [
             0,
             "#0d0887"
            ],
            [
             0.1111111111111111,
             "#46039f"
            ],
            [
             0.2222222222222222,
             "#7201a8"
            ],
            [
             0.3333333333333333,
             "#9c179e"
            ],
            [
             0.4444444444444444,
             "#bd3786"
            ],
            [
             0.5555555555555556,
             "#d8576b"
            ],
            [
             0.6666666666666666,
             "#ed7953"
            ],
            [
             0.7777777777777778,
             "#fb9f3a"
            ],
            [
             0.8888888888888888,
             "#fdca26"
            ],
            [
             1,
             "#f0f921"
            ]
           ],
           "sequentialminus": [
            [
             0,
             "#0d0887"
            ],
            [
             0.1111111111111111,
             "#46039f"
            ],
            [
             0.2222222222222222,
             "#7201a8"
            ],
            [
             0.3333333333333333,
             "#9c179e"
            ],
            [
             0.4444444444444444,
             "#bd3786"
            ],
            [
             0.5555555555555556,
             "#d8576b"
            ],
            [
             0.6666666666666666,
             "#ed7953"
            ],
            [
             0.7777777777777778,
             "#fb9f3a"
            ],
            [
             0.8888888888888888,
             "#fdca26"
            ],
            [
             1,
             "#f0f921"
            ]
           ]
          },
          "colorway": [
           "#636efa",
           "#EF553B",
           "#00cc96",
           "#ab63fa",
           "#FFA15A",
           "#19d3f3",
           "#FF6692",
           "#B6E880",
           "#FF97FF",
           "#FECB52"
          ],
          "font": {
           "color": "#2a3f5f"
          },
          "geo": {
           "bgcolor": "white",
           "lakecolor": "white",
           "landcolor": "#E5ECF6",
           "showlakes": true,
           "showland": true,
           "subunitcolor": "white"
          },
          "hoverlabel": {
           "align": "left"
          },
          "hovermode": "closest",
          "mapbox": {
           "style": "light"
          },
          "paper_bgcolor": "white",
          "plot_bgcolor": "#E5ECF6",
          "polar": {
           "angularaxis": {
            "gridcolor": "white",
            "linecolor": "white",
            "ticks": ""
           },
           "bgcolor": "#E5ECF6",
           "radialaxis": {
            "gridcolor": "white",
            "linecolor": "white",
            "ticks": ""
           }
          },
          "scene": {
           "xaxis": {
            "backgroundcolor": "#E5ECF6",
            "gridcolor": "white",
            "gridwidth": 2,
            "linecolor": "white",
            "showbackground": true,
            "ticks": "",
            "zerolinecolor": "white"
           },
           "yaxis": {
            "backgroundcolor": "#E5ECF6",
            "gridcolor": "white",
            "gridwidth": 2,
            "linecolor": "white",
            "showbackground": true,
            "ticks": "",
            "zerolinecolor": "white"
           },
           "zaxis": {
            "backgroundcolor": "#E5ECF6",
            "gridcolor": "white",
            "gridwidth": 2,
            "linecolor": "white",
            "showbackground": true,
            "ticks": "",
            "zerolinecolor": "white"
           }
          },
          "shapedefaults": {
           "line": {
            "color": "#2a3f5f"
           }
          },
          "ternary": {
           "aaxis": {
            "gridcolor": "white",
            "linecolor": "white",
            "ticks": ""
           },
           "baxis": {
            "gridcolor": "white",
            "linecolor": "white",
            "ticks": ""
           },
           "bgcolor": "#E5ECF6",
           "caxis": {
            "gridcolor": "white",
            "linecolor": "white",
            "ticks": ""
           }
          },
          "title": {
           "x": 0.05
          },
          "xaxis": {
           "automargin": true,
           "gridcolor": "white",
           "linecolor": "white",
           "ticks": "",
           "title": {
            "standoff": 15
           },
           "zerolinecolor": "white",
           "zerolinewidth": 2
          },
          "yaxis": {
           "automargin": true,
           "gridcolor": "white",
           "linecolor": "white",
           "ticks": "",
           "title": {
            "standoff": 15
           },
           "zerolinecolor": "white",
           "zerolinewidth": 2
          }
         }
        },
        "title": {
         "text": "BoxPlot de nivel_satisfacao_gestor vs Churn"
        },
        "xaxis": {
         "anchor": "y",
         "categoryarray": [
          0,
          1
         ],
         "categoryorder": "array",
         "domain": [
          0,
          1
         ],
         "title": {
          "text": "churn"
         }
        },
        "yaxis": {
         "anchor": "x",
         "domain": [
          0,
          1
         ],
         "title": {
          "text": "nivel_satisfacao_gestor"
         }
        }
       }
      }
     },
     "metadata": {},
     "output_type": "display_data"
    },
    {
     "data": {
      "application/vnd.plotly.v1+json": {
       "config": {
        "plotlyServerURL": "https://plot.ly"
       },
       "data": [
        {
         "alignmentgroup": "True",
         "hovertemplate": "churn=%{x}<br>tempo_empresa=%{y}<extra></extra>",
         "legendgroup": "0",
         "marker": {
          "color": "#636efa"
         },
         "name": "0",
         "notched": false,
         "offsetgroup": "0",
         "orientation": "v",
         "showlegend": true,
         "type": "box",
         "x": {
          "bdata": "AAAAAAAAAAAAAAAAAAAAAAAAAAAAAAAAAAAAAAAAAAAAAAAAAAAAAAAAAAAAAAAAAAAAAAAAAAAAAAAAAAAAAAAAAAAAAAAAAAAAAAAAAAAAAAAAAAAAAAAAAAAAAAAAAAAAAAAAAAAAAAAAAAAAAAAAAAAAAAAAAAAAAAAAAAAAAAAAAAAAAAAAAAAAAAAAAAAAAAAAAAAAAAAAAAAAAAAAAAAAAAAAAAAAAAAAAAAAAAAAAAAAAAAAAAAAAAAAAAAAAAAAAAAAAAAAAAAAAAAAAAAAAAAAAAAAAAAAAAAAAAAAAAAAAAAAAAAAAAAAAAAAAAAAAAAAAAAAAAAAAAAAAAAAAAAAAAAAAAAAAAAAAAAAAAAAAAAAAAAAAAAAAAAAAAAAAAAAAAAAAAAAAAAAAAAAAAAAAAAAAAAAAAAAAAAAAAAAAAAAAAAAAAAAAAAAAAAAAAAAAAAAAAAAAAAAAAAAAAAAAAAAAAAAAAAAAAAAAAAAAAAAAAAAAAAAAAAAAAAAAAAAAAAAAAAAAAAAAAAAAAAAAAAAAAAAAAAAAAAAAAAAAAAAAAAAAAAAAAAAAAAAAAAAAAAAAAAAAAAAAAAAAAAAAAAAAAAAAAAAAAAAAAAAAAAAAAAAAAAAAAAAAAAAAAAAAAAAAAAAAAAAAAAAAAAAAAAAAAAAAAAAAAAAAAAAAAAAAAAAAAAAAAAAAAAAAAAAAAAAAAAAAAAAAAAAAAAAAAAAAAAAAAAAAAAAAAAAAAAAAAAAAAAAAAAAAAAAAAAAAAAAAAAAAAAAAAAAAAAAAAAAAAAAAAAAAAAAAAAAAAAAAAAAAAAAAAAAAAAAAAAAAAAAAAAAAAAAAAAAAAAAAAAAAAAAAAAAAAAAAAAAAAAAAAAAAAAAAAAAAAAAAAAAAAAAAAAAAAAAAAAAAAAAAAAAAAAAAAAAAAAAAAAAAAAAAAAAAAAAAAAAAAAAAAAAAAAAAAAAAAAAAAAAAAAAAAAAAAAAAAAAAAAAAAAAAAAAAAAAAAAAAAAAAAAAAAAAAAAAAAAAAAAAAAAAAAAAAAAAAAAAAAAAAAAAAAAAAAAAAAAAAAAAAAAAAAAAAAAAAAAAAAAAAAAAAAAAAAAAAAAAAAAAAAAAAAAAAAAAAAAAAAAAAAAAAAAAAAAAAAAAAAAAAAAAAAAAAAAAAAAAAAAAAAAAAAAAAAAAAAAAAAAAAAAAAAAAAAAAAAAAAAAAAAAAAAAAAAAAAAAAAAAAAAAAAAAAAAAAAAAAAAAAAAAAAAAAAAAAAAAAAAAAAAAAAAAAAAAAAAAAAAAAAAAAAAAAAAAAAAAAAAAAAAAAAAAAAAAAAAAAAAAAAAAAAAAAAAAAAAAAAAAAAAAAAAAAAAAAAAAAAAAAAAAAAAAAAAAAAAAAAAAAAAAAAAAAAAAAAAAAAAAAAAAAAAAAAAAAAAAAAAAAAAAAAAAAAAAAAAAAAAAAAAAAAAAAAAAAAAAAAAAAAAAAAAAAAAAAAAAAAAAAAAAAAAAAAAAAAAAAAAAAAAAAAAAAAAAAAAAAAAAAAAAAAAAAAAAAAAAAAAAAAAAAAAAAAAAAAAAAAAAAAAAAAAAAAAAAAAAAAAAAAAAAAAAAAAAAAAAAAAAAAAAAAAAAAAAAAAAAAAAAAAAAAAAAAAAAAAAAAAAAAAAAAAAAAAAAAAAAAAAAAAAAAAAAAAAAAAAAAAAAAAAAAAAAAAAAAAAAAAAAAAAAAAAAAAAAAAAAAAAAAAAAAAAAAAAAAAAAAAAAAAAAAAAAAAAAAAAAAAAAAAAAAAAAAAAAAAAAAAAAAAAAAAAAAAAAAAAAAAAAAAAAAAAAAAAAAAAAAAAAAAAAAAAAAAAAAAAAAAAAAAAAAAAAAAAAAAAAAAAAAAAAAAAAAAAAAAAAAAAAAAAAAAAAAAAAAAAAAAAAAAAAAAAAAAAAAAAAAAAAAAAAAAAAAAAAAAAAAAAAAAAAAAAAAAAAAAAAAAAAAAAAAAAAAAAAAAAAAAAAAAAAAAAAAAAAAAAAAAAAAAAAAAAAAAAAAAAAAAAAAAAAAAAAAAAAAAAAAAAAAAAAAAAAAAAAAAAAAAAAAAAAAAAAAAAAAAAAAAAAAAAAAAAAAAAAAAAAAAAAAAAAAAAAAAAAAAAAAAAAAAAAAAAAAAAAAAAAAAAAAAAAAAAAAAAAAAAAAAAAAAAAAAAAAAAAAAAAAAAAAAAAAAAAAAAAAAAAAAAAAAAAAAAAAAAAAAAAAAAAAAAAAAAAAAAAAAAAAAAAAAAAAAAAAAAAAAAAAA==",
          "dtype": "i1"
         },
         "x0": " ",
         "xaxis": "x",
         "y": {
          "bdata": "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",
          "dtype": "i2"
         },
         "y0": " ",
         "yaxis": "y"
        },
        {
         "alignmentgroup": "True",
         "hovertemplate": "churn=%{x}<br>tempo_empresa=%{y}<extra></extra>",
         "legendgroup": "1",
         "marker": {
          "color": "#EF553B"
         },
         "name": "1",
         "notched": false,
         "offsetgroup": "1",
         "orientation": "v",
         "showlegend": true,
         "type": "box",
         "x": {
          "bdata": "AQEBAQEBAQEBAQEBAQEBAQEBAQEBAQEBAQEBAQEBAQEBAQEBAQEBAQEBAQEBAQEBAQEBAQEBAQEBAQEBAQEBAQEBAQEBAQEBAQEBAQEBAQEBAQEBAQEBAQEBAQEBAQEBAQEBAQEBAQEBAQEBAQEBAQEBAQEBAQEBAQEBAQEBAQEBAQEBAQEBAQEBAQEBAQEBAQEBAQEBAQEBAQEBAQEBAQEBAQEBAQEBAQEBAQEBAQEBAQEBAQEBAQEBAQEBAQEBAQEBAQEBAQEBAQEBAQEBAQEBAQEBAQEBAQEBAQEBAQEBAQEBAQEBAQEBAQEBAQEBAQEBAQEBAQEBAQEBAQEBAQEBAQEBAQEBAQEBAQEBAQEBAQEBAQEBAQEBAQEBAQ==",
          "dtype": "i1"
         },
         "x0": " ",
         "xaxis": "x",
         "y": {
          "bdata": "uwNqA38F3gNoBokE+QJVAT0DZQUEBnYCGQKZAIEDDwJzBTEFNgXSAt4DVAVdBDoEGwO7BOYEHQM9BWMCWQIAAccEkQCDBAoD+QOjAxkC6wVuAQAEJgL4A/kArwAmAE8ALQDWBcUB/ALCATUAxwMCBGAApANkAD4CuwIrAAUFUgL4AIwBqQHUA68AYQF9AzMBHQTNAo8EUQAPAzIF7wTNA6gBTARAAkIEawS8BL0EcwFRBKQECQU/BDEBsQBjBIgC0wSPAoUAdgBEBK0EYQDnAIsEFwKrAagAawQ8AlwBsABzA8wCigAdAqwAOwDJAG0D4gMCA40AvwNFAaQCaQGFAbkDqAOlA98CCwJiAWkD/gGHA+YCVwLKAO8DkwNrA/YCbwBfAfsBIAKmArgBIwJGA6MABwN8AIkDXALDAngAXwEEARQB3wIuAEMCxQFHAhkCPwKnAYsACwIuAHMCNQHPAigAegACAYMAlACjAuEARQLVASYA+ABIAMsBVABpAWoAXABWAiwBxwHpAE4ADQIIAQcBCwJLAWMA5QBHAV8AtwFMAVAB5ACNAQ8BlgFOAXQARQGWAcIBpQG2AKEA8gC4AfkAcgHGATEBZQFjAAUBTgHQAHIAngGKAdgAUQH/AF4BaAFqAVkAPQEZAQEBTgG3ACIAKADSALgATgCpALYALwB9AEAABAHsADEAXgDnAD8A4gDPANQAzgBDALMAggCbALoAMwBJAE4AYQBmACoAjABiAGAARgBGAGQASgA=",
          "dtype": "i2"
         },
         "y0": " ",
         "yaxis": "y"
        }
       ],
       "layout": {
        "boxmode": "overlay",
        "legend": {
         "title": {
          "text": "churn"
         },
         "tracegroupgap": 0
        },
        "template": {
         "data": {
          "bar": [
           {
            "error_x": {
             "color": "#2a3f5f"
            },
            "error_y": {
             "color": "#2a3f5f"
            },
            "marker": {
             "line": {
              "color": "#E5ECF6",
              "width": 0.5
             },
             "pattern": {
              "fillmode": "overlay",
              "size": 10,
              "solidity": 0.2
             }
            },
            "type": "bar"
           }
          ],
          "barpolar": [
           {
            "marker": {
             "line": {
              "color": "#E5ECF6",
              "width": 0.5
             },
             "pattern": {
              "fillmode": "overlay",
              "size": 10,
              "solidity": 0.2
             }
            },
            "type": "barpolar"
           }
          ],
          "carpet": [
           {
            "aaxis": {
             "endlinecolor": "#2a3f5f",
             "gridcolor": "white",
             "linecolor": "white",
             "minorgridcolor": "white",
             "startlinecolor": "#2a3f5f"
            },
            "baxis": {
             "endlinecolor": "#2a3f5f",
             "gridcolor": "white",
             "linecolor": "white",
             "minorgridcolor": "white",
             "startlinecolor": "#2a3f5f"
            },
            "type": "carpet"
           }
          ],
          "choropleth": [
           {
            "colorbar": {
             "outlinewidth": 0,
             "ticks": ""
            },
            "type": "choropleth"
           }
          ],
          "contour": [
           {
            "colorbar": {
             "outlinewidth": 0,
             "ticks": ""
            },
            "colorscale": [
             [
              0,
              "#0d0887"
             ],
             [
              0.1111111111111111,
              "#46039f"
             ],
             [
              0.2222222222222222,
              "#7201a8"
             ],
             [
              0.3333333333333333,
              "#9c179e"
             ],
             [
              0.4444444444444444,
              "#bd3786"
             ],
             [
              0.5555555555555556,
              "#d8576b"
             ],
             [
              0.6666666666666666,
              "#ed7953"
             ],
             [
              0.7777777777777778,
              "#fb9f3a"
             ],
             [
              0.8888888888888888,
              "#fdca26"
             ],
             [
              1,
              "#f0f921"
             ]
            ],
            "type": "contour"
           }
          ],
          "contourcarpet": [
           {
            "colorbar": {
             "outlinewidth": 0,
             "ticks": ""
            },
            "type": "contourcarpet"
           }
          ],
          "heatmap": [
           {
            "colorbar": {
             "outlinewidth": 0,
             "ticks": ""
            },
            "colorscale": [
             [
              0,
              "#0d0887"
             ],
             [
              0.1111111111111111,
              "#46039f"
             ],
             [
              0.2222222222222222,
              "#7201a8"
             ],
             [
              0.3333333333333333,
              "#9c179e"
             ],
             [
              0.4444444444444444,
              "#bd3786"
             ],
             [
              0.5555555555555556,
              "#d8576b"
             ],
             [
              0.6666666666666666,
              "#ed7953"
             ],
             [
              0.7777777777777778,
              "#fb9f3a"
             ],
             [
              0.8888888888888888,
              "#fdca26"
             ],
             [
              1,
              "#f0f921"
             ]
            ],
            "type": "heatmap"
           }
          ],
          "histogram": [
           {
            "marker": {
             "pattern": {
              "fillmode": "overlay",
              "size": 10,
              "solidity": 0.2
             }
            },
            "type": "histogram"
           }
          ],
          "histogram2d": [
           {
            "colorbar": {
             "outlinewidth": 0,
             "ticks": ""
            },
            "colorscale": [
             [
              0,
              "#0d0887"
             ],
             [
              0.1111111111111111,
              "#46039f"
             ],
             [
              0.2222222222222222,
              "#7201a8"
             ],
             [
              0.3333333333333333,
              "#9c179e"
             ],
             [
              0.4444444444444444,
              "#bd3786"
             ],
             [
              0.5555555555555556,
              "#d8576b"
             ],
             [
              0.6666666666666666,
              "#ed7953"
             ],
             [
              0.7777777777777778,
              "#fb9f3a"
             ],
             [
              0.8888888888888888,
              "#fdca26"
             ],
             [
              1,
              "#f0f921"
             ]
            ],
            "type": "histogram2d"
           }
          ],
          "histogram2dcontour": [
           {
            "colorbar": {
             "outlinewidth": 0,
             "ticks": ""
            },
            "colorscale": [
             [
              0,
              "#0d0887"
             ],
             [
              0.1111111111111111,
              "#46039f"
             ],
             [
              0.2222222222222222,
              "#7201a8"
             ],
             [
              0.3333333333333333,
              "#9c179e"
             ],
             [
              0.4444444444444444,
              "#bd3786"
             ],
             [
              0.5555555555555556,
              "#d8576b"
             ],
             [
              0.6666666666666666,
              "#ed7953"
             ],
             [
              0.7777777777777778,
              "#fb9f3a"
             ],
             [
              0.8888888888888888,
              "#fdca26"
             ],
             [
              1,
              "#f0f921"
             ]
            ],
            "type": "histogram2dcontour"
           }
          ],
          "mesh3d": [
           {
            "colorbar": {
             "outlinewidth": 0,
             "ticks": ""
            },
            "type": "mesh3d"
           }
          ],
          "parcoords": [
           {
            "line": {
             "colorbar": {
              "outlinewidth": 0,
              "ticks": ""
             }
            },
            "type": "parcoords"
           }
          ],
          "pie": [
           {
            "automargin": true,
            "type": "pie"
           }
          ],
          "scatter": [
           {
            "fillpattern": {
             "fillmode": "overlay",
             "size": 10,
             "solidity": 0.2
            },
            "type": "scatter"
           }
          ],
          "scatter3d": [
           {
            "line": {
             "colorbar": {
              "outlinewidth": 0,
              "ticks": ""
             }
            },
            "marker": {
             "colorbar": {
              "outlinewidth": 0,
              "ticks": ""
             }
            },
            "type": "scatter3d"
           }
          ],
          "scattercarpet": [
           {
            "marker": {
             "colorbar": {
              "outlinewidth": 0,
              "ticks": ""
             }
            },
            "type": "scattercarpet"
           }
          ],
          "scattergeo": [
           {
            "marker": {
             "colorbar": {
              "outlinewidth": 0,
              "ticks": ""
             }
            },
            "type": "scattergeo"
           }
          ],
          "scattergl": [
           {
            "marker": {
             "colorbar": {
              "outlinewidth": 0,
              "ticks": ""
             }
            },
            "type": "scattergl"
           }
          ],
          "scattermap": [
           {
            "marker": {
             "colorbar": {
              "outlinewidth": 0,
              "ticks": ""
             }
            },
            "type": "scattermap"
           }
          ],
          "scattermapbox": [
           {
            "marker": {
             "colorbar": {
              "outlinewidth": 0,
              "ticks": ""
             }
            },
            "type": "scattermapbox"
           }
          ],
          "scatterpolar": [
           {
            "marker": {
             "colorbar": {
              "outlinewidth": 0,
              "ticks": ""
             }
            },
            "type": "scatterpolar"
           }
          ],
          "scatterpolargl": [
           {
            "marker": {
             "colorbar": {
              "outlinewidth": 0,
              "ticks": ""
             }
            },
            "type": "scatterpolargl"
           }
          ],
          "scatterternary": [
           {
            "marker": {
             "colorbar": {
              "outlinewidth": 0,
              "ticks": ""
             }
            },
            "type": "scatterternary"
           }
          ],
          "surface": [
           {
            "colorbar": {
             "outlinewidth": 0,
             "ticks": ""
            },
            "colorscale": [
             [
              0,
              "#0d0887"
             ],
             [
              0.1111111111111111,
              "#46039f"
             ],
             [
              0.2222222222222222,
              "#7201a8"
             ],
             [
              0.3333333333333333,
              "#9c179e"
             ],
             [
              0.4444444444444444,
              "#bd3786"
             ],
             [
              0.5555555555555556,
              "#d8576b"
             ],
             [
              0.6666666666666666,
              "#ed7953"
             ],
             [
              0.7777777777777778,
              "#fb9f3a"
             ],
             [
              0.8888888888888888,
              "#fdca26"
             ],
             [
              1,
              "#f0f921"
             ]
            ],
            "type": "surface"
           }
          ],
          "table": [
           {
            "cells": {
             "fill": {
              "color": "#EBF0F8"
             },
             "line": {
              "color": "white"
             }
            },
            "header": {
             "fill": {
              "color": "#C8D4E3"
             },
             "line": {
              "color": "white"
             }
            },
            "type": "table"
           }
          ]
         },
         "layout": {
          "annotationdefaults": {
           "arrowcolor": "#2a3f5f",
           "arrowhead": 0,
           "arrowwidth": 1
          },
          "autotypenumbers": "strict",
          "coloraxis": {
           "colorbar": {
            "outlinewidth": 0,
            "ticks": ""
           }
          },
          "colorscale": {
           "diverging": [
            [
             0,
             "#8e0152"
            ],
            [
             0.1,
             "#c51b7d"
            ],
            [
             0.2,
             "#de77ae"
            ],
            [
             0.3,
             "#f1b6da"
            ],
            [
             0.4,
             "#fde0ef"
            ],
            [
             0.5,
             "#f7f7f7"
            ],
            [
             0.6,
             "#e6f5d0"
            ],
            [
             0.7,
             "#b8e186"
            ],
            [
             0.8,
             "#7fbc41"
            ],
            [
             0.9,
             "#4d9221"
            ],
            [
             1,
             "#276419"
            ]
           ],
           "sequential": [
            [
             0,
             "#0d0887"
            ],
            [
             0.1111111111111111,
             "#46039f"
            ],
            [
             0.2222222222222222,
             "#7201a8"
            ],
            [
             0.3333333333333333,
             "#9c179e"
            ],
            [
             0.4444444444444444,
             "#bd3786"
            ],
            [
             0.5555555555555556,
             "#d8576b"
            ],
            [
             0.6666666666666666,
             "#ed7953"
            ],
            [
             0.7777777777777778,
             "#fb9f3a"
            ],
            [
             0.8888888888888888,
             "#fdca26"
            ],
            [
             1,
             "#f0f921"
            ]
           ],
           "sequentialminus": [
            [
             0,
             "#0d0887"
            ],
            [
             0.1111111111111111,
             "#46039f"
            ],
            [
             0.2222222222222222,
             "#7201a8"
            ],
            [
             0.3333333333333333,
             "#9c179e"
            ],
            [
             0.4444444444444444,
             "#bd3786"
            ],
            [
             0.5555555555555556,
             "#d8576b"
            ],
            [
             0.6666666666666666,
             "#ed7953"
            ],
            [
             0.7777777777777778,
             "#fb9f3a"
            ],
            [
             0.8888888888888888,
             "#fdca26"
            ],
            [
             1,
             "#f0f921"
            ]
           ]
          },
          "colorway": [
           "#636efa",
           "#EF553B",
           "#00cc96",
           "#ab63fa",
           "#FFA15A",
           "#19d3f3",
           "#FF6692",
           "#B6E880",
           "#FF97FF",
           "#FECB52"
          ],
          "font": {
           "color": "#2a3f5f"
          },
          "geo": {
           "bgcolor": "white",
           "lakecolor": "white",
           "landcolor": "#E5ECF6",
           "showlakes": true,
           "showland": true,
           "subunitcolor": "white"
          },
          "hoverlabel": {
           "align": "left"
          },
          "hovermode": "closest",
          "mapbox": {
           "style": "light"
          },
          "paper_bgcolor": "white",
          "plot_bgcolor": "#E5ECF6",
          "polar": {
           "angularaxis": {
            "gridcolor": "white",
            "linecolor": "white",
            "ticks": ""
           },
           "bgcolor": "#E5ECF6",
           "radialaxis": {
            "gridcolor": "white",
            "linecolor": "white",
            "ticks": ""
           }
          },
          "scene": {
           "xaxis": {
            "backgroundcolor": "#E5ECF6",
            "gridcolor": "white",
            "gridwidth": 2,
            "linecolor": "white",
            "showbackground": true,
            "ticks": "",
            "zerolinecolor": "white"
           },
           "yaxis": {
            "backgroundcolor": "#E5ECF6",
            "gridcolor": "white",
            "gridwidth": 2,
            "linecolor": "white",
            "showbackground": true,
            "ticks": "",
            "zerolinecolor": "white"
           },
           "zaxis": {
            "backgroundcolor": "#E5ECF6",
            "gridcolor": "white",
            "gridwidth": 2,
            "linecolor": "white",
            "showbackground": true,
            "ticks": "",
            "zerolinecolor": "white"
           }
          },
          "shapedefaults": {
           "line": {
            "color": "#2a3f5f"
           }
          },
          "ternary": {
           "aaxis": {
            "gridcolor": "white",
            "linecolor": "white",
            "ticks": ""
           },
           "baxis": {
            "gridcolor": "white",
            "linecolor": "white",
            "ticks": ""
           },
           "bgcolor": "#E5ECF6",
           "caxis": {
            "gridcolor": "white",
            "linecolor": "white",
            "ticks": ""
           }
          },
          "title": {
           "x": 0.05
          },
          "xaxis": {
           "automargin": true,
           "gridcolor": "white",
           "linecolor": "white",
           "ticks": "",
           "title": {
            "standoff": 15
           },
           "zerolinecolor": "white",
           "zerolinewidth": 2
          },
          "yaxis": {
           "automargin": true,
           "gridcolor": "white",
           "linecolor": "white",
           "ticks": "",
           "title": {
            "standoff": 15
           },
           "zerolinecolor": "white",
           "zerolinewidth": 2
          }
         }
        },
        "title": {
         "text": "BoxPlot de tempo_empresa vs Churn"
        },
        "xaxis": {
         "anchor": "y",
         "categoryarray": [
          0,
          1
         ],
         "categoryorder": "array",
         "domain": [
          0,
          1
         ],
         "title": {
          "text": "churn"
         }
        },
        "yaxis": {
         "anchor": "x",
         "domain": [
          0,
          1
         ],
         "title": {
          "text": "tempo_empresa"
         }
        }
       }
      }
     },
     "metadata": {},
     "output_type": "display_data"
    },
    {
     "data": {
      "application/vnd.plotly.v1+json": {
       "config": {
        "plotlyServerURL": "https://plot.ly"
       },
       "data": [
        {
         "alignmentgroup": "True",
         "hovertemplate": "churn=%{x}<br>dias_desde_ultimo_feedback=%{y}<extra></extra>",
         "legendgroup": "0",
         "marker": {
          "color": "#636efa"
         },
         "name": "0",
         "notched": false,
         "offsetgroup": "0",
         "orientation": "v",
         "showlegend": true,
         "type": "box",
         "x": {
          "bdata": "AAAAAAAAAAAAAAAAAAAAAAAAAAAAAAAAAAAAAAAAAAAAAAAAAAAAAAAAAAAAAAAAAAAAAAAAAAAAAAAAAAAAAAAAAAAAAAAAAAAAAAAAAAAAAAAAAAAAAAAAAAAAAAAAAAAAAAAAAAAAAAAAAAAAAAAAAAAAAAAAAAAAAAAAAAAAAAAAAAAAAAAAAAAAAAAAAAAAAAAAAAAAAAAAAAAAAAAAAAAAAAAAAAAAAAAAAAAAAAAAAAAAAAAAAAAAAAAAAAAAAAAAAAAAAAAAAAAAAAAAAAAAAAAAAAAAAAAAAAAAAAAAAAAAAAAAAAAAAAAAAAAAAAAAAAAAAAAAAAAAAAAAAAAAAAAAAAAAAAAAAAAAAAAAAAAAAAAAAAAAAAAAAAAAAAAAAAAAAAAAAAAAAAAAAAAAAAAAAAAAAAAAAAAAAAAAAAAAAAAAAAAAAAAAAAAAAAAAAAAAAAAAAAAAAAAAAAAAAAAAAAAAAAAAAAAAAAAAAAAAAAAAAAAAAAAAAAAAAAAAAAAAAAAAAAAAAAAAAAAAAAAAAAAAAAAAAAAAAAAAAAAAAAAAAAAAAAAAAAAAAAAAAAAAAAAAAAAAAAAAAAAAAAAAAAAAAAAAAAAAAAAAAAAAAAAAAAAAAAAAAAAAAAAAAAAAAAAAAAAAAAAAAAAAAAAAAAAAAAAAAAAAAAAAAAAAAAAAAAAAAAAAAAAAAAAAAAAAAAAAAAAAAAAAAAAAAAAAAAAAAAAAAAAAAAAAAAAAAAAAAAAAAAAAAAAAAAAAAAAAAAAAAAAAAAAAAAAAAAAAAAAAAAAAAAAAAAAAAAAAAAAAAAAAAAAAAAAAAAAAAAAAAAAAAAAAAAAAAAAAAAAAAAAAAAAAAAAAAAAAAAAAAAAAAAAAAAAAAAAAAAAAAAAAAAAAAAAAAAAAAAAAAAAAAAAAAAAAAAAAAAAAAAAAAAAAAAAAAAAAAAAAAAAAAAAAAAAAAAAAAAAAAAAAAAAAAAAAAAAAAAAAAAAAAAAAAAAAAAAAAAAAAAAAAAAAAAAAAAAAAAAAAAAAAAAAAAAAAAAAAAAAAAAAAAAAAAAAAAAAAAAAAAAAAAAAAAAAAAAAAAAAAAAAAAAAAAAAAAAAAAAAAAAAAAAAAAAAAAAAAAAAAAAAAAAAAAAAAAAAAAAAAAAAAAAAAAAAAAAAAAAAAAAAAAAAAAAAAAAAAAAAAAAAAAAAAAAAAAAAAAAAAAAAAAAAAAAAAAAAAAAAAAAAAAAAAAAAAAAAAAAAAAAAAAAAAAAAAAAAAAAAAAAAAAAAAAAAAAAAAAAAAAAAAAAAAAAAAAAAAAAAAAAAAAAAAAAAAAAAAAAAAAAAAAAAAAAAAAAAAAAAAAAAAAAAAAAAAAAAAAAAAAAAAAAAAAAAAAAAAAAAAAAAAAAAAAAAAAAAAAAAAAAAAAAAAAAAAAAAAAAAAAAAAAAAAAAAAAAAAAAAAAAAAAAAAAAAAAAAAAAAAAAAAAAAAAAAAAAAAAAAAAAAAAAAAAAAAAAAAAAAAAAAAAAAAAAAAAAAAAAAAAAAAAAAAAAAAAAAAAAAAAAAAAAAAAAAAAAAAAAAAAAAAAAAAAAAAAAAAAAAAAAAAAAAAAAAAAAAAAAAAAAAAAAAAAAAAAAAAAAAAAAAAAAAAAAAAAAAAAAAAAAAAAAAAAAAAAAAAAAAAAAAAAAAAAAAAAAAAAAAAAAAAAAAAAAAAAAAAAAAAAAAAAAAAAAAAAAAAAAAAAAAAAAAAAAAAAAAAAAAAAAAAAAAAAAAAAAAAAAAAAAAAAAAAAAAAAAAAAAAAAAAAAAAAAAAAAAAAAAAAAAAAAAAAAAAAAAAAAAAAAAAAAAAAAAAAAAAAAAAAAAAAAAAAAAAAAAAAAAAAAAAAAAAAAAAAAAAAAAAAAAAAAAAAAAAAAAAAAAAAAAAAAAAAAAAAAAAAAAAAAAAAAAAAAAAAAAAAAAAAAAAAAAAAAAAAAAAAAAAAAAAAAAAAAAAAAAAAAAAAAAAAAAAAAAAAAAAAAAAAAAAAAAAAAAAAAAAAAAAAAAAAAAAAAAAAAAAAAAAAAAAAAAAAAAAAAAAAAAAAAAAAAAAAAAAAAAAAAAAAAAAAAAAAAAAAAAAAAAAAAAAAAAAAAAAAAAAAAAAAAAAAAAAAAAAAAAAAAAAAAAAAAAAAAAAAAAAAAAAAAAAAAAAAAAAAAAAAAAAAAAAAAAAAAAAAAAAAAAAAAAAAAAAAAAAAAAAAAAAAAAAAAAAAAAAAAAAAAAAAAAAAAAAAAAAAAAAAAAAAA==",
          "dtype": "i1"
         },
         "x0": " ",
         "xaxis": "x",
         "y": {
          "bdata": "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",
          "dtype": "i2"
         },
         "y0": " ",
         "yaxis": "y"
        },
        {
         "alignmentgroup": "True",
         "hovertemplate": "churn=%{x}<br>dias_desde_ultimo_feedback=%{y}<extra></extra>",
         "legendgroup": "1",
         "marker": {
          "color": "#EF553B"
         },
         "name": "1",
         "notched": false,
         "offsetgroup": "1",
         "orientation": "v",
         "showlegend": true,
         "type": "box",
         "x": {
          "bdata": "AQEBAQEBAQEBAQEBAQEBAQEBAQEBAQEBAQEBAQEBAQEBAQEBAQEBAQEBAQEBAQEBAQEBAQEBAQEBAQEBAQEBAQEBAQEBAQEBAQEBAQEBAQEBAQEBAQEBAQEBAQEBAQEBAQEBAQEBAQEBAQEBAQEBAQEBAQEBAQEBAQEBAQEBAQEBAQEBAQEBAQEBAQEBAQEBAQEBAQEBAQEBAQEBAQEBAQEBAQEBAQEBAQEBAQEBAQEBAQEBAQEBAQEBAQEBAQEBAQEBAQEBAQEBAQEBAQEBAQEBAQEBAQEBAQEBAQEBAQEBAQEBAQEBAQEBAQEBAQEBAQEBAQEBAQEBAQEBAQEBAQEBAQEBAQEBAQEBAQEBAQEBAQEBAQEBAQEBAQEBAQ==",
          "dtype": "i1"
         },
         "x0": " ",
         "xaxis": "x",
         "y": {
          "bdata": "fgYGB3kHuQXsAUAEOQdfB5UF5AV7AoYGjwXpBvgGvQZ3BYcCGgcHB1AFwQbVBScFOgSbBqoGEwatAuMEIQXtBdkGrAahBMMEPgRsBtwF9wThBTwF/AWBBvUFdgafBnIGiwYeA0QFYgUeBYgGpwP7AiEGSAYhBt0FawRRBiEEoQVCBjgF3QWwBPIFKQY3BFgFewWLAwsDyQVcA6UB9gEYA3MF+QHNA+gBfwJOAy4DJQV6AwYFggWYAjQFuQXXAygFIQNABXYFnAV+AjQEZwVsBYYFoQNgBUgFkAPZBPAE4gQNA10EOAXxBB4FNgWVBL0DvwT4AsEEPwOrBAIDxwPpBKECowJjAq8CvQPIAzYC+QQhAzcDSAS8BMYBUASABBcCWwREBIMDdQKvA1IDpgJ9AxEEDAM5BJQCKwS3AhwEQgNYA5MDpQHrA5kC0gPNAjUD4QKjA4YDtAO4AxIDSANmA4wDegPQAj4DJgNMA2gDrgLtAk4D0QIRA9MCOwM2AyEDAQOiAuoChQFrAu4CJQLRAucCqgIDAuwCZQKkAtgCogG3AjMCPQKTAs8BAALrAV4CzwGmARYBIwL8ATsCOgJ+AWYCJgGfATICcAE4AkYCJQJHAhgC5wETAacBJwGdASEBpwGBAR4CxgFRAWgB8gALAv0B6wFuAWMB/gGRAV0ByQHfAbQBVwFDAc0BlAF7Ab8BQAEcASMBiwGXAYgBCwEHAdEAewFbAVcBNAE6ATEBFwEQAQ0B/ADzAB0B5gA=",
          "dtype": "i2"
         },
         "y0": " ",
         "yaxis": "y"
        }
       ],
       "layout": {
        "boxmode": "overlay",
        "legend": {
         "title": {
          "text": "churn"
         },
         "tracegroupgap": 0
        },
        "template": {
         "data": {
          "bar": [
           {
            "error_x": {
             "color": "#2a3f5f"
            },
            "error_y": {
             "color": "#2a3f5f"
            },
            "marker": {
             "line": {
              "color": "#E5ECF6",
              "width": 0.5
             },
             "pattern": {
              "fillmode": "overlay",
              "size": 10,
              "solidity": 0.2
             }
            },
            "type": "bar"
           }
          ],
          "barpolar": [
           {
            "marker": {
             "line": {
              "color": "#E5ECF6",
              "width": 0.5
             },
             "pattern": {
              "fillmode": "overlay",
              "size": 10,
              "solidity": 0.2
             }
            },
            "type": "barpolar"
           }
          ],
          "carpet": [
           {
            "aaxis": {
             "endlinecolor": "#2a3f5f",
             "gridcolor": "white",
             "linecolor": "white",
             "minorgridcolor": "white",
             "startlinecolor": "#2a3f5f"
            },
            "baxis": {
             "endlinecolor": "#2a3f5f",
             "gridcolor": "white",
             "linecolor": "white",
             "minorgridcolor": "white",
             "startlinecolor": "#2a3f5f"
            },
            "type": "carpet"
           }
          ],
          "choropleth": [
           {
            "colorbar": {
             "outlinewidth": 0,
             "ticks": ""
            },
            "type": "choropleth"
           }
          ],
          "contour": [
           {
            "colorbar": {
             "outlinewidth": 0,
             "ticks": ""
            },
            "colorscale": [
             [
              0,
              "#0d0887"
             ],
             [
              0.1111111111111111,
              "#46039f"
             ],
             [
              0.2222222222222222,
              "#7201a8"
             ],
             [
              0.3333333333333333,
              "#9c179e"
             ],
             [
              0.4444444444444444,
              "#bd3786"
             ],
             [
              0.5555555555555556,
              "#d8576b"
             ],
             [
              0.6666666666666666,
              "#ed7953"
             ],
             [
              0.7777777777777778,
              "#fb9f3a"
             ],
             [
              0.8888888888888888,
              "#fdca26"
             ],
             [
              1,
              "#f0f921"
             ]
            ],
            "type": "contour"
           }
          ],
          "contourcarpet": [
           {
            "colorbar": {
             "outlinewidth": 0,
             "ticks": ""
            },
            "type": "contourcarpet"
           }
          ],
          "heatmap": [
           {
            "colorbar": {
             "outlinewidth": 0,
             "ticks": ""
            },
            "colorscale": [
             [
              0,
              "#0d0887"
             ],
             [
              0.1111111111111111,
              "#46039f"
             ],
             [
              0.2222222222222222,
              "#7201a8"
             ],
             [
              0.3333333333333333,
              "#9c179e"
             ],
             [
              0.4444444444444444,
              "#bd3786"
             ],
             [
              0.5555555555555556,
              "#d8576b"
             ],
             [
              0.6666666666666666,
              "#ed7953"
             ],
             [
              0.7777777777777778,
              "#fb9f3a"
             ],
             [
              0.8888888888888888,
              "#fdca26"
             ],
             [
              1,
              "#f0f921"
             ]
            ],
            "type": "heatmap"
           }
          ],
          "histogram": [
           {
            "marker": {
             "pattern": {
              "fillmode": "overlay",
              "size": 10,
              "solidity": 0.2
             }
            },
            "type": "histogram"
           }
          ],
          "histogram2d": [
           {
            "colorbar": {
             "outlinewidth": 0,
             "ticks": ""
            },
            "colorscale": [
             [
              0,
              "#0d0887"
             ],
             [
              0.1111111111111111,
              "#46039f"
             ],
             [
              0.2222222222222222,
              "#7201a8"
             ],
             [
              0.3333333333333333,
              "#9c179e"
             ],
             [
              0.4444444444444444,
              "#bd3786"
             ],
             [
              0.5555555555555556,
              "#d8576b"
             ],
             [
              0.6666666666666666,
              "#ed7953"
             ],
             [
              0.7777777777777778,
              "#fb9f3a"
             ],
             [
              0.8888888888888888,
              "#fdca26"
             ],
             [
              1,
              "#f0f921"
             ]
            ],
            "type": "histogram2d"
           }
          ],
          "histogram2dcontour": [
           {
            "colorbar": {
             "outlinewidth": 0,
             "ticks": ""
            },
            "colorscale": [
             [
              0,
              "#0d0887"
             ],
             [
              0.1111111111111111,
              "#46039f"
             ],
             [
              0.2222222222222222,
              "#7201a8"
             ],
             [
              0.3333333333333333,
              "#9c179e"
             ],
             [
              0.4444444444444444,
              "#bd3786"
             ],
             [
              0.5555555555555556,
              "#d8576b"
             ],
             [
              0.6666666666666666,
              "#ed7953"
             ],
             [
              0.7777777777777778,
              "#fb9f3a"
             ],
             [
              0.8888888888888888,
              "#fdca26"
             ],
             [
              1,
              "#f0f921"
             ]
            ],
            "type": "histogram2dcontour"
           }
          ],
          "mesh3d": [
           {
            "colorbar": {
             "outlinewidth": 0,
             "ticks": ""
            },
            "type": "mesh3d"
           }
          ],
          "parcoords": [
           {
            "line": {
             "colorbar": {
              "outlinewidth": 0,
              "ticks": ""
             }
            },
            "type": "parcoords"
           }
          ],
          "pie": [
           {
            "automargin": true,
            "type": "pie"
           }
          ],
          "scatter": [
           {
            "fillpattern": {
             "fillmode": "overlay",
             "size": 10,
             "solidity": 0.2
            },
            "type": "scatter"
           }
          ],
          "scatter3d": [
           {
            "line": {
             "colorbar": {
              "outlinewidth": 0,
              "ticks": ""
             }
            },
            "marker": {
             "colorbar": {
              "outlinewidth": 0,
              "ticks": ""
             }
            },
            "type": "scatter3d"
           }
          ],
          "scattercarpet": [
           {
            "marker": {
             "colorbar": {
              "outlinewidth": 0,
              "ticks": ""
             }
            },
            "type": "scattercarpet"
           }
          ],
          "scattergeo": [
           {
            "marker": {
             "colorbar": {
              "outlinewidth": 0,
              "ticks": ""
             }
            },
            "type": "scattergeo"
           }
          ],
          "scattergl": [
           {
            "marker": {
             "colorbar": {
              "outlinewidth": 0,
              "ticks": ""
             }
            },
            "type": "scattergl"
           }
          ],
          "scattermap": [
           {
            "marker": {
             "colorbar": {
              "outlinewidth": 0,
              "ticks": ""
             }
            },
            "type": "scattermap"
           }
          ],
          "scattermapbox": [
           {
            "marker": {
             "colorbar": {
              "outlinewidth": 0,
              "ticks": ""
             }
            },
            "type": "scattermapbox"
           }
          ],
          "scatterpolar": [
           {
            "marker": {
             "colorbar": {
              "outlinewidth": 0,
              "ticks": ""
             }
            },
            "type": "scatterpolar"
           }
          ],
          "scatterpolargl": [
           {
            "marker": {
             "colorbar": {
              "outlinewidth": 0,
              "ticks": ""
             }
            },
            "type": "scatterpolargl"
           }
          ],
          "scatterternary": [
           {
            "marker": {
             "colorbar": {
              "outlinewidth": 0,
              "ticks": ""
             }
            },
            "type": "scatterternary"
           }
          ],
          "surface": [
           {
            "colorbar": {
             "outlinewidth": 0,
             "ticks": ""
            },
            "colorscale": [
             [
              0,
              "#0d0887"
             ],
             [
              0.1111111111111111,
              "#46039f"
             ],
             [
              0.2222222222222222,
              "#7201a8"
             ],
             [
              0.3333333333333333,
              "#9c179e"
             ],
             [
              0.4444444444444444,
              "#bd3786"
             ],
             [
              0.5555555555555556,
              "#d8576b"
             ],
             [
              0.6666666666666666,
              "#ed7953"
             ],
             [
              0.7777777777777778,
              "#fb9f3a"
             ],
             [
              0.8888888888888888,
              "#fdca26"
             ],
             [
              1,
              "#f0f921"
             ]
            ],
            "type": "surface"
           }
          ],
          "table": [
           {
            "cells": {
             "fill": {
              "color": "#EBF0F8"
             },
             "line": {
              "color": "white"
             }
            },
            "header": {
             "fill": {
              "color": "#C8D4E3"
             },
             "line": {
              "color": "white"
             }
            },
            "type": "table"
           }
          ]
         },
         "layout": {
          "annotationdefaults": {
           "arrowcolor": "#2a3f5f",
           "arrowhead": 0,
           "arrowwidth": 1
          },
          "autotypenumbers": "strict",
          "coloraxis": {
           "colorbar": {
            "outlinewidth": 0,
            "ticks": ""
           }
          },
          "colorscale": {
           "diverging": [
            [
             0,
             "#8e0152"
            ],
            [
             0.1,
             "#c51b7d"
            ],
            [
             0.2,
             "#de77ae"
            ],
            [
             0.3,
             "#f1b6da"
            ],
            [
             0.4,
             "#fde0ef"
            ],
            [
             0.5,
             "#f7f7f7"
            ],
            [
             0.6,
             "#e6f5d0"
            ],
            [
             0.7,
             "#b8e186"
            ],
            [
             0.8,
             "#7fbc41"
            ],
            [
             0.9,
             "#4d9221"
            ],
            [
             1,
             "#276419"
            ]
           ],
           "sequential": [
            [
             0,
             "#0d0887"
            ],
            [
             0.1111111111111111,
             "#46039f"
            ],
            [
             0.2222222222222222,
             "#7201a8"
            ],
            [
             0.3333333333333333,
             "#9c179e"
            ],
            [
             0.4444444444444444,
             "#bd3786"
            ],
            [
             0.5555555555555556,
             "#d8576b"
            ],
            [
             0.6666666666666666,
             "#ed7953"
            ],
            [
             0.7777777777777778,
             "#fb9f3a"
            ],
            [
             0.8888888888888888,
             "#fdca26"
            ],
            [
             1,
             "#f0f921"
            ]
           ],
           "sequentialminus": [
            [
             0,
             "#0d0887"
            ],
            [
             0.1111111111111111,
             "#46039f"
            ],
            [
             0.2222222222222222,
             "#7201a8"
            ],
            [
             0.3333333333333333,
             "#9c179e"
            ],
            [
             0.4444444444444444,
             "#bd3786"
            ],
            [
             0.5555555555555556,
             "#d8576b"
            ],
            [
             0.6666666666666666,
             "#ed7953"
            ],
            [
             0.7777777777777778,
             "#fb9f3a"
            ],
            [
             0.8888888888888888,
             "#fdca26"
            ],
            [
             1,
             "#f0f921"
            ]
           ]
          },
          "colorway": [
           "#636efa",
           "#EF553B",
           "#00cc96",
           "#ab63fa",
           "#FFA15A",
           "#19d3f3",
           "#FF6692",
           "#B6E880",
           "#FF97FF",
           "#FECB52"
          ],
          "font": {
           "color": "#2a3f5f"
          },
          "geo": {
           "bgcolor": "white",
           "lakecolor": "white",
           "landcolor": "#E5ECF6",
           "showlakes": true,
           "showland": true,
           "subunitcolor": "white"
          },
          "hoverlabel": {
           "align": "left"
          },
          "hovermode": "closest",
          "mapbox": {
           "style": "light"
          },
          "paper_bgcolor": "white",
          "plot_bgcolor": "#E5ECF6",
          "polar": {
           "angularaxis": {
            "gridcolor": "white",
            "linecolor": "white",
            "ticks": ""
           },
           "bgcolor": "#E5ECF6",
           "radialaxis": {
            "gridcolor": "white",
            "linecolor": "white",
            "ticks": ""
           }
          },
          "scene": {
           "xaxis": {
            "backgroundcolor": "#E5ECF6",
            "gridcolor": "white",
            "gridwidth": 2,
            "linecolor": "white",
            "showbackground": true,
            "ticks": "",
            "zerolinecolor": "white"
           },
           "yaxis": {
            "backgroundcolor": "#E5ECF6",
            "gridcolor": "white",
            "gridwidth": 2,
            "linecolor": "white",
            "showbackground": true,
            "ticks": "",
            "zerolinecolor": "white"
           },
           "zaxis": {
            "backgroundcolor": "#E5ECF6",
            "gridcolor": "white",
            "gridwidth": 2,
            "linecolor": "white",
            "showbackground": true,
            "ticks": "",
            "zerolinecolor": "white"
           }
          },
          "shapedefaults": {
           "line": {
            "color": "#2a3f5f"
           }
          },
          "ternary": {
           "aaxis": {
            "gridcolor": "white",
            "linecolor": "white",
            "ticks": ""
           },
           "baxis": {
            "gridcolor": "white",
            "linecolor": "white",
            "ticks": ""
           },
           "bgcolor": "#E5ECF6",
           "caxis": {
            "gridcolor": "white",
            "linecolor": "white",
            "ticks": ""
           }
          },
          "title": {
           "x": 0.05
          },
          "xaxis": {
           "automargin": true,
           "gridcolor": "white",
           "linecolor": "white",
           "ticks": "",
           "title": {
            "standoff": 15
           },
           "zerolinecolor": "white",
           "zerolinewidth": 2
          },
          "yaxis": {
           "automargin": true,
           "gridcolor": "white",
           "linecolor": "white",
           "ticks": "",
           "title": {
            "standoff": 15
           },
           "zerolinecolor": "white",
           "zerolinewidth": 2
          }
         }
        },
        "title": {
         "text": "BoxPlot de dias_desde_ultimo_feedback vs Churn"
        },
        "xaxis": {
         "anchor": "y",
         "categoryarray": [
          0,
          1
         ],
         "categoryorder": "array",
         "domain": [
          0,
          1
         ],
         "title": {
          "text": "churn"
         }
        },
        "yaxis": {
         "anchor": "x",
         "domain": [
          0,
          1
         ],
         "title": {
          "text": "dias_desde_ultimo_feedback"
         }
        }
       }
      }
     },
     "metadata": {},
     "output_type": "display_data"
    },
    {
     "data": {
      "application/vnd.plotly.v1+json": {
       "config": {
        "plotlyServerURL": "https://plot.ly"
       },
       "data": [
        {
         "alignmentgroup": "True",
         "hovertemplate": "churn=%{x}<br>dias_desde_ultimo_aumento=%{y}<extra></extra>",
         "legendgroup": "0",
         "marker": {
          "color": "#636efa"
         },
         "name": "0",
         "notched": false,
         "offsetgroup": "0",
         "orientation": "v",
         "showlegend": true,
         "type": "box",
         "x": {
          "bdata": "AAAAAAAAAAAAAAAAAAAAAAAAAAAAAAAAAAAAAAAAAAAAAAAAAAAAAAAAAAAAAAAAAAAAAAAAAAAAAAAAAAAAAAAAAAAAAAAAAAAAAAAAAAAAAAAAAAAAAAAAAAAAAAAAAAAAAAAAAAAAAAAAAAAAAAAAAAAAAAAAAAAAAAAAAAAAAAAAAAAAAAAAAAAAAAAAAAAAAAAAAAAAAAAAAAAAAAAAAAAAAAAAAAAAAAAAAAAAAAAAAAAAAAAAAAAAAAAAAAAAAAAAAAAAAAAAAAAAAAAAAAAAAAAAAAAAAAAAAAAAAAAAAAAAAAAAAAAAAAAAAAAAAAAAAAAAAAAAAAAAAAAAAAAAAAAAAAAAAAAAAAAAAAAAAAAAAAAAAAAAAAAAAAAAAAAAAAAAAAAAAAAAAAAAAAAAAAAAAAAAAAAAAAAAAAAAAAAAAAAAAAAAAAAAAAAAAAAAAAAAAAAAAAAAAAAAAAAAAAAAAAAAAAAAAAAAAAAAAAAAAAAAAAAAAAAAAAAAAAAAAAAAAAAAAAAAAAAAAAAAAAAAAAAAAAAAAAAAAAAAAAAAAAAAAAAAAAAAAAAAAAAAAAAAAAAAAAAAAAAAAAAAAAAAAAAAAAAAAAAAAAAAAAAAAAAAAAAAAAAAAAAAAAAAAAAAAAAAAAAAAAAAAAAAAAAAAAAAAAAAAAAAAAAAAAAAAAAAAAAAAAAAAAAAAAAAAAAAAAAAAAAAAAAAAAAAAAAAAAAAAAAAAAAAAAAAAAAAAAAAAAAAAAAAAAAAAAAAAAAAAAAAAAAAAAAAAAAAAAAAAAAAAAAAAAAAAAAAAAAAAAAAAAAAAAAAAAAAAAAAAAAAAAAAAAAAAAAAAAAAAAAAAAAAAAAAAAAAAAAAAAAAAAAAAAAAAAAAAAAAAAAAAAAAAAAAAAAAAAAAAAAAAAAAAAAAAAAAAAAAAAAAAAAAAAAAAAAAAAAAAAAAAAAAAAAAAAAAAAAAAAAAAAAAAAAAAAAAAAAAAAAAAAAAAAAAAAAAAAAAAAAAAAAAAAAAAAAAAAAAAAAAAAAAAAAAAAAAAAAAAAAAAAAAAAAAAAAAAAAAAAAAAAAAAAAAAAAAAAAAAAAAAAAAAAAAAAAAAAAAAAAAAAAAAAAAAAAAAAAAAAAAAAAAAAAAAAAAAAAAAAAAAAAAAAAAAAAAAAAAAAAAAAAAAAAAAAAAAAAAAAAAAAAAAAAAAAAAAAAAAAAAAAAAAAAAAAAAAAAAAAAAAAAAAAAAAAAAAAAAAAAAAAAAAAAAAAAAAAAAAAAAAAAAAAAAAAAAAAAAAAAAAAAAAAAAAAAAAAAAAAAAAAAAAAAAAAAAAAAAAAAAAAAAAAAAAAAAAAAAAAAAAAAAAAAAAAAAAAAAAAAAAAAAAAAAAAAAAAAAAAAAAAAAAAAAAAAAAAAAAAAAAAAAAAAAAAAAAAAAAAAAAAAAAAAAAAAAAAAAAAAAAAAAAAAAAAAAAAAAAAAAAAAAAAAAAAAAAAAAAAAAAAAAAAAAAAAAAAAAAAAAAAAAAAAAAAAAAAAAAAAAAAAAAAAAAAAAAAAAAAAAAAAAAAAAAAAAAAAAAAAAAAAAAAAAAAAAAAAAAAAAAAAAAAAAAAAAAAAAAAAAAAAAAAAAAAAAAAAAAAAAAAAAAAAAAAAAAAAAAAAAAAAAAAAAAAAAAAAAAAAAAAAAAAAAAAAAAAAAAAAAAAAAAAAAAAAAAAAAAAAAAAAAAAAAAAAAAAAAAAAAAAAAAAAAAAAAAAAAAAAAAAAAAAAAAAAAAAAAAAAAAAAAAAAAAAAAAAAAAAAAAAAAAAAAAAAAAAAAAAAAAAAAAAAAAAAAAAAAAAAAAAAAAAAAAAAAAAAAAAAAAAAAAAAAAAAAAAAAAAAAAAAAAAAAAAAAAAAAAAAAAAAAAAAAAAAAAAAAAAAAAAAAAAAAAAAAAAAAAAAAAAAAAAAAAAAAAAAAAAAAAAAAAAAAAAAAAAAAAAAAAAAAAAAAAAAAAAAAAAAAAAAAAAAAAAAAAAAAAAAAAAAAAAAAAAAAAAAAAAAAAAAAAAAAAAAAAAAAAAAAAAAAAAAAAAAAAAAAAAAAAAAAAAAAAAAAAAAAAAAAAAAAAAAAAAAAAAAAAAAAAAAAAAAAAAAAAAAAAAAAAAAAAAAAAAAAAAAAAAAAAAAAAAAAAAAAAAAAAAAAAAAAAAAAAAAAAAAAAAAAAAAAAAAAAAAAAAAAAAAAAAAAAAAAAAAAAAAAAAAAAAAAAAAAAAAAAAAAAAAAAAAAAAAAAAAAAAAAAAAAAA==",
          "dtype": "i1"
         },
         "x0": " ",
         "xaxis": "x",
         "y": {
          "bdata": "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",
          "dtype": "i2"
         },
         "y0": " ",
         "yaxis": "y"
        },
        {
         "alignmentgroup": "True",
         "hovertemplate": "churn=%{x}<br>dias_desde_ultimo_aumento=%{y}<extra></extra>",
         "legendgroup": "1",
         "marker": {
          "color": "#EF553B"
         },
         "name": "1",
         "notched": false,
         "offsetgroup": "1",
         "orientation": "v",
         "showlegend": true,
         "type": "box",
         "x": {
          "bdata": "AQEBAQEBAQEBAQEBAQEBAQEBAQEBAQEBAQEBAQEBAQEBAQEBAQEBAQEBAQEBAQEBAQEBAQEBAQEBAQEBAQEBAQEBAQEBAQEBAQEBAQEBAQEBAQEBAQEBAQEBAQEBAQEBAQEBAQEBAQEBAQEBAQEBAQEBAQEBAQEBAQEBAQEBAQEBAQEBAQEBAQEBAQEBAQEBAQEBAQEBAQEBAQEBAQEBAQEBAQEBAQEBAQEBAQEBAQEBAQEBAQEBAQEBAQEBAQEBAQEBAQEBAQEBAQEBAQEBAQEBAQEBAQEBAQEBAQEBAQEBAQEBAQEBAQEBAQEBAQEBAQEBAQEBAQEBAQEBAQEBAQEBAQEBAQEBAQEBAQEBAQEBAQEBAQEBAQEBAQEBAQ==",
          "dtype": "i1"
         },
         "x0": " ",
         "xaxis": "x",
         "y": {
          "bdata": "wAY0BP8GfQWKAsUGHQZnBkoHPwTQBSgHjgXNBo0ENAdOBo4CzwXCBI4E1AZ6A9QEZQTSBYcD3AaqApsF9QWdBtQCrwZuAooFXAa4BMIFkALZBfoFBAZqBSYGQQawBp4GjwbOAEwGnAV+BmMGwgVjBS0GMAMgBiUGiwVqBtAD7wV1BTgFQAZhBKUFPwWtBXAFxwPOBT0D9gXKA9sD0gLzAngFpgJ5BXkEZwUhA4EFvAV/BOMBrwEFA+sEngVHA6UDmAX8BHQFYwVYBSsBmwXlBLME1AQ+BUoFBgLMA4YF2wTjAmAETQVLBQwFSQUvBS0CzASDBCEF2QKEBBYDRAQgBeUE1AGaBHAC8wP1BAED9AQNBEkDCwRJBKYBqwRzAYsEpASxA0gD5QKlAz0DhANsBOwD+ANJBCoCwgPsAwMEywOwA/sDJALoAxcCjQOyAZIDTAIWA2EDuQGWA7cCGQPkAnQDXwPDAhID9QK8AkADAwLIATkDDwMEA14C9AL/AjUD8AK0AtoCbQJ8AhQDwwF6AgwCagK0AswClAL7AdcCbQJlAhQCdQJ9AW4CUgEPArACTwI0As8BngIeApcCJwL+APMB1AEgAW4B4wFiAnQB0QE4AvQBzQHIAesBuQGzAV8BVgFgAfoBGQFCATcB+AAHAvYB9wFvAVgB4wGAAWMBxQGCAc8BfQEPAa4BywFcAYoBuQFBATkBWgF8AYEBZAEPAdMAcQExAVQBEAFMAS8BJwEnARkBDQEUASMB5gA=",
          "dtype": "i2"
         },
         "y0": " ",
         "yaxis": "y"
        }
       ],
       "layout": {
        "boxmode": "overlay",
        "legend": {
         "title": {
          "text": "churn"
         },
         "tracegroupgap": 0
        },
        "template": {
         "data": {
          "bar": [
           {
            "error_x": {
             "color": "#2a3f5f"
            },
            "error_y": {
             "color": "#2a3f5f"
            },
            "marker": {
             "line": {
              "color": "#E5ECF6",
              "width": 0.5
             },
             "pattern": {
              "fillmode": "overlay",
              "size": 10,
              "solidity": 0.2
             }
            },
            "type": "bar"
           }
          ],
          "barpolar": [
           {
            "marker": {
             "line": {
              "color": "#E5ECF6",
              "width": 0.5
             },
             "pattern": {
              "fillmode": "overlay",
              "size": 10,
              "solidity": 0.2
             }
            },
            "type": "barpolar"
           }
          ],
          "carpet": [
           {
            "aaxis": {
             "endlinecolor": "#2a3f5f",
             "gridcolor": "white",
             "linecolor": "white",
             "minorgridcolor": "white",
             "startlinecolor": "#2a3f5f"
            },
            "baxis": {
             "endlinecolor": "#2a3f5f",
             "gridcolor": "white",
             "linecolor": "white",
             "minorgridcolor": "white",
             "startlinecolor": "#2a3f5f"
            },
            "type": "carpet"
           }
          ],
          "choropleth": [
           {
            "colorbar": {
             "outlinewidth": 0,
             "ticks": ""
            },
            "type": "choropleth"
           }
          ],
          "contour": [
           {
            "colorbar": {
             "outlinewidth": 0,
             "ticks": ""
            },
            "colorscale": [
             [
              0,
              "#0d0887"
             ],
             [
              0.1111111111111111,
              "#46039f"
             ],
             [
              0.2222222222222222,
              "#7201a8"
             ],
             [
              0.3333333333333333,
              "#9c179e"
             ],
             [
              0.4444444444444444,
              "#bd3786"
             ],
             [
              0.5555555555555556,
              "#d8576b"
             ],
             [
              0.6666666666666666,
              "#ed7953"
             ],
             [
              0.7777777777777778,
              "#fb9f3a"
             ],
             [
              0.8888888888888888,
              "#fdca26"
             ],
             [
              1,
              "#f0f921"
             ]
            ],
            "type": "contour"
           }
          ],
          "contourcarpet": [
           {
            "colorbar": {
             "outlinewidth": 0,
             "ticks": ""
            },
            "type": "contourcarpet"
           }
          ],
          "heatmap": [
           {
            "colorbar": {
             "outlinewidth": 0,
             "ticks": ""
            },
            "colorscale": [
             [
              0,
              "#0d0887"
             ],
             [
              0.1111111111111111,
              "#46039f"
             ],
             [
              0.2222222222222222,
              "#7201a8"
             ],
             [
              0.3333333333333333,
              "#9c179e"
             ],
             [
              0.4444444444444444,
              "#bd3786"
             ],
             [
              0.5555555555555556,
              "#d8576b"
             ],
             [
              0.6666666666666666,
              "#ed7953"
             ],
             [
              0.7777777777777778,
              "#fb9f3a"
             ],
             [
              0.8888888888888888,
              "#fdca26"
             ],
             [
              1,
              "#f0f921"
             ]
            ],
            "type": "heatmap"
           }
          ],
          "histogram": [
           {
            "marker": {
             "pattern": {
              "fillmode": "overlay",
              "size": 10,
              "solidity": 0.2
             }
            },
            "type": "histogram"
           }
          ],
          "histogram2d": [
           {
            "colorbar": {
             "outlinewidth": 0,
             "ticks": ""
            },
            "colorscale": [
             [
              0,
              "#0d0887"
             ],
             [
              0.1111111111111111,
              "#46039f"
             ],
             [
              0.2222222222222222,
              "#7201a8"
             ],
             [
              0.3333333333333333,
              "#9c179e"
             ],
             [
              0.4444444444444444,
              "#bd3786"
             ],
             [
              0.5555555555555556,
              "#d8576b"
             ],
             [
              0.6666666666666666,
              "#ed7953"
             ],
             [
              0.7777777777777778,
              "#fb9f3a"
             ],
             [
              0.8888888888888888,
              "#fdca26"
             ],
             [
              1,
              "#f0f921"
             ]
            ],
            "type": "histogram2d"
           }
          ],
          "histogram2dcontour": [
           {
            "colorbar": {
             "outlinewidth": 0,
             "ticks": ""
            },
            "colorscale": [
             [
              0,
              "#0d0887"
             ],
             [
              0.1111111111111111,
              "#46039f"
             ],
             [
              0.2222222222222222,
              "#7201a8"
             ],
             [
              0.3333333333333333,
              "#9c179e"
             ],
             [
              0.4444444444444444,
              "#bd3786"
             ],
             [
              0.5555555555555556,
              "#d8576b"
             ],
             [
              0.6666666666666666,
              "#ed7953"
             ],
             [
              0.7777777777777778,
              "#fb9f3a"
             ],
             [
              0.8888888888888888,
              "#fdca26"
             ],
             [
              1,
              "#f0f921"
             ]
            ],
            "type": "histogram2dcontour"
           }
          ],
          "mesh3d": [
           {
            "colorbar": {
             "outlinewidth": 0,
             "ticks": ""
            },
            "type": "mesh3d"
           }
          ],
          "parcoords": [
           {
            "line": {
             "colorbar": {
              "outlinewidth": 0,
              "ticks": ""
             }
            },
            "type": "parcoords"
           }
          ],
          "pie": [
           {
            "automargin": true,
            "type": "pie"
           }
          ],
          "scatter": [
           {
            "fillpattern": {
             "fillmode": "overlay",
             "size": 10,
             "solidity": 0.2
            },
            "type": "scatter"
           }
          ],
          "scatter3d": [
           {
            "line": {
             "colorbar": {
              "outlinewidth": 0,
              "ticks": ""
             }
            },
            "marker": {
             "colorbar": {
              "outlinewidth": 0,
              "ticks": ""
             }
            },
            "type": "scatter3d"
           }
          ],
          "scattercarpet": [
           {
            "marker": {
             "colorbar": {
              "outlinewidth": 0,
              "ticks": ""
             }
            },
            "type": "scattercarpet"
           }
          ],
          "scattergeo": [
           {
            "marker": {
             "colorbar": {
              "outlinewidth": 0,
              "ticks": ""
             }
            },
            "type": "scattergeo"
           }
          ],
          "scattergl": [
           {
            "marker": {
             "colorbar": {
              "outlinewidth": 0,
              "ticks": ""
             }
            },
            "type": "scattergl"
           }
          ],
          "scattermap": [
           {
            "marker": {
             "colorbar": {
              "outlinewidth": 0,
              "ticks": ""
             }
            },
            "type": "scattermap"
           }
          ],
          "scattermapbox": [
           {
            "marker": {
             "colorbar": {
              "outlinewidth": 0,
              "ticks": ""
             }
            },
            "type": "scattermapbox"
           }
          ],
          "scatterpolar": [
           {
            "marker": {
             "colorbar": {
              "outlinewidth": 0,
              "ticks": ""
             }
            },
            "type": "scatterpolar"
           }
          ],
          "scatterpolargl": [
           {
            "marker": {
             "colorbar": {
              "outlinewidth": 0,
              "ticks": ""
             }
            },
            "type": "scatterpolargl"
           }
          ],
          "scatterternary": [
           {
            "marker": {
             "colorbar": {
              "outlinewidth": 0,
              "ticks": ""
             }
            },
            "type": "scatterternary"
           }
          ],
          "surface": [
           {
            "colorbar": {
             "outlinewidth": 0,
             "ticks": ""
            },
            "colorscale": [
             [
              0,
              "#0d0887"
             ],
             [
              0.1111111111111111,
              "#46039f"
             ],
             [
              0.2222222222222222,
              "#7201a8"
             ],
             [
              0.3333333333333333,
              "#9c179e"
             ],
             [
              0.4444444444444444,
              "#bd3786"
             ],
             [
              0.5555555555555556,
              "#d8576b"
             ],
             [
              0.6666666666666666,
              "#ed7953"
             ],
             [
              0.7777777777777778,
              "#fb9f3a"
             ],
             [
              0.8888888888888888,
              "#fdca26"
             ],
             [
              1,
              "#f0f921"
             ]
            ],
            "type": "surface"
           }
          ],
          "table": [
           {
            "cells": {
             "fill": {
              "color": "#EBF0F8"
             },
             "line": {
              "color": "white"
             }
            },
            "header": {
             "fill": {
              "color": "#C8D4E3"
             },
             "line": {
              "color": "white"
             }
            },
            "type": "table"
           }
          ]
         },
         "layout": {
          "annotationdefaults": {
           "arrowcolor": "#2a3f5f",
           "arrowhead": 0,
           "arrowwidth": 1
          },
          "autotypenumbers": "strict",
          "coloraxis": {
           "colorbar": {
            "outlinewidth": 0,
            "ticks": ""
           }
          },
          "colorscale": {
           "diverging": [
            [
             0,
             "#8e0152"
            ],
            [
             0.1,
             "#c51b7d"
            ],
            [
             0.2,
             "#de77ae"
            ],
            [
             0.3,
             "#f1b6da"
            ],
            [
             0.4,
             "#fde0ef"
            ],
            [
             0.5,
             "#f7f7f7"
            ],
            [
             0.6,
             "#e6f5d0"
            ],
            [
             0.7,
             "#b8e186"
            ],
            [
             0.8,
             "#7fbc41"
            ],
            [
             0.9,
             "#4d9221"
            ],
            [
             1,
             "#276419"
            ]
           ],
           "sequential": [
            [
             0,
             "#0d0887"
            ],
            [
             0.1111111111111111,
             "#46039f"
            ],
            [
             0.2222222222222222,
             "#7201a8"
            ],
            [
             0.3333333333333333,
             "#9c179e"
            ],
            [
             0.4444444444444444,
             "#bd3786"
            ],
            [
             0.5555555555555556,
             "#d8576b"
            ],
            [
             0.6666666666666666,
             "#ed7953"
            ],
            [
             0.7777777777777778,
             "#fb9f3a"
            ],
            [
             0.8888888888888888,
             "#fdca26"
            ],
            [
             1,
             "#f0f921"
            ]
           ],
           "sequentialminus": [
            [
             0,
             "#0d0887"
            ],
            [
             0.1111111111111111,
             "#46039f"
            ],
            [
             0.2222222222222222,
             "#7201a8"
            ],
            [
             0.3333333333333333,
             "#9c179e"
            ],
            [
             0.4444444444444444,
             "#bd3786"
            ],
            [
             0.5555555555555556,
             "#d8576b"
            ],
            [
             0.6666666666666666,
             "#ed7953"
            ],
            [
             0.7777777777777778,
             "#fb9f3a"
            ],
            [
             0.8888888888888888,
             "#fdca26"
            ],
            [
             1,
             "#f0f921"
            ]
           ]
          },
          "colorway": [
           "#636efa",
           "#EF553B",
           "#00cc96",
           "#ab63fa",
           "#FFA15A",
           "#19d3f3",
           "#FF6692",
           "#B6E880",
           "#FF97FF",
           "#FECB52"
          ],
          "font": {
           "color": "#2a3f5f"
          },
          "geo": {
           "bgcolor": "white",
           "lakecolor": "white",
           "landcolor": "#E5ECF6",
           "showlakes": true,
           "showland": true,
           "subunitcolor": "white"
          },
          "hoverlabel": {
           "align": "left"
          },
          "hovermode": "closest",
          "mapbox": {
           "style": "light"
          },
          "paper_bgcolor": "white",
          "plot_bgcolor": "#E5ECF6",
          "polar": {
           "angularaxis": {
            "gridcolor": "white",
            "linecolor": "white",
            "ticks": ""
           },
           "bgcolor": "#E5ECF6",
           "radialaxis": {
            "gridcolor": "white",
            "linecolor": "white",
            "ticks": ""
           }
          },
          "scene": {
           "xaxis": {
            "backgroundcolor": "#E5ECF6",
            "gridcolor": "white",
            "gridwidth": 2,
            "linecolor": "white",
            "showbackground": true,
            "ticks": "",
            "zerolinecolor": "white"
           },
           "yaxis": {
            "backgroundcolor": "#E5ECF6",
            "gridcolor": "white",
            "gridwidth": 2,
            "linecolor": "white",
            "showbackground": true,
            "ticks": "",
            "zerolinecolor": "white"
           },
           "zaxis": {
            "backgroundcolor": "#E5ECF6",
            "gridcolor": "white",
            "gridwidth": 2,
            "linecolor": "white",
            "showbackground": true,
            "ticks": "",
            "zerolinecolor": "white"
           }
          },
          "shapedefaults": {
           "line": {
            "color": "#2a3f5f"
           }
          },
          "ternary": {
           "aaxis": {
            "gridcolor": "white",
            "linecolor": "white",
            "ticks": ""
           },
           "baxis": {
            "gridcolor": "white",
            "linecolor": "white",
            "ticks": ""
           },
           "bgcolor": "#E5ECF6",
           "caxis": {
            "gridcolor": "white",
            "linecolor": "white",
            "ticks": ""
           }
          },
          "title": {
           "x": 0.05
          },
          "xaxis": {
           "automargin": true,
           "gridcolor": "white",
           "linecolor": "white",
           "ticks": "",
           "title": {
            "standoff": 15
           },
           "zerolinecolor": "white",
           "zerolinewidth": 2
          },
          "yaxis": {
           "automargin": true,
           "gridcolor": "white",
           "linecolor": "white",
           "ticks": "",
           "title": {
            "standoff": 15
           },
           "zerolinecolor": "white",
           "zerolinewidth": 2
          }
         }
        },
        "title": {
         "text": "BoxPlot de dias_desde_ultimo_aumento vs Churn"
        },
        "xaxis": {
         "anchor": "y",
         "categoryarray": [
          0,
          1
         ],
         "categoryorder": "array",
         "domain": [
          0,
          1
         ],
         "title": {
          "text": "churn"
         }
        },
        "yaxis": {
         "anchor": "x",
         "domain": [
          0,
          1
         ],
         "title": {
          "text": "dias_desde_ultimo_aumento"
         }
        }
       }
      }
     },
     "metadata": {},
     "output_type": "display_data"
    },
    {
     "data": {
      "application/vnd.plotly.v1+json": {
       "config": {
        "plotlyServerURL": "https://plot.ly"
       },
       "data": [
        {
         "alignmentgroup": "True",
         "hovertemplate": "churn=%{x}<br>dias_desde_ultima_mudanca_cargo=%{y}<extra></extra>",
         "legendgroup": "0",
         "marker": {
          "color": "#636efa"
         },
         "name": "0",
         "notched": false,
         "offsetgroup": "0",
         "orientation": "v",
         "showlegend": true,
         "type": "box",
         "x": {
          "bdata": "AAAAAAAAAAAAAAAAAAAAAAAAAAAAAAAAAAAAAAAAAAAAAAAAAAAAAAAAAAAAAAAAAAAAAAAAAAAAAAAAAAAAAAAAAAAAAAAAAAAAAAAAAAAAAAAAAAAAAAAAAAAAAAAAAAAAAAAAAAAAAAAAAAAAAAAAAAAAAAAAAAAAAAAAAAAAAAAAAAAAAAAAAAAAAAAAAAAAAAAAAAAAAAAAAAAAAAAAAAAAAAAAAAAAAAAAAAAAAAAAAAAAAAAAAAAAAAAAAAAAAAAAAAAAAAAAAAAAAAAAAAAAAAAAAAAAAAAAAAAAAAAAAAAAAAAAAAAAAAAAAAAAAAAAAAAAAAAAAAAAAAAAAAAAAAAAAAAAAAAAAAAAAAAAAAAAAAAAAAAAAAAAAAAAAAAAAAAAAAAAAAAAAAAAAAAAAAAAAAAAAAAAAAAAAAAAAAAAAAAAAAAAAAAAAAAAAAAAAAAAAAAAAAAAAAAAAAAAAAAAAAAAAAAAAAAAAAAAAAAAAAAAAAAAAAAAAAAAAAAAAAAAAAAAAAAAAAAAAAAAAAAAAAAAAAAAAAAAAAAAAAAAAAAAAAAAAAAAAAAAAAAAAAAAAAAAAAAAAAAAAAAAAAAAAAAAAAAAAAAAAAAAAAAAAAAAAAAAAAAAAAAAAAAAAAAAAAAAAAAAAAAAAAAAAAAAAAAAAAAAAAAAAAAAAAAAAAAAAAAAAAAAAAAAAAAAAAAAAAAAAAAAAAAAAAAAAAAAAAAAAAAAAAAAAAAAAAAAAAAAAAAAAAAAAAAAAAAAAAAAAAAAAAAAAAAAAAAAAAAAAAAAAAAAAAAAAAAAAAAAAAAAAAAAAAAAAAAAAAAAAAAAAAAAAAAAAAAAAAAAAAAAAAAAAAAAAAAAAAAAAAAAAAAAAAAAAAAAAAAAAAAAAAAAAAAAAAAAAAAAAAAAAAAAAAAAAAAAAAAAAAAAAAAAAAAAAAAAAAAAAAAAAAAAAAAAAAAAAAAAAAAAAAAAAAAAAAAAAAAAAAAAAAAAAAAAAAAAAAAAAAAAAAAAAAAAAAAAAAAAAAAAAAAAAAAAAAAAAAAAAAAAAAAAAAAAAAAAAAAAAAAAAAAAAAAAAAAAAAAAAAAAAAAAAAAAAAAAAAAAAAAAAAAAAAAAAAAAAAAAAAAAAAAAAAAAAAAAAAAAAAAAAAAAAAAAAAAAAAAAAAAAAAAAAAAAAAAAAAAAAAAAAAAAAAAAAAAAAAAAAAAAAAAAAAAAAAAAAAAAAAAAAAAAAAAAAAAAAAAAAAAAAAAAAAAAAAAAAAAAAAAAAAAAAAAAAAAAAAAAAAAAAAAAAAAAAAAAAAAAAAAAAAAAAAAAAAAAAAAAAAAAAAAAAAAAAAAAAAAAAAAAAAAAAAAAAAAAAAAAAAAAAAAAAAAAAAAAAAAAAAAAAAAAAAAAAAAAAAAAAAAAAAAAAAAAAAAAAAAAAAAAAAAAAAAAAAAAAAAAAAAAAAAAAAAAAAAAAAAAAAAAAAAAAAAAAAAAAAAAAAAAAAAAAAAAAAAAAAAAAAAAAAAAAAAAAAAAAAAAAAAAAAAAAAAAAAAAAAAAAAAAAAAAAAAAAAAAAAAAAAAAAAAAAAAAAAAAAAAAAAAAAAAAAAAAAAAAAAAAAAAAAAAAAAAAAAAAAAAAAAAAAAAAAAAAAAAAAAAAAAAAAAAAAAAAAAAAAAAAAAAAAAAAAAAAAAAAAAAAAAAAAAAAAAAAAAAAAAAAAAAAAAAAAAAAAAAAAAAAAAAAAAAAAAAAAAAAAAAAAAAAAAAAAAAAAAAAAAAAAAAAAAAAAAAAAAAAAAAAAAAAAAAAAAAAAAAAAAAAAAAAAAAAAAAAAAAAAAAAAAAAAAAAAAAAAAAAAAAAAAAAAAAAAAAAAAAAAAAAAAAAAAAAAAAAAAAAAAAAAAAAAAAAAAAAAAAAAAAAAAAAAAAAAAAAAAAAAAAAAAAAAAAAAAAAAAAAAAAAAAAAAAAAAAAAAAAAAAAAAAAAAAAAAAAAAAAAAAAAAAAAAAAAAAAAAAAAAAAAAAAAAAAAAAAAAAAAAAAAAAAAAAAAAAAAAAAAAAAAAAAAAAAAAAAAAAAAAAAAAAAAAAAAAAAAAAAAAAAAAAAAAAAAAAAAAAAAAAAAAAAAAAAAAAAAAAAAAAAAAAAAAAAAAAAAAAAAAAAAAAAAAAAAAAAAAAAAAAAAAAAAAAAAAAAAAAAAAAAAAAAAAAAAAAAAAAAAAAAAAAAAAAAAAAAAAAAAAAAAAAAAAAAAAAAAAAAAAAAAAAAAAAAAAAAAAAAAAAAAAAAAAA==",
          "dtype": "i1"
         },
         "x0": " ",
         "xaxis": "x",
         "y": {
          "bdata": "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",
          "dtype": "i2"
         },
         "y0": " ",
         "yaxis": "y"
        },
        {
         "alignmentgroup": "True",
         "hovertemplate": "churn=%{x}<br>dias_desde_ultima_mudanca_cargo=%{y}<extra></extra>",
         "legendgroup": "1",
         "marker": {
          "color": "#EF553B"
         },
         "name": "1",
         "notched": false,
         "offsetgroup": "1",
         "orientation": "v",
         "showlegend": true,
         "type": "box",
         "x": {
          "bdata": "AQEBAQEBAQEBAQEBAQEBAQEBAQEBAQEBAQEBAQEBAQEBAQEBAQEBAQEBAQEBAQEBAQEBAQEBAQEBAQEBAQEBAQEBAQEBAQEBAQEBAQEBAQEBAQEBAQEBAQEBAQEBAQEBAQEBAQEBAQEBAQEBAQEBAQEBAQEBAQEBAQEBAQEBAQEBAQEBAQEBAQEBAQEBAQEBAQEBAQEBAQEBAQEBAQEBAQEBAQEBAQEBAQEBAQEBAQEBAQEBAQEBAQEBAQEBAQEBAQEBAQEBAQEBAQEBAQEBAQEBAQEBAQEBAQEBAQEBAQEBAQEBAQEBAQEBAQEBAQEBAQEBAQEBAQEBAQEBAQEBAQEBAQEBAQEBAQEBAQEBAQEBAQEBAQEBAQEBAQEBAQ==",
          "dtype": "i1"
         },
         "x0": " ",
         "xaxis": "x",
         "y": {
          "bdata": "iwQNBXIH6gPTArcFiAZtB+wEzwTMA4gGNwUFB4sFkgZSBTsChAblBN4FGQW1BCwDdgXXBWcEsgUKApMGEwW7Bq4D4gYfBJQGRgP/BJkGuwMnBoMGSQbOAowGGwatBpMGnwaPBmkF+QOlBYsGAQTMBSkGhgUhBjEG0QVdBh0DQgZMBggFfwUUBesFMAXRAmwFZwNGBcgC1gVPBA0FCAKoBfUEzwTZBNkCwARuBdMDwAUABbsEcQMVAykFRQUAAtgEVAQ5BKIFYQWPAisBcwUKBVIByANDBBUFjAJIBYsFUgUdBQ0FQwWnBMEENQUTBfQEgQJ2As8EjAM+BScFCwS8A6UBNgL7A/cE3ATxA9UDowPKAXgEjwO6BEgEkwPTAzEDTASMA90D7ANNA4IDngNKBOADaQP0A2UB5wMsAggERQOxA2sD2wLWA0kC5AIcAucBQQJaA2cDLAOVA8wBpgK3ApEDcQMZA3gDWANUAsUCvgFsAkwDMQMuAxYCDgPaAQED/QIIAwECkwFvAgwDSQGMAqoC3QEAAtICPQLoAaYCvQIZAtMCQwJaAlUCIgKnAoYCSgI2AnIBugEEAhAChwKLAm0CawI8AjUC0AElAjsCxgHcAS4CVQIAAkECWwEsAu4BnwE4ATsCcQErAQYCvQG/AQoC8QHbAXgBwQGDAeUByAG1AZYBEQHpAKYBjgEwAbIBVQErAZgBmwFsATgBRAFZAT0BWgFkAU0BBwHzADAB3QAMAS0BJwEpAdYA1QA=",
          "dtype": "i2"
         },
         "y0": " ",
         "yaxis": "y"
        }
       ],
       "layout": {
        "boxmode": "overlay",
        "legend": {
         "title": {
          "text": "churn"
         },
         "tracegroupgap": 0
        },
        "template": {
         "data": {
          "bar": [
           {
            "error_x": {
             "color": "#2a3f5f"
            },
            "error_y": {
             "color": "#2a3f5f"
            },
            "marker": {
             "line": {
              "color": "#E5ECF6",
              "width": 0.5
             },
             "pattern": {
              "fillmode": "overlay",
              "size": 10,
              "solidity": 0.2
             }
            },
            "type": "bar"
           }
          ],
          "barpolar": [
           {
            "marker": {
             "line": {
              "color": "#E5ECF6",
              "width": 0.5
             },
             "pattern": {
              "fillmode": "overlay",
              "size": 10,
              "solidity": 0.2
             }
            },
            "type": "barpolar"
           }
          ],
          "carpet": [
           {
            "aaxis": {
             "endlinecolor": "#2a3f5f",
             "gridcolor": "white",
             "linecolor": "white",
             "minorgridcolor": "white",
             "startlinecolor": "#2a3f5f"
            },
            "baxis": {
             "endlinecolor": "#2a3f5f",
             "gridcolor": "white",
             "linecolor": "white",
             "minorgridcolor": "white",
             "startlinecolor": "#2a3f5f"
            },
            "type": "carpet"
           }
          ],
          "choropleth": [
           {
            "colorbar": {
             "outlinewidth": 0,
             "ticks": ""
            },
            "type": "choropleth"
           }
          ],
          "contour": [
           {
            "colorbar": {
             "outlinewidth": 0,
             "ticks": ""
            },
            "colorscale": [
             [
              0,
              "#0d0887"
             ],
             [
              0.1111111111111111,
              "#46039f"
             ],
             [
              0.2222222222222222,
              "#7201a8"
             ],
             [
              0.3333333333333333,
              "#9c179e"
             ],
             [
              0.4444444444444444,
              "#bd3786"
             ],
             [
              0.5555555555555556,
              "#d8576b"
             ],
             [
              0.6666666666666666,
              "#ed7953"
             ],
             [
              0.7777777777777778,
              "#fb9f3a"
             ],
             [
              0.8888888888888888,
              "#fdca26"
             ],
             [
              1,
              "#f0f921"
             ]
            ],
            "type": "contour"
           }
          ],
          "contourcarpet": [
           {
            "colorbar": {
             "outlinewidth": 0,
             "ticks": ""
            },
            "type": "contourcarpet"
           }
          ],
          "heatmap": [
           {
            "colorbar": {
             "outlinewidth": 0,
             "ticks": ""
            },
            "colorscale": [
             [
              0,
              "#0d0887"
             ],
             [
              0.1111111111111111,
              "#46039f"
             ],
             [
              0.2222222222222222,
              "#7201a8"
             ],
             [
              0.3333333333333333,
              "#9c179e"
             ],
             [
              0.4444444444444444,
              "#bd3786"
             ],
             [
              0.5555555555555556,
              "#d8576b"
             ],
             [
              0.6666666666666666,
              "#ed7953"
             ],
             [
              0.7777777777777778,
              "#fb9f3a"
             ],
             [
              0.8888888888888888,
              "#fdca26"
             ],
             [
              1,
              "#f0f921"
             ]
            ],
            "type": "heatmap"
           }
          ],
          "histogram": [
           {
            "marker": {
             "pattern": {
              "fillmode": "overlay",
              "size": 10,
              "solidity": 0.2
             }
            },
            "type": "histogram"
           }
          ],
          "histogram2d": [
           {
            "colorbar": {
             "outlinewidth": 0,
             "ticks": ""
            },
            "colorscale": [
             [
              0,
              "#0d0887"
             ],
             [
              0.1111111111111111,
              "#46039f"
             ],
             [
              0.2222222222222222,
              "#7201a8"
             ],
             [
              0.3333333333333333,
              "#9c179e"
             ],
             [
              0.4444444444444444,
              "#bd3786"
             ],
             [
              0.5555555555555556,
              "#d8576b"
             ],
             [
              0.6666666666666666,
              "#ed7953"
             ],
             [
              0.7777777777777778,
              "#fb9f3a"
             ],
             [
              0.8888888888888888,
              "#fdca26"
             ],
             [
              1,
              "#f0f921"
             ]
            ],
            "type": "histogram2d"
           }
          ],
          "histogram2dcontour": [
           {
            "colorbar": {
             "outlinewidth": 0,
             "ticks": ""
            },
            "colorscale": [
             [
              0,
              "#0d0887"
             ],
             [
              0.1111111111111111,
              "#46039f"
             ],
             [
              0.2222222222222222,
              "#7201a8"
             ],
             [
              0.3333333333333333,
              "#9c179e"
             ],
             [
              0.4444444444444444,
              "#bd3786"
             ],
             [
              0.5555555555555556,
              "#d8576b"
             ],
             [
              0.6666666666666666,
              "#ed7953"
             ],
             [
              0.7777777777777778,
              "#fb9f3a"
             ],
             [
              0.8888888888888888,
              "#fdca26"
             ],
             [
              1,
              "#f0f921"
             ]
            ],
            "type": "histogram2dcontour"
           }
          ],
          "mesh3d": [
           {
            "colorbar": {
             "outlinewidth": 0,
             "ticks": ""
            },
            "type": "mesh3d"
           }
          ],
          "parcoords": [
           {
            "line": {
             "colorbar": {
              "outlinewidth": 0,
              "ticks": ""
             }
            },
            "type": "parcoords"
           }
          ],
          "pie": [
           {
            "automargin": true,
            "type": "pie"
           }
          ],
          "scatter": [
           {
            "fillpattern": {
             "fillmode": "overlay",
             "size": 10,
             "solidity": 0.2
            },
            "type": "scatter"
           }
          ],
          "scatter3d": [
           {
            "line": {
             "colorbar": {
              "outlinewidth": 0,
              "ticks": ""
             }
            },
            "marker": {
             "colorbar": {
              "outlinewidth": 0,
              "ticks": ""
             }
            },
            "type": "scatter3d"
           }
          ],
          "scattercarpet": [
           {
            "marker": {
             "colorbar": {
              "outlinewidth": 0,
              "ticks": ""
             }
            },
            "type": "scattercarpet"
           }
          ],
          "scattergeo": [
           {
            "marker": {
             "colorbar": {
              "outlinewidth": 0,
              "ticks": ""
             }
            },
            "type": "scattergeo"
           }
          ],
          "scattergl": [
           {
            "marker": {
             "colorbar": {
              "outlinewidth": 0,
              "ticks": ""
             }
            },
            "type": "scattergl"
           }
          ],
          "scattermap": [
           {
            "marker": {
             "colorbar": {
              "outlinewidth": 0,
              "ticks": ""
             }
            },
            "type": "scattermap"
           }
          ],
          "scattermapbox": [
           {
            "marker": {
             "colorbar": {
              "outlinewidth": 0,
              "ticks": ""
             }
            },
            "type": "scattermapbox"
           }
          ],
          "scatterpolar": [
           {
            "marker": {
             "colorbar": {
              "outlinewidth": 0,
              "ticks": ""
             }
            },
            "type": "scatterpolar"
           }
          ],
          "scatterpolargl": [
           {
            "marker": {
             "colorbar": {
              "outlinewidth": 0,
              "ticks": ""
             }
            },
            "type": "scatterpolargl"
           }
          ],
          "scatterternary": [
           {
            "marker": {
             "colorbar": {
              "outlinewidth": 0,
              "ticks": ""
             }
            },
            "type": "scatterternary"
           }
          ],
          "surface": [
           {
            "colorbar": {
             "outlinewidth": 0,
             "ticks": ""
            },
            "colorscale": [
             [
              0,
              "#0d0887"
             ],
             [
              0.1111111111111111,
              "#46039f"
             ],
             [
              0.2222222222222222,
              "#7201a8"
             ],
             [
              0.3333333333333333,
              "#9c179e"
             ],
             [
              0.4444444444444444,
              "#bd3786"
             ],
             [
              0.5555555555555556,
              "#d8576b"
             ],
             [
              0.6666666666666666,
              "#ed7953"
             ],
             [
              0.7777777777777778,
              "#fb9f3a"
             ],
             [
              0.8888888888888888,
              "#fdca26"
             ],
             [
              1,
              "#f0f921"
             ]
            ],
            "type": "surface"
           }
          ],
          "table": [
           {
            "cells": {
             "fill": {
              "color": "#EBF0F8"
             },
             "line": {
              "color": "white"
             }
            },
            "header": {
             "fill": {
              "color": "#C8D4E3"
             },
             "line": {
              "color": "white"
             }
            },
            "type": "table"
           }
          ]
         },
         "layout": {
          "annotationdefaults": {
           "arrowcolor": "#2a3f5f",
           "arrowhead": 0,
           "arrowwidth": 1
          },
          "autotypenumbers": "strict",
          "coloraxis": {
           "colorbar": {
            "outlinewidth": 0,
            "ticks": ""
           }
          },
          "colorscale": {
           "diverging": [
            [
             0,
             "#8e0152"
            ],
            [
             0.1,
             "#c51b7d"
            ],
            [
             0.2,
             "#de77ae"
            ],
            [
             0.3,
             "#f1b6da"
            ],
            [
             0.4,
             "#fde0ef"
            ],
            [
             0.5,
             "#f7f7f7"
            ],
            [
             0.6,
             "#e6f5d0"
            ],
            [
             0.7,
             "#b8e186"
            ],
            [
             0.8,
             "#7fbc41"
            ],
            [
             0.9,
             "#4d9221"
            ],
            [
             1,
             "#276419"
            ]
           ],
           "sequential": [
            [
             0,
             "#0d0887"
            ],
            [
             0.1111111111111111,
             "#46039f"
            ],
            [
             0.2222222222222222,
             "#7201a8"
            ],
            [
             0.3333333333333333,
             "#9c179e"
            ],
            [
             0.4444444444444444,
             "#bd3786"
            ],
            [
             0.5555555555555556,
             "#d8576b"
            ],
            [
             0.6666666666666666,
             "#ed7953"
            ],
            [
             0.7777777777777778,
             "#fb9f3a"
            ],
            [
             0.8888888888888888,
             "#fdca26"
            ],
            [
             1,
             "#f0f921"
            ]
           ],
           "sequentialminus": [
            [
             0,
             "#0d0887"
            ],
            [
             0.1111111111111111,
             "#46039f"
            ],
            [
             0.2222222222222222,
             "#7201a8"
            ],
            [
             0.3333333333333333,
             "#9c179e"
            ],
            [
             0.4444444444444444,
             "#bd3786"
            ],
            [
             0.5555555555555556,
             "#d8576b"
            ],
            [
             0.6666666666666666,
             "#ed7953"
            ],
            [
             0.7777777777777778,
             "#fb9f3a"
            ],
            [
             0.8888888888888888,
             "#fdca26"
            ],
            [
             1,
             "#f0f921"
            ]
           ]
          },
          "colorway": [
           "#636efa",
           "#EF553B",
           "#00cc96",
           "#ab63fa",
           "#FFA15A",
           "#19d3f3",
           "#FF6692",
           "#B6E880",
           "#FF97FF",
           "#FECB52"
          ],
          "font": {
           "color": "#2a3f5f"
          },
          "geo": {
           "bgcolor": "white",
           "lakecolor": "white",
           "landcolor": "#E5ECF6",
           "showlakes": true,
           "showland": true,
           "subunitcolor": "white"
          },
          "hoverlabel": {
           "align": "left"
          },
          "hovermode": "closest",
          "mapbox": {
           "style": "light"
          },
          "paper_bgcolor": "white",
          "plot_bgcolor": "#E5ECF6",
          "polar": {
           "angularaxis": {
            "gridcolor": "white",
            "linecolor": "white",
            "ticks": ""
           },
           "bgcolor": "#E5ECF6",
           "radialaxis": {
            "gridcolor": "white",
            "linecolor": "white",
            "ticks": ""
           }
          },
          "scene": {
           "xaxis": {
            "backgroundcolor": "#E5ECF6",
            "gridcolor": "white",
            "gridwidth": 2,
            "linecolor": "white",
            "showbackground": true,
            "ticks": "",
            "zerolinecolor": "white"
           },
           "yaxis": {
            "backgroundcolor": "#E5ECF6",
            "gridcolor": "white",
            "gridwidth": 2,
            "linecolor": "white",
            "showbackground": true,
            "ticks": "",
            "zerolinecolor": "white"
           },
           "zaxis": {
            "backgroundcolor": "#E5ECF6",
            "gridcolor": "white",
            "gridwidth": 2,
            "linecolor": "white",
            "showbackground": true,
            "ticks": "",
            "zerolinecolor": "white"
           }
          },
          "shapedefaults": {
           "line": {
            "color": "#2a3f5f"
           }
          },
          "ternary": {
           "aaxis": {
            "gridcolor": "white",
            "linecolor": "white",
            "ticks": ""
           },
           "baxis": {
            "gridcolor": "white",
            "linecolor": "white",
            "ticks": ""
           },
           "bgcolor": "#E5ECF6",
           "caxis": {
            "gridcolor": "white",
            "linecolor": "white",
            "ticks": ""
           }
          },
          "title": {
           "x": 0.05
          },
          "xaxis": {
           "automargin": true,
           "gridcolor": "white",
           "linecolor": "white",
           "ticks": "",
           "title": {
            "standoff": 15
           },
           "zerolinecolor": "white",
           "zerolinewidth": 2
          },
          "yaxis": {
           "automargin": true,
           "gridcolor": "white",
           "linecolor": "white",
           "ticks": "",
           "title": {
            "standoff": 15
           },
           "zerolinecolor": "white",
           "zerolinewidth": 2
          }
         }
        },
        "title": {
         "text": "BoxPlot de dias_desde_ultima_mudanca_cargo vs Churn"
        },
        "xaxis": {
         "anchor": "y",
         "categoryarray": [
          0,
          1
         ],
         "categoryorder": "array",
         "domain": [
          0,
          1
         ],
         "title": {
          "text": "churn"
         }
        },
        "yaxis": {
         "anchor": "x",
         "domain": [
          0,
          1
         ],
         "title": {
          "text": "dias_desde_ultima_mudanca_cargo"
         }
        }
       }
      }
     },
     "metadata": {},
     "output_type": "display_data"
    }
   ],
   "source": [
    "# BoxPlots para variáveis numéricas com Churn\n",
    "for col in df_employees.select_dtypes(include=['int64', 'float64']).columns:\n",
    "    if col != 'churn':\n",
    "        fig = px.box(df_employees, x='churn', y=col, title=f'BoxPlot de {col} vs Churn', color='churn')\n",
    "        fig.show()"
   ]
  },
  {
   "cell_type": "markdown",
   "id": "18362fed",
   "metadata": {},
   "source": [
    "#### Padrões de Churn indentificados:\n",
    "- Tempo de Empresa: as pessoas que sairam tinham na mediana 391 dias\n",
    "\n",
    "- Dias Desde Último Feedback: as pessoas que sairam estavam na mediana a mais de 800 dias sem feedback\n",
    "\n",
    "- Dias Desde Último Aumento: as pessoas que sairam estavam na mediana a mais de 800 dias sem receber aumento\n",
    "\n",
    "- Dias Desde a Última Mudança de Cargo: as pessoas que sairam estavam na mediana a mais de 800 dias em mudar de cargo"
   ]
  },
  {
   "cell_type": "code",
   "execution_count": 56,
   "id": "224b267b",
   "metadata": {},
   "outputs": [
    {
     "data": {
      "application/vnd.plotly.v1+json": {
       "config": {
        "plotlyServerURL": "https://plot.ly"
       },
       "data": [
        {
         "coloraxis": "coloraxis",
         "hovertemplate": "x: %{x}<br>y: %{y}<br>color: %{z}<extra></extra>",
         "name": "0",
         "text": {
          "bdata": "AAAAAAAA8D+F+k23h91rv2jyIzBpDk0/KXFygQJPlr9QOj1Qw5Qlv1WRPf0Q7Gw/XCUW4jGgiD+Yt7DargmAvzMeiCXWNYK/EFBYNV/2nb/ubnH6IZqDv4X6TbeH3Wu/AAAAAAAA8D9bVw4ZBOSuP7qhZw2u81i/fxatuVTYUz8CnVX09+iYv44E9MRxkZm/83hzEihMgz/8qkdd7h6KPwZLFqJZbpQ/SJJB/yN9kL9o8iMwaQ5NP1tXDhkE5K4/AAAAAAAA8D9s9RqlOV6ZP7QeRBCngpw/xADAGgG3cr+pPHueifOBPwBn1UijnJC/gjpry405Xb/eD3Rod1Jqv1jPAL1Jom2/KXFygQJPlr+6oWcNrvNYv2z1GqU5Xpk/AAAAAAAA8D/z0d2aggJ9P3wdh4+e5H2/BztiIN8fab/WjdIz6u2DP6ko6k6ddmU/+4ppEOf4kT+wwKCSiyJ+P1A6PVDDlCW/fxatuVTYUz+0HkQQp4KcP/PR3ZqCAn0/AAAAAAAA8D9EIxjxXOFwv78DPDvjgqG/IutCBp6mhT+SNSTRJgKsv5h5voWZYKG/6jYnLT1Anb9VkT39EOxsPwKdVfT36Ji/xADAGgG3cr98HYePnuR9v0QjGPFc4XC/AAAAAAAA8D+h+V4URNaWv8cGtwJ/YI6/bfoiGER+Xr9z5Fanjv2FP//qzqXSJaG/XCUW4jGgiD+OBPTEcZGZv6k8e56J84E/BztiIN8fab+/Azw744Khv6H5XhRE1pa/AAAAAAAA8D9u2tcuDVDav87AGD3SB84/IUNjbAC5yz9Rbqdi4U/NP5i3sNquCYC/83hzEihMgz8AZ9VIo5yQv9aN0jPq7YM/IutCBp6mhT/HBrcCf2COv27a1y4NUNq/AAAAAAAA8D/8JA32PfzZP5xi28/D8to/7gR7oq5e2j8zHogl1jWCv/yqR13uHoo/gjpry405Xb+pKOpOnXZlP5I1JNEmAqy/bfoiGER+Xr/OwBg90gfOP/wkDfY9/Nk/AAAAAAAA8D+w7Sw5FW3gP5C0CCvgeOA/EFBYNV/2nb8GSxaiWW6UP94PdGh3Umq/+4ppEOf4kT+Yeb6FmWChv3PkVqeO/YU/IUNjbAC5yz+cYtvPw/LaP7DtLDkVbeA/AAAAAAAA8D/DhdofmxThP+5ucfohmoO/SJJB/yN9kL9YzwC9SaJtv7DAoJKLIn4/6jYnLT1Anb//6s6l0iWhv1Fup2LhT80/7gR7oq5e2j+QtAgr4HjgP8OF2h+bFOE/AAAAAAAA8D8=",
          "dtype": "f8",
          "shape": "11, 11"
         },
         "textfont": {
          "size": 9
         },
         "texttemplate": "%{text:.1%}",
         "type": "heatmap",
         "x": [
          "idade",
          "salario_atual",
          "nota_avaliacao",
          "qtde_projetos",
          "qtde_clientes",
          "nivel_satisfacao_gestor",
          "churn",
          "tempo_empresa",
          "dias_desde_ultimo_feedback",
          "dias_desde_ultimo_aumento",
          "dias_desde_ultima_mudanca_cargo"
         ],
         "xaxis": "x",
         "y": [
          "idade",
          "salario_atual",
          "nota_avaliacao",
          "qtde_projetos",
          "qtde_clientes",
          "nivel_satisfacao_gestor",
          "churn",
          "tempo_empresa",
          "dias_desde_ultimo_feedback",
          "dias_desde_ultimo_aumento",
          "dias_desde_ultima_mudanca_cargo"
         ],
         "yaxis": "y",
         "z": {
          "bdata": "AAAAAAAA8D+F+k23h91rv2jyIzBpDk0/KXFygQJPlr9QOj1Qw5Qlv1WRPf0Q7Gw/XCUW4jGgiD+Yt7DargmAvzMeiCXWNYK/EFBYNV/2nb/ubnH6IZqDv4X6TbeH3Wu/AAAAAAAA8D9bVw4ZBOSuP7qhZw2u81i/fxatuVTYUz8CnVX09+iYv44E9MRxkZm/83hzEihMgz/8qkdd7h6KPwZLFqJZbpQ/SJJB/yN9kL9o8iMwaQ5NP1tXDhkE5K4/AAAAAAAA8D9s9RqlOV6ZP7QeRBCngpw/xADAGgG3cr+pPHueifOBPwBn1UijnJC/gjpry405Xb/eD3Rod1Jqv1jPAL1Jom2/KXFygQJPlr+6oWcNrvNYv2z1GqU5Xpk/AAAAAAAA8D/z0d2aggJ9P3wdh4+e5H2/BztiIN8fab/WjdIz6u2DP6ko6k6ddmU/+4ppEOf4kT+wwKCSiyJ+P1A6PVDDlCW/fxatuVTYUz+0HkQQp4KcP/PR3ZqCAn0/AAAAAAAA8D9EIxjxXOFwv78DPDvjgqG/IutCBp6mhT+SNSTRJgKsv5h5voWZYKG/6jYnLT1Anb9VkT39EOxsPwKdVfT36Ji/xADAGgG3cr98HYePnuR9v0QjGPFc4XC/AAAAAAAA8D+h+V4URNaWv8cGtwJ/YI6/bfoiGER+Xr9z5Fanjv2FP//qzqXSJaG/XCUW4jGgiD+OBPTEcZGZv6k8e56J84E/BztiIN8fab+/Azw744Khv6H5XhRE1pa/AAAAAAAA8D9u2tcuDVDav87AGD3SB84/IUNjbAC5yz9Rbqdi4U/NP5i3sNquCYC/83hzEihMgz8AZ9VIo5yQv9aN0jPq7YM/IutCBp6mhT/HBrcCf2COv27a1y4NUNq/AAAAAAAA8D/8JA32PfzZP5xi28/D8to/7gR7oq5e2j8zHogl1jWCv/yqR13uHoo/gjpry405Xb+pKOpOnXZlP5I1JNEmAqy/bfoiGER+Xr/OwBg90gfOP/wkDfY9/Nk/AAAAAAAA8D+w7Sw5FW3gP5C0CCvgeOA/EFBYNV/2nb8GSxaiWW6UP94PdGh3Umq/+4ppEOf4kT+Yeb6FmWChv3PkVqeO/YU/IUNjbAC5yz+cYtvPw/LaP7DtLDkVbeA/AAAAAAAA8D/DhdofmxThP+5ucfohmoO/SJJB/yN9kL9YzwC9SaJtv7DAoJKLIn4/6jYnLT1Anb//6s6l0iWhv1Fup2LhT80/7gR7oq5e2j+QtAgr4HjgP8OF2h+bFOE/AAAAAAAA8D8=",
          "dtype": "f8",
          "shape": "11, 11"
         }
        }
       ],
       "layout": {
        "coloraxis": {
         "cmax": 1,
         "cmin": -1,
         "colorscale": [
          [
           0,
           "#440154"
          ],
          [
           0.1111111111111111,
           "#482878"
          ],
          [
           0.2222222222222222,
           "#3e4989"
          ],
          [
           0.3333333333333333,
           "#31688e"
          ],
          [
           0.4444444444444444,
           "#26828e"
          ],
          [
           0.5555555555555556,
           "#1f9e89"
          ],
          [
           0.6666666666666666,
           "#35b779"
          ],
          [
           0.7777777777777778,
           "#6ece58"
          ],
          [
           0.8888888888888888,
           "#b5de2b"
          ],
          [
           1,
           "#fde725"
          ]
         ]
        },
        "font": {
         "size": 10
        },
        "height": 600,
        "template": {
         "data": {
          "bar": [
           {
            "error_x": {
             "color": "#2a3f5f"
            },
            "error_y": {
             "color": "#2a3f5f"
            },
            "marker": {
             "line": {
              "color": "#E5ECF6",
              "width": 0.5
             },
             "pattern": {
              "fillmode": "overlay",
              "size": 10,
              "solidity": 0.2
             }
            },
            "type": "bar"
           }
          ],
          "barpolar": [
           {
            "marker": {
             "line": {
              "color": "#E5ECF6",
              "width": 0.5
             },
             "pattern": {
              "fillmode": "overlay",
              "size": 10,
              "solidity": 0.2
             }
            },
            "type": "barpolar"
           }
          ],
          "carpet": [
           {
            "aaxis": {
             "endlinecolor": "#2a3f5f",
             "gridcolor": "white",
             "linecolor": "white",
             "minorgridcolor": "white",
             "startlinecolor": "#2a3f5f"
            },
            "baxis": {
             "endlinecolor": "#2a3f5f",
             "gridcolor": "white",
             "linecolor": "white",
             "minorgridcolor": "white",
             "startlinecolor": "#2a3f5f"
            },
            "type": "carpet"
           }
          ],
          "choropleth": [
           {
            "colorbar": {
             "outlinewidth": 0,
             "ticks": ""
            },
            "type": "choropleth"
           }
          ],
          "contour": [
           {
            "colorbar": {
             "outlinewidth": 0,
             "ticks": ""
            },
            "colorscale": [
             [
              0,
              "#0d0887"
             ],
             [
              0.1111111111111111,
              "#46039f"
             ],
             [
              0.2222222222222222,
              "#7201a8"
             ],
             [
              0.3333333333333333,
              "#9c179e"
             ],
             [
              0.4444444444444444,
              "#bd3786"
             ],
             [
              0.5555555555555556,
              "#d8576b"
             ],
             [
              0.6666666666666666,
              "#ed7953"
             ],
             [
              0.7777777777777778,
              "#fb9f3a"
             ],
             [
              0.8888888888888888,
              "#fdca26"
             ],
             [
              1,
              "#f0f921"
             ]
            ],
            "type": "contour"
           }
          ],
          "contourcarpet": [
           {
            "colorbar": {
             "outlinewidth": 0,
             "ticks": ""
            },
            "type": "contourcarpet"
           }
          ],
          "heatmap": [
           {
            "colorbar": {
             "outlinewidth": 0,
             "ticks": ""
            },
            "colorscale": [
             [
              0,
              "#0d0887"
             ],
             [
              0.1111111111111111,
              "#46039f"
             ],
             [
              0.2222222222222222,
              "#7201a8"
             ],
             [
              0.3333333333333333,
              "#9c179e"
             ],
             [
              0.4444444444444444,
              "#bd3786"
             ],
             [
              0.5555555555555556,
              "#d8576b"
             ],
             [
              0.6666666666666666,
              "#ed7953"
             ],
             [
              0.7777777777777778,
              "#fb9f3a"
             ],
             [
              0.8888888888888888,
              "#fdca26"
             ],
             [
              1,
              "#f0f921"
             ]
            ],
            "type": "heatmap"
           }
          ],
          "histogram": [
           {
            "marker": {
             "pattern": {
              "fillmode": "overlay",
              "size": 10,
              "solidity": 0.2
             }
            },
            "type": "histogram"
           }
          ],
          "histogram2d": [
           {
            "colorbar": {
             "outlinewidth": 0,
             "ticks": ""
            },
            "colorscale": [
             [
              0,
              "#0d0887"
             ],
             [
              0.1111111111111111,
              "#46039f"
             ],
             [
              0.2222222222222222,
              "#7201a8"
             ],
             [
              0.3333333333333333,
              "#9c179e"
             ],
             [
              0.4444444444444444,
              "#bd3786"
             ],
             [
              0.5555555555555556,
              "#d8576b"
             ],
             [
              0.6666666666666666,
              "#ed7953"
             ],
             [
              0.7777777777777778,
              "#fb9f3a"
             ],
             [
              0.8888888888888888,
              "#fdca26"
             ],
             [
              1,
              "#f0f921"
             ]
            ],
            "type": "histogram2d"
           }
          ],
          "histogram2dcontour": [
           {
            "colorbar": {
             "outlinewidth": 0,
             "ticks": ""
            },
            "colorscale": [
             [
              0,
              "#0d0887"
             ],
             [
              0.1111111111111111,
              "#46039f"
             ],
             [
              0.2222222222222222,
              "#7201a8"
             ],
             [
              0.3333333333333333,
              "#9c179e"
             ],
             [
              0.4444444444444444,
              "#bd3786"
             ],
             [
              0.5555555555555556,
              "#d8576b"
             ],
             [
              0.6666666666666666,
              "#ed7953"
             ],
             [
              0.7777777777777778,
              "#fb9f3a"
             ],
             [
              0.8888888888888888,
              "#fdca26"
             ],
             [
              1,
              "#f0f921"
             ]
            ],
            "type": "histogram2dcontour"
           }
          ],
          "mesh3d": [
           {
            "colorbar": {
             "outlinewidth": 0,
             "ticks": ""
            },
            "type": "mesh3d"
           }
          ],
          "parcoords": [
           {
            "line": {
             "colorbar": {
              "outlinewidth": 0,
              "ticks": ""
             }
            },
            "type": "parcoords"
           }
          ],
          "pie": [
           {
            "automargin": true,
            "type": "pie"
           }
          ],
          "scatter": [
           {
            "fillpattern": {
             "fillmode": "overlay",
             "size": 10,
             "solidity": 0.2
            },
            "type": "scatter"
           }
          ],
          "scatter3d": [
           {
            "line": {
             "colorbar": {
              "outlinewidth": 0,
              "ticks": ""
             }
            },
            "marker": {
             "colorbar": {
              "outlinewidth": 0,
              "ticks": ""
             }
            },
            "type": "scatter3d"
           }
          ],
          "scattercarpet": [
           {
            "marker": {
             "colorbar": {
              "outlinewidth": 0,
              "ticks": ""
             }
            },
            "type": "scattercarpet"
           }
          ],
          "scattergeo": [
           {
            "marker": {
             "colorbar": {
              "outlinewidth": 0,
              "ticks": ""
             }
            },
            "type": "scattergeo"
           }
          ],
          "scattergl": [
           {
            "marker": {
             "colorbar": {
              "outlinewidth": 0,
              "ticks": ""
             }
            },
            "type": "scattergl"
           }
          ],
          "scattermap": [
           {
            "marker": {
             "colorbar": {
              "outlinewidth": 0,
              "ticks": ""
             }
            },
            "type": "scattermap"
           }
          ],
          "scattermapbox": [
           {
            "marker": {
             "colorbar": {
              "outlinewidth": 0,
              "ticks": ""
             }
            },
            "type": "scattermapbox"
           }
          ],
          "scatterpolar": [
           {
            "marker": {
             "colorbar": {
              "outlinewidth": 0,
              "ticks": ""
             }
            },
            "type": "scatterpolar"
           }
          ],
          "scatterpolargl": [
           {
            "marker": {
             "colorbar": {
              "outlinewidth": 0,
              "ticks": ""
             }
            },
            "type": "scatterpolargl"
           }
          ],
          "scatterternary": [
           {
            "marker": {
             "colorbar": {
              "outlinewidth": 0,
              "ticks": ""
             }
            },
            "type": "scatterternary"
           }
          ],
          "surface": [
           {
            "colorbar": {
             "outlinewidth": 0,
             "ticks": ""
            },
            "colorscale": [
             [
              0,
              "#0d0887"
             ],
             [
              0.1111111111111111,
              "#46039f"
             ],
             [
              0.2222222222222222,
              "#7201a8"
             ],
             [
              0.3333333333333333,
              "#9c179e"
             ],
             [
              0.4444444444444444,
              "#bd3786"
             ],
             [
              0.5555555555555556,
              "#d8576b"
             ],
             [
              0.6666666666666666,
              "#ed7953"
             ],
             [
              0.7777777777777778,
              "#fb9f3a"
             ],
             [
              0.8888888888888888,
              "#fdca26"
             ],
             [
              1,
              "#f0f921"
             ]
            ],
            "type": "surface"
           }
          ],
          "table": [
           {
            "cells": {
             "fill": {
              "color": "#EBF0F8"
             },
             "line": {
              "color": "white"
             }
            },
            "header": {
             "fill": {
              "color": "#C8D4E3"
             },
             "line": {
              "color": "white"
             }
            },
            "type": "table"
           }
          ]
         },
         "layout": {
          "annotationdefaults": {
           "arrowcolor": "#2a3f5f",
           "arrowhead": 0,
           "arrowwidth": 1
          },
          "autotypenumbers": "strict",
          "coloraxis": {
           "colorbar": {
            "outlinewidth": 0,
            "ticks": ""
           }
          },
          "colorscale": {
           "diverging": [
            [
             0,
             "#8e0152"
            ],
            [
             0.1,
             "#c51b7d"
            ],
            [
             0.2,
             "#de77ae"
            ],
            [
             0.3,
             "#f1b6da"
            ],
            [
             0.4,
             "#fde0ef"
            ],
            [
             0.5,
             "#f7f7f7"
            ],
            [
             0.6,
             "#e6f5d0"
            ],
            [
             0.7,
             "#b8e186"
            ],
            [
             0.8,
             "#7fbc41"
            ],
            [
             0.9,
             "#4d9221"
            ],
            [
             1,
             "#276419"
            ]
           ],
           "sequential": [
            [
             0,
             "#0d0887"
            ],
            [
             0.1111111111111111,
             "#46039f"
            ],
            [
             0.2222222222222222,
             "#7201a8"
            ],
            [
             0.3333333333333333,
             "#9c179e"
            ],
            [
             0.4444444444444444,
             "#bd3786"
            ],
            [
             0.5555555555555556,
             "#d8576b"
            ],
            [
             0.6666666666666666,
             "#ed7953"
            ],
            [
             0.7777777777777778,
             "#fb9f3a"
            ],
            [
             0.8888888888888888,
             "#fdca26"
            ],
            [
             1,
             "#f0f921"
            ]
           ],
           "sequentialminus": [
            [
             0,
             "#0d0887"
            ],
            [
             0.1111111111111111,
             "#46039f"
            ],
            [
             0.2222222222222222,
             "#7201a8"
            ],
            [
             0.3333333333333333,
             "#9c179e"
            ],
            [
             0.4444444444444444,
             "#bd3786"
            ],
            [
             0.5555555555555556,
             "#d8576b"
            ],
            [
             0.6666666666666666,
             "#ed7953"
            ],
            [
             0.7777777777777778,
             "#fb9f3a"
            ],
            [
             0.8888888888888888,
             "#fdca26"
            ],
            [
             1,
             "#f0f921"
            ]
           ]
          },
          "colorway": [
           "#636efa",
           "#EF553B",
           "#00cc96",
           "#ab63fa",
           "#FFA15A",
           "#19d3f3",
           "#FF6692",
           "#B6E880",
           "#FF97FF",
           "#FECB52"
          ],
          "font": {
           "color": "#2a3f5f"
          },
          "geo": {
           "bgcolor": "white",
           "lakecolor": "white",
           "landcolor": "#E5ECF6",
           "showlakes": true,
           "showland": true,
           "subunitcolor": "white"
          },
          "hoverlabel": {
           "align": "left"
          },
          "hovermode": "closest",
          "mapbox": {
           "style": "light"
          },
          "paper_bgcolor": "white",
          "plot_bgcolor": "#E5ECF6",
          "polar": {
           "angularaxis": {
            "gridcolor": "white",
            "linecolor": "white",
            "ticks": ""
           },
           "bgcolor": "#E5ECF6",
           "radialaxis": {
            "gridcolor": "white",
            "linecolor": "white",
            "ticks": ""
           }
          },
          "scene": {
           "xaxis": {
            "backgroundcolor": "#E5ECF6",
            "gridcolor": "white",
            "gridwidth": 2,
            "linecolor": "white",
            "showbackground": true,
            "ticks": "",
            "zerolinecolor": "white"
           },
           "yaxis": {
            "backgroundcolor": "#E5ECF6",
            "gridcolor": "white",
            "gridwidth": 2,
            "linecolor": "white",
            "showbackground": true,
            "ticks": "",
            "zerolinecolor": "white"
           },
           "zaxis": {
            "backgroundcolor": "#E5ECF6",
            "gridcolor": "white",
            "gridwidth": 2,
            "linecolor": "white",
            "showbackground": true,
            "ticks": "",
            "zerolinecolor": "white"
           }
          },
          "shapedefaults": {
           "line": {
            "color": "#2a3f5f"
           }
          },
          "ternary": {
           "aaxis": {
            "gridcolor": "white",
            "linecolor": "white",
            "ticks": ""
           },
           "baxis": {
            "gridcolor": "white",
            "linecolor": "white",
            "ticks": ""
           },
           "bgcolor": "#E5ECF6",
           "caxis": {
            "gridcolor": "white",
            "linecolor": "white",
            "ticks": ""
           }
          },
          "title": {
           "x": 0.05
          },
          "xaxis": {
           "automargin": true,
           "gridcolor": "white",
           "linecolor": "white",
           "ticks": "",
           "title": {
            "standoff": 15
           },
           "zerolinecolor": "white",
           "zerolinewidth": 2
          },
          "yaxis": {
           "automargin": true,
           "gridcolor": "white",
           "linecolor": "white",
           "ticks": "",
           "title": {
            "standoff": 15
           },
           "zerolinecolor": "white",
           "zerolinewidth": 2
          }
         }
        },
        "title": {
         "font": {
          "size": 14
         },
         "text": "Matriz de Correlação"
        },
        "width": 1000,
        "xaxis": {
         "anchor": "y",
         "constrain": "domain",
         "domain": [
          0,
          1
         ],
         "scaleanchor": "y"
        },
        "yaxis": {
         "anchor": "x",
         "autorange": "reversed",
         "constrain": "domain",
         "domain": [
          0,
          1
         ]
        }
       }
      }
     },
     "metadata": {},
     "output_type": "display_data"
    }
   ],
   "source": [
    "# Matriz de Correlação\n",
    "col_number = df_employees.select_dtypes(include=['int64', 'float64']).columns\n",
    "corr_matrix = df_employees[col_number].corr()\n",
    "\n",
    "fig = px.imshow(corr_matrix,\n",
    "                title='Matriz de Correlação',\n",
    "                color_continuous_scale='Viridis',\n",
    "                zmin=-1,\n",
    "                zmax=1)\n",
    "\n",
    "fig.update_traces(text=corr_matrix, texttemplate=\"%{text:.1%}\", textfont={'size': 9})\n",
    "fig.update_layout(\n",
    "    width=1000,\n",
    "    height=600,\n",
    "    title_font=dict(size=14),\n",
    "    font=dict(size=10)\n",
    ")\n",
    "\n",
    "fig.show()"
   ]
  },
  {
   "cell_type": "code",
   "execution_count": 57,
   "id": "cce6b908",
   "metadata": {},
   "outputs": [
    {
     "data": {
      "application/vnd.plotly.v1+json": {
       "config": {
        "plotlyServerURL": "https://plot.ly"
       },
       "data": [
        {
         "dimensions": [
          {
           "axis": {
            "matches": true
           },
           "label": "idade",
           "values": {
            "bdata": "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",
            "dtype": "i1"
           }
          },
          {
           "axis": {
            "matches": true
           },
           "label": "salario_atual",
           "values": {
            "bdata": "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",
            "dtype": "i2"
           }
          },
          {
           "axis": {
            "matches": true
           },
           "label": "nota_avaliacao",
           "values": {
            "bdata": "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",
            "dtype": "f8"
           }
          },
          {
           "axis": {
            "matches": true
           },
           "label": "qtde_projetos",
           "values": {
            "bdata": "BQgJCAUIBgYIAwYDAQMDBggBAQYDAgUGCQkGAgUIBgMHCAIBAQkFAgQGAQQGCQQBAgYBBwkICQYIBAIDBQgHBgMCBAUIBwEJAQkJCQkGAgUCAgYCCQYCCQkBBAcBAgkHBgYDBQQBBgkFAgcIAQIBCQMEBAcEBQgBAgIDAwMHBAICCQIGBgkDBwcCBwEHAwECBwgDAQUBBgQFBwgCBwkIBAYBCQEJBQEIBQYJBQEIBgUIAggGBwYEBAEBBAEBBQMHCQgHCQcEAQIJBAgECQcCAgEFCAQIBgYJBAEEAgkFBwMCBwQBBwkHAwkIBwMFAgYGBAUJBgMCBggBBwUDAgcDAQMFAwIJAwgFCQQICAcGBgMCAgkIBQYDBwIHCAgECAEGAgMIBggDCAkFBgYIAwcJAgMCBAMHBQgJCAUDBAYJAQkBCQICBAEJBgICAgQJBQIBCAkCBQIJBwkJAgMJBgEGBwkEBQcDAQUDBwECCQUHAgcBCAkIAQUDCAkDBAEFAgMBCAYCAwYHBwMFCQgGAwUJBgUHAwMCBwEIBwgHAgIGAwgDCQIIBwgICQMGBQEBCQMCCQECCAQGBAIGBAkIBgUJBAcJCAkDAwUHBAYHCAkDAggHAwcGBgUHCQIBBAcHCQYBAwIDBgEHAgIHBAkEBQkEBQUDCQkGBQECCAUBAgIBCQEFAgIFAwQFAwMGBAICAwIIBAgJAgQGAgIGBQIFAwcGBgkEBwQJAgcFBwICAQkFAgcIBQQGBAgICQIICQEJCAQBBAUHBwIHAQUFAwEICQYEBQUEAQMGBAQDAgEBBAYHBgIFBQcCBQIGBQkDCAkFBQEIAQUCBQgBCQUHCAEECQgDBwgFAQcDBQMHBggGAgYHBwQBBAcJBAUJCQMEBgcDAwcGBgkDCQkFBAEECQcDCAYBBAUIBQMHBQcFAwIBBAUEAQYDCQcCBQMECAgBAgYCCAEGCQIFCQEICQQFBQUBAQECAwUGCAYGBwcHAwMECAcEBgYJBwEJAwkIBAYBBgYJBwkGAgIDBgIHAggDCQcFBQUEAgECBggEBQgCAwMHAgUEBQgGBQUBAgEJAgMEAQYFAQUHBAECCAgHBQQHAwQEBQIFCQEIBwgGCQUBAgQBAwgIAwMBAQUIAgcBAwECCAYDBAcHAgMDBQMFBQMIAwgDBwEDAwcJAQMBAgUDBgQJAgYCAQMDBwEFBwYJAQYCAQUFBQQICQYHBQIHCQkJAwIHBQQIBQQBAQkBCAEFCAUFAgEFBQUHBAEJBgMEBQQGAgcCBAgECQEIAQgJBQYIAgUGBQgGBAUGCAMHAQUEBQIIBgMCCQgFBAIEAwEGBwIEBAgIAgIGCQYHBwcDBQMJAgYFBwkBAwUDBgcGCQUBBwUBBQIFBwkBAwEIAQIGAQIECQEEBgEHAgYBAwcICQYCAgYBBQYICQUJAgcCCQUFBQQHAgYICAkCBgkIBQcJBQQCAQEFAwEJAQcBBAMDCAIBBQcDBQEIAQMDBgQFBgMCCAUFAQQGBQYFBAIGBwkBBwQCCQkHCAMFCAcEBAEBCQQGBQYGAQYJBgUDAwMEBQgJAgYCAQYGBAQDBggBAwEBBgIBCAcEBgIEAgUIBwYDCAgGCAEICAYJBAQBBgMHAgMFCAcJBwEJBwgBAwMIBgQGCAkDBAQJBQcECQQECQcIBQEJAQUBCQMCAQQFBQgJBgICAQgEAQEDBwEJAgYJBwMGAQEBCAIDAgIJCAgGBQUEAwUHCQUFAgIHBwYFCQcHAwMDBQMFBAQJCAQJAgMDBQMGCAIDAwMJBgIJBgQIAwkDBgQHBwYJCQEJAgMDCAcJCAgJBwUGCQcFBAYEAQYDCQcDBggEBgMDBwMHAQEGBwYEBAEDAQIGAgUDAwQGBAQECQkEAgMJBgQIBwMJBgUJBQcDAgYFBQUEBQEHBwYCCQQFAwMJCAQHAQYJAQYEBQkCBgcEBwcIBQIDBQcGBwgDCAgCBQQDCAcCBAUJCAEGAgcFCAgFBggJBwYFCAkJBAQJAgEGAQIGBwMCBAkBCAMFAggJCQQCAgUECAUJBQEDBwgCBAIGBAQICAkBCAgBBwQJBgEFBgEEAwEBCAIIAwYEAwcCBQYFCQUGAQYHAQcJBwIJBggEAQgIBggDBgMBBgQGAQQHBQEJCAMGCAQBBAQCBQgEAwEJBQcGAgICCAUBBAMCBgcJBgUJBwMBCQgHBwQHAgkFBQMBAwIGCQIHBwEDAgQGAgkBBwUBAwYBCQgEAQcBBgEBBwUBAwYJBAUCAwUIBgEJAgcJBwEFAQQEBwQJAwUCBAgEBgcIBgcDAwYIBQMDAwMCAgMBCQMBBQQJAgkCAgICBwUDCQgIAgkBBgUFCAMCAQMCCQIJBgUEAQIIBAEGBAgDAQMIBQUECAcCCQEBAwYEBwkGCAkDBQMFBwMBAQgEBQYIBAcEAQECBggGCAEBBgYBCQUDAQcFBAgGAwMBBQcGCAEICAEGBgcDBwcIBAECBwIFBQMJAgcFCAEBAgMJAwcJBAMHAwYCBgUGBAYHCAUICQkJAwIGCQcGCAQEAgIGAQIIBgUJBQkJBQMEBwkCAQQCBAUBAQgIAQMGAwgEBQgFBAQICQMBBQQJAwMJBAUJBQcIAQkFCAgECQgGBwcFBQQDBwIIBQkHBQYIBgMIAwEGBgQEBgQGCAk=",
            "dtype": "i1"
           }
          },
          {
           "axis": {
            "matches": true
           },
           "label": "qtde_clientes",
           "values": {
            "bdata": "AQQHBAIEAwQBBgEFAQYCBAEBBgIEAgQEBgUBAgcDAQUFAQMGBAIHBgEHBQcBBQUBBwQGBQMBBwcEAgUEAQQFAwMEBAQCAgcEBQMHBAQGBwUGBAQGAgQCBAECAQMDBgcHBgYFBAIEBQEBAQUBBAMHBgEFBgcEAwUDAgEGAQEBBwQFBgUFAgUBAgQGAwIFBwIFAQQBBwYCAQcGAQIDBAMBAQYDBwYDBwYHAQcGAwMBBwcGBAMGBQICBAQFAgUEAQMCAgEBBAUFBAMCBgQCBgYGBQYHBwMDBgMGAwMHBAMFBwYGAgQFBgUBAwUBBgIDAgIDAwIDBQEHAgEDBAMFAwYDAgEFBwUFAQcHBQMCAgMGAQQHAwYEBwICAwICAwIGAQMDBwcHAgIBBwcCAQECAwUBAwQHBwIHBgIHAgIBBgEDBwIFBQQEBQUDBwIDBwEEBgIEBwUGBAMEAgcBBAEEAwcGBgYEAQYEBgICBgQCBQcBAwcEAgIBBQUEBAUCBQMGAgMDBwICBgEDBAUHBgIGBQEHAwMCBwMCBQEDBAYDAQEEAQIBAQQGBQIFAgYCAgUFBAEHBwcDBgMFBQUCBwUDAgQDBAIFBwMGBwQHBwIDAwUFBAcEBQIEBgcHBAQEBAICAgMFAQMDBAMGAgEHAwICBAMDBwMDBAcBBAQFAQUEAgQGAgcGBQIEBQIGAQcBBAQBBgIDAQEBBQcHBQECBQICAgcFBwUBBQYCAQUFBgcFAQYGBwQDBgIEAgUEAQQEBAIHAQQDBgUFAQEFAgMCBQYCBgYGBgEGBQYCBQYDBAUCBAYBAwEBAgMBBQcDBgUHAgQDAQYCAwYEBAIFAQYCBgEDBQMBBQYDBQQGAQcGBwcGAQYEBQUFAQEDBwcCBAQFAQcGBgcEBQMBBQcBBQMFBQIDAgIEBQUHBQMBBgIFBAMHAQYHAgcGBgcCBQMFAwEHBQMBBQUFBAUGBwIHBQQGAwMBBQUFBQcGBAUBAQQDBQMCBQEBAQUFBwQCAwICBAIGBgICBgMCBAQCBQYFAQEEAQUBAQEGAQQFBwMDBAYEBwYDBQMFAQUGAQYHAgMHBwcCBgEDBgIDBgcEAQIHBQIFBwIHBgIEAwUHBwcEAgIFBQYDBwUGAQYEBwIHAwEFBgQFBgUCBwYFBAQHBgMDBgcBBQEGBwEGBgQEBQUEAwUDBgECAwEEBAUFBQcCBwMEAwICBwQHAwECBAQGBAUHBQUEAgMHBAMCAwcBAwIHBQEHBwIGBAIBAgcBAQYDAwYEBAQHAgMHBQMBAwYBAgQDBQUHBwEDBQYFAwcGBQUCBgUBBAYDBAEHBgUGBQUEAQIDBQIGAQMHBgMDBwcGAwUCAwUCBQMEAgIHBQQDBwEHBAcEBQIGAwIEBgYHBgYGAwYHAQYDAgIHBQQEBgYCBwIFAgYHAQQFBwMGBwcBBQUEBAIDAgMDAwIGBgICAgMHAQEEBQUGAQEHBQEHAwIEAgcBBgcCBAYFAgEFAgMHBAYEBQUGBAMHBAQDAQcDAQQCAQQHAgECBgIDBwUCBwEEAQcCBAEFBQQHBgcFBQUGAgUGBAcFAQcGBQECAQIGAgQBBgMDAgEBBgMBBAYGBAYDBAMCBgMGAgECBAQEBgQBAgUBBQQEAQUDAgQDBQUHAQQHAwECBQEFBgQDBgcFBQMCBAIHBgUHBgMCBgEBBQYGBAEHAgIEBgcFBQQBBQYHAgUCAgcGBgIGBAUDBQICAwEFBgIBAQQBBgYHAwIDAQQEAwIGBAQBAwMGAQYGAQYDAgEEBAQFAgYBAQUGBAIGAgcEBgMFAQYHAgEDAgEDAwEBBgcEBQMFAQMFBAUFAgYGAwUEAwEFAwMCAgcHBAECBQQBBQQBAgIFBwYEBwMFAwcEBgQGAQMEAwIEBwYBAgEHBQICAQECAQIBAQYFBwECBwYEAwQGBQUFBAYFBAcBAwIEAwECBAYBAQEBBQYCBQUGBgUGBAYEAgIDBgUCBQMGAQQHBgYEBAQBBAMHBAMFAwIGBQcBBwYBBgQGBQIHAgEGBQQCAwMFAwYGAgEGBwYDBAMEAgYDBwQEBwcDBQUGBwcFAgcFAgUBAQEEAgIGBwYFBQECBwQFBgQDBAcDAQMCBQMHBgMBAQMBBAMFBAYCBQYFAQEHBQYBAgEBAQYCBwUBBQYDAQEHBwMFBgcCBAMDAQQDBwUCBAYEBgMHAwUEBQMFBgMDBwcBBgQDBgIGBwEBBwcFAQUGBgQCBAEEBgUCAQUDBQMCBQEBBwUBAwMFAgUDAQIFBQcHBwYEBQUDBgMHAwUFAwUBBQcCBgQDAgYDBwEGAwQHBAUBBAMGBQUEBQIFBAcGAgQBBAMCBgUFAQIDBAUFAgYDAwQGAwQHBwcEAQIHAwYFBQMGBgMFBwICAwQDBgEBBgEDBAQCBgUHAQQCBQQGAQIEBwEDAgcCAwcDAgUCAgcCBwEFAwUFBgYCAwEFAgYCBAcCAQcGAgUGBAQFBgcDBgMFBgYFAwcCBwQDAQcBBwEBBAEHAwYCAQcGBAYEBgMFBAQDBAEHAgcDBgQEAQcEAwEFAgMFAwcEBQECAgUHBgYHBAcHBwECAwIGAwEGBgEHBgQGBgEFBQUBBQUFBwIHBwYDBwEDAQMEAwIDBwcFBwIDBwYEBAIHBAEBBgEBBgEHBwQGBgUDAwYBAQI=",
            "dtype": "i1"
           }
          },
          {
           "axis": {
            "matches": true
           },
           "label": "nivel_satisfacao_gestor",
           "values": {
            "bdata": "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",
            "dtype": "f8"
           }
          },
          {
           "axis": {
            "matches": true
           },
           "label": "churn",
           "values": {
            "bdata": "AAAAAAAAAQAAAAAAAQAAAAAAAAEBAAAAAAEAAQAAAAAAAAEAAAAAAQABAAAAAQAAAAAAAAAAAAABAAAAAAAAAAAAAAAAAAAAAQAAAAAAAAAAAAEBAAAAAAAAAQAAAAAAAAABAAAAAAAAAAAAAAAAAQAAAAABAAEAAAAAAAAAAAAAAAAAAAABAAAAAQEBAAAAAAABAAAAAAAAAQAAAAEAAAAAAAAAAAAAAAAAAAAAAAAAAQAAAAEAAAABAQAAAQAAAAABAQABAQABAAAAAAAAAAAAAQAAAAAAAAAAAAAAAAEBAAABAAAAAAAAAAAAAAAAAAEAAAAAAAAAAQEAAAEAAAAAAAAAAAAAAAAAAAAAAAAAAAAAAAEAAQEAAAEAAAEAAAAAAAAAAAEAAAAAAAAAAAAAAAAAAAAAAQAAAAEBAAEAAAAAAAAAAQAAAAAAAAAAAAAAAAAAAAAAAAABAAABAQAAAAAAAAAAAAABAAAAAQAAAQAAAQAAAAAAAAAAAQABAAEAAAAAAAAAAAAAAAEAAAAAAAAAAAEAAAAAAAAAAAAAAAAAAQAAAAAAAAEAAAAAAAAAAQEAAAAAAAAAAAAAAQEAAAAAAAEAAAAAAAAAAAAAAAAAAAAAAQAAAAAAAAAAAAAAAAABAAEAAQAAAAABAQAAAAAAAAEAAAEAAQAAAAABAAABAAAAAQAAAQABAAAAAAAAAAAAAAEAAAAAAAAAAAAAAAABAAEAAAABAAAAAAAAAQAAAAAAAAAAAAAAAAAAAAEAAAEAAAAAAAEAAAABAAABAAAAAAAAAAAAAQAAAAEAAAAAAQAAAAAAAAEBAAAAAAAAAQABAQAAAAEAAAAAAQAAAAABAQAAAAABAAAAAAAAAAAAAAAAAAEAAAAAAAABAAAAAAAAAAABAAAAAAAAAAAAAAABAAAAAAAAAQEBAAAAAAAAAAAAAAEAAAAAAAAAAAAAAAAAAAAAAAABAQEAAAABAQABAAAAAAAAAAAAAAAAAQAAAAAAAAAAAAAAAQAAAAAAAAAAAAAAAAAAAQAAAAAAAAABAAAAAAABAAEAAQEAAAAAAAEAAAAAAAAAAAAAAQABAQAAAAAAAAAAAAABAAAAAAAAAAABAAAAAAEAAAAAAQAAAAAAAAAAAAAAAAAAAAAAAAAAAAAAAAAAAAAAAAEAAAAAAAEAAAAAAQAAAAAAAAAAAAAAAAABAAAAAAAAAAAAAAAAAAABAAAAAAAAAAAAAQAAAAAAAQEAAAAAAAAAAAABAAAAAAAAAAAAAAAAAAAAAAAAAAAAAAAAAAAAAAEAAAAAAAEAAAAAAAAAAAEAAAAAAAAAAQEAAQAAAAAAAAAAAAAAAAAAAAAAAAAAAAAAAAAAAAAAAAAAAAAAAAAAAAAAAAAAAAAAAAAAAAAAAAAAAAEAAQAAAAAAAAAAAAAAAAAAAQAAAAAAAAAAAAABAAAAAAAAAAEAAAAAAAEAAAAAAAAAAAAAAAAAAAAAAQAAAAAAAAAAAAAAAAAAAAAAAAAAAAAAAQABAAABAAAAAAAAAAAAAAAAAQAAAQAAAAAAAAAAAAAAAAAAAAAAAQAAAAAAAAAAAAEAAQAAAAABAAEAAAAAAAAAAAAAAAAAAAAAAAAAAAAAAQAAAAAAAAAAAAEBAAEAAAABAAAAAAEAAAABAAAAAAAAAAEAAAAAAAABAQAAAAABAAAAAAAAAAAAAAAAAAAAAAAAAAAAAAABAAAAAAAAAAAAAAEAAAABAAAAAAAAAAAAAAABAAAAAAAAAAEAAAAAAAABAAAAAAABAAAAAQABAAABAAAAAAAAAQAAAAEAAAAAAAAAAQAAAAEAAAAAAQAAAAAAAAAAAAAAAAAAAAAAAAAAAAAAAAAAAAAAAAAAAAEAAAEAAAAAAAEAAAAAAAAAAAEAAQAAAAEAAAEAAQAAAAAAAAAAAAAAAQAAAAEAAAEAAQAAAAAAAQAAAAAAAAAAAAAAAQAAAAEAAAAAAAAAAAEAAQEAAAEBAAAAAAAAAAAAAAAAAAABAAAAAAAAAAAAAQABAAABAAAAAAAAAQAAAQAAAAAAAAAAAQEAAAABAAAAAAAAAAAAAAAAAAEAAAAAAAAAAAAAAAAAAAAAAAAAAQABAAAAAAAAAAAAAQAAAAABAQEAAAAAAAAAAAAAAQABAAEAAAAAAAEBAAAAAAAAAAAAAAAAAAAAAAAAAAABAQAAAAAAAAAAAAAAAQEAAAAAAAAAAAAAAAAAAAAAAAABAAAAAAAAAAAAAAAAAAAAAQAAAAEAAAAAAAABAAAAAQAAAQAAAAAAAAAAAAAAAAEBAQAAAAAAAAEBAAAAAAAAAAAAAAAAAAAAAAEAAAAAAAEAAAAAAAAAAAAAAQABAAEAAAAAAAEAAQABAAAAAAAAAAEAAAAAAQEAAAAAAAAAAAEAAAAAAAAAAAAAAAAAAAAAAAEAAQAAAAAAAAAAAAAAAAAAAAABAAAAAAAAAAAAAQEAAQAAAAEAAAAAAAAAAAAAAAAAAAAAAAAAAAAAAAAAAAAAAQAAAAAAAAAAAAEAAAAAAAABAAAAAAAAAAAAAAAAAQAAAAEAAAABAAAAAAAAAAAAAAAAAAAAAAAAAAAAAAEAAAAAAAAAAAAAAAEAAAAAAQAAAAAAAAAAAAABAQAAAAAAAAAAAAEAAAA=",
            "dtype": "i1"
           }
          },
          {
           "axis": {
            "matches": true
           },
           "label": "tempo_empresa",
           "values": {
            "bdata": "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",
            "dtype": "i2"
           }
          },
          {
           "axis": {
            "matches": true
           },
           "label": "dias_desde_ultimo_feedback",
           "values": {
            "bdata": "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",
            "dtype": "i2"
           }
          },
          {
           "axis": {
            "matches": true
           },
           "label": "dias_desde_ultimo_aumento",
           "values": {
            "bdata": "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",
            "dtype": "i2"
           }
          },
          {
           "axis": {
            "matches": true
           },
           "label": "dias_desde_ultima_mudanca_cargo",
           "values": {
            "bdata": "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",
            "dtype": "i2"
           }
          }
         ],
         "hovertemplate": "%{xaxis.title.text}=%{x}<br>%{yaxis.title.text}=%{y}<br>churn=%{marker.color}<extra></extra>",
         "legendgroup": "",
         "marker": {
          "color": {
           "bdata": "AAAAAAAAAQAAAAAAAQAAAAAAAAEBAAAAAAEAAQAAAAAAAAEAAAAAAQABAAAAAQAAAAAAAAAAAAABAAAAAAAAAAAAAAAAAAAAAQAAAAAAAAAAAAEBAAAAAAAAAQAAAAAAAAABAAAAAAAAAAAAAAAAAQAAAAABAAEAAAAAAAAAAAAAAAAAAAABAAAAAQEBAAAAAAABAAAAAAAAAQAAAAEAAAAAAAAAAAAAAAAAAAAAAAAAAQAAAAEAAAABAQAAAQAAAAABAQABAQABAAAAAAAAAAAAAQAAAAAAAAAAAAAAAAEBAAABAAAAAAAAAAAAAAAAAAEAAAAAAAAAAQEAAAEAAAAAAAAAAAAAAAAAAAAAAAAAAAAAAAEAAQEAAAEAAAEAAAAAAAAAAAEAAAAAAAAAAAAAAAAAAAAAAQAAAAEBAAEAAAAAAAAAAQAAAAAAAAAAAAAAAAAAAAAAAAABAAABAQAAAAAAAAAAAAABAAAAAQAAAQAAAQAAAAAAAAAAAQABAAEAAAAAAAAAAAAAAAEAAAAAAAAAAAEAAAAAAAAAAAAAAAAAAQAAAAAAAAEAAAAAAAAAAQEAAAAAAAAAAAAAAQEAAAAAAAEAAAAAAAAAAAAAAAAAAAAAAQAAAAAAAAAAAAAAAAABAAEAAQAAAAABAQAAAAAAAAEAAAEAAQAAAAABAAABAAAAAQAAAQABAAAAAAAAAAAAAAEAAAAAAAAAAAAAAAABAAEAAAABAAAAAAAAAQAAAAAAAAAAAAAAAAAAAAEAAAEAAAAAAAEAAAABAAABAAAAAAAAAAAAAQAAAAEAAAAAAQAAAAAAAAEBAAAAAAAAAQABAQAAAAEAAAAAAQAAAAABAQAAAAABAAAAAAAAAAAAAAAAAAEAAAAAAAABAAAAAAAAAAABAAAAAAAAAAAAAAABAAAAAAAAAQEBAAAAAAAAAAAAAAEAAAAAAAAAAAAAAAAAAAAAAAABAQEAAAABAQABAAAAAAAAAAAAAAAAAQAAAAAAAAAAAAAAAQAAAAAAAAAAAAAAAAAAAQAAAAAAAAABAAAAAAABAAEAAQEAAAAAAAEAAAAAAAAAAAAAAQABAQAAAAAAAAAAAAABAAAAAAAAAAABAAAAAAEAAAAAAQAAAAAAAAAAAAAAAAAAAAAAAAAAAAAAAAAAAAAAAAEAAAAAAAEAAAAAAQAAAAAAAAAAAAAAAAABAAAAAAAAAAAAAAAAAAABAAAAAAAAAAAAAQAAAAAAAQEAAAAAAAAAAAABAAAAAAAAAAAAAAAAAAAAAAAAAAAAAAAAAAAAAAEAAAAAAAEAAAAAAAAAAAEAAAAAAAAAAQEAAQAAAAAAAAAAAAAAAAAAAAAAAAAAAAAAAAAAAAAAAAAAAAAAAAAAAAAAAAAAAAAAAAAAAAAAAAAAAAEAAQAAAAAAAAAAAAAAAAAAAQAAAAAAAAAAAAABAAAAAAAAAAEAAAAAAAEAAAAAAAAAAAAAAAAAAAAAAQAAAAAAAAAAAAAAAAAAAAAAAAAAAAAAAQABAAABAAAAAAAAAAAAAAAAAQAAAQAAAAAAAAAAAAAAAAAAAAAAAQAAAAAAAAAAAAEAAQAAAAABAAEAAAAAAAAAAAAAAAAAAAAAAAAAAAAAAQAAAAAAAAAAAAEBAAEAAAABAAAAAAEAAAABAAAAAAAAAAEAAAAAAAABAQAAAAABAAAAAAAAAAAAAAAAAAAAAAAAAAAAAAABAAAAAAAAAAAAAAEAAAABAAAAAAAAAAAAAAABAAAAAAAAAAEAAAAAAAABAAAAAAABAAAAAQABAAABAAAAAAAAAQAAAAEAAAAAAAAAAQAAAAEAAAAAAQAAAAAAAAAAAAAAAAAAAAAAAAAAAAAAAAAAAAAAAAAAAAEAAAEAAAAAAAEAAAAAAAAAAAEAAQAAAAEAAAEAAQAAAAAAAAAAAAAAAQAAAAEAAAEAAQAAAAAAAQAAAAAAAAAAAAAAAQAAAAEAAAAAAAAAAAEAAQEAAAEBAAAAAAAAAAAAAAAAAAABAAAAAAAAAAAAAQABAAABAAAAAAAAAQAAAQAAAAAAAAAAAQEAAAABAAAAAAAAAAAAAAAAAAEAAAAAAAAAAAAAAAAAAAAAAAAAAQABAAAAAAAAAAAAAQAAAAABAQEAAAAAAAAAAAAAAQABAAEAAAAAAAEBAAAAAAAAAAAAAAAAAAAAAAAAAAABAQAAAAAAAAAAAAAAAQEAAAAAAAAAAAAAAAAAAAAAAAABAAAAAAAAAAAAAAAAAAAAAQAAAAEAAAAAAAABAAAAAQAAAQAAAAAAAAAAAAAAAAEBAQAAAAAAAAEBAAAAAAAAAAAAAAAAAAAAAAEAAAAAAAEAAAAAAAAAAAAAAQABAAEAAAAAAAEAAQABAAAAAAAAAAEAAAAAAQEAAAAAAAAAAAEAAAAAAAAAAAAAAAAAAAAAAAEAAQAAAAAAAAAAAAAAAAAAAAABAAAAAAAAAAAAAQEAAQAAAAEAAAAAAAAAAAAAAAAAAAAAAAAAAAAAAAAAAAAAAQAAAAAAAAAAAAEAAAAAAAABAAAAAAAAAAAAAAAAAQAAAAEAAAABAAAAAAAAAAAAAAAAAAAAAAAAAAAAAAEAAAAAAAAAAAAAAAEAAAAAAQAAAAAAAAAAAAABAQAAAAAAAAAAAAEAAAA=",
           "dtype": "i1"
          },
          "coloraxis": "coloraxis",
          "symbol": "circle"
         },
         "name": "",
         "showlegend": false,
         "type": "splom"
        }
       ],
       "layout": {
        "coloraxis": {
         "colorbar": {
          "title": {
           "text": "churn"
          }
         },
         "colorscale": [
          [
           0,
           "#0d0887"
          ],
          [
           0.1111111111111111,
           "#46039f"
          ],
          [
           0.2222222222222222,
           "#7201a8"
          ],
          [
           0.3333333333333333,
           "#9c179e"
          ],
          [
           0.4444444444444444,
           "#bd3786"
          ],
          [
           0.5555555555555556,
           "#d8576b"
          ],
          [
           0.6666666666666666,
           "#ed7953"
          ],
          [
           0.7777777777777778,
           "#fb9f3a"
          ],
          [
           0.8888888888888888,
           "#fdca26"
          ],
          [
           1,
           "#f0f921"
          ]
         ]
        },
        "dragmode": "select",
        "font": {
         "size": 9
        },
        "height": 1000,
        "legend": {
         "tracegroupgap": 0
        },
        "template": {
         "data": {
          "bar": [
           {
            "error_x": {
             "color": "#2a3f5f"
            },
            "error_y": {
             "color": "#2a3f5f"
            },
            "marker": {
             "line": {
              "color": "#E5ECF6",
              "width": 0.5
             },
             "pattern": {
              "fillmode": "overlay",
              "size": 10,
              "solidity": 0.2
             }
            },
            "type": "bar"
           }
          ],
          "barpolar": [
           {
            "marker": {
             "line": {
              "color": "#E5ECF6",
              "width": 0.5
             },
             "pattern": {
              "fillmode": "overlay",
              "size": 10,
              "solidity": 0.2
             }
            },
            "type": "barpolar"
           }
          ],
          "carpet": [
           {
            "aaxis": {
             "endlinecolor": "#2a3f5f",
             "gridcolor": "white",
             "linecolor": "white",
             "minorgridcolor": "white",
             "startlinecolor": "#2a3f5f"
            },
            "baxis": {
             "endlinecolor": "#2a3f5f",
             "gridcolor": "white",
             "linecolor": "white",
             "minorgridcolor": "white",
             "startlinecolor": "#2a3f5f"
            },
            "type": "carpet"
           }
          ],
          "choropleth": [
           {
            "colorbar": {
             "outlinewidth": 0,
             "ticks": ""
            },
            "type": "choropleth"
           }
          ],
          "contour": [
           {
            "colorbar": {
             "outlinewidth": 0,
             "ticks": ""
            },
            "colorscale": [
             [
              0,
              "#0d0887"
             ],
             [
              0.1111111111111111,
              "#46039f"
             ],
             [
              0.2222222222222222,
              "#7201a8"
             ],
             [
              0.3333333333333333,
              "#9c179e"
             ],
             [
              0.4444444444444444,
              "#bd3786"
             ],
             [
              0.5555555555555556,
              "#d8576b"
             ],
             [
              0.6666666666666666,
              "#ed7953"
             ],
             [
              0.7777777777777778,
              "#fb9f3a"
             ],
             [
              0.8888888888888888,
              "#fdca26"
             ],
             [
              1,
              "#f0f921"
             ]
            ],
            "type": "contour"
           }
          ],
          "contourcarpet": [
           {
            "colorbar": {
             "outlinewidth": 0,
             "ticks": ""
            },
            "type": "contourcarpet"
           }
          ],
          "heatmap": [
           {
            "colorbar": {
             "outlinewidth": 0,
             "ticks": ""
            },
            "colorscale": [
             [
              0,
              "#0d0887"
             ],
             [
              0.1111111111111111,
              "#46039f"
             ],
             [
              0.2222222222222222,
              "#7201a8"
             ],
             [
              0.3333333333333333,
              "#9c179e"
             ],
             [
              0.4444444444444444,
              "#bd3786"
             ],
             [
              0.5555555555555556,
              "#d8576b"
             ],
             [
              0.6666666666666666,
              "#ed7953"
             ],
             [
              0.7777777777777778,
              "#fb9f3a"
             ],
             [
              0.8888888888888888,
              "#fdca26"
             ],
             [
              1,
              "#f0f921"
             ]
            ],
            "type": "heatmap"
           }
          ],
          "histogram": [
           {
            "marker": {
             "pattern": {
              "fillmode": "overlay",
              "size": 10,
              "solidity": 0.2
             }
            },
            "type": "histogram"
           }
          ],
          "histogram2d": [
           {
            "colorbar": {
             "outlinewidth": 0,
             "ticks": ""
            },
            "colorscale": [
             [
              0,
              "#0d0887"
             ],
             [
              0.1111111111111111,
              "#46039f"
             ],
             [
              0.2222222222222222,
              "#7201a8"
             ],
             [
              0.3333333333333333,
              "#9c179e"
             ],
             [
              0.4444444444444444,
              "#bd3786"
             ],
             [
              0.5555555555555556,
              "#d8576b"
             ],
             [
              0.6666666666666666,
              "#ed7953"
             ],
             [
              0.7777777777777778,
              "#fb9f3a"
             ],
             [
              0.8888888888888888,
              "#fdca26"
             ],
             [
              1,
              "#f0f921"
             ]
            ],
            "type": "histogram2d"
           }
          ],
          "histogram2dcontour": [
           {
            "colorbar": {
             "outlinewidth": 0,
             "ticks": ""
            },
            "colorscale": [
             [
              0,
              "#0d0887"
             ],
             [
              0.1111111111111111,
              "#46039f"
             ],
             [
              0.2222222222222222,
              "#7201a8"
             ],
             [
              0.3333333333333333,
              "#9c179e"
             ],
             [
              0.4444444444444444,
              "#bd3786"
             ],
             [
              0.5555555555555556,
              "#d8576b"
             ],
             [
              0.6666666666666666,
              "#ed7953"
             ],
             [
              0.7777777777777778,
              "#fb9f3a"
             ],
             [
              0.8888888888888888,
              "#fdca26"
             ],
             [
              1,
              "#f0f921"
             ]
            ],
            "type": "histogram2dcontour"
           }
          ],
          "mesh3d": [
           {
            "colorbar": {
             "outlinewidth": 0,
             "ticks": ""
            },
            "type": "mesh3d"
           }
          ],
          "parcoords": [
           {
            "line": {
             "colorbar": {
              "outlinewidth": 0,
              "ticks": ""
             }
            },
            "type": "parcoords"
           }
          ],
          "pie": [
           {
            "automargin": true,
            "type": "pie"
           }
          ],
          "scatter": [
           {
            "fillpattern": {
             "fillmode": "overlay",
             "size": 10,
             "solidity": 0.2
            },
            "type": "scatter"
           }
          ],
          "scatter3d": [
           {
            "line": {
             "colorbar": {
              "outlinewidth": 0,
              "ticks": ""
             }
            },
            "marker": {
             "colorbar": {
              "outlinewidth": 0,
              "ticks": ""
             }
            },
            "type": "scatter3d"
           }
          ],
          "scattercarpet": [
           {
            "marker": {
             "colorbar": {
              "outlinewidth": 0,
              "ticks": ""
             }
            },
            "type": "scattercarpet"
           }
          ],
          "scattergeo": [
           {
            "marker": {
             "colorbar": {
              "outlinewidth": 0,
              "ticks": ""
             }
            },
            "type": "scattergeo"
           }
          ],
          "scattergl": [
           {
            "marker": {
             "colorbar": {
              "outlinewidth": 0,
              "ticks": ""
             }
            },
            "type": "scattergl"
           }
          ],
          "scattermap": [
           {
            "marker": {
             "colorbar": {
              "outlinewidth": 0,
              "ticks": ""
             }
            },
            "type": "scattermap"
           }
          ],
          "scattermapbox": [
           {
            "marker": {
             "colorbar": {
              "outlinewidth": 0,
              "ticks": ""
             }
            },
            "type": "scattermapbox"
           }
          ],
          "scatterpolar": [
           {
            "marker": {
             "colorbar": {
              "outlinewidth": 0,
              "ticks": ""
             }
            },
            "type": "scatterpolar"
           }
          ],
          "scatterpolargl": [
           {
            "marker": {
             "colorbar": {
              "outlinewidth": 0,
              "ticks": ""
             }
            },
            "type": "scatterpolargl"
           }
          ],
          "scatterternary": [
           {
            "marker": {
             "colorbar": {
              "outlinewidth": 0,
              "ticks": ""
             }
            },
            "type": "scatterternary"
           }
          ],
          "surface": [
           {
            "colorbar": {
             "outlinewidth": 0,
             "ticks": ""
            },
            "colorscale": [
             [
              0,
              "#0d0887"
             ],
             [
              0.1111111111111111,
              "#46039f"
             ],
             [
              0.2222222222222222,
              "#7201a8"
             ],
             [
              0.3333333333333333,
              "#9c179e"
             ],
             [
              0.4444444444444444,
              "#bd3786"
             ],
             [
              0.5555555555555556,
              "#d8576b"
             ],
             [
              0.6666666666666666,
              "#ed7953"
             ],
             [
              0.7777777777777778,
              "#fb9f3a"
             ],
             [
              0.8888888888888888,
              "#fdca26"
             ],
             [
              1,
              "#f0f921"
             ]
            ],
            "type": "surface"
           }
          ],
          "table": [
           {
            "cells": {
             "fill": {
              "color": "#EBF0F8"
             },
             "line": {
              "color": "white"
             }
            },
            "header": {
             "fill": {
              "color": "#C8D4E3"
             },
             "line": {
              "color": "white"
             }
            },
            "type": "table"
           }
          ]
         },
         "layout": {
          "annotationdefaults": {
           "arrowcolor": "#2a3f5f",
           "arrowhead": 0,
           "arrowwidth": 1
          },
          "autotypenumbers": "strict",
          "coloraxis": {
           "colorbar": {
            "outlinewidth": 0,
            "ticks": ""
           }
          },
          "colorscale": {
           "diverging": [
            [
             0,
             "#8e0152"
            ],
            [
             0.1,
             "#c51b7d"
            ],
            [
             0.2,
             "#de77ae"
            ],
            [
             0.3,
             "#f1b6da"
            ],
            [
             0.4,
             "#fde0ef"
            ],
            [
             0.5,
             "#f7f7f7"
            ],
            [
             0.6,
             "#e6f5d0"
            ],
            [
             0.7,
             "#b8e186"
            ],
            [
             0.8,
             "#7fbc41"
            ],
            [
             0.9,
             "#4d9221"
            ],
            [
             1,
             "#276419"
            ]
           ],
           "sequential": [
            [
             0,
             "#0d0887"
            ],
            [
             0.1111111111111111,
             "#46039f"
            ],
            [
             0.2222222222222222,
             "#7201a8"
            ],
            [
             0.3333333333333333,
             "#9c179e"
            ],
            [
             0.4444444444444444,
             "#bd3786"
            ],
            [
             0.5555555555555556,
             "#d8576b"
            ],
            [
             0.6666666666666666,
             "#ed7953"
            ],
            [
             0.7777777777777778,
             "#fb9f3a"
            ],
            [
             0.8888888888888888,
             "#fdca26"
            ],
            [
             1,
             "#f0f921"
            ]
           ],
           "sequentialminus": [
            [
             0,
             "#0d0887"
            ],
            [
             0.1111111111111111,
             "#46039f"
            ],
            [
             0.2222222222222222,
             "#7201a8"
            ],
            [
             0.3333333333333333,
             "#9c179e"
            ],
            [
             0.4444444444444444,
             "#bd3786"
            ],
            [
             0.5555555555555556,
             "#d8576b"
            ],
            [
             0.6666666666666666,
             "#ed7953"
            ],
            [
             0.7777777777777778,
             "#fb9f3a"
            ],
            [
             0.8888888888888888,
             "#fdca26"
            ],
            [
             1,
             "#f0f921"
            ]
           ]
          },
          "colorway": [
           "#636efa",
           "#EF553B",
           "#00cc96",
           "#ab63fa",
           "#FFA15A",
           "#19d3f3",
           "#FF6692",
           "#B6E880",
           "#FF97FF",
           "#FECB52"
          ],
          "font": {
           "color": "#2a3f5f"
          },
          "geo": {
           "bgcolor": "white",
           "lakecolor": "white",
           "landcolor": "#E5ECF6",
           "showlakes": true,
           "showland": true,
           "subunitcolor": "white"
          },
          "hoverlabel": {
           "align": "left"
          },
          "hovermode": "closest",
          "mapbox": {
           "style": "light"
          },
          "paper_bgcolor": "white",
          "plot_bgcolor": "#E5ECF6",
          "polar": {
           "angularaxis": {
            "gridcolor": "white",
            "linecolor": "white",
            "ticks": ""
           },
           "bgcolor": "#E5ECF6",
           "radialaxis": {
            "gridcolor": "white",
            "linecolor": "white",
            "ticks": ""
           }
          },
          "scene": {
           "xaxis": {
            "backgroundcolor": "#E5ECF6",
            "gridcolor": "white",
            "gridwidth": 2,
            "linecolor": "white",
            "showbackground": true,
            "ticks": "",
            "zerolinecolor": "white"
           },
           "yaxis": {
            "backgroundcolor": "#E5ECF6",
            "gridcolor": "white",
            "gridwidth": 2,
            "linecolor": "white",
            "showbackground": true,
            "ticks": "",
            "zerolinecolor": "white"
           },
           "zaxis": {
            "backgroundcolor": "#E5ECF6",
            "gridcolor": "white",
            "gridwidth": 2,
            "linecolor": "white",
            "showbackground": true,
            "ticks": "",
            "zerolinecolor": "white"
           }
          },
          "shapedefaults": {
           "line": {
            "color": "#2a3f5f"
           }
          },
          "ternary": {
           "aaxis": {
            "gridcolor": "white",
            "linecolor": "white",
            "ticks": ""
           },
           "baxis": {
            "gridcolor": "white",
            "linecolor": "white",
            "ticks": ""
           },
           "bgcolor": "#E5ECF6",
           "caxis": {
            "gridcolor": "white",
            "linecolor": "white",
            "ticks": ""
           }
          },
          "title": {
           "x": 0.05
          },
          "xaxis": {
           "automargin": true,
           "gridcolor": "white",
           "linecolor": "white",
           "ticks": "",
           "title": {
            "standoff": 15
           },
           "zerolinecolor": "white",
           "zerolinewidth": 2
          },
          "yaxis": {
           "automargin": true,
           "gridcolor": "white",
           "linecolor": "white",
           "ticks": "",
           "title": {
            "standoff": 15
           },
           "zerolinecolor": "white",
           "zerolinewidth": 2
          }
         }
        },
        "title": {
         "font": {
          "size": 14
         },
         "text": "Matriz de Dispersão"
        },
        "width": 1200
       }
      }
     },
     "metadata": {},
     "output_type": "display_data"
    }
   ],
   "source": [
    "# Matriz de Dispersão\n",
    "\n",
    "fig = px.scatter_matrix(df_employees, dimensions=col_number,\n",
    "                        color='churn', title='Matriz de Dispersão')\n",
    "\n",
    "fig.update_layout(\n",
    "    width=1200,\n",
    "    height=1000,\n",
    "    title_font=dict(size=14),\n",
    "    font=dict(size=9)\n",
    ")\n",
    "\n",
    "fig.show()"
   ]
  },
  {
   "cell_type": "code",
   "execution_count": 60,
   "id": "346a5fb8",
   "metadata": {},
   "outputs": [
    {
     "name": "stdout",
     "output_type": "stream",
     "text": [
      "\n",
      "Teste Chi-quadrado pra genero VS Churn:\n",
      "P-Valor :0.6391382063144609\n",
      "As variáveis genero e Churn são independentes\n",
      "\n",
      "Teste Chi-quadrado pra estado_civil VS Churn:\n",
      "P-Valor :0.8332629331272039\n",
      "As variáveis estado_civil e Churn são independentes\n",
      "\n",
      "Teste Chi-quadrado pra educacao VS Churn:\n",
      "P-Valor :0.20475149121388256\n",
      "As variáveis educacao e Churn são independentes\n",
      "\n",
      "Teste Chi-quadrado pra regime_trabalho VS Churn:\n",
      "P-Valor :0.9751275918764937\n",
      "As variáveis regime_trabalho e Churn são independentes\n",
      "\n",
      "Teste Chi-quadrado pra tipo_demissao VS Churn:\n",
      "P-Valor :1.0\n",
      "As variáveis tipo_demissao e Churn são independentes\n",
      "\n",
      "Teste Chi-quadrado pra cargo VS Churn:\n",
      "P-Valor :0.4586024122014406\n",
      "As variáveis cargo e Churn são independentes\n"
     ]
    }
   ],
   "source": [
    "# Teste de hipóteses para variáveis categóricas vs Churn\n",
    "col_cat = df_employees.select_dtypes(include=['object']).columns\n",
    "for col in col_cat:\n",
    "    contingency_table = pd.crosstab(df_employees['churn'], df_employees[col])\n",
    "    chi2, p_value, dof, expected = chi2_contingency(contingency_table)\n",
    "    print(f'\\nTeste Chi-quadrado pra {col} VS Churn:')\n",
    "    print(f'P-Valor :{p_value}')\n",
    "    if p_value <= 0.051:\n",
    "        print(f'As variáveis {col} e Churn não são independentes')\n",
    "    else:\n",
    "        print(f'As variáveis {col} e Churn são independentes')"
   ]
  },
  {
   "cell_type": "code",
   "execution_count": 61,
   "id": "5f3e5664",
   "metadata": {},
   "outputs": [
    {
     "data": {
      "application/vnd.plotly.v1+json": {
       "config": {
        "plotlyServerURL": "https://plot.ly"
       },
       "data": [
        {
         "alignmentgroup": "True",
         "bingroup": "x",
         "hovertemplate": "churn=0<br>genero=%{x}<br>count=%{y}<extra></extra>",
         "legendgroup": "0",
         "marker": {
          "color": "#636efa",
          "pattern": {
           "shape": ""
          }
         },
         "name": "0",
         "offsetgroup": "0",
         "orientation": "v",
         "showlegend": true,
         "type": "histogram",
         "x": [
          "F",
          "Outro",
          "M",
          "M",
          "Outro",
          "Outro",
          "F",
          "M",
          "M",
          "M",
          "Outro",
          "F",
          "Outro",
          "M",
          "F",
          "Outro",
          "Outro",
          "Outro",
          "F",
          "F",
          "Outro",
          "F",
          "F",
          "Outro",
          "M",
          "F",
          "F",
          "M",
          "Outro",
          "Outro",
          "Outro",
          "F",
          "F",
          "M",
          "Outro",
          "Outro",
          "Outro",
          "M",
          "M",
          "F",
          "M",
          "Outro",
          "F",
          "Outro",
          "Outro",
          "M",
          "M",
          "F",
          "M",
          "Outro",
          "Outro",
          "M",
          "Outro",
          "M",
          "M",
          "M",
          "M",
          "Outro",
          "M",
          "F",
          "F",
          "M",
          "F",
          "M",
          "Outro",
          "Outro",
          "Outro",
          "M",
          "M",
          "F",
          "F",
          "F",
          "Outro",
          "F",
          "Outro",
          "F",
          "Outro",
          "Outro",
          "F",
          "F",
          "F",
          "F",
          "M",
          "M",
          "Outro",
          "Outro",
          "M",
          "Outro",
          "Outro",
          "F",
          "F",
          "Outro",
          "Outro",
          "Outro",
          "M",
          "M",
          "F",
          "M",
          "Outro",
          "Outro",
          "M",
          "F",
          "Outro",
          "Outro",
          "F",
          "M",
          "M",
          "Outro",
          "Outro",
          "Outro",
          "F",
          "M",
          "Outro",
          "F",
          "Outro",
          "F",
          "F",
          "Outro",
          "F",
          "Outro",
          "Outro",
          "M",
          "F",
          "M",
          "F",
          "M",
          "F",
          "F",
          "Outro",
          "F",
          "F",
          "Outro",
          "F",
          "F",
          "F",
          "F",
          "Outro",
          "Outro",
          "M",
          "Outro",
          "Outro",
          "Outro",
          "F",
          "Outro",
          "F",
          "F",
          "M",
          "F",
          "M",
          "Outro",
          "Outro",
          "M",
          "F",
          "F",
          "F",
          "F",
          "Outro",
          "M",
          "F",
          "M",
          "M",
          "Outro",
          "Outro",
          "F",
          "F",
          "M",
          "Outro",
          "F",
          "M",
          "Outro",
          "F",
          "F",
          "F",
          "F",
          "M",
          "M",
          "Outro",
          "M",
          "F",
          "M",
          "F",
          "M",
          "F",
          "F",
          "Outro",
          "M",
          "F",
          "Outro",
          "F",
          "M",
          "Outro",
          "F",
          "M",
          "F",
          "F",
          "Outro",
          "M",
          "M",
          "Outro",
          "F",
          "Outro",
          "M",
          "M",
          "Outro",
          "M",
          "F",
          "F",
          "F",
          "F",
          "Outro",
          "Outro",
          "M",
          "Outro",
          "F",
          "F",
          "M",
          "M",
          "Outro",
          "M",
          "F",
          "F",
          "M",
          "M",
          "Outro",
          "Outro",
          "M",
          "Outro",
          "F",
          "M",
          "F",
          "M",
          "F",
          "M",
          "F",
          "Outro",
          "F",
          "Outro",
          "M",
          "F",
          "Outro",
          "M",
          "F",
          "Outro",
          "M",
          "F",
          "M",
          "Outro",
          "M",
          "F",
          "M",
          "Outro",
          "M",
          "M",
          "F",
          "F",
          "Outro",
          "F",
          "F",
          "M",
          "M",
          "Outro",
          "F",
          "F",
          "M",
          "Outro",
          "M",
          "Outro",
          "F",
          "M",
          "M",
          "F",
          "M",
          "M",
          "Outro",
          "F",
          "M",
          "M",
          "Outro",
          "F",
          "F",
          "Outro",
          "Outro",
          "Outro",
          "Outro",
          "F",
          "F",
          "M",
          "M",
          "Outro",
          "M",
          "F",
          "M",
          "Outro",
          "M",
          "Outro",
          "Outro",
          "Outro",
          "Outro",
          "F",
          "M",
          "M",
          "M",
          "M",
          "M",
          "F",
          "Outro",
          "F",
          "F",
          "Outro",
          "Outro",
          "F",
          "F",
          "Outro",
          "M",
          "M",
          "M",
          "Outro",
          "F",
          "F",
          "M",
          "F",
          "F",
          "M",
          "M",
          "M",
          "M",
          "Outro",
          "Outro",
          "F",
          "Outro",
          "M",
          "F",
          "M",
          "Outro",
          "Outro",
          "F",
          "M",
          "F",
          "Outro",
          "F",
          "M",
          "F",
          "Outro",
          "M",
          "Outro",
          "Outro",
          "Outro",
          "Outro",
          "Outro",
          "M",
          "Outro",
          "F",
          "F",
          "Outro",
          "M",
          "F",
          "M",
          "F",
          "F",
          "Outro",
          "M",
          "M",
          "F",
          "F",
          "M",
          "F",
          "M",
          "Outro",
          "F",
          "M",
          "F",
          "Outro",
          "F",
          "F",
          "M",
          "Outro",
          "Outro",
          "F",
          "Outro",
          "F",
          "M",
          "M",
          "F",
          "F",
          "M",
          "M",
          "Outro",
          "M",
          "Outro",
          "M",
          "F",
          "M",
          "Outro",
          "Outro",
          "Outro",
          "M",
          "M",
          "Outro",
          "M",
          "M",
          "Outro",
          "Outro",
          "M",
          "Outro",
          "F",
          "Outro",
          "M",
          "Outro",
          "Outro",
          "M",
          "Outro",
          "Outro",
          "Outro",
          "M",
          "F",
          "M",
          "Outro",
          "M",
          "M",
          "F",
          "M",
          "F",
          "F",
          "F",
          "M",
          "M",
          "M",
          "Outro",
          "Outro",
          "F",
          "Outro",
          "F",
          "F",
          "F",
          "Outro",
          "Outro",
          "Outro",
          "Outro",
          "F",
          "Outro",
          "M",
          "F",
          "M",
          "F",
          "Outro",
          "M",
          "Outro",
          "F",
          "Outro",
          "Outro",
          "M",
          "F",
          "F",
          "F",
          "F",
          "F",
          "Outro",
          "Outro",
          "F",
          "F",
          "Outro",
          "F",
          "F",
          "M",
          "F",
          "Outro",
          "Outro",
          "Outro",
          "M",
          "F",
          "Outro",
          "M",
          "M",
          "Outro",
          "M",
          "F",
          "Outro",
          "F",
          "M",
          "F",
          "M",
          "Outro",
          "M",
          "F",
          "M",
          "M",
          "F",
          "Outro",
          "M",
          "Outro",
          "Outro",
          "M",
          "M",
          "Outro",
          "F",
          "F",
          "M",
          "Outro",
          "Outro",
          "F",
          "Outro",
          "M",
          "Outro",
          "Outro",
          "M",
          "F",
          "Outro",
          "M",
          "F",
          "M",
          "M",
          "Outro",
          "F",
          "F",
          "M",
          "M",
          "F",
          "M",
          "M",
          "Outro",
          "M",
          "Outro",
          "F",
          "M",
          "F",
          "F",
          "M",
          "Outro",
          "F",
          "M",
          "F",
          "M",
          "Outro",
          "M",
          "Outro",
          "M",
          "M",
          "M",
          "F",
          "Outro",
          "F",
          "M",
          "Outro",
          "F",
          "F",
          "M",
          "Outro",
          "M",
          "F",
          "Outro",
          "Outro",
          "M",
          "F",
          "Outro",
          "Outro",
          "F",
          "M",
          "F",
          "Outro",
          "F",
          "Outro",
          "Outro",
          "F",
          "M",
          "Outro",
          "M",
          "M",
          "M",
          "F",
          "Outro",
          "M",
          "M",
          "Outro",
          "F",
          "Outro",
          "M",
          "F",
          "Outro",
          "M",
          "F",
          "Outro",
          "M",
          "Outro",
          "Outro",
          "Outro",
          "F",
          "M",
          "Outro",
          "M",
          "Outro",
          "Outro",
          "F",
          "F",
          "F",
          "M",
          "F",
          "M",
          "Outro",
          "M",
          "M",
          "M",
          "Outro",
          "F",
          "M",
          "Outro",
          "F",
          "F",
          "Outro",
          "M",
          "F",
          "Outro",
          "Outro",
          "F",
          "F",
          "F",
          "Outro",
          "F",
          "M",
          "Outro",
          "F",
          "M",
          "F",
          "F",
          "Outro",
          "F",
          "F",
          "F",
          "Outro",
          "M",
          "F",
          "Outro",
          "Outro",
          "M",
          "F",
          "Outro",
          "Outro",
          "F",
          "F",
          "M",
          "M",
          "M",
          "M",
          "Outro",
          "Outro",
          "Outro",
          "M",
          "F",
          "Outro",
          "Outro",
          "F",
          "M",
          "M",
          "M",
          "F",
          "F",
          "Outro",
          "F",
          "M",
          "M",
          "M",
          "F",
          "F",
          "M",
          "Outro",
          "Outro",
          "Outro",
          "M",
          "Outro",
          "F",
          "Outro",
          "Outro",
          "F",
          "F",
          "M",
          "Outro",
          "Outro",
          "Outro",
          "Outro",
          "M",
          "Outro",
          "M",
          "M",
          "F",
          "M",
          "F",
          "M",
          "M",
          "Outro",
          "F",
          "M",
          "M",
          "Outro",
          "M",
          "Outro",
          "M",
          "M",
          "F",
          "F",
          "Outro",
          "M",
          "Outro",
          "Outro",
          "M",
          "Outro",
          "F",
          "Outro",
          "F",
          "Outro",
          "M",
          "M",
          "F",
          "Outro",
          "Outro",
          "F",
          "M",
          "F",
          "F",
          "F",
          "F",
          "M",
          "F",
          "F",
          "M",
          "M",
          "M",
          "M",
          "M",
          "F",
          "F",
          "F",
          "M",
          "Outro",
          "F",
          "F",
          "M",
          "F",
          "F",
          "Outro",
          "F",
          "F",
          "F",
          "F",
          "M",
          "F",
          "Outro",
          "F",
          "M",
          "M",
          "M",
          "M",
          "M",
          "M",
          "Outro",
          "F",
          "M",
          "M",
          "M",
          "F",
          "M",
          "Outro",
          "M",
          "M",
          "Outro",
          "Outro",
          "Outro",
          "M",
          "F",
          "Outro",
          "M",
          "F",
          "F",
          "Outro",
          "F",
          "M",
          "F",
          "F",
          "M",
          "Outro",
          "M",
          "F",
          "F",
          "F",
          "F",
          "F",
          "F",
          "M",
          "F",
          "F",
          "F",
          "Outro",
          "F",
          "M",
          "F",
          "M",
          "F",
          "F",
          "M",
          "M",
          "Outro",
          "Outro",
          "F",
          "M",
          "Outro",
          "F",
          "F",
          "F",
          "M",
          "M",
          "M",
          "F",
          "M",
          "M",
          "M",
          "Outro",
          "F",
          "F",
          "F",
          "M",
          "M",
          "F",
          "Outro",
          "M",
          "Outro",
          "M",
          "M",
          "F",
          "F",
          "M",
          "F",
          "M",
          "F",
          "F",
          "M",
          "M",
          "Outro",
          "Outro",
          "M",
          "M",
          "Outro",
          "F",
          "Outro",
          "M",
          "M",
          "F",
          "M",
          "M",
          "Outro",
          "M",
          "Outro",
          "F",
          "Outro",
          "M",
          "Outro",
          "M",
          "F",
          "Outro",
          "Outro",
          "F",
          "M",
          "M",
          "M",
          "F",
          "F",
          "F",
          "M",
          "M",
          "Outro",
          "Outro",
          "Outro",
          "Outro",
          "M",
          "F",
          "Outro",
          "F",
          "F",
          "F",
          "F",
          "F",
          "Outro",
          "F",
          "F",
          "F",
          "F",
          "Outro",
          "Outro",
          "F",
          "F",
          "M",
          "M",
          "Outro",
          "F",
          "F",
          "M",
          "M",
          "Outro",
          "F",
          "Outro",
          "M",
          "M",
          "Outro",
          "F",
          "F",
          "F",
          "M",
          "Outro",
          "F",
          "M",
          "Outro",
          "M",
          "M",
          "M",
          "Outro",
          "Outro",
          "Outro",
          "M",
          "M",
          "F",
          "Outro",
          "M",
          "M",
          "Outro",
          "Outro",
          "F",
          "F",
          "F",
          "M",
          "M",
          "M",
          "Outro",
          "M",
          "F",
          "Outro",
          "M",
          "M",
          "Outro",
          "M",
          "Outro",
          "M",
          "Outro",
          "Outro",
          "Outro",
          "Outro",
          "M",
          "F",
          "M",
          "M",
          "F",
          "M",
          "M",
          "Outro",
          "M",
          "Outro",
          "Outro",
          "F",
          "M",
          "Outro",
          "F",
          "Outro",
          "F",
          "Outro",
          "Outro",
          "Outro",
          "M",
          "Outro",
          "Outro",
          "Outro",
          "F",
          "Outro",
          "M",
          "Outro",
          "M",
          "M",
          "F",
          "Outro",
          "F",
          "Outro",
          "M",
          "M",
          "F",
          "Outro",
          "F",
          "F",
          "M",
          "M",
          "M",
          "M",
          "M",
          "F",
          "F",
          "Outro",
          "Outro",
          "F",
          "M",
          "Outro",
          "Outro",
          "M",
          "M",
          "Outro",
          "Outro",
          "Outro",
          "M",
          "M",
          "F",
          "Outro",
          "Outro",
          "F",
          "M",
          "Outro",
          "F",
          "M",
          "Outro",
          "M",
          "F",
          "M",
          "M",
          "M",
          "Outro",
          "M",
          "M",
          "M",
          "M",
          "M",
          "M",
          "Outro",
          "F",
          "Outro",
          "Outro",
          "M",
          "Outro",
          "Outro",
          "F",
          "Outro",
          "F",
          "Outro",
          "M",
          "M",
          "Outro",
          "Outro",
          "M",
          "M",
          "M",
          "F",
          "Outro",
          "Outro",
          "M",
          "Outro",
          "M",
          "M",
          "F",
          "M",
          "Outro",
          "Outro",
          "M",
          "Outro",
          "F",
          "M",
          "M",
          "F",
          "M",
          "M",
          "Outro",
          "M",
          "M",
          "F",
          "F",
          "M",
          "M",
          "Outro",
          "M",
          "M",
          "M",
          "Outro",
          "Outro",
          "F",
          "Outro",
          "F",
          "Outro",
          "F",
          "M",
          "Outro",
          "F",
          "F",
          "F",
          "M",
          "F",
          "F",
          "Outro",
          "Outro",
          "Outro",
          "M",
          "F",
          "F",
          "F",
          "Outro",
          "M",
          "F",
          "F",
          "M",
          "Outro",
          "M",
          "Outro",
          "M",
          "M",
          "F",
          "M",
          "M",
          "M",
          "F",
          "Outro",
          "M",
          "F",
          "M",
          "F",
          "Outro",
          "Outro",
          "Outro",
          "F",
          "Outro",
          "Outro",
          "F",
          "M",
          "Outro",
          "Outro",
          "Outro",
          "F",
          "M",
          "F",
          "Outro",
          "Outro",
          "F",
          "Outro",
          "Outro",
          "M",
          "Outro",
          "F",
          "F",
          "F",
          "Outro",
          "M",
          "F",
          "F",
          "M",
          "Outro",
          "Outro",
          "Outro",
          "F",
          "M",
          "M",
          "F",
          "Outro",
          "Outro",
          "F",
          "F",
          "M",
          "F",
          "F",
          "Outro",
          "Outro",
          "Outro",
          "M",
          "F",
          "Outro",
          "M",
          "M",
          "Outro",
          "F",
          "F",
          "M",
          "F",
          "F",
          "F",
          "F",
          "F",
          "F",
          "M",
          "Outro",
          "Outro",
          "M",
          "Outro",
          "F",
          "F",
          "F",
          "F",
          "F",
          "F",
          "F",
          "F",
          "M",
          "M",
          "F",
          "F",
          "Outro",
          "M",
          "F",
          "M",
          "M",
          "F",
          "M",
          "M",
          "Outro",
          "M",
          "F",
          "M",
          "F",
          "F",
          "M",
          "Outro",
          "Outro",
          "F",
          "M",
          "F",
          "Outro",
          "Outro",
          "F",
          "M",
          "Outro",
          "Outro",
          "F",
          "Outro",
          "F",
          "M",
          "Outro",
          "F",
          "F",
          "Outro",
          "Outro",
          "F",
          "Outro",
          "Outro",
          "M",
          "Outro",
          "M",
          "Outro",
          "Outro",
          "M",
          "Outro",
          "Outro",
          "Outro",
          "M",
          "M",
          "M",
          "Outro",
          "F",
          "M",
          "F",
          "Outro",
          "M",
          "Outro",
          "F",
          "F",
          "M",
          "M",
          "Outro",
          "Outro",
          "Outro",
          "M",
          "M",
          "Outro",
          "M",
          "F",
          "Outro",
          "Outro",
          "F",
          "M",
          "Outro",
          "M",
          "F",
          "Outro",
          "M",
          "M",
          "M",
          "F",
          "Outro",
          "F",
          "Outro",
          "F",
          "F",
          "M",
          "Outro",
          "M",
          "F",
          "M",
          "M",
          "F",
          "M",
          "F",
          "Outro",
          "Outro",
          "F",
          "Outro",
          "M",
          "F",
          "Outro",
          "Outro",
          "Outro",
          "Outro",
          "M",
          "F",
          "M",
          "Outro",
          "Outro",
          "Outro",
          "F",
          "M",
          "M",
          "M",
          "M",
          "F",
          "Outro",
          "Outro",
          "F",
          "F",
          "F",
          "Outro",
          "M",
          "M",
          "M",
          "M",
          "M",
          "Outro",
          "Outro",
          "M",
          "M",
          "M",
          "Outro",
          "F",
          "M",
          "F",
          "Outro",
          "Outro",
          "M",
          "Outro",
          "F",
          "Outro",
          "F",
          "M",
          "Outro",
          "Outro",
          "F",
          "Outro",
          "Outro",
          "Outro",
          "M",
          "M",
          "F",
          "F",
          "F",
          "F",
          "M",
          "Outro",
          "M",
          "M",
          "Outro",
          "F",
          "F",
          "M",
          "Outro",
          "F",
          "F",
          "Outro",
          "M",
          "F",
          "F",
          "F",
          "Outro",
          "Outro",
          "Outro",
          "Outro",
          "F",
          "F",
          "Outro",
          "Outro",
          "Outro",
          "M",
          "Outro",
          "Outro",
          "Outro",
          "M",
          "F",
          "Outro",
          "F",
          "Outro",
          "F",
          "F",
          "M",
          "F",
          "M",
          "M",
          "F",
          "F",
          "F",
          "M",
          "M",
          "F",
          "M",
          "Outro",
          "M",
          "Outro",
          "M",
          "F",
          "Outro",
          "Outro",
          "F",
          "Outro",
          "M",
          "F",
          "F",
          "F",
          "M",
          "Outro",
          "M",
          "M",
          "F",
          "Outro",
          "M",
          "Outro",
          "M",
          "M",
          "F",
          "F",
          "M",
          "Outro",
          "Outro",
          "M",
          "M",
          "M",
          "M",
          "Outro",
          "F",
          "Outro",
          "Outro",
          "M",
          "M",
          "Outro",
          "Outro",
          "Outro",
          "Outro",
          "Outro",
          "F",
          "F",
          "M",
          "M",
          "M",
          "F",
          "M",
          "Outro",
          "Outro",
          "F",
          "Outro",
          "Outro",
          "F",
          "Outro",
          "M",
          "M",
          "Outro",
          "Outro",
          "M",
          "M",
          "F",
          "F",
          "Outro",
          "M",
          "Outro",
          "F",
          "Outro",
          "M",
          "Outro",
          "F",
          "F",
          "Outro",
          "Outro",
          "Outro",
          "Outro",
          "F",
          "M",
          "M",
          "Outro",
          "F",
          "Outro",
          "Outro",
          "M",
          "M",
          "M",
          "M",
          "Outro",
          "M",
          "F",
          "Outro",
          "Outro",
          "Outro",
          "Outro",
          "Outro",
          "M",
          "Outro",
          "M",
          "F",
          "F",
          "M",
          "Outro",
          "M",
          "M",
          "F",
          "Outro",
          "Outro",
          "M",
          "Outro",
          "F",
          "Outro",
          "M",
          "F",
          "Outro",
          "M",
          "Outro",
          "F",
          "Outro",
          "F",
          "F",
          "F",
          "Outro",
          "Outro",
          "F",
          "Outro",
          "M",
          "Outro",
          "F",
          "F",
          "F",
          "M",
          "F",
          "F",
          "M",
          "M",
          "Outro",
          "M",
          "M",
          "Outro",
          "M",
          "M",
          "M",
          "M",
          "Outro",
          "M",
          "M",
          "F",
          "Outro",
          "M",
          "Outro",
          "M",
          "Outro",
          "F",
          "M",
          "F",
          "Outro",
          "Outro",
          "F",
          "M",
          "Outro",
          "M",
          "F",
          "M",
          "M",
          "Outro",
          "M",
          "F",
          "Outro",
          "F",
          "Outro",
          "F",
          "F",
          "F",
          "M",
          "Outro",
          "F",
          "F",
          "F",
          "F",
          "M",
          "M",
          "M",
          "M",
          "Outro",
          "F",
          "M",
          "M",
          "Outro",
          "F",
          "F",
          "F",
          "F",
          "F",
          "F",
          "M",
          "Outro",
          "F",
          "M",
          "M",
          "F",
          "M",
          "M",
          "M",
          "F",
          "F",
          "F",
          "Outro",
          "Outro",
          "Outro",
          "M",
          "M",
          "M",
          "F",
          "F",
          "F",
          "F",
          "F",
          "Outro",
          "Outro",
          "M",
          "M",
          "Outro",
          "F",
          "F",
          "F",
          "M",
          "M",
          "M",
          "Outro",
          "M",
          "M",
          "M",
          "F",
          "M",
          "M",
          "Outro",
          "Outro",
          "M",
          "M",
          "F",
          "M",
          "Outro",
          "F",
          "Outro",
          "Outro",
          "Outro",
          "F",
          "Outro",
          "M",
          "Outro",
          "Outro",
          "F",
          "F",
          "F",
          "F",
          "Outro",
          "Outro",
          "M",
          "F",
          "Outro",
          "Outro",
          "M",
          "M",
          "F",
          "M",
          "Outro",
          "F",
          "Outro",
          "M",
          "F",
          "M",
          "M",
          "M",
          "M",
          "F",
          "Outro",
          "F",
          "F",
          "M",
          "F",
          "F",
          "Outro",
          "F",
          "M",
          "M",
          "Outro",
          "F",
          "Outro",
          "Outro",
          "F",
          "Outro",
          "F",
          "Outro",
          "M",
          "M",
          "Outro",
          "M",
          "M",
          "F",
          "F",
          "M",
          "Outro",
          "M",
          "Outro",
          "M",
          "M",
          "M",
          "F",
          "Outro",
          "M",
          "Outro",
          "F",
          "F",
          "Outro",
          "F",
          "F",
          "F"
         ],
         "xaxis": "x",
         "yaxis": "y"
        },
        {
         "alignmentgroup": "True",
         "bingroup": "x",
         "hovertemplate": "churn=1<br>genero=%{x}<br>count=%{y}<extra></extra>",
         "legendgroup": "1",
         "marker": {
          "color": "#EF553B",
          "pattern": {
           "shape": ""
          }
         },
         "name": "1",
         "offsetgroup": "1",
         "orientation": "v",
         "showlegend": true,
         "type": "histogram",
         "x": [
          "M",
          "Outro",
          "Outro",
          "F",
          "Outro",
          "F",
          "Outro",
          "M",
          "Outro",
          "M",
          "F",
          "F",
          "M",
          "F",
          "F",
          "M",
          "M",
          "M",
          "Outro",
          "M",
          "Outro",
          "F",
          "F",
          "F",
          "Outro",
          "F",
          "M",
          "Outro",
          "M",
          "M",
          "Outro",
          "F",
          "Outro",
          "Outro",
          "M",
          "Outro",
          "Outro",
          "F",
          "Outro",
          "Outro",
          "M",
          "Outro",
          "M",
          "Outro",
          "F",
          "M",
          "F",
          "Outro",
          "Outro",
          "F",
          "Outro",
          "Outro",
          "M",
          "F",
          "F",
          "F",
          "Outro",
          "F",
          "F",
          "F",
          "F",
          "F",
          "Outro",
          "Outro",
          "M",
          "Outro",
          "Outro",
          "Outro",
          "F",
          "Outro",
          "M",
          "M",
          "M",
          "F",
          "M",
          "Outro",
          "M",
          "F",
          "F",
          "F",
          "Outro",
          "M",
          "M",
          "F",
          "F",
          "F",
          "M",
          "M",
          "Outro",
          "F",
          "M",
          "Outro",
          "F",
          "Outro",
          "M",
          "F",
          "M",
          "F",
          "Outro",
          "F",
          "F",
          "M",
          "F",
          "F",
          "M",
          "F",
          "Outro",
          "F",
          "F",
          "Outro",
          "Outro",
          "M",
          "F",
          "F",
          "F",
          "F",
          "F",
          "Outro",
          "F",
          "M",
          "F",
          "M",
          "Outro",
          "Outro",
          "F",
          "F",
          "Outro",
          "M",
          "F",
          "F",
          "M",
          "M",
          "Outro",
          "M",
          "M",
          "M",
          "Outro",
          "M",
          "M",
          "F",
          "M",
          "F",
          "Outro",
          "Outro",
          "F",
          "M",
          "M",
          "Outro",
          "Outro",
          "M",
          "F",
          "M",
          "F",
          "F",
          "M",
          "F",
          "Outro",
          "M",
          "Outro",
          "M",
          "Outro",
          "Outro",
          "M",
          "M",
          "Outro",
          "M",
          "M",
          "Outro",
          "Outro",
          "F",
          "F",
          "F",
          "F",
          "M",
          "M",
          "M",
          "M",
          "Outro",
          "Outro",
          "F",
          "F",
          "M",
          "F",
          "F",
          "M",
          "F",
          "Outro",
          "F",
          "Outro",
          "M",
          "F",
          "M",
          "F",
          "Outro",
          "F",
          "M",
          "F",
          "M",
          "M",
          "M",
          "F",
          "M",
          "Outro",
          "Outro",
          "F",
          "F",
          "M",
          "M",
          "F",
          "F",
          "Outro",
          "Outro",
          "F",
          "F",
          "M",
          "Outro",
          "F",
          "Outro",
          "Outro",
          "M",
          "M",
          "Outro",
          "Outro",
          "M",
          "F",
          "M",
          "Outro",
          "F",
          "M",
          "Outro",
          "M",
          "F",
          "Outro",
          "Outro",
          "Outro",
          "Outro",
          "Outro",
          "Outro",
          "M",
          "Outro",
          "M",
          "F",
          "Outro",
          "M",
          "M",
          "Outro",
          "F",
          "Outro",
          "F",
          "Outro",
          "Outro",
          "M",
          "M",
          "F",
          "F",
          "F",
          "M",
          "Outro",
          "M",
          "F",
          "M",
          "F",
          "F",
          "F",
          "F",
          "M",
          "Outro",
          "Outro",
          "F",
          "Outro",
          "M",
          "Outro",
          "Outro",
          "M",
          "Outro",
          "M",
          "Outro",
          "Outro",
          "F",
          "Outro",
          "M",
          "Outro",
          "F",
          "Outro",
          "Outro",
          "F"
         ],
         "xaxis": "x",
         "yaxis": "y"
        }
       ],
       "layout": {
        "barmode": "group",
        "legend": {
         "title": {
          "text": "churn"
         },
         "tracegroupgap": 0
        },
        "template": {
         "data": {
          "bar": [
           {
            "error_x": {
             "color": "#2a3f5f"
            },
            "error_y": {
             "color": "#2a3f5f"
            },
            "marker": {
             "line": {
              "color": "#E5ECF6",
              "width": 0.5
             },
             "pattern": {
              "fillmode": "overlay",
              "size": 10,
              "solidity": 0.2
             }
            },
            "type": "bar"
           }
          ],
          "barpolar": [
           {
            "marker": {
             "line": {
              "color": "#E5ECF6",
              "width": 0.5
             },
             "pattern": {
              "fillmode": "overlay",
              "size": 10,
              "solidity": 0.2
             }
            },
            "type": "barpolar"
           }
          ],
          "carpet": [
           {
            "aaxis": {
             "endlinecolor": "#2a3f5f",
             "gridcolor": "white",
             "linecolor": "white",
             "minorgridcolor": "white",
             "startlinecolor": "#2a3f5f"
            },
            "baxis": {
             "endlinecolor": "#2a3f5f",
             "gridcolor": "white",
             "linecolor": "white",
             "minorgridcolor": "white",
             "startlinecolor": "#2a3f5f"
            },
            "type": "carpet"
           }
          ],
          "choropleth": [
           {
            "colorbar": {
             "outlinewidth": 0,
             "ticks": ""
            },
            "type": "choropleth"
           }
          ],
          "contour": [
           {
            "colorbar": {
             "outlinewidth": 0,
             "ticks": ""
            },
            "colorscale": [
             [
              0,
              "#0d0887"
             ],
             [
              0.1111111111111111,
              "#46039f"
             ],
             [
              0.2222222222222222,
              "#7201a8"
             ],
             [
              0.3333333333333333,
              "#9c179e"
             ],
             [
              0.4444444444444444,
              "#bd3786"
             ],
             [
              0.5555555555555556,
              "#d8576b"
             ],
             [
              0.6666666666666666,
              "#ed7953"
             ],
             [
              0.7777777777777778,
              "#fb9f3a"
             ],
             [
              0.8888888888888888,
              "#fdca26"
             ],
             [
              1,
              "#f0f921"
             ]
            ],
            "type": "contour"
           }
          ],
          "contourcarpet": [
           {
            "colorbar": {
             "outlinewidth": 0,
             "ticks": ""
            },
            "type": "contourcarpet"
           }
          ],
          "heatmap": [
           {
            "colorbar": {
             "outlinewidth": 0,
             "ticks": ""
            },
            "colorscale": [
             [
              0,
              "#0d0887"
             ],
             [
              0.1111111111111111,
              "#46039f"
             ],
             [
              0.2222222222222222,
              "#7201a8"
             ],
             [
              0.3333333333333333,
              "#9c179e"
             ],
             [
              0.4444444444444444,
              "#bd3786"
             ],
             [
              0.5555555555555556,
              "#d8576b"
             ],
             [
              0.6666666666666666,
              "#ed7953"
             ],
             [
              0.7777777777777778,
              "#fb9f3a"
             ],
             [
              0.8888888888888888,
              "#fdca26"
             ],
             [
              1,
              "#f0f921"
             ]
            ],
            "type": "heatmap"
           }
          ],
          "histogram": [
           {
            "marker": {
             "pattern": {
              "fillmode": "overlay",
              "size": 10,
              "solidity": 0.2
             }
            },
            "type": "histogram"
           }
          ],
          "histogram2d": [
           {
            "colorbar": {
             "outlinewidth": 0,
             "ticks": ""
            },
            "colorscale": [
             [
              0,
              "#0d0887"
             ],
             [
              0.1111111111111111,
              "#46039f"
             ],
             [
              0.2222222222222222,
              "#7201a8"
             ],
             [
              0.3333333333333333,
              "#9c179e"
             ],
             [
              0.4444444444444444,
              "#bd3786"
             ],
             [
              0.5555555555555556,
              "#d8576b"
             ],
             [
              0.6666666666666666,
              "#ed7953"
             ],
             [
              0.7777777777777778,
              "#fb9f3a"
             ],
             [
              0.8888888888888888,
              "#fdca26"
             ],
             [
              1,
              "#f0f921"
             ]
            ],
            "type": "histogram2d"
           }
          ],
          "histogram2dcontour": [
           {
            "colorbar": {
             "outlinewidth": 0,
             "ticks": ""
            },
            "colorscale": [
             [
              0,
              "#0d0887"
             ],
             [
              0.1111111111111111,
              "#46039f"
             ],
             [
              0.2222222222222222,
              "#7201a8"
             ],
             [
              0.3333333333333333,
              "#9c179e"
             ],
             [
              0.4444444444444444,
              "#bd3786"
             ],
             [
              0.5555555555555556,
              "#d8576b"
             ],
             [
              0.6666666666666666,
              "#ed7953"
             ],
             [
              0.7777777777777778,
              "#fb9f3a"
             ],
             [
              0.8888888888888888,
              "#fdca26"
             ],
             [
              1,
              "#f0f921"
             ]
            ],
            "type": "histogram2dcontour"
           }
          ],
          "mesh3d": [
           {
            "colorbar": {
             "outlinewidth": 0,
             "ticks": ""
            },
            "type": "mesh3d"
           }
          ],
          "parcoords": [
           {
            "line": {
             "colorbar": {
              "outlinewidth": 0,
              "ticks": ""
             }
            },
            "type": "parcoords"
           }
          ],
          "pie": [
           {
            "automargin": true,
            "type": "pie"
           }
          ],
          "scatter": [
           {
            "fillpattern": {
             "fillmode": "overlay",
             "size": 10,
             "solidity": 0.2
            },
            "type": "scatter"
           }
          ],
          "scatter3d": [
           {
            "line": {
             "colorbar": {
              "outlinewidth": 0,
              "ticks": ""
             }
            },
            "marker": {
             "colorbar": {
              "outlinewidth": 0,
              "ticks": ""
             }
            },
            "type": "scatter3d"
           }
          ],
          "scattercarpet": [
           {
            "marker": {
             "colorbar": {
              "outlinewidth": 0,
              "ticks": ""
             }
            },
            "type": "scattercarpet"
           }
          ],
          "scattergeo": [
           {
            "marker": {
             "colorbar": {
              "outlinewidth": 0,
              "ticks": ""
             }
            },
            "type": "scattergeo"
           }
          ],
          "scattergl": [
           {
            "marker": {
             "colorbar": {
              "outlinewidth": 0,
              "ticks": ""
             }
            },
            "type": "scattergl"
           }
          ],
          "scattermap": [
           {
            "marker": {
             "colorbar": {
              "outlinewidth": 0,
              "ticks": ""
             }
            },
            "type": "scattermap"
           }
          ],
          "scattermapbox": [
           {
            "marker": {
             "colorbar": {
              "outlinewidth": 0,
              "ticks": ""
             }
            },
            "type": "scattermapbox"
           }
          ],
          "scatterpolar": [
           {
            "marker": {
             "colorbar": {
              "outlinewidth": 0,
              "ticks": ""
             }
            },
            "type": "scatterpolar"
           }
          ],
          "scatterpolargl": [
           {
            "marker": {
             "colorbar": {
              "outlinewidth": 0,
              "ticks": ""
             }
            },
            "type": "scatterpolargl"
           }
          ],
          "scatterternary": [
           {
            "marker": {
             "colorbar": {
              "outlinewidth": 0,
              "ticks": ""
             }
            },
            "type": "scatterternary"
           }
          ],
          "surface": [
           {
            "colorbar": {
             "outlinewidth": 0,
             "ticks": ""
            },
            "colorscale": [
             [
              0,
              "#0d0887"
             ],
             [
              0.1111111111111111,
              "#46039f"
             ],
             [
              0.2222222222222222,
              "#7201a8"
             ],
             [
              0.3333333333333333,
              "#9c179e"
             ],
             [
              0.4444444444444444,
              "#bd3786"
             ],
             [
              0.5555555555555556,
              "#d8576b"
             ],
             [
              0.6666666666666666,
              "#ed7953"
             ],
             [
              0.7777777777777778,
              "#fb9f3a"
             ],
             [
              0.8888888888888888,
              "#fdca26"
             ],
             [
              1,
              "#f0f921"
             ]
            ],
            "type": "surface"
           }
          ],
          "table": [
           {
            "cells": {
             "fill": {
              "color": "#EBF0F8"
             },
             "line": {
              "color": "white"
             }
            },
            "header": {
             "fill": {
              "color": "#C8D4E3"
             },
             "line": {
              "color": "white"
             }
            },
            "type": "table"
           }
          ]
         },
         "layout": {
          "annotationdefaults": {
           "arrowcolor": "#2a3f5f",
           "arrowhead": 0,
           "arrowwidth": 1
          },
          "autotypenumbers": "strict",
          "coloraxis": {
           "colorbar": {
            "outlinewidth": 0,
            "ticks": ""
           }
          },
          "colorscale": {
           "diverging": [
            [
             0,
             "#8e0152"
            ],
            [
             0.1,
             "#c51b7d"
            ],
            [
             0.2,
             "#de77ae"
            ],
            [
             0.3,
             "#f1b6da"
            ],
            [
             0.4,
             "#fde0ef"
            ],
            [
             0.5,
             "#f7f7f7"
            ],
            [
             0.6,
             "#e6f5d0"
            ],
            [
             0.7,
             "#b8e186"
            ],
            [
             0.8,
             "#7fbc41"
            ],
            [
             0.9,
             "#4d9221"
            ],
            [
             1,
             "#276419"
            ]
           ],
           "sequential": [
            [
             0,
             "#0d0887"
            ],
            [
             0.1111111111111111,
             "#46039f"
            ],
            [
             0.2222222222222222,
             "#7201a8"
            ],
            [
             0.3333333333333333,
             "#9c179e"
            ],
            [
             0.4444444444444444,
             "#bd3786"
            ],
            [
             0.5555555555555556,
             "#d8576b"
            ],
            [
             0.6666666666666666,
             "#ed7953"
            ],
            [
             0.7777777777777778,
             "#fb9f3a"
            ],
            [
             0.8888888888888888,
             "#fdca26"
            ],
            [
             1,
             "#f0f921"
            ]
           ],
           "sequentialminus": [
            [
             0,
             "#0d0887"
            ],
            [
             0.1111111111111111,
             "#46039f"
            ],
            [
             0.2222222222222222,
             "#7201a8"
            ],
            [
             0.3333333333333333,
             "#9c179e"
            ],
            [
             0.4444444444444444,
             "#bd3786"
            ],
            [
             0.5555555555555556,
             "#d8576b"
            ],
            [
             0.6666666666666666,
             "#ed7953"
            ],
            [
             0.7777777777777778,
             "#fb9f3a"
            ],
            [
             0.8888888888888888,
             "#fdca26"
            ],
            [
             1,
             "#f0f921"
            ]
           ]
          },
          "colorway": [
           "#636efa",
           "#EF553B",
           "#00cc96",
           "#ab63fa",
           "#FFA15A",
           "#19d3f3",
           "#FF6692",
           "#B6E880",
           "#FF97FF",
           "#FECB52"
          ],
          "font": {
           "color": "#2a3f5f"
          },
          "geo": {
           "bgcolor": "white",
           "lakecolor": "white",
           "landcolor": "#E5ECF6",
           "showlakes": true,
           "showland": true,
           "subunitcolor": "white"
          },
          "hoverlabel": {
           "align": "left"
          },
          "hovermode": "closest",
          "mapbox": {
           "style": "light"
          },
          "paper_bgcolor": "white",
          "plot_bgcolor": "#E5ECF6",
          "polar": {
           "angularaxis": {
            "gridcolor": "white",
            "linecolor": "white",
            "ticks": ""
           },
           "bgcolor": "#E5ECF6",
           "radialaxis": {
            "gridcolor": "white",
            "linecolor": "white",
            "ticks": ""
           }
          },
          "scene": {
           "xaxis": {
            "backgroundcolor": "#E5ECF6",
            "gridcolor": "white",
            "gridwidth": 2,
            "linecolor": "white",
            "showbackground": true,
            "ticks": "",
            "zerolinecolor": "white"
           },
           "yaxis": {
            "backgroundcolor": "#E5ECF6",
            "gridcolor": "white",
            "gridwidth": 2,
            "linecolor": "white",
            "showbackground": true,
            "ticks": "",
            "zerolinecolor": "white"
           },
           "zaxis": {
            "backgroundcolor": "#E5ECF6",
            "gridcolor": "white",
            "gridwidth": 2,
            "linecolor": "white",
            "showbackground": true,
            "ticks": "",
            "zerolinecolor": "white"
           }
          },
          "shapedefaults": {
           "line": {
            "color": "#2a3f5f"
           }
          },
          "ternary": {
           "aaxis": {
            "gridcolor": "white",
            "linecolor": "white",
            "ticks": ""
           },
           "baxis": {
            "gridcolor": "white",
            "linecolor": "white",
            "ticks": ""
           },
           "bgcolor": "#E5ECF6",
           "caxis": {
            "gridcolor": "white",
            "linecolor": "white",
            "ticks": ""
           }
          },
          "title": {
           "x": 0.05
          },
          "xaxis": {
           "automargin": true,
           "gridcolor": "white",
           "linecolor": "white",
           "ticks": "",
           "title": {
            "standoff": 15
           },
           "zerolinecolor": "white",
           "zerolinewidth": 2
          },
          "yaxis": {
           "automargin": true,
           "gridcolor": "white",
           "linecolor": "white",
           "ticks": "",
           "title": {
            "standoff": 15
           },
           "zerolinecolor": "white",
           "zerolinewidth": 2
          }
         }
        },
        "title": {
         "text": "Distribuição de genero por Churn"
        },
        "xaxis": {
         "anchor": "y",
         "domain": [
          0,
          1
         ],
         "title": {
          "text": "genero"
         }
        },
        "yaxis": {
         "anchor": "x",
         "domain": [
          0,
          1
         ],
         "title": {
          "text": "count"
         }
        }
       }
      }
     },
     "metadata": {},
     "output_type": "display_data"
    },
    {
     "data": {
      "application/vnd.plotly.v1+json": {
       "config": {
        "plotlyServerURL": "https://plot.ly"
       },
       "data": [
        {
         "alignmentgroup": "True",
         "bingroup": "x",
         "hovertemplate": "churn=0<br>estado_civil=%{x}<br>count=%{y}<extra></extra>",
         "legendgroup": "0",
         "marker": {
          "color": "#636efa",
          "pattern": {
           "shape": ""
          }
         },
         "name": "0",
         "offsetgroup": "0",
         "orientation": "v",
         "showlegend": true,
         "type": "histogram",
         "x": [
          "Divorciado(a)",
          "Divorciado(a)",
          "Viúvo(a)",
          "Casado(a)",
          "Viúvo(a)",
          "Casado(a)",
          "Viúvo(a)",
          "Casado(a)",
          "Viúvo(a)",
          "Divorciado(a)",
          "Casado(a)",
          "Casado(a)",
          "Casado(a)",
          "Solteiro(a)",
          "Casado(a)",
          "Viúvo(a)",
          "Viúvo(a)",
          "Solteiro(a)",
          "Casado(a)",
          "Viúvo(a)",
          "Solteiro(a)",
          "Divorciado(a)",
          "Solteiro(a)",
          "Divorciado(a)",
          "Divorciado(a)",
          "Divorciado(a)",
          "Casado(a)",
          "Divorciado(a)",
          "Divorciado(a)",
          "Viúvo(a)",
          "Divorciado(a)",
          "Casado(a)",
          "Viúvo(a)",
          "Viúvo(a)",
          "Viúvo(a)",
          "Casado(a)",
          "Divorciado(a)",
          "Solteiro(a)",
          "Casado(a)",
          "Divorciado(a)",
          "Divorciado(a)",
          "Casado(a)",
          "Solteiro(a)",
          "Casado(a)",
          "Solteiro(a)",
          "Solteiro(a)",
          "Solteiro(a)",
          "Divorciado(a)",
          "Divorciado(a)",
          "Solteiro(a)",
          "Viúvo(a)",
          "Solteiro(a)",
          "Casado(a)",
          "Solteiro(a)",
          "Divorciado(a)",
          "Casado(a)",
          "Divorciado(a)",
          "Viúvo(a)",
          "Divorciado(a)",
          "Casado(a)",
          "Viúvo(a)",
          "Casado(a)",
          "Casado(a)",
          "Divorciado(a)",
          "Solteiro(a)",
          "Viúvo(a)",
          "Casado(a)",
          "Divorciado(a)",
          "Casado(a)",
          "Solteiro(a)",
          "Solteiro(a)",
          "Viúvo(a)",
          "Solteiro(a)",
          "Divorciado(a)",
          "Casado(a)",
          "Divorciado(a)",
          "Divorciado(a)",
          "Casado(a)",
          "Viúvo(a)",
          "Casado(a)",
          "Divorciado(a)",
          "Solteiro(a)",
          "Viúvo(a)",
          "Viúvo(a)",
          "Viúvo(a)",
          "Solteiro(a)",
          "Solteiro(a)",
          "Divorciado(a)",
          "Solteiro(a)",
          "Divorciado(a)",
          "Viúvo(a)",
          "Divorciado(a)",
          "Divorciado(a)",
          "Solteiro(a)",
          "Solteiro(a)",
          "Solteiro(a)",
          "Casado(a)",
          "Viúvo(a)",
          "Viúvo(a)",
          "Solteiro(a)",
          "Divorciado(a)",
          "Solteiro(a)",
          "Casado(a)",
          "Casado(a)",
          "Casado(a)",
          "Solteiro(a)",
          "Divorciado(a)",
          "Divorciado(a)",
          "Viúvo(a)",
          "Viúvo(a)",
          "Solteiro(a)",
          "Viúvo(a)",
          "Casado(a)",
          "Viúvo(a)",
          "Viúvo(a)",
          "Viúvo(a)",
          "Solteiro(a)",
          "Divorciado(a)",
          "Viúvo(a)",
          "Viúvo(a)",
          "Solteiro(a)",
          "Viúvo(a)",
          "Casado(a)",
          "Solteiro(a)",
          "Casado(a)",
          "Viúvo(a)",
          "Solteiro(a)",
          "Solteiro(a)",
          "Solteiro(a)",
          "Viúvo(a)",
          "Casado(a)",
          "Viúvo(a)",
          "Viúvo(a)",
          "Solteiro(a)",
          "Divorciado(a)",
          "Divorciado(a)",
          "Casado(a)",
          "Casado(a)",
          "Viúvo(a)",
          "Solteiro(a)",
          "Divorciado(a)",
          "Divorciado(a)",
          "Viúvo(a)",
          "Casado(a)",
          "Divorciado(a)",
          "Solteiro(a)",
          "Solteiro(a)",
          "Casado(a)",
          "Viúvo(a)",
          "Viúvo(a)",
          "Casado(a)",
          "Divorciado(a)",
          "Viúvo(a)",
          "Solteiro(a)",
          "Viúvo(a)",
          "Viúvo(a)",
          "Solteiro(a)",
          "Viúvo(a)",
          "Viúvo(a)",
          "Casado(a)",
          "Solteiro(a)",
          "Casado(a)",
          "Solteiro(a)",
          "Solteiro(a)",
          "Casado(a)",
          "Viúvo(a)",
          "Viúvo(a)",
          "Divorciado(a)",
          "Divorciado(a)",
          "Casado(a)",
          "Solteiro(a)",
          "Casado(a)",
          "Divorciado(a)",
          "Divorciado(a)",
          "Divorciado(a)",
          "Solteiro(a)",
          "Solteiro(a)",
          "Casado(a)",
          "Casado(a)",
          "Casado(a)",
          "Viúvo(a)",
          "Solteiro(a)",
          "Solteiro(a)",
          "Solteiro(a)",
          "Viúvo(a)",
          "Casado(a)",
          "Viúvo(a)",
          "Divorciado(a)",
          "Viúvo(a)",
          "Solteiro(a)",
          "Divorciado(a)",
          "Solteiro(a)",
          "Casado(a)",
          "Casado(a)",
          "Divorciado(a)",
          "Casado(a)",
          "Solteiro(a)",
          "Solteiro(a)",
          "Solteiro(a)",
          "Solteiro(a)",
          "Solteiro(a)",
          "Divorciado(a)",
          "Solteiro(a)",
          "Divorciado(a)",
          "Viúvo(a)",
          "Divorciado(a)",
          "Viúvo(a)",
          "Casado(a)",
          "Casado(a)",
          "Viúvo(a)",
          "Solteiro(a)",
          "Casado(a)",
          "Divorciado(a)",
          "Viúvo(a)",
          "Divorciado(a)",
          "Divorciado(a)",
          "Solteiro(a)",
          "Divorciado(a)",
          "Divorciado(a)",
          "Casado(a)",
          "Divorciado(a)",
          "Divorciado(a)",
          "Casado(a)",
          "Casado(a)",
          "Divorciado(a)",
          "Viúvo(a)",
          "Divorciado(a)",
          "Solteiro(a)",
          "Divorciado(a)",
          "Solteiro(a)",
          "Viúvo(a)",
          "Casado(a)",
          "Casado(a)",
          "Divorciado(a)",
          "Solteiro(a)",
          "Solteiro(a)",
          "Casado(a)",
          "Viúvo(a)",
          "Solteiro(a)",
          "Divorciado(a)",
          "Solteiro(a)",
          "Divorciado(a)",
          "Solteiro(a)",
          "Casado(a)",
          "Casado(a)",
          "Divorciado(a)",
          "Casado(a)",
          "Casado(a)",
          "Viúvo(a)",
          "Viúvo(a)",
          "Divorciado(a)",
          "Divorciado(a)",
          "Divorciado(a)",
          "Casado(a)",
          "Viúvo(a)",
          "Casado(a)",
          "Solteiro(a)",
          "Solteiro(a)",
          "Solteiro(a)",
          "Solteiro(a)",
          "Casado(a)",
          "Casado(a)",
          "Casado(a)",
          "Solteiro(a)",
          "Viúvo(a)",
          "Solteiro(a)",
          "Solteiro(a)",
          "Viúvo(a)",
          "Divorciado(a)",
          "Viúvo(a)",
          "Viúvo(a)",
          "Casado(a)",
          "Casado(a)",
          "Casado(a)",
          "Casado(a)",
          "Divorciado(a)",
          "Divorciado(a)",
          "Casado(a)",
          "Solteiro(a)",
          "Viúvo(a)",
          "Solteiro(a)",
          "Divorciado(a)",
          "Casado(a)",
          "Viúvo(a)",
          "Divorciado(a)",
          "Divorciado(a)",
          "Casado(a)",
          "Casado(a)",
          "Casado(a)",
          "Casado(a)",
          "Solteiro(a)",
          "Viúvo(a)",
          "Solteiro(a)",
          "Solteiro(a)",
          "Viúvo(a)",
          "Solteiro(a)",
          "Divorciado(a)",
          "Viúvo(a)",
          "Solteiro(a)",
          "Divorciado(a)",
          "Casado(a)",
          "Divorciado(a)",
          "Casado(a)",
          "Viúvo(a)",
          "Casado(a)",
          "Divorciado(a)",
          "Divorciado(a)",
          "Casado(a)",
          "Casado(a)",
          "Viúvo(a)",
          "Divorciado(a)",
          "Casado(a)",
          "Casado(a)",
          "Casado(a)",
          "Viúvo(a)",
          "Solteiro(a)",
          "Viúvo(a)",
          "Viúvo(a)",
          "Divorciado(a)",
          "Solteiro(a)",
          "Divorciado(a)",
          "Divorciado(a)",
          "Viúvo(a)",
          "Solteiro(a)",
          "Divorciado(a)",
          "Casado(a)",
          "Solteiro(a)",
          "Viúvo(a)",
          "Viúvo(a)",
          "Divorciado(a)",
          "Casado(a)",
          "Viúvo(a)",
          "Viúvo(a)",
          "Viúvo(a)",
          "Solteiro(a)",
          "Casado(a)",
          "Divorciado(a)",
          "Divorciado(a)",
          "Divorciado(a)",
          "Viúvo(a)",
          "Viúvo(a)",
          "Solteiro(a)",
          "Divorciado(a)",
          "Casado(a)",
          "Viúvo(a)",
          "Casado(a)",
          "Casado(a)",
          "Solteiro(a)",
          "Casado(a)",
          "Casado(a)",
          "Viúvo(a)",
          "Casado(a)",
          "Solteiro(a)",
          "Solteiro(a)",
          "Casado(a)",
          "Divorciado(a)",
          "Solteiro(a)",
          "Viúvo(a)",
          "Solteiro(a)",
          "Casado(a)",
          "Viúvo(a)",
          "Divorciado(a)",
          "Viúvo(a)",
          "Viúvo(a)",
          "Viúvo(a)",
          "Divorciado(a)",
          "Solteiro(a)",
          "Solteiro(a)",
          "Viúvo(a)",
          "Viúvo(a)",
          "Casado(a)",
          "Solteiro(a)",
          "Viúvo(a)",
          "Casado(a)",
          "Casado(a)",
          "Solteiro(a)",
          "Casado(a)",
          "Solteiro(a)",
          "Divorciado(a)",
          "Solteiro(a)",
          "Solteiro(a)",
          "Divorciado(a)",
          "Divorciado(a)",
          "Casado(a)",
          "Divorciado(a)",
          "Divorciado(a)",
          "Casado(a)",
          "Solteiro(a)",
          "Viúvo(a)",
          "Solteiro(a)",
          "Solteiro(a)",
          "Divorciado(a)",
          "Divorciado(a)",
          "Divorciado(a)",
          "Divorciado(a)",
          "Divorciado(a)",
          "Divorciado(a)",
          "Casado(a)",
          "Solteiro(a)",
          "Solteiro(a)",
          "Solteiro(a)",
          "Solteiro(a)",
          "Solteiro(a)",
          "Viúvo(a)",
          "Viúvo(a)",
          "Casado(a)",
          "Solteiro(a)",
          "Divorciado(a)",
          "Solteiro(a)",
          "Divorciado(a)",
          "Divorciado(a)",
          "Viúvo(a)",
          "Casado(a)",
          "Viúvo(a)",
          "Solteiro(a)",
          "Casado(a)",
          "Divorciado(a)",
          "Viúvo(a)",
          "Solteiro(a)",
          "Viúvo(a)",
          "Casado(a)",
          "Viúvo(a)",
          "Casado(a)",
          "Casado(a)",
          "Casado(a)",
          "Solteiro(a)",
          "Divorciado(a)",
          "Viúvo(a)",
          "Divorciado(a)",
          "Viúvo(a)",
          "Casado(a)",
          "Divorciado(a)",
          "Viúvo(a)",
          "Solteiro(a)",
          "Solteiro(a)",
          "Divorciado(a)",
          "Solteiro(a)",
          "Solteiro(a)",
          "Casado(a)",
          "Viúvo(a)",
          "Viúvo(a)",
          "Casado(a)",
          "Divorciado(a)",
          "Viúvo(a)",
          "Casado(a)",
          "Viúvo(a)",
          "Divorciado(a)",
          "Solteiro(a)",
          "Solteiro(a)",
          "Solteiro(a)",
          "Divorciado(a)",
          "Casado(a)",
          "Solteiro(a)",
          "Solteiro(a)",
          "Divorciado(a)",
          "Casado(a)",
          "Viúvo(a)",
          "Viúvo(a)",
          "Solteiro(a)",
          "Divorciado(a)",
          "Solteiro(a)",
          "Casado(a)",
          "Solteiro(a)",
          "Solteiro(a)",
          "Divorciado(a)",
          "Divorciado(a)",
          "Solteiro(a)",
          "Solteiro(a)",
          "Solteiro(a)",
          "Divorciado(a)",
          "Divorciado(a)",
          "Solteiro(a)",
          "Solteiro(a)",
          "Divorciado(a)",
          "Casado(a)",
          "Solteiro(a)",
          "Divorciado(a)",
          "Solteiro(a)",
          "Solteiro(a)",
          "Divorciado(a)",
          "Casado(a)",
          "Casado(a)",
          "Divorciado(a)",
          "Casado(a)",
          "Solteiro(a)",
          "Casado(a)",
          "Solteiro(a)",
          "Solteiro(a)",
          "Divorciado(a)",
          "Casado(a)",
          "Casado(a)",
          "Divorciado(a)",
          "Solteiro(a)",
          "Divorciado(a)",
          "Casado(a)",
          "Solteiro(a)",
          "Divorciado(a)",
          "Solteiro(a)",
          "Solteiro(a)",
          "Casado(a)",
          "Casado(a)",
          "Solteiro(a)",
          "Divorciado(a)",
          "Viúvo(a)",
          "Divorciado(a)",
          "Solteiro(a)",
          "Casado(a)",
          "Viúvo(a)",
          "Solteiro(a)",
          "Solteiro(a)",
          "Viúvo(a)",
          "Casado(a)",
          "Divorciado(a)",
          "Viúvo(a)",
          "Solteiro(a)",
          "Divorciado(a)",
          "Casado(a)",
          "Divorciado(a)",
          "Solteiro(a)",
          "Viúvo(a)",
          "Divorciado(a)",
          "Casado(a)",
          "Solteiro(a)",
          "Solteiro(a)",
          "Viúvo(a)",
          "Solteiro(a)",
          "Solteiro(a)",
          "Solteiro(a)",
          "Divorciado(a)",
          "Divorciado(a)",
          "Divorciado(a)",
          "Solteiro(a)",
          "Divorciado(a)",
          "Solteiro(a)",
          "Solteiro(a)",
          "Casado(a)",
          "Casado(a)",
          "Divorciado(a)",
          "Divorciado(a)",
          "Solteiro(a)",
          "Solteiro(a)",
          "Viúvo(a)",
          "Casado(a)",
          "Viúvo(a)",
          "Viúvo(a)",
          "Casado(a)",
          "Solteiro(a)",
          "Casado(a)",
          "Casado(a)",
          "Solteiro(a)",
          "Solteiro(a)",
          "Casado(a)",
          "Casado(a)",
          "Solteiro(a)",
          "Viúvo(a)",
          "Casado(a)",
          "Solteiro(a)",
          "Solteiro(a)",
          "Viúvo(a)",
          "Solteiro(a)",
          "Casado(a)",
          "Solteiro(a)",
          "Casado(a)",
          "Solteiro(a)",
          "Casado(a)",
          "Viúvo(a)",
          "Solteiro(a)",
          "Divorciado(a)",
          "Solteiro(a)",
          "Viúvo(a)",
          "Viúvo(a)",
          "Viúvo(a)",
          "Casado(a)",
          "Divorciado(a)",
          "Divorciado(a)",
          "Viúvo(a)",
          "Solteiro(a)",
          "Casado(a)",
          "Divorciado(a)",
          "Viúvo(a)",
          "Divorciado(a)",
          "Solteiro(a)",
          "Divorciado(a)",
          "Solteiro(a)",
          "Casado(a)",
          "Casado(a)",
          "Divorciado(a)",
          "Viúvo(a)",
          "Viúvo(a)",
          "Divorciado(a)",
          "Solteiro(a)",
          "Solteiro(a)",
          "Solteiro(a)",
          "Viúvo(a)",
          "Casado(a)",
          "Divorciado(a)",
          "Solteiro(a)",
          "Casado(a)",
          "Viúvo(a)",
          "Solteiro(a)",
          "Solteiro(a)",
          "Divorciado(a)",
          "Divorciado(a)",
          "Divorciado(a)",
          "Divorciado(a)",
          "Viúvo(a)",
          "Viúvo(a)",
          "Viúvo(a)",
          "Divorciado(a)",
          "Divorciado(a)",
          "Viúvo(a)",
          "Viúvo(a)",
          "Viúvo(a)",
          "Viúvo(a)",
          "Casado(a)",
          "Solteiro(a)",
          "Casado(a)",
          "Solteiro(a)",
          "Casado(a)",
          "Casado(a)",
          "Divorciado(a)",
          "Divorciado(a)",
          "Casado(a)",
          "Casado(a)",
          "Divorciado(a)",
          "Divorciado(a)",
          "Viúvo(a)",
          "Divorciado(a)",
          "Solteiro(a)",
          "Viúvo(a)",
          "Solteiro(a)",
          "Viúvo(a)",
          "Divorciado(a)",
          "Solteiro(a)",
          "Casado(a)",
          "Viúvo(a)",
          "Divorciado(a)",
          "Divorciado(a)",
          "Solteiro(a)",
          "Viúvo(a)",
          "Casado(a)",
          "Viúvo(a)",
          "Viúvo(a)",
          "Solteiro(a)",
          "Viúvo(a)",
          "Casado(a)",
          "Casado(a)",
          "Viúvo(a)",
          "Divorciado(a)",
          "Divorciado(a)",
          "Casado(a)",
          "Viúvo(a)",
          "Solteiro(a)",
          "Divorciado(a)",
          "Solteiro(a)",
          "Divorciado(a)",
          "Solteiro(a)",
          "Divorciado(a)",
          "Divorciado(a)",
          "Casado(a)",
          "Viúvo(a)",
          "Viúvo(a)",
          "Casado(a)",
          "Viúvo(a)",
          "Casado(a)",
          "Viúvo(a)",
          "Viúvo(a)",
          "Divorciado(a)",
          "Solteiro(a)",
          "Solteiro(a)",
          "Casado(a)",
          "Casado(a)",
          "Divorciado(a)",
          "Divorciado(a)",
          "Casado(a)",
          "Divorciado(a)",
          "Divorciado(a)",
          "Divorciado(a)",
          "Viúvo(a)",
          "Divorciado(a)",
          "Solteiro(a)",
          "Viúvo(a)",
          "Divorciado(a)",
          "Divorciado(a)",
          "Divorciado(a)",
          "Divorciado(a)",
          "Viúvo(a)",
          "Casado(a)",
          "Divorciado(a)",
          "Casado(a)",
          "Divorciado(a)",
          "Viúvo(a)",
          "Divorciado(a)",
          "Viúvo(a)",
          "Divorciado(a)",
          "Divorciado(a)",
          "Casado(a)",
          "Viúvo(a)",
          "Solteiro(a)",
          "Divorciado(a)",
          "Casado(a)",
          "Solteiro(a)",
          "Casado(a)",
          "Divorciado(a)",
          "Casado(a)",
          "Viúvo(a)",
          "Casado(a)",
          "Casado(a)",
          "Viúvo(a)",
          "Divorciado(a)",
          "Casado(a)",
          "Viúvo(a)",
          "Solteiro(a)",
          "Solteiro(a)",
          "Divorciado(a)",
          "Viúvo(a)",
          "Divorciado(a)",
          "Solteiro(a)",
          "Viúvo(a)",
          "Solteiro(a)",
          "Viúvo(a)",
          "Viúvo(a)",
          "Viúvo(a)",
          "Casado(a)",
          "Divorciado(a)",
          "Casado(a)",
          "Divorciado(a)",
          "Casado(a)",
          "Casado(a)",
          "Viúvo(a)",
          "Solteiro(a)",
          "Viúvo(a)",
          "Casado(a)",
          "Viúvo(a)",
          "Solteiro(a)",
          "Viúvo(a)",
          "Viúvo(a)",
          "Divorciado(a)",
          "Solteiro(a)",
          "Casado(a)",
          "Viúvo(a)",
          "Solteiro(a)",
          "Solteiro(a)",
          "Viúvo(a)",
          "Divorciado(a)",
          "Solteiro(a)",
          "Solteiro(a)",
          "Solteiro(a)",
          "Solteiro(a)",
          "Divorciado(a)",
          "Casado(a)",
          "Divorciado(a)",
          "Casado(a)",
          "Casado(a)",
          "Casado(a)",
          "Casado(a)",
          "Divorciado(a)",
          "Solteiro(a)",
          "Solteiro(a)",
          "Casado(a)",
          "Viúvo(a)",
          "Casado(a)",
          "Divorciado(a)",
          "Solteiro(a)",
          "Casado(a)",
          "Solteiro(a)",
          "Viúvo(a)",
          "Viúvo(a)",
          "Casado(a)",
          "Viúvo(a)",
          "Solteiro(a)",
          "Solteiro(a)",
          "Casado(a)",
          "Solteiro(a)",
          "Divorciado(a)",
          "Solteiro(a)",
          "Divorciado(a)",
          "Viúvo(a)",
          "Divorciado(a)",
          "Divorciado(a)",
          "Viúvo(a)",
          "Divorciado(a)",
          "Casado(a)",
          "Solteiro(a)",
          "Divorciado(a)",
          "Solteiro(a)",
          "Divorciado(a)",
          "Solteiro(a)",
          "Viúvo(a)",
          "Divorciado(a)",
          "Solteiro(a)",
          "Casado(a)",
          "Divorciado(a)",
          "Viúvo(a)",
          "Casado(a)",
          "Viúvo(a)",
          "Divorciado(a)",
          "Viúvo(a)",
          "Solteiro(a)",
          "Divorciado(a)",
          "Divorciado(a)",
          "Divorciado(a)",
          "Casado(a)",
          "Divorciado(a)",
          "Casado(a)",
          "Casado(a)",
          "Casado(a)",
          "Viúvo(a)",
          "Casado(a)",
          "Divorciado(a)",
          "Divorciado(a)",
          "Casado(a)",
          "Solteiro(a)",
          "Viúvo(a)",
          "Casado(a)",
          "Solteiro(a)",
          "Casado(a)",
          "Divorciado(a)",
          "Casado(a)",
          "Solteiro(a)",
          "Divorciado(a)",
          "Divorciado(a)",
          "Solteiro(a)",
          "Solteiro(a)",
          "Viúvo(a)",
          "Solteiro(a)",
          "Viúvo(a)",
          "Casado(a)",
          "Viúvo(a)",
          "Viúvo(a)",
          "Viúvo(a)",
          "Divorciado(a)",
          "Divorciado(a)",
          "Casado(a)",
          "Divorciado(a)",
          "Casado(a)",
          "Viúvo(a)",
          "Viúvo(a)",
          "Casado(a)",
          "Viúvo(a)",
          "Viúvo(a)",
          "Divorciado(a)",
          "Divorciado(a)",
          "Divorciado(a)",
          "Viúvo(a)",
          "Viúvo(a)",
          "Solteiro(a)",
          "Solteiro(a)",
          "Solteiro(a)",
          "Casado(a)",
          "Casado(a)",
          "Solteiro(a)",
          "Divorciado(a)",
          "Casado(a)",
          "Solteiro(a)",
          "Viúvo(a)",
          "Casado(a)",
          "Solteiro(a)",
          "Divorciado(a)",
          "Solteiro(a)",
          "Divorciado(a)",
          "Casado(a)",
          "Viúvo(a)",
          "Casado(a)",
          "Casado(a)",
          "Casado(a)",
          "Casado(a)",
          "Casado(a)",
          "Solteiro(a)",
          "Divorciado(a)",
          "Casado(a)",
          "Divorciado(a)",
          "Divorciado(a)",
          "Casado(a)",
          "Solteiro(a)",
          "Casado(a)",
          "Solteiro(a)",
          "Divorciado(a)",
          "Divorciado(a)",
          "Viúvo(a)",
          "Solteiro(a)",
          "Solteiro(a)",
          "Solteiro(a)",
          "Solteiro(a)",
          "Solteiro(a)",
          "Casado(a)",
          "Casado(a)",
          "Viúvo(a)",
          "Solteiro(a)",
          "Viúvo(a)",
          "Viúvo(a)",
          "Casado(a)",
          "Casado(a)",
          "Viúvo(a)",
          "Divorciado(a)",
          "Solteiro(a)",
          "Divorciado(a)",
          "Solteiro(a)",
          "Viúvo(a)",
          "Viúvo(a)",
          "Solteiro(a)",
          "Casado(a)",
          "Casado(a)",
          "Casado(a)",
          "Solteiro(a)",
          "Casado(a)",
          "Casado(a)",
          "Divorciado(a)",
          "Solteiro(a)",
          "Viúvo(a)",
          "Solteiro(a)",
          "Casado(a)",
          "Casado(a)",
          "Viúvo(a)",
          "Divorciado(a)",
          "Divorciado(a)",
          "Solteiro(a)",
          "Divorciado(a)",
          "Viúvo(a)",
          "Solteiro(a)",
          "Viúvo(a)",
          "Casado(a)",
          "Divorciado(a)",
          "Casado(a)",
          "Divorciado(a)",
          "Viúvo(a)",
          "Casado(a)",
          "Viúvo(a)",
          "Viúvo(a)",
          "Viúvo(a)",
          "Viúvo(a)",
          "Solteiro(a)",
          "Divorciado(a)",
          "Solteiro(a)",
          "Solteiro(a)",
          "Divorciado(a)",
          "Divorciado(a)",
          "Casado(a)",
          "Viúvo(a)",
          "Solteiro(a)",
          "Casado(a)",
          "Viúvo(a)",
          "Divorciado(a)",
          "Divorciado(a)",
          "Divorciado(a)",
          "Viúvo(a)",
          "Divorciado(a)",
          "Viúvo(a)",
          "Casado(a)",
          "Divorciado(a)",
          "Divorciado(a)",
          "Divorciado(a)",
          "Divorciado(a)",
          "Viúvo(a)",
          "Divorciado(a)",
          "Solteiro(a)",
          "Viúvo(a)",
          "Casado(a)",
          "Divorciado(a)",
          "Casado(a)",
          "Divorciado(a)",
          "Solteiro(a)",
          "Viúvo(a)",
          "Casado(a)",
          "Casado(a)",
          "Casado(a)",
          "Casado(a)",
          "Viúvo(a)",
          "Divorciado(a)",
          "Viúvo(a)",
          "Casado(a)",
          "Casado(a)",
          "Divorciado(a)",
          "Solteiro(a)",
          "Solteiro(a)",
          "Viúvo(a)",
          "Solteiro(a)",
          "Divorciado(a)",
          "Divorciado(a)",
          "Casado(a)",
          "Solteiro(a)",
          "Casado(a)",
          "Divorciado(a)",
          "Solteiro(a)",
          "Divorciado(a)",
          "Viúvo(a)",
          "Divorciado(a)",
          "Viúvo(a)",
          "Viúvo(a)",
          "Solteiro(a)",
          "Casado(a)",
          "Divorciado(a)",
          "Solteiro(a)",
          "Casado(a)",
          "Solteiro(a)",
          "Solteiro(a)",
          "Viúvo(a)",
          "Solteiro(a)",
          "Divorciado(a)",
          "Divorciado(a)",
          "Casado(a)",
          "Casado(a)",
          "Solteiro(a)",
          "Viúvo(a)",
          "Solteiro(a)",
          "Divorciado(a)",
          "Casado(a)",
          "Viúvo(a)",
          "Divorciado(a)",
          "Viúvo(a)",
          "Divorciado(a)",
          "Divorciado(a)",
          "Divorciado(a)",
          "Solteiro(a)",
          "Viúvo(a)",
          "Casado(a)",
          "Divorciado(a)",
          "Divorciado(a)",
          "Solteiro(a)",
          "Solteiro(a)",
          "Viúvo(a)",
          "Divorciado(a)",
          "Divorciado(a)",
          "Viúvo(a)",
          "Divorciado(a)",
          "Viúvo(a)",
          "Casado(a)",
          "Solteiro(a)",
          "Casado(a)",
          "Solteiro(a)",
          "Viúvo(a)",
          "Divorciado(a)",
          "Casado(a)",
          "Divorciado(a)",
          "Casado(a)",
          "Solteiro(a)",
          "Casado(a)",
          "Viúvo(a)",
          "Viúvo(a)",
          "Casado(a)",
          "Solteiro(a)",
          "Divorciado(a)",
          "Viúvo(a)",
          "Divorciado(a)",
          "Solteiro(a)",
          "Solteiro(a)",
          "Viúvo(a)",
          "Divorciado(a)",
          "Viúvo(a)",
          "Divorciado(a)",
          "Divorciado(a)",
          "Divorciado(a)",
          "Casado(a)",
          "Solteiro(a)",
          "Divorciado(a)",
          "Casado(a)",
          "Casado(a)",
          "Solteiro(a)",
          "Divorciado(a)",
          "Viúvo(a)",
          "Divorciado(a)",
          "Solteiro(a)",
          "Casado(a)",
          "Casado(a)",
          "Solteiro(a)",
          "Viúvo(a)",
          "Viúvo(a)",
          "Viúvo(a)",
          "Viúvo(a)",
          "Divorciado(a)",
          "Casado(a)",
          "Viúvo(a)",
          "Solteiro(a)",
          "Casado(a)",
          "Solteiro(a)",
          "Divorciado(a)",
          "Solteiro(a)",
          "Divorciado(a)",
          "Casado(a)",
          "Divorciado(a)",
          "Viúvo(a)",
          "Divorciado(a)",
          "Viúvo(a)",
          "Divorciado(a)",
          "Viúvo(a)",
          "Viúvo(a)",
          "Casado(a)",
          "Divorciado(a)",
          "Solteiro(a)",
          "Viúvo(a)",
          "Casado(a)",
          "Casado(a)",
          "Casado(a)",
          "Solteiro(a)",
          "Casado(a)",
          "Casado(a)",
          "Solteiro(a)",
          "Viúvo(a)",
          "Viúvo(a)",
          "Solteiro(a)",
          "Casado(a)",
          "Casado(a)",
          "Viúvo(a)",
          "Divorciado(a)",
          "Solteiro(a)",
          "Casado(a)",
          "Casado(a)",
          "Solteiro(a)",
          "Casado(a)",
          "Viúvo(a)",
          "Casado(a)",
          "Viúvo(a)",
          "Viúvo(a)",
          "Solteiro(a)",
          "Casado(a)",
          "Casado(a)",
          "Divorciado(a)",
          "Solteiro(a)",
          "Solteiro(a)",
          "Divorciado(a)",
          "Casado(a)",
          "Divorciado(a)",
          "Casado(a)",
          "Casado(a)",
          "Casado(a)",
          "Viúvo(a)",
          "Divorciado(a)",
          "Viúvo(a)",
          "Solteiro(a)",
          "Divorciado(a)",
          "Divorciado(a)",
          "Divorciado(a)",
          "Solteiro(a)",
          "Casado(a)",
          "Casado(a)",
          "Divorciado(a)",
          "Viúvo(a)",
          "Solteiro(a)",
          "Solteiro(a)",
          "Casado(a)",
          "Casado(a)",
          "Divorciado(a)",
          "Casado(a)",
          "Viúvo(a)",
          "Solteiro(a)",
          "Divorciado(a)",
          "Divorciado(a)",
          "Casado(a)",
          "Viúvo(a)",
          "Viúvo(a)",
          "Casado(a)",
          "Viúvo(a)",
          "Viúvo(a)",
          "Viúvo(a)",
          "Casado(a)",
          "Viúvo(a)",
          "Casado(a)",
          "Viúvo(a)",
          "Viúvo(a)",
          "Casado(a)",
          "Solteiro(a)",
          "Solteiro(a)",
          "Divorciado(a)",
          "Casado(a)",
          "Divorciado(a)",
          "Casado(a)",
          "Viúvo(a)",
          "Divorciado(a)",
          "Divorciado(a)",
          "Divorciado(a)",
          "Casado(a)",
          "Solteiro(a)",
          "Divorciado(a)",
          "Casado(a)",
          "Solteiro(a)",
          "Casado(a)",
          "Viúvo(a)",
          "Solteiro(a)",
          "Casado(a)",
          "Solteiro(a)",
          "Divorciado(a)",
          "Divorciado(a)",
          "Casado(a)",
          "Solteiro(a)",
          "Casado(a)",
          "Solteiro(a)",
          "Casado(a)",
          "Solteiro(a)",
          "Solteiro(a)",
          "Solteiro(a)",
          "Divorciado(a)",
          "Solteiro(a)",
          "Solteiro(a)",
          "Casado(a)",
          "Solteiro(a)",
          "Solteiro(a)",
          "Viúvo(a)",
          "Viúvo(a)",
          "Divorciado(a)",
          "Casado(a)",
          "Casado(a)",
          "Divorciado(a)",
          "Divorciado(a)",
          "Viúvo(a)",
          "Divorciado(a)",
          "Viúvo(a)",
          "Viúvo(a)",
          "Divorciado(a)",
          "Viúvo(a)",
          "Casado(a)",
          "Divorciado(a)",
          "Casado(a)",
          "Casado(a)",
          "Divorciado(a)",
          "Solteiro(a)",
          "Divorciado(a)",
          "Divorciado(a)",
          "Casado(a)",
          "Solteiro(a)",
          "Divorciado(a)",
          "Solteiro(a)",
          "Casado(a)",
          "Casado(a)",
          "Casado(a)",
          "Casado(a)",
          "Casado(a)",
          "Divorciado(a)",
          "Viúvo(a)",
          "Viúvo(a)",
          "Divorciado(a)",
          "Divorciado(a)",
          "Solteiro(a)",
          "Viúvo(a)",
          "Divorciado(a)",
          "Divorciado(a)",
          "Divorciado(a)",
          "Viúvo(a)",
          "Divorciado(a)",
          "Divorciado(a)",
          "Divorciado(a)",
          "Divorciado(a)",
          "Divorciado(a)",
          "Casado(a)",
          "Viúvo(a)",
          "Casado(a)",
          "Solteiro(a)",
          "Casado(a)",
          "Divorciado(a)",
          "Divorciado(a)",
          "Viúvo(a)",
          "Casado(a)",
          "Divorciado(a)",
          "Viúvo(a)",
          "Viúvo(a)",
          "Divorciado(a)",
          "Viúvo(a)",
          "Viúvo(a)",
          "Casado(a)",
          "Divorciado(a)",
          "Divorciado(a)",
          "Casado(a)",
          "Divorciado(a)",
          "Casado(a)",
          "Casado(a)",
          "Casado(a)",
          "Viúvo(a)",
          "Viúvo(a)",
          "Divorciado(a)",
          "Viúvo(a)",
          "Viúvo(a)",
          "Casado(a)",
          "Divorciado(a)",
          "Viúvo(a)",
          "Divorciado(a)",
          "Solteiro(a)",
          "Viúvo(a)",
          "Viúvo(a)",
          "Divorciado(a)",
          "Casado(a)",
          "Viúvo(a)",
          "Viúvo(a)",
          "Viúvo(a)",
          "Solteiro(a)",
          "Viúvo(a)",
          "Divorciado(a)",
          "Solteiro(a)",
          "Viúvo(a)",
          "Viúvo(a)",
          "Divorciado(a)",
          "Divorciado(a)",
          "Viúvo(a)",
          "Divorciado(a)",
          "Viúvo(a)",
          "Viúvo(a)",
          "Divorciado(a)",
          "Casado(a)",
          "Divorciado(a)",
          "Viúvo(a)",
          "Viúvo(a)",
          "Solteiro(a)",
          "Solteiro(a)",
          "Solteiro(a)",
          "Viúvo(a)",
          "Solteiro(a)",
          "Solteiro(a)",
          "Casado(a)",
          "Casado(a)",
          "Viúvo(a)",
          "Solteiro(a)",
          "Casado(a)",
          "Solteiro(a)",
          "Divorciado(a)",
          "Viúvo(a)",
          "Viúvo(a)",
          "Solteiro(a)",
          "Viúvo(a)",
          "Viúvo(a)",
          "Viúvo(a)",
          "Casado(a)",
          "Casado(a)",
          "Viúvo(a)",
          "Divorciado(a)",
          "Viúvo(a)",
          "Divorciado(a)",
          "Viúvo(a)",
          "Casado(a)",
          "Casado(a)",
          "Divorciado(a)",
          "Viúvo(a)",
          "Solteiro(a)",
          "Viúvo(a)",
          "Divorciado(a)",
          "Casado(a)",
          "Divorciado(a)",
          "Divorciado(a)",
          "Casado(a)",
          "Casado(a)",
          "Viúvo(a)",
          "Solteiro(a)",
          "Divorciado(a)",
          "Divorciado(a)",
          "Solteiro(a)",
          "Solteiro(a)",
          "Viúvo(a)",
          "Divorciado(a)",
          "Solteiro(a)",
          "Solteiro(a)",
          "Viúvo(a)",
          "Solteiro(a)",
          "Viúvo(a)",
          "Solteiro(a)",
          "Viúvo(a)",
          "Divorciado(a)",
          "Casado(a)",
          "Casado(a)",
          "Casado(a)",
          "Divorciado(a)",
          "Viúvo(a)",
          "Viúvo(a)",
          "Solteiro(a)",
          "Viúvo(a)",
          "Viúvo(a)",
          "Divorciado(a)",
          "Casado(a)",
          "Viúvo(a)",
          "Casado(a)",
          "Solteiro(a)",
          "Solteiro(a)",
          "Viúvo(a)",
          "Viúvo(a)",
          "Divorciado(a)",
          "Solteiro(a)",
          "Casado(a)",
          "Viúvo(a)",
          "Solteiro(a)",
          "Casado(a)",
          "Viúvo(a)",
          "Solteiro(a)",
          "Solteiro(a)",
          "Divorciado(a)",
          "Solteiro(a)",
          "Casado(a)",
          "Divorciado(a)",
          "Viúvo(a)",
          "Casado(a)",
          "Viúvo(a)",
          "Divorciado(a)",
          "Casado(a)",
          "Solteiro(a)",
          "Viúvo(a)",
          "Viúvo(a)",
          "Solteiro(a)",
          "Casado(a)",
          "Viúvo(a)",
          "Casado(a)",
          "Divorciado(a)",
          "Divorciado(a)",
          "Divorciado(a)",
          "Casado(a)",
          "Casado(a)",
          "Casado(a)",
          "Casado(a)",
          "Divorciado(a)",
          "Solteiro(a)",
          "Divorciado(a)",
          "Solteiro(a)",
          "Solteiro(a)",
          "Casado(a)",
          "Viúvo(a)",
          "Viúvo(a)",
          "Viúvo(a)",
          "Casado(a)",
          "Solteiro(a)",
          "Divorciado(a)",
          "Solteiro(a)",
          "Viúvo(a)",
          "Casado(a)",
          "Casado(a)",
          "Viúvo(a)",
          "Casado(a)",
          "Solteiro(a)",
          "Solteiro(a)",
          "Casado(a)",
          "Divorciado(a)",
          "Divorciado(a)",
          "Divorciado(a)",
          "Casado(a)",
          "Solteiro(a)",
          "Divorciado(a)",
          "Divorciado(a)",
          "Casado(a)",
          "Divorciado(a)",
          "Solteiro(a)",
          "Divorciado(a)",
          "Divorciado(a)",
          "Viúvo(a)",
          "Viúvo(a)",
          "Divorciado(a)",
          "Divorciado(a)",
          "Divorciado(a)",
          "Casado(a)",
          "Solteiro(a)",
          "Solteiro(a)",
          "Divorciado(a)",
          "Solteiro(a)",
          "Viúvo(a)",
          "Casado(a)",
          "Solteiro(a)",
          "Divorciado(a)",
          "Solteiro(a)",
          "Viúvo(a)",
          "Solteiro(a)",
          "Casado(a)",
          "Divorciado(a)",
          "Viúvo(a)",
          "Viúvo(a)",
          "Viúvo(a)",
          "Divorciado(a)",
          "Divorciado(a)",
          "Solteiro(a)",
          "Casado(a)",
          "Solteiro(a)",
          "Divorciado(a)",
          "Casado(a)",
          "Viúvo(a)",
          "Divorciado(a)",
          "Viúvo(a)",
          "Solteiro(a)",
          "Casado(a)",
          "Divorciado(a)",
          "Casado(a)",
          "Divorciado(a)",
          "Casado(a)",
          "Viúvo(a)",
          "Solteiro(a)",
          "Divorciado(a)",
          "Casado(a)",
          "Divorciado(a)",
          "Divorciado(a)",
          "Solteiro(a)",
          "Divorciado(a)",
          "Casado(a)",
          "Casado(a)",
          "Solteiro(a)",
          "Divorciado(a)",
          "Solteiro(a)",
          "Solteiro(a)",
          "Solteiro(a)",
          "Solteiro(a)",
          "Solteiro(a)",
          "Viúvo(a)",
          "Solteiro(a)",
          "Casado(a)",
          "Viúvo(a)",
          "Divorciado(a)",
          "Viúvo(a)",
          "Viúvo(a)",
          "Divorciado(a)",
          "Casado(a)",
          "Viúvo(a)",
          "Solteiro(a)",
          "Viúvo(a)",
          "Viúvo(a)",
          "Divorciado(a)",
          "Casado(a)",
          "Casado(a)",
          "Viúvo(a)",
          "Viúvo(a)",
          "Viúvo(a)",
          "Solteiro(a)",
          "Solteiro(a)",
          "Casado(a)",
          "Casado(a)",
          "Divorciado(a)",
          "Casado(a)",
          "Solteiro(a)",
          "Viúvo(a)",
          "Viúvo(a)",
          "Casado(a)",
          "Casado(a)",
          "Solteiro(a)",
          "Solteiro(a)",
          "Viúvo(a)",
          "Casado(a)",
          "Viúvo(a)",
          "Viúvo(a)",
          "Viúvo(a)",
          "Casado(a)",
          "Casado(a)",
          "Casado(a)",
          "Solteiro(a)",
          "Divorciado(a)",
          "Viúvo(a)",
          "Divorciado(a)",
          "Divorciado(a)",
          "Divorciado(a)",
          "Solteiro(a)",
          "Solteiro(a)",
          "Solteiro(a)",
          "Solteiro(a)",
          "Divorciado(a)",
          "Divorciado(a)",
          "Casado(a)",
          "Solteiro(a)",
          "Viúvo(a)",
          "Casado(a)",
          "Solteiro(a)",
          "Divorciado(a)",
          "Viúvo(a)",
          "Viúvo(a)",
          "Solteiro(a)",
          "Viúvo(a)",
          "Divorciado(a)",
          "Viúvo(a)",
          "Solteiro(a)",
          "Divorciado(a)",
          "Casado(a)",
          "Viúvo(a)",
          "Casado(a)",
          "Solteiro(a)",
          "Solteiro(a)",
          "Viúvo(a)",
          "Casado(a)",
          "Casado(a)",
          "Casado(a)",
          "Solteiro(a)",
          "Casado(a)",
          "Viúvo(a)",
          "Solteiro(a)",
          "Viúvo(a)",
          "Casado(a)",
          "Solteiro(a)",
          "Solteiro(a)",
          "Casado(a)",
          "Casado(a)",
          "Viúvo(a)",
          "Viúvo(a)",
          "Divorciado(a)",
          "Casado(a)",
          "Divorciado(a)",
          "Viúvo(a)",
          "Viúvo(a)",
          "Solteiro(a)",
          "Viúvo(a)",
          "Solteiro(a)",
          "Viúvo(a)",
          "Solteiro(a)",
          "Viúvo(a)",
          "Casado(a)",
          "Casado(a)",
          "Solteiro(a)",
          "Solteiro(a)",
          "Divorciado(a)",
          "Divorciado(a)",
          "Divorciado(a)",
          "Viúvo(a)",
          "Casado(a)",
          "Solteiro(a)",
          "Casado(a)",
          "Casado(a)",
          "Divorciado(a)",
          "Divorciado(a)",
          "Solteiro(a)",
          "Divorciado(a)",
          "Divorciado(a)",
          "Casado(a)",
          "Solteiro(a)",
          "Solteiro(a)",
          "Viúvo(a)",
          "Casado(a)",
          "Solteiro(a)",
          "Solteiro(a)",
          "Viúvo(a)",
          "Viúvo(a)",
          "Viúvo(a)",
          "Casado(a)",
          "Casado(a)",
          "Solteiro(a)",
          "Casado(a)",
          "Viúvo(a)",
          "Viúvo(a)",
          "Viúvo(a)",
          "Divorciado(a)",
          "Solteiro(a)",
          "Divorciado(a)",
          "Divorciado(a)",
          "Casado(a)",
          "Viúvo(a)",
          "Casado(a)",
          "Solteiro(a)",
          "Divorciado(a)",
          "Casado(a)",
          "Viúvo(a)",
          "Solteiro(a)",
          "Casado(a)",
          "Solteiro(a)",
          "Solteiro(a)",
          "Divorciado(a)",
          "Divorciado(a)",
          "Solteiro(a)",
          "Solteiro(a)",
          "Casado(a)",
          "Viúvo(a)",
          "Casado(a)",
          "Divorciado(a)",
          "Casado(a)",
          "Casado(a)",
          "Divorciado(a)",
          "Divorciado(a)",
          "Divorciado(a)",
          "Viúvo(a)",
          "Divorciado(a)",
          "Divorciado(a)",
          "Viúvo(a)",
          "Divorciado(a)",
          "Viúvo(a)",
          "Viúvo(a)",
          "Solteiro(a)",
          "Casado(a)",
          "Viúvo(a)",
          "Solteiro(a)",
          "Viúvo(a)",
          "Solteiro(a)",
          "Casado(a)",
          "Casado(a)",
          "Divorciado(a)",
          "Casado(a)",
          "Solteiro(a)",
          "Divorciado(a)",
          "Solteiro(a)",
          "Solteiro(a)",
          "Viúvo(a)",
          "Divorciado(a)",
          "Divorciado(a)",
          "Casado(a)",
          "Viúvo(a)",
          "Solteiro(a)",
          "Viúvo(a)",
          "Solteiro(a)",
          "Casado(a)",
          "Viúvo(a)",
          "Divorciado(a)",
          "Casado(a)",
          "Divorciado(a)",
          "Solteiro(a)",
          "Divorciado(a)",
          "Divorciado(a)",
          "Divorciado(a)",
          "Casado(a)",
          "Casado(a)",
          "Viúvo(a)",
          "Viúvo(a)",
          "Casado(a)",
          "Solteiro(a)",
          "Solteiro(a)",
          "Viúvo(a)",
          "Solteiro(a)",
          "Casado(a)",
          "Divorciado(a)",
          "Solteiro(a)",
          "Divorciado(a)",
          "Casado(a)",
          "Casado(a)",
          "Casado(a)",
          "Solteiro(a)",
          "Viúvo(a)",
          "Divorciado(a)",
          "Viúvo(a)",
          "Casado(a)",
          "Solteiro(a)",
          "Viúvo(a)",
          "Viúvo(a)",
          "Viúvo(a)",
          "Solteiro(a)"
         ],
         "xaxis": "x",
         "yaxis": "y"
        },
        {
         "alignmentgroup": "True",
         "bingroup": "x",
         "hovertemplate": "churn=1<br>estado_civil=%{x}<br>count=%{y}<extra></extra>",
         "legendgroup": "1",
         "marker": {
          "color": "#EF553B",
          "pattern": {
           "shape": ""
          }
         },
         "name": "1",
         "offsetgroup": "1",
         "orientation": "v",
         "showlegend": true,
         "type": "histogram",
         "x": [
          "Casado(a)",
          "Viúvo(a)",
          "Viúvo(a)",
          "Casado(a)",
          "Viúvo(a)",
          "Divorciado(a)",
          "Solteiro(a)",
          "Divorciado(a)",
          "Casado(a)",
          "Solteiro(a)",
          "Divorciado(a)",
          "Solteiro(a)",
          "Solteiro(a)",
          "Viúvo(a)",
          "Casado(a)",
          "Viúvo(a)",
          "Divorciado(a)",
          "Divorciado(a)",
          "Divorciado(a)",
          "Solteiro(a)",
          "Casado(a)",
          "Casado(a)",
          "Viúvo(a)",
          "Divorciado(a)",
          "Viúvo(a)",
          "Viúvo(a)",
          "Divorciado(a)",
          "Casado(a)",
          "Solteiro(a)",
          "Viúvo(a)",
          "Divorciado(a)",
          "Divorciado(a)",
          "Casado(a)",
          "Divorciado(a)",
          "Viúvo(a)",
          "Solteiro(a)",
          "Casado(a)",
          "Divorciado(a)",
          "Solteiro(a)",
          "Solteiro(a)",
          "Solteiro(a)",
          "Divorciado(a)",
          "Viúvo(a)",
          "Solteiro(a)",
          "Casado(a)",
          "Solteiro(a)",
          "Solteiro(a)",
          "Solteiro(a)",
          "Solteiro(a)",
          "Divorciado(a)",
          "Solteiro(a)",
          "Divorciado(a)",
          "Viúvo(a)",
          "Viúvo(a)",
          "Casado(a)",
          "Casado(a)",
          "Viúvo(a)",
          "Solteiro(a)",
          "Casado(a)",
          "Divorciado(a)",
          "Casado(a)",
          "Solteiro(a)",
          "Solteiro(a)",
          "Solteiro(a)",
          "Casado(a)",
          "Divorciado(a)",
          "Divorciado(a)",
          "Viúvo(a)",
          "Solteiro(a)",
          "Viúvo(a)",
          "Divorciado(a)",
          "Casado(a)",
          "Casado(a)",
          "Viúvo(a)",
          "Solteiro(a)",
          "Casado(a)",
          "Divorciado(a)",
          "Divorciado(a)",
          "Viúvo(a)",
          "Viúvo(a)",
          "Viúvo(a)",
          "Casado(a)",
          "Viúvo(a)",
          "Viúvo(a)",
          "Divorciado(a)",
          "Casado(a)",
          "Divorciado(a)",
          "Viúvo(a)",
          "Divorciado(a)",
          "Viúvo(a)",
          "Viúvo(a)",
          "Casado(a)",
          "Viúvo(a)",
          "Solteiro(a)",
          "Divorciado(a)",
          "Solteiro(a)",
          "Divorciado(a)",
          "Viúvo(a)",
          "Solteiro(a)",
          "Viúvo(a)",
          "Solteiro(a)",
          "Divorciado(a)",
          "Casado(a)",
          "Casado(a)",
          "Divorciado(a)",
          "Viúvo(a)",
          "Casado(a)",
          "Divorciado(a)",
          "Viúvo(a)",
          "Viúvo(a)",
          "Viúvo(a)",
          "Viúvo(a)",
          "Viúvo(a)",
          "Solteiro(a)",
          "Solteiro(a)",
          "Casado(a)",
          "Viúvo(a)",
          "Casado(a)",
          "Solteiro(a)",
          "Divorciado(a)",
          "Viúvo(a)",
          "Viúvo(a)",
          "Solteiro(a)",
          "Viúvo(a)",
          "Viúvo(a)",
          "Divorciado(a)",
          "Divorciado(a)",
          "Viúvo(a)",
          "Casado(a)",
          "Solteiro(a)",
          "Casado(a)",
          "Casado(a)",
          "Solteiro(a)",
          "Viúvo(a)",
          "Solteiro(a)",
          "Solteiro(a)",
          "Viúvo(a)",
          "Viúvo(a)",
          "Divorciado(a)",
          "Viúvo(a)",
          "Solteiro(a)",
          "Solteiro(a)",
          "Viúvo(a)",
          "Viúvo(a)",
          "Viúvo(a)",
          "Casado(a)",
          "Casado(a)",
          "Solteiro(a)",
          "Divorciado(a)",
          "Casado(a)",
          "Divorciado(a)",
          "Solteiro(a)",
          "Viúvo(a)",
          "Divorciado(a)",
          "Divorciado(a)",
          "Divorciado(a)",
          "Divorciado(a)",
          "Viúvo(a)",
          "Casado(a)",
          "Casado(a)",
          "Divorciado(a)",
          "Viúvo(a)",
          "Solteiro(a)",
          "Solteiro(a)",
          "Casado(a)",
          "Casado(a)",
          "Casado(a)",
          "Viúvo(a)",
          "Viúvo(a)",
          "Casado(a)",
          "Divorciado(a)",
          "Divorciado(a)",
          "Solteiro(a)",
          "Casado(a)",
          "Casado(a)",
          "Casado(a)",
          "Solteiro(a)",
          "Casado(a)",
          "Solteiro(a)",
          "Solteiro(a)",
          "Divorciado(a)",
          "Divorciado(a)",
          "Viúvo(a)",
          "Divorciado(a)",
          "Casado(a)",
          "Casado(a)",
          "Divorciado(a)",
          "Casado(a)",
          "Solteiro(a)",
          "Solteiro(a)",
          "Solteiro(a)",
          "Viúvo(a)",
          "Viúvo(a)",
          "Casado(a)",
          "Divorciado(a)",
          "Casado(a)",
          "Divorciado(a)",
          "Casado(a)",
          "Divorciado(a)",
          "Viúvo(a)",
          "Solteiro(a)",
          "Solteiro(a)",
          "Divorciado(a)",
          "Casado(a)",
          "Viúvo(a)",
          "Solteiro(a)",
          "Solteiro(a)",
          "Casado(a)",
          "Solteiro(a)",
          "Solteiro(a)",
          "Casado(a)",
          "Divorciado(a)",
          "Casado(a)",
          "Viúvo(a)",
          "Casado(a)",
          "Divorciado(a)",
          "Viúvo(a)",
          "Divorciado(a)",
          "Casado(a)",
          "Casado(a)",
          "Divorciado(a)",
          "Divorciado(a)",
          "Solteiro(a)",
          "Divorciado(a)",
          "Solteiro(a)",
          "Viúvo(a)",
          "Solteiro(a)",
          "Solteiro(a)",
          "Divorciado(a)",
          "Casado(a)",
          "Divorciado(a)",
          "Casado(a)",
          "Casado(a)",
          "Solteiro(a)",
          "Divorciado(a)",
          "Casado(a)",
          "Divorciado(a)",
          "Divorciado(a)",
          "Solteiro(a)",
          "Casado(a)",
          "Solteiro(a)",
          "Casado(a)",
          "Divorciado(a)",
          "Viúvo(a)",
          "Viúvo(a)",
          "Viúvo(a)",
          "Divorciado(a)",
          "Divorciado(a)",
          "Solteiro(a)",
          "Solteiro(a)",
          "Divorciado(a)",
          "Viúvo(a)",
          "Solteiro(a)",
          "Viúvo(a)",
          "Divorciado(a)",
          "Casado(a)",
          "Viúvo(a)",
          "Casado(a)",
          "Viúvo(a)",
          "Casado(a)",
          "Viúvo(a)",
          "Divorciado(a)",
          "Casado(a)",
          "Solteiro(a)",
          "Viúvo(a)",
          "Casado(a)",
          "Viúvo(a)",
          "Divorciado(a)",
          "Divorciado(a)",
          "Solteiro(a)",
          "Solteiro(a)",
          "Casado(a)",
          "Viúvo(a)",
          "Viúvo(a)",
          "Divorciado(a)",
          "Viúvo(a)",
          "Solteiro(a)",
          "Viúvo(a)",
          "Solteiro(a)",
          "Viúvo(a)",
          "Viúvo(a)",
          "Solteiro(a)",
          "Solteiro(a)",
          "Divorciado(a)",
          "Divorciado(a)",
          "Divorciado(a)"
         ],
         "xaxis": "x",
         "yaxis": "y"
        }
       ],
       "layout": {
        "barmode": "group",
        "legend": {
         "title": {
          "text": "churn"
         },
         "tracegroupgap": 0
        },
        "template": {
         "data": {
          "bar": [
           {
            "error_x": {
             "color": "#2a3f5f"
            },
            "error_y": {
             "color": "#2a3f5f"
            },
            "marker": {
             "line": {
              "color": "#E5ECF6",
              "width": 0.5
             },
             "pattern": {
              "fillmode": "overlay",
              "size": 10,
              "solidity": 0.2
             }
            },
            "type": "bar"
           }
          ],
          "barpolar": [
           {
            "marker": {
             "line": {
              "color": "#E5ECF6",
              "width": 0.5
             },
             "pattern": {
              "fillmode": "overlay",
              "size": 10,
              "solidity": 0.2
             }
            },
            "type": "barpolar"
           }
          ],
          "carpet": [
           {
            "aaxis": {
             "endlinecolor": "#2a3f5f",
             "gridcolor": "white",
             "linecolor": "white",
             "minorgridcolor": "white",
             "startlinecolor": "#2a3f5f"
            },
            "baxis": {
             "endlinecolor": "#2a3f5f",
             "gridcolor": "white",
             "linecolor": "white",
             "minorgridcolor": "white",
             "startlinecolor": "#2a3f5f"
            },
            "type": "carpet"
           }
          ],
          "choropleth": [
           {
            "colorbar": {
             "outlinewidth": 0,
             "ticks": ""
            },
            "type": "choropleth"
           }
          ],
          "contour": [
           {
            "colorbar": {
             "outlinewidth": 0,
             "ticks": ""
            },
            "colorscale": [
             [
              0,
              "#0d0887"
             ],
             [
              0.1111111111111111,
              "#46039f"
             ],
             [
              0.2222222222222222,
              "#7201a8"
             ],
             [
              0.3333333333333333,
              "#9c179e"
             ],
             [
              0.4444444444444444,
              "#bd3786"
             ],
             [
              0.5555555555555556,
              "#d8576b"
             ],
             [
              0.6666666666666666,
              "#ed7953"
             ],
             [
              0.7777777777777778,
              "#fb9f3a"
             ],
             [
              0.8888888888888888,
              "#fdca26"
             ],
             [
              1,
              "#f0f921"
             ]
            ],
            "type": "contour"
           }
          ],
          "contourcarpet": [
           {
            "colorbar": {
             "outlinewidth": 0,
             "ticks": ""
            },
            "type": "contourcarpet"
           }
          ],
          "heatmap": [
           {
            "colorbar": {
             "outlinewidth": 0,
             "ticks": ""
            },
            "colorscale": [
             [
              0,
              "#0d0887"
             ],
             [
              0.1111111111111111,
              "#46039f"
             ],
             [
              0.2222222222222222,
              "#7201a8"
             ],
             [
              0.3333333333333333,
              "#9c179e"
             ],
             [
              0.4444444444444444,
              "#bd3786"
             ],
             [
              0.5555555555555556,
              "#d8576b"
             ],
             [
              0.6666666666666666,
              "#ed7953"
             ],
             [
              0.7777777777777778,
              "#fb9f3a"
             ],
             [
              0.8888888888888888,
              "#fdca26"
             ],
             [
              1,
              "#f0f921"
             ]
            ],
            "type": "heatmap"
           }
          ],
          "histogram": [
           {
            "marker": {
             "pattern": {
              "fillmode": "overlay",
              "size": 10,
              "solidity": 0.2
             }
            },
            "type": "histogram"
           }
          ],
          "histogram2d": [
           {
            "colorbar": {
             "outlinewidth": 0,
             "ticks": ""
            },
            "colorscale": [
             [
              0,
              "#0d0887"
             ],
             [
              0.1111111111111111,
              "#46039f"
             ],
             [
              0.2222222222222222,
              "#7201a8"
             ],
             [
              0.3333333333333333,
              "#9c179e"
             ],
             [
              0.4444444444444444,
              "#bd3786"
             ],
             [
              0.5555555555555556,
              "#d8576b"
             ],
             [
              0.6666666666666666,
              "#ed7953"
             ],
             [
              0.7777777777777778,
              "#fb9f3a"
             ],
             [
              0.8888888888888888,
              "#fdca26"
             ],
             [
              1,
              "#f0f921"
             ]
            ],
            "type": "histogram2d"
           }
          ],
          "histogram2dcontour": [
           {
            "colorbar": {
             "outlinewidth": 0,
             "ticks": ""
            },
            "colorscale": [
             [
              0,
              "#0d0887"
             ],
             [
              0.1111111111111111,
              "#46039f"
             ],
             [
              0.2222222222222222,
              "#7201a8"
             ],
             [
              0.3333333333333333,
              "#9c179e"
             ],
             [
              0.4444444444444444,
              "#bd3786"
             ],
             [
              0.5555555555555556,
              "#d8576b"
             ],
             [
              0.6666666666666666,
              "#ed7953"
             ],
             [
              0.7777777777777778,
              "#fb9f3a"
             ],
             [
              0.8888888888888888,
              "#fdca26"
             ],
             [
              1,
              "#f0f921"
             ]
            ],
            "type": "histogram2dcontour"
           }
          ],
          "mesh3d": [
           {
            "colorbar": {
             "outlinewidth": 0,
             "ticks": ""
            },
            "type": "mesh3d"
           }
          ],
          "parcoords": [
           {
            "line": {
             "colorbar": {
              "outlinewidth": 0,
              "ticks": ""
             }
            },
            "type": "parcoords"
           }
          ],
          "pie": [
           {
            "automargin": true,
            "type": "pie"
           }
          ],
          "scatter": [
           {
            "fillpattern": {
             "fillmode": "overlay",
             "size": 10,
             "solidity": 0.2
            },
            "type": "scatter"
           }
          ],
          "scatter3d": [
           {
            "line": {
             "colorbar": {
              "outlinewidth": 0,
              "ticks": ""
             }
            },
            "marker": {
             "colorbar": {
              "outlinewidth": 0,
              "ticks": ""
             }
            },
            "type": "scatter3d"
           }
          ],
          "scattercarpet": [
           {
            "marker": {
             "colorbar": {
              "outlinewidth": 0,
              "ticks": ""
             }
            },
            "type": "scattercarpet"
           }
          ],
          "scattergeo": [
           {
            "marker": {
             "colorbar": {
              "outlinewidth": 0,
              "ticks": ""
             }
            },
            "type": "scattergeo"
           }
          ],
          "scattergl": [
           {
            "marker": {
             "colorbar": {
              "outlinewidth": 0,
              "ticks": ""
             }
            },
            "type": "scattergl"
           }
          ],
          "scattermap": [
           {
            "marker": {
             "colorbar": {
              "outlinewidth": 0,
              "ticks": ""
             }
            },
            "type": "scattermap"
           }
          ],
          "scattermapbox": [
           {
            "marker": {
             "colorbar": {
              "outlinewidth": 0,
              "ticks": ""
             }
            },
            "type": "scattermapbox"
           }
          ],
          "scatterpolar": [
           {
            "marker": {
             "colorbar": {
              "outlinewidth": 0,
              "ticks": ""
             }
            },
            "type": "scatterpolar"
           }
          ],
          "scatterpolargl": [
           {
            "marker": {
             "colorbar": {
              "outlinewidth": 0,
              "ticks": ""
             }
            },
            "type": "scatterpolargl"
           }
          ],
          "scatterternary": [
           {
            "marker": {
             "colorbar": {
              "outlinewidth": 0,
              "ticks": ""
             }
            },
            "type": "scatterternary"
           }
          ],
          "surface": [
           {
            "colorbar": {
             "outlinewidth": 0,
             "ticks": ""
            },
            "colorscale": [
             [
              0,
              "#0d0887"
             ],
             [
              0.1111111111111111,
              "#46039f"
             ],
             [
              0.2222222222222222,
              "#7201a8"
             ],
             [
              0.3333333333333333,
              "#9c179e"
             ],
             [
              0.4444444444444444,
              "#bd3786"
             ],
             [
              0.5555555555555556,
              "#d8576b"
             ],
             [
              0.6666666666666666,
              "#ed7953"
             ],
             [
              0.7777777777777778,
              "#fb9f3a"
             ],
             [
              0.8888888888888888,
              "#fdca26"
             ],
             [
              1,
              "#f0f921"
             ]
            ],
            "type": "surface"
           }
          ],
          "table": [
           {
            "cells": {
             "fill": {
              "color": "#EBF0F8"
             },
             "line": {
              "color": "white"
             }
            },
            "header": {
             "fill": {
              "color": "#C8D4E3"
             },
             "line": {
              "color": "white"
             }
            },
            "type": "table"
           }
          ]
         },
         "layout": {
          "annotationdefaults": {
           "arrowcolor": "#2a3f5f",
           "arrowhead": 0,
           "arrowwidth": 1
          },
          "autotypenumbers": "strict",
          "coloraxis": {
           "colorbar": {
            "outlinewidth": 0,
            "ticks": ""
           }
          },
          "colorscale": {
           "diverging": [
            [
             0,
             "#8e0152"
            ],
            [
             0.1,
             "#c51b7d"
            ],
            [
             0.2,
             "#de77ae"
            ],
            [
             0.3,
             "#f1b6da"
            ],
            [
             0.4,
             "#fde0ef"
            ],
            [
             0.5,
             "#f7f7f7"
            ],
            [
             0.6,
             "#e6f5d0"
            ],
            [
             0.7,
             "#b8e186"
            ],
            [
             0.8,
             "#7fbc41"
            ],
            [
             0.9,
             "#4d9221"
            ],
            [
             1,
             "#276419"
            ]
           ],
           "sequential": [
            [
             0,
             "#0d0887"
            ],
            [
             0.1111111111111111,
             "#46039f"
            ],
            [
             0.2222222222222222,
             "#7201a8"
            ],
            [
             0.3333333333333333,
             "#9c179e"
            ],
            [
             0.4444444444444444,
             "#bd3786"
            ],
            [
             0.5555555555555556,
             "#d8576b"
            ],
            [
             0.6666666666666666,
             "#ed7953"
            ],
            [
             0.7777777777777778,
             "#fb9f3a"
            ],
            [
             0.8888888888888888,
             "#fdca26"
            ],
            [
             1,
             "#f0f921"
            ]
           ],
           "sequentialminus": [
            [
             0,
             "#0d0887"
            ],
            [
             0.1111111111111111,
             "#46039f"
            ],
            [
             0.2222222222222222,
             "#7201a8"
            ],
            [
             0.3333333333333333,
             "#9c179e"
            ],
            [
             0.4444444444444444,
             "#bd3786"
            ],
            [
             0.5555555555555556,
             "#d8576b"
            ],
            [
             0.6666666666666666,
             "#ed7953"
            ],
            [
             0.7777777777777778,
             "#fb9f3a"
            ],
            [
             0.8888888888888888,
             "#fdca26"
            ],
            [
             1,
             "#f0f921"
            ]
           ]
          },
          "colorway": [
           "#636efa",
           "#EF553B",
           "#00cc96",
           "#ab63fa",
           "#FFA15A",
           "#19d3f3",
           "#FF6692",
           "#B6E880",
           "#FF97FF",
           "#FECB52"
          ],
          "font": {
           "color": "#2a3f5f"
          },
          "geo": {
           "bgcolor": "white",
           "lakecolor": "white",
           "landcolor": "#E5ECF6",
           "showlakes": true,
           "showland": true,
           "subunitcolor": "white"
          },
          "hoverlabel": {
           "align": "left"
          },
          "hovermode": "closest",
          "mapbox": {
           "style": "light"
          },
          "paper_bgcolor": "white",
          "plot_bgcolor": "#E5ECF6",
          "polar": {
           "angularaxis": {
            "gridcolor": "white",
            "linecolor": "white",
            "ticks": ""
           },
           "bgcolor": "#E5ECF6",
           "radialaxis": {
            "gridcolor": "white",
            "linecolor": "white",
            "ticks": ""
           }
          },
          "scene": {
           "xaxis": {
            "backgroundcolor": "#E5ECF6",
            "gridcolor": "white",
            "gridwidth": 2,
            "linecolor": "white",
            "showbackground": true,
            "ticks": "",
            "zerolinecolor": "white"
           },
           "yaxis": {
            "backgroundcolor": "#E5ECF6",
            "gridcolor": "white",
            "gridwidth": 2,
            "linecolor": "white",
            "showbackground": true,
            "ticks": "",
            "zerolinecolor": "white"
           },
           "zaxis": {
            "backgroundcolor": "#E5ECF6",
            "gridcolor": "white",
            "gridwidth": 2,
            "linecolor": "white",
            "showbackground": true,
            "ticks": "",
            "zerolinecolor": "white"
           }
          },
          "shapedefaults": {
           "line": {
            "color": "#2a3f5f"
           }
          },
          "ternary": {
           "aaxis": {
            "gridcolor": "white",
            "linecolor": "white",
            "ticks": ""
           },
           "baxis": {
            "gridcolor": "white",
            "linecolor": "white",
            "ticks": ""
           },
           "bgcolor": "#E5ECF6",
           "caxis": {
            "gridcolor": "white",
            "linecolor": "white",
            "ticks": ""
           }
          },
          "title": {
           "x": 0.05
          },
          "xaxis": {
           "automargin": true,
           "gridcolor": "white",
           "linecolor": "white",
           "ticks": "",
           "title": {
            "standoff": 15
           },
           "zerolinecolor": "white",
           "zerolinewidth": 2
          },
          "yaxis": {
           "automargin": true,
           "gridcolor": "white",
           "linecolor": "white",
           "ticks": "",
           "title": {
            "standoff": 15
           },
           "zerolinecolor": "white",
           "zerolinewidth": 2
          }
         }
        },
        "title": {
         "text": "Distribuição de estado_civil por Churn"
        },
        "xaxis": {
         "anchor": "y",
         "domain": [
          0,
          1
         ],
         "title": {
          "text": "estado_civil"
         }
        },
        "yaxis": {
         "anchor": "x",
         "domain": [
          0,
          1
         ],
         "title": {
          "text": "count"
         }
        }
       }
      }
     },
     "metadata": {},
     "output_type": "display_data"
    },
    {
     "data": {
      "application/vnd.plotly.v1+json": {
       "config": {
        "plotlyServerURL": "https://plot.ly"
       },
       "data": [
        {
         "alignmentgroup": "True",
         "bingroup": "x",
         "hovertemplate": "churn=0<br>educacao=%{x}<br>count=%{y}<extra></extra>",
         "legendgroup": "0",
         "marker": {
          "color": "#636efa",
          "pattern": {
           "shape": ""
          }
         },
         "name": "0",
         "offsetgroup": "0",
         "orientation": "v",
         "showlegend": true,
         "type": "histogram",
         "x": [
          "Master",
          "Master",
          "Technical Degree",
          "Bachelor",
          "PhD",
          "Technical Degree",
          "PhD",
          "Technical Degree",
          "PhD",
          "PhD",
          "PhD",
          "Master",
          "PhD",
          "Master",
          "Master",
          "Bachelor",
          "PhD",
          "Master",
          "Technical Degree",
          "PhD",
          "Master",
          "Technical Degree",
          "Master",
          "PhD",
          "Technical Degree",
          "Master",
          "Technical Degree",
          "Bachelor",
          "Bachelor",
          "Bachelor",
          "PhD",
          "Master",
          "Master",
          "Technical Degree",
          "Master",
          "Technical Degree",
          "Master",
          "Master",
          "Master",
          "Master",
          "Master",
          "PhD",
          "PhD",
          "Technical Degree",
          "Master",
          "Master",
          "Master",
          "Master",
          "Bachelor",
          "Technical Degree",
          "PhD",
          "Bachelor",
          "Master",
          "Bachelor",
          "Bachelor",
          "Master",
          "PhD",
          "Bachelor",
          "Bachelor",
          "Master",
          "PhD",
          "Technical Degree",
          "Master",
          "Master",
          "Bachelor",
          "Master",
          "Master",
          "PhD",
          "PhD",
          "Technical Degree",
          "Bachelor",
          "Bachelor",
          "Master",
          "Technical Degree",
          "Bachelor",
          "Master",
          "Master",
          "Master",
          "PhD",
          "Bachelor",
          "Master",
          "Technical Degree",
          "Technical Degree",
          "Technical Degree",
          "Master",
          "Technical Degree",
          "PhD",
          "Master",
          "PhD",
          "Technical Degree",
          "Master",
          "Master",
          "Technical Degree",
          "Technical Degree",
          "PhD",
          "Master",
          "Master",
          "Bachelor",
          "PhD",
          "PhD",
          "Bachelor",
          "Bachelor",
          "PhD",
          "Master",
          "Technical Degree",
          "Technical Degree",
          "Bachelor",
          "Bachelor",
          "Bachelor",
          "Master",
          "Master",
          "Master",
          "Master",
          "Bachelor",
          "PhD",
          "PhD",
          "Technical Degree",
          "PhD",
          "Technical Degree",
          "Master",
          "Master",
          "Technical Degree",
          "Bachelor",
          "Master",
          "Master",
          "Bachelor",
          "Technical Degree",
          "Master",
          "Bachelor",
          "Master",
          "Master",
          "PhD",
          "PhD",
          "Bachelor",
          "Master",
          "Bachelor",
          "Bachelor",
          "PhD",
          "Technical Degree",
          "PhD",
          "PhD",
          "PhD",
          "Technical Degree",
          "Technical Degree",
          "Technical Degree",
          "Master",
          "Bachelor",
          "Technical Degree",
          "Technical Degree",
          "Technical Degree",
          "Master",
          "Bachelor",
          "Master",
          "Technical Degree",
          "Technical Degree",
          "Technical Degree",
          "Technical Degree",
          "Master",
          "Master",
          "Master",
          "Bachelor",
          "PhD",
          "Bachelor",
          "PhD",
          "Technical Degree",
          "Technical Degree",
          "Master",
          "Master",
          "PhD",
          "Technical Degree",
          "Bachelor",
          "Technical Degree",
          "Bachelor",
          "Bachelor",
          "Technical Degree",
          "Technical Degree",
          "Bachelor",
          "PhD",
          "Master",
          "Technical Degree",
          "PhD",
          "PhD",
          "PhD",
          "Technical Degree",
          "Master",
          "PhD",
          "Technical Degree",
          "Technical Degree",
          "Bachelor",
          "PhD",
          "Bachelor",
          "PhD",
          "Master",
          "PhD",
          "PhD",
          "Master",
          "Bachelor",
          "Bachelor",
          "Technical Degree",
          "PhD",
          "PhD",
          "PhD",
          "Bachelor",
          "Bachelor",
          "Bachelor",
          "PhD",
          "Master",
          "PhD",
          "PhD",
          "Master",
          "Technical Degree",
          "PhD",
          "Technical Degree",
          "Technical Degree",
          "PhD",
          "PhD",
          "Master",
          "Technical Degree",
          "PhD",
          "Technical Degree",
          "Bachelor",
          "Bachelor",
          "Technical Degree",
          "Bachelor",
          "Bachelor",
          "Bachelor",
          "Technical Degree",
          "Master",
          "Technical Degree",
          "Bachelor",
          "Master",
          "Technical Degree",
          "Technical Degree",
          "Master",
          "Bachelor",
          "Technical Degree",
          "Technical Degree",
          "Bachelor",
          "Technical Degree",
          "Master",
          "Master",
          "Master",
          "Technical Degree",
          "Technical Degree",
          "Bachelor",
          "PhD",
          "Master",
          "Master",
          "Bachelor",
          "Master",
          "PhD",
          "Bachelor",
          "Bachelor",
          "PhD",
          "Bachelor",
          "Master",
          "Technical Degree",
          "Technical Degree",
          "PhD",
          "Technical Degree",
          "PhD",
          "Technical Degree",
          "Technical Degree",
          "Technical Degree",
          "Master",
          "Master",
          "Technical Degree",
          "Technical Degree",
          "Master",
          "Technical Degree",
          "PhD",
          "Master",
          "Master",
          "PhD",
          "Bachelor",
          "PhD",
          "Technical Degree",
          "Technical Degree",
          "Technical Degree",
          "Bachelor",
          "Master",
          "Bachelor",
          "Technical Degree",
          "PhD",
          "Bachelor",
          "Technical Degree",
          "Master",
          "PhD",
          "Bachelor",
          "Master",
          "Master",
          "Bachelor",
          "Master",
          "Technical Degree",
          "Technical Degree",
          "Technical Degree",
          "PhD",
          "Master",
          "Master",
          "Bachelor",
          "Bachelor",
          "Master",
          "Master",
          "Bachelor",
          "PhD",
          "Master",
          "PhD",
          "Master",
          "PhD",
          "Master",
          "Master",
          "Technical Degree",
          "PhD",
          "PhD",
          "Bachelor",
          "Technical Degree",
          "Master",
          "Bachelor",
          "Bachelor",
          "Master",
          "Bachelor",
          "PhD",
          "Bachelor",
          "Master",
          "Master",
          "Technical Degree",
          "Technical Degree",
          "PhD",
          "Technical Degree",
          "Technical Degree",
          "Technical Degree",
          "Bachelor",
          "PhD",
          "PhD",
          "Bachelor",
          "Bachelor",
          "Master",
          "Master",
          "Master",
          "Bachelor",
          "Bachelor",
          "PhD",
          "Bachelor",
          "Technical Degree",
          "Master",
          "Master",
          "PhD",
          "Master",
          "PhD",
          "Technical Degree",
          "PhD",
          "Bachelor",
          "Technical Degree",
          "PhD",
          "PhD",
          "Technical Degree",
          "Master",
          "Master",
          "Technical Degree",
          "Master",
          "Master",
          "Bachelor",
          "Technical Degree",
          "PhD",
          "Technical Degree",
          "PhD",
          "Technical Degree",
          "Bachelor",
          "Master",
          "PhD",
          "Bachelor",
          "Master",
          "PhD",
          "PhD",
          "PhD",
          "Technical Degree",
          "Bachelor",
          "PhD",
          "Master",
          "Master",
          "Bachelor",
          "Master",
          "Master",
          "Bachelor",
          "Bachelor",
          "Master",
          "Technical Degree",
          "Bachelor",
          "PhD",
          "Master",
          "PhD",
          "PhD",
          "Technical Degree",
          "PhD",
          "Master",
          "Bachelor",
          "PhD",
          "Master",
          "Master",
          "Technical Degree",
          "Master",
          "PhD",
          "PhD",
          "Technical Degree",
          "Technical Degree",
          "Master",
          "Bachelor",
          "Bachelor",
          "Technical Degree",
          "Bachelor",
          "Technical Degree",
          "PhD",
          "PhD",
          "PhD",
          "Bachelor",
          "Technical Degree",
          "Bachelor",
          "PhD",
          "Master",
          "Technical Degree",
          "Master",
          "Master",
          "Bachelor",
          "Technical Degree",
          "Bachelor",
          "Bachelor",
          "Bachelor",
          "Technical Degree",
          "Master",
          "PhD",
          "Technical Degree",
          "Master",
          "PhD",
          "Bachelor",
          "Technical Degree",
          "Technical Degree",
          "Technical Degree",
          "Bachelor",
          "Bachelor",
          "PhD",
          "Master",
          "Technical Degree",
          "Master",
          "Bachelor",
          "PhD",
          "Master",
          "Master",
          "Technical Degree",
          "Technical Degree",
          "Technical Degree",
          "Technical Degree",
          "Bachelor",
          "PhD",
          "Bachelor",
          "Technical Degree",
          "Bachelor",
          "Bachelor",
          "PhD",
          "PhD",
          "Bachelor",
          "Technical Degree",
          "Master",
          "Technical Degree",
          "Bachelor",
          "PhD",
          "PhD",
          "PhD",
          "Bachelor",
          "PhD",
          "Master",
          "PhD",
          "Master",
          "Master",
          "Technical Degree",
          "Master",
          "PhD",
          "PhD",
          "Bachelor",
          "Bachelor",
          "Bachelor",
          "Bachelor",
          "Master",
          "Technical Degree",
          "Technical Degree",
          "Bachelor",
          "Technical Degree",
          "Bachelor",
          "PhD",
          "PhD",
          "PhD",
          "Bachelor",
          "Technical Degree",
          "Master",
          "Technical Degree",
          "Bachelor",
          "Technical Degree",
          "Bachelor",
          "Technical Degree",
          "Technical Degree",
          "Master",
          "Master",
          "Master",
          "Bachelor",
          "Master",
          "Technical Degree",
          "Master",
          "Master",
          "Technical Degree",
          "Bachelor",
          "PhD",
          "Technical Degree",
          "Technical Degree",
          "PhD",
          "Master",
          "Technical Degree",
          "Master",
          "Master",
          "Bachelor",
          "Master",
          "PhD",
          "Bachelor",
          "Master",
          "Technical Degree",
          "PhD",
          "Technical Degree",
          "Master",
          "Technical Degree",
          "PhD",
          "Master",
          "Bachelor",
          "Technical Degree",
          "PhD",
          "PhD",
          "Master",
          "Technical Degree",
          "Master",
          "Master",
          "Master",
          "PhD",
          "PhD",
          "Technical Degree",
          "Bachelor",
          "Bachelor",
          "Bachelor",
          "PhD",
          "Master",
          "PhD",
          "PhD",
          "PhD",
          "Master",
          "Master",
          "Master",
          "Master",
          "PhD",
          "Master",
          "Bachelor",
          "PhD",
          "Master",
          "Technical Degree",
          "Technical Degree",
          "PhD",
          "Bachelor",
          "Master",
          "Master",
          "Master",
          "PhD",
          "Technical Degree",
          "Technical Degree",
          "PhD",
          "PhD",
          "Technical Degree",
          "Technical Degree",
          "Bachelor",
          "Master",
          "PhD",
          "Bachelor",
          "Technical Degree",
          "PhD",
          "Bachelor",
          "Bachelor",
          "PhD",
          "PhD",
          "Technical Degree",
          "Master",
          "Technical Degree",
          "Master",
          "Master",
          "Bachelor",
          "Technical Degree",
          "PhD",
          "PhD",
          "Master",
          "Master",
          "PhD",
          "Bachelor",
          "PhD",
          "Master",
          "Master",
          "Master",
          "PhD",
          "Bachelor",
          "Technical Degree",
          "Technical Degree",
          "Master",
          "Bachelor",
          "Technical Degree",
          "Technical Degree",
          "Bachelor",
          "PhD",
          "PhD",
          "Master",
          "Technical Degree",
          "Bachelor",
          "PhD",
          "PhD",
          "Technical Degree",
          "Technical Degree",
          "Bachelor",
          "Bachelor",
          "Master",
          "Bachelor",
          "Technical Degree",
          "Master",
          "Technical Degree",
          "Technical Degree",
          "Bachelor",
          "Master",
          "Bachelor",
          "Master",
          "PhD",
          "Master",
          "Technical Degree",
          "PhD",
          "Bachelor",
          "Bachelor",
          "Bachelor",
          "Master",
          "PhD",
          "Master",
          "Bachelor",
          "Technical Degree",
          "Technical Degree",
          "PhD",
          "Technical Degree",
          "Master",
          "Technical Degree",
          "Technical Degree",
          "PhD",
          "Master",
          "PhD",
          "Master",
          "Master",
          "Bachelor",
          "Bachelor",
          "Bachelor",
          "PhD",
          "Master",
          "PhD",
          "Master",
          "Technical Degree",
          "Technical Degree",
          "Master",
          "Bachelor",
          "Bachelor",
          "Master",
          "PhD",
          "PhD",
          "Bachelor",
          "Master",
          "Master",
          "Master",
          "Master",
          "Master",
          "Bachelor",
          "Bachelor",
          "PhD",
          "Master",
          "PhD",
          "Bachelor",
          "Master",
          "Master",
          "Technical Degree",
          "Master",
          "Bachelor",
          "Bachelor",
          "Technical Degree",
          "PhD",
          "PhD",
          "Technical Degree",
          "PhD",
          "Master",
          "PhD",
          "PhD",
          "Master",
          "Bachelor",
          "Bachelor",
          "PhD",
          "PhD",
          "Technical Degree",
          "PhD",
          "PhD",
          "Bachelor",
          "PhD",
          "Bachelor",
          "Master",
          "Bachelor",
          "Technical Degree",
          "Technical Degree",
          "Master",
          "Bachelor",
          "PhD",
          "PhD",
          "PhD",
          "Technical Degree",
          "PhD",
          "Technical Degree",
          "PhD",
          "PhD",
          "PhD",
          "Bachelor",
          "Master",
          "Master",
          "Bachelor",
          "Bachelor",
          "Technical Degree",
          "Bachelor",
          "Master",
          "Master",
          "Master",
          "Technical Degree",
          "Technical Degree",
          "Technical Degree",
          "Bachelor",
          "Bachelor",
          "Technical Degree",
          "Technical Degree",
          "Master",
          "Bachelor",
          "PhD",
          "Bachelor",
          "Technical Degree",
          "PhD",
          "PhD",
          "Bachelor",
          "Master",
          "Master",
          "Bachelor",
          "Master",
          "Bachelor",
          "Technical Degree",
          "Technical Degree",
          "Bachelor",
          "PhD",
          "Technical Degree",
          "PhD",
          "Master",
          "Technical Degree",
          "PhD",
          "Master",
          "Technical Degree",
          "Technical Degree",
          "Bachelor",
          "PhD",
          "Master",
          "Bachelor",
          "Technical Degree",
          "Bachelor",
          "Master",
          "PhD",
          "Bachelor",
          "PhD",
          "Bachelor",
          "Master",
          "Technical Degree",
          "Technical Degree",
          "Master",
          "PhD",
          "Technical Degree",
          "Technical Degree",
          "Technical Degree",
          "Master",
          "PhD",
          "PhD",
          "Bachelor",
          "PhD",
          "Bachelor",
          "Bachelor",
          "Master",
          "Bachelor",
          "PhD",
          "Master",
          "Bachelor",
          "PhD",
          "PhD",
          "PhD",
          "Master",
          "Master",
          "Bachelor",
          "Master",
          "PhD",
          "Bachelor",
          "Master",
          "Bachelor",
          "Master",
          "Technical Degree",
          "Bachelor",
          "PhD",
          "Bachelor",
          "PhD",
          "Technical Degree",
          "Master",
          "Master",
          "Technical Degree",
          "Technical Degree",
          "Technical Degree",
          "Master",
          "Bachelor",
          "Bachelor",
          "Bachelor",
          "PhD",
          "Bachelor",
          "Master",
          "PhD",
          "Bachelor",
          "PhD",
          "Technical Degree",
          "Master",
          "Technical Degree",
          "Bachelor",
          "Technical Degree",
          "Bachelor",
          "Technical Degree",
          "Bachelor",
          "Technical Degree",
          "Bachelor",
          "Bachelor",
          "Technical Degree",
          "PhD",
          "Technical Degree",
          "PhD",
          "Master",
          "Master",
          "Master",
          "Master",
          "PhD",
          "PhD",
          "Technical Degree",
          "Master",
          "Technical Degree",
          "Bachelor",
          "Master",
          "PhD",
          "PhD",
          "Technical Degree",
          "Bachelor",
          "Master",
          "PhD",
          "Master",
          "Bachelor",
          "Bachelor",
          "Technical Degree",
          "Master",
          "Technical Degree",
          "Bachelor",
          "Master",
          "Technical Degree",
          "PhD",
          "Technical Degree",
          "Master",
          "Bachelor",
          "PhD",
          "Technical Degree",
          "Master",
          "PhD",
          "Master",
          "Technical Degree",
          "Bachelor",
          "Bachelor",
          "PhD",
          "Master",
          "Technical Degree",
          "PhD",
          "Master",
          "PhD",
          "PhD",
          "Master",
          "PhD",
          "Technical Degree",
          "Technical Degree",
          "Master",
          "Bachelor",
          "Technical Degree",
          "Technical Degree",
          "Master",
          "Master",
          "Bachelor",
          "Technical Degree",
          "Master",
          "Master",
          "PhD",
          "PhD",
          "Master",
          "Bachelor",
          "Bachelor",
          "Technical Degree",
          "Master",
          "Master",
          "Technical Degree",
          "Master",
          "Bachelor",
          "Master",
          "Bachelor",
          "Bachelor",
          "PhD",
          "Technical Degree",
          "Master",
          "PhD",
          "Master",
          "Bachelor",
          "Technical Degree",
          "Technical Degree",
          "Master",
          "Bachelor",
          "Bachelor",
          "Bachelor",
          "PhD",
          "Bachelor",
          "Technical Degree",
          "Master",
          "Bachelor",
          "Bachelor",
          "PhD",
          "Bachelor",
          "Master",
          "Bachelor",
          "Master",
          "Master",
          "Master",
          "Master",
          "Technical Degree",
          "Master",
          "Technical Degree",
          "Technical Degree",
          "Technical Degree",
          "Master",
          "Master",
          "PhD",
          "Bachelor",
          "Master",
          "Master",
          "Technical Degree",
          "Technical Degree",
          "Master",
          "Technical Degree",
          "Technical Degree",
          "Technical Degree",
          "Technical Degree",
          "Technical Degree",
          "Bachelor",
          "PhD",
          "Bachelor",
          "Bachelor",
          "Master",
          "Master",
          "PhD",
          "Bachelor",
          "Technical Degree",
          "Bachelor",
          "Bachelor",
          "Bachelor",
          "Technical Degree",
          "Technical Degree",
          "Technical Degree",
          "PhD",
          "Technical Degree",
          "Master",
          "Technical Degree",
          "Technical Degree",
          "Master",
          "Bachelor",
          "Technical Degree",
          "Technical Degree",
          "Master",
          "Bachelor",
          "PhD",
          "PhD",
          "Bachelor",
          "Master",
          "Master",
          "PhD",
          "Master",
          "PhD",
          "Technical Degree",
          "Technical Degree",
          "Master",
          "PhD",
          "Bachelor",
          "PhD",
          "Technical Degree",
          "Master",
          "PhD",
          "Bachelor",
          "Master",
          "Bachelor",
          "Technical Degree",
          "Technical Degree",
          "PhD",
          "Technical Degree",
          "Technical Degree",
          "Master",
          "Bachelor",
          "Master",
          "Master",
          "Bachelor",
          "PhD",
          "Master",
          "Master",
          "Technical Degree",
          "PhD",
          "Technical Degree",
          "Master",
          "PhD",
          "PhD",
          "Technical Degree",
          "PhD",
          "Bachelor",
          "Master",
          "PhD",
          "Bachelor",
          "Technical Degree",
          "Master",
          "Technical Degree",
          "Bachelor",
          "Bachelor",
          "Bachelor",
          "PhD",
          "Bachelor",
          "PhD",
          "Master",
          "Master",
          "PhD",
          "Technical Degree",
          "Technical Degree",
          "Bachelor",
          "Technical Degree",
          "Bachelor",
          "Master",
          "PhD",
          "Technical Degree",
          "Technical Degree",
          "PhD",
          "Technical Degree",
          "Master",
          "PhD",
          "Master",
          "Technical Degree",
          "Bachelor",
          "Master",
          "PhD",
          "Technical Degree",
          "PhD",
          "Technical Degree",
          "Master",
          "PhD",
          "Master",
          "Master",
          "Bachelor",
          "Technical Degree",
          "Master",
          "PhD",
          "PhD",
          "PhD",
          "PhD",
          "Bachelor",
          "Technical Degree",
          "Bachelor",
          "Master",
          "PhD",
          "Master",
          "Master",
          "PhD",
          "PhD",
          "PhD",
          "Bachelor",
          "Master",
          "Technical Degree",
          "Bachelor",
          "PhD",
          "PhD",
          "PhD",
          "Master",
          "PhD",
          "PhD",
          "Bachelor",
          "PhD",
          "PhD",
          "Master",
          "Bachelor",
          "Bachelor",
          "PhD",
          "PhD",
          "Master",
          "Bachelor",
          "Master",
          "Master",
          "PhD",
          "Master",
          "PhD",
          "Technical Degree",
          "Bachelor",
          "Master",
          "Bachelor",
          "Master",
          "Master",
          "Bachelor",
          "PhD",
          "PhD",
          "Technical Degree",
          "Master",
          "Technical Degree",
          "PhD",
          "PhD",
          "Bachelor",
          "PhD",
          "Master",
          "Master",
          "Technical Degree",
          "Master",
          "Technical Degree",
          "Master",
          "PhD",
          "Technical Degree",
          "PhD",
          "Master",
          "PhD",
          "PhD",
          "Master",
          "Bachelor",
          "PhD",
          "Bachelor",
          "Bachelor",
          "PhD",
          "Master",
          "Master",
          "PhD",
          "Bachelor",
          "Technical Degree",
          "PhD",
          "Technical Degree",
          "Technical Degree",
          "Master",
          "Master",
          "PhD",
          "Technical Degree",
          "Master",
          "Master",
          "PhD",
          "Master",
          "PhD",
          "Master",
          "Bachelor",
          "Technical Degree",
          "Technical Degree",
          "Technical Degree",
          "Master",
          "PhD",
          "Bachelor",
          "Technical Degree",
          "Bachelor",
          "Bachelor",
          "Technical Degree",
          "PhD",
          "Bachelor",
          "Master",
          "Bachelor",
          "Master",
          "Master",
          "PhD",
          "Bachelor",
          "Master",
          "Technical Degree",
          "Technical Degree",
          "Bachelor",
          "Technical Degree",
          "Technical Degree",
          "Master",
          "Bachelor",
          "Bachelor",
          "Technical Degree",
          "Bachelor",
          "Master",
          "Technical Degree",
          "PhD",
          "Technical Degree",
          "Master",
          "Master",
          "PhD",
          "PhD",
          "Master",
          "Master",
          "Bachelor",
          "Bachelor",
          "Bachelor",
          "Master",
          "PhD",
          "PhD",
          "Master",
          "Bachelor",
          "Master",
          "Bachelor",
          "Technical Degree",
          "PhD",
          "Technical Degree",
          "Bachelor",
          "Technical Degree",
          "Bachelor",
          "PhD",
          "Bachelor",
          "Master",
          "PhD",
          "Master",
          "Technical Degree",
          "Technical Degree",
          "Technical Degree",
          "Bachelor",
          "Bachelor",
          "PhD",
          "PhD",
          "PhD",
          "Technical Degree",
          "Master",
          "Master",
          "Bachelor",
          "Bachelor",
          "Master",
          "Master",
          "PhD",
          "Master",
          "Bachelor",
          "Technical Degree",
          "Bachelor",
          "Bachelor",
          "Bachelor",
          "Technical Degree",
          "Bachelor",
          "Master",
          "Bachelor",
          "Master",
          "Technical Degree",
          "Technical Degree",
          "PhD",
          "Bachelor",
          "Technical Degree",
          "Master",
          "PhD",
          "Technical Degree",
          "PhD",
          "PhD",
          "Technical Degree",
          "Bachelor",
          "PhD",
          "PhD",
          "PhD",
          "Master",
          "PhD",
          "PhD",
          "PhD",
          "PhD",
          "Bachelor",
          "PhD",
          "PhD",
          "Bachelor",
          "Technical Degree",
          "Technical Degree",
          "Bachelor",
          "Bachelor",
          "Master",
          "Technical Degree",
          "Technical Degree",
          "PhD",
          "Bachelor",
          "Master",
          "PhD",
          "Bachelor",
          "PhD",
          "Master",
          "PhD",
          "Master",
          "Master",
          "PhD",
          "Bachelor",
          "PhD",
          "Master",
          "PhD",
          "Bachelor",
          "PhD",
          "Master",
          "Bachelor",
          "PhD",
          "Bachelor",
          "Bachelor",
          "Master",
          "Master",
          "Bachelor",
          "Bachelor",
          "Master",
          "PhD",
          "Bachelor",
          "PhD",
          "Master",
          "Bachelor",
          "Bachelor",
          "PhD",
          "Bachelor",
          "PhD",
          "PhD",
          "Master",
          "Master",
          "PhD",
          "Technical Degree",
          "Master",
          "Technical Degree",
          "Master",
          "Bachelor",
          "Technical Degree",
          "Bachelor",
          "PhD",
          "PhD",
          "PhD",
          "Master",
          "Master",
          "Technical Degree",
          "Technical Degree",
          "Bachelor",
          "PhD",
          "Technical Degree",
          "Technical Degree",
          "Technical Degree",
          "PhD",
          "Technical Degree",
          "Technical Degree",
          "PhD",
          "Technical Degree",
          "Technical Degree",
          "PhD",
          "Technical Degree",
          "Technical Degree",
          "Technical Degree",
          "Bachelor",
          "PhD",
          "Master",
          "Bachelor",
          "Technical Degree",
          "Master",
          "Master",
          "PhD",
          "Master",
          "Bachelor",
          "Master",
          "Bachelor",
          "PhD",
          "PhD",
          "Bachelor",
          "PhD",
          "PhD",
          "Bachelor",
          "PhD",
          "Master",
          "PhD",
          "Master",
          "Technical Degree",
          "Master",
          "Technical Degree",
          "Bachelor",
          "Bachelor",
          "Master",
          "Bachelor",
          "Bachelor",
          "Technical Degree",
          "Bachelor",
          "PhD",
          "PhD",
          "Technical Degree",
          "Bachelor",
          "PhD",
          "PhD",
          "Bachelor",
          "Bachelor",
          "PhD",
          "Master",
          "PhD",
          "Technical Degree",
          "Bachelor",
          "Bachelor",
          "Technical Degree",
          "PhD",
          "Technical Degree",
          "Technical Degree",
          "PhD",
          "Technical Degree",
          "PhD",
          "Technical Degree",
          "Bachelor",
          "Bachelor",
          "Bachelor",
          "PhD",
          "PhD",
          "Technical Degree",
          "PhD",
          "Technical Degree",
          "Bachelor",
          "Bachelor",
          "Master",
          "Master",
          "Master",
          "Master",
          "PhD",
          "PhD",
          "PhD",
          "Bachelor",
          "Technical Degree",
          "Technical Degree",
          "Master",
          "Master",
          "Master",
          "Technical Degree",
          "Bachelor",
          "Technical Degree",
          "PhD",
          "Master",
          "Master",
          "Bachelor",
          "Master",
          "Master",
          "PhD",
          "Technical Degree",
          "Bachelor",
          "Bachelor",
          "Bachelor",
          "Technical Degree",
          "Master",
          "PhD",
          "Bachelor",
          "Technical Degree",
          "Master",
          "Bachelor",
          "Master",
          "Technical Degree",
          "Master",
          "Master",
          "Master",
          "Master",
          "PhD",
          "Technical Degree",
          "Master",
          "Bachelor",
          "Master",
          "Master",
          "Bachelor",
          "Master",
          "Master",
          "PhD",
          "Master",
          "PhD",
          "Bachelor",
          "PhD",
          "Master",
          "Master",
          "PhD",
          "Master",
          "Master",
          "Master",
          "PhD",
          "PhD",
          "Technical Degree",
          "Master",
          "Bachelor",
          "Bachelor",
          "Technical Degree",
          "PhD",
          "Master",
          "Technical Degree",
          "Master",
          "PhD",
          "Bachelor",
          "Bachelor",
          "PhD",
          "PhD",
          "PhD",
          "Master",
          "Master",
          "Bachelor",
          "PhD",
          "Technical Degree",
          "PhD",
          "Technical Degree",
          "Technical Degree",
          "PhD",
          "PhD",
          "Master",
          "PhD",
          "Master",
          "Master",
          "PhD",
          "Bachelor",
          "Bachelor",
          "Technical Degree",
          "PhD",
          "Bachelor",
          "PhD",
          "Technical Degree",
          "Bachelor",
          "PhD",
          "Technical Degree",
          "Technical Degree",
          "PhD",
          "Master",
          "PhD",
          "PhD",
          "PhD",
          "Bachelor",
          "Bachelor",
          "Bachelor",
          "PhD",
          "Technical Degree",
          "Bachelor",
          "PhD",
          "Technical Degree",
          "Technical Degree",
          "PhD",
          "Bachelor",
          "PhD",
          "Bachelor",
          "Bachelor",
          "Technical Degree",
          "Master",
          "PhD",
          "Bachelor",
          "Master",
          "PhD",
          "Bachelor",
          "PhD",
          "Bachelor",
          "Bachelor",
          "PhD",
          "Bachelor",
          "Technical Degree",
          "PhD",
          "Bachelor",
          "Technical Degree",
          "PhD",
          "Technical Degree",
          "Bachelor",
          "Technical Degree",
          "Bachelor",
          "Master",
          "Master",
          "Bachelor",
          "Master",
          "Bachelor",
          "Bachelor",
          "PhD",
          "Master",
          "Bachelor",
          "Bachelor",
          "Technical Degree",
          "Technical Degree",
          "Master",
          "Technical Degree",
          "Technical Degree",
          "Technical Degree",
          "Master",
          "PhD",
          "PhD",
          "Master",
          "Bachelor",
          "Technical Degree",
          "Technical Degree",
          "Technical Degree",
          "Technical Degree",
          "Bachelor",
          "Technical Degree",
          "Technical Degree",
          "Technical Degree",
          "Master",
          "Bachelor",
          "PhD",
          "Technical Degree",
          "PhD",
          "Bachelor",
          "Master",
          "Master",
          "Bachelor",
          "Master",
          "Bachelor",
          "Technical Degree",
          "Bachelor",
          "Technical Degree",
          "Master",
          "PhD",
          "Technical Degree",
          "Technical Degree",
          "Technical Degree",
          "PhD",
          "Master",
          "Bachelor",
          "Master",
          "Technical Degree",
          "Master",
          "Master",
          "Master",
          "Master",
          "PhD",
          "Bachelor",
          "Technical Degree",
          "PhD",
          "Technical Degree",
          "Technical Degree",
          "Technical Degree",
          "Master",
          "PhD",
          "PhD",
          "Master",
          "Technical Degree",
          "Bachelor",
          "Master",
          "Master",
          "Bachelor",
          "Technical Degree",
          "Bachelor",
          "Master",
          "Bachelor",
          "Bachelor",
          "Technical Degree",
          "PhD",
          "Bachelor",
          "Master",
          "Master",
          "Master",
          "Technical Degree",
          "Bachelor",
          "Bachelor",
          "Bachelor",
          "Master",
          "Bachelor",
          "Bachelor",
          "Master",
          "PhD",
          "Master",
          "Master",
          "Technical Degree",
          "Technical Degree",
          "PhD",
          "Bachelor",
          "Master",
          "Bachelor",
          "PhD",
          "Technical Degree",
          "Master",
          "Technical Degree",
          "Master",
          "Master",
          "Bachelor",
          "Bachelor",
          "Technical Degree",
          "Technical Degree",
          "Master",
          "Bachelor",
          "Technical Degree",
          "Bachelor",
          "Bachelor",
          "PhD",
          "Master",
          "PhD",
          "Master",
          "PhD",
          "Master",
          "Bachelor",
          "Master",
          "Master",
          "Master",
          "Master",
          "Bachelor",
          "Master",
          "Master",
          "PhD",
          "Bachelor",
          "PhD",
          "Technical Degree",
          "PhD",
          "PhD",
          "PhD",
          "Master",
          "Bachelor",
          "Master",
          "Technical Degree",
          "Master",
          "Technical Degree",
          "Technical Degree",
          "Master",
          "Bachelor",
          "Technical Degree",
          "Master",
          "Technical Degree",
          "PhD",
          "Master",
          "Bachelor",
          "PhD",
          "Bachelor",
          "Technical Degree",
          "Bachelor",
          "PhD",
          "Technical Degree",
          "PhD"
         ],
         "xaxis": "x",
         "yaxis": "y"
        },
        {
         "alignmentgroup": "True",
         "bingroup": "x",
         "hovertemplate": "churn=1<br>educacao=%{x}<br>count=%{y}<extra></extra>",
         "legendgroup": "1",
         "marker": {
          "color": "#EF553B",
          "pattern": {
           "shape": ""
          }
         },
         "name": "1",
         "offsetgroup": "1",
         "orientation": "v",
         "showlegend": true,
         "type": "histogram",
         "x": [
          "PhD",
          "Bachelor",
          "Technical Degree",
          "Technical Degree",
          "Master",
          "Technical Degree",
          "PhD",
          "Master",
          "Technical Degree",
          "Master",
          "Technical Degree",
          "Bachelor",
          "PhD",
          "Master",
          "Master",
          "Technical Degree",
          "Technical Degree",
          "Master",
          "PhD",
          "PhD",
          "Master",
          "Bachelor",
          "PhD",
          "PhD",
          "Bachelor",
          "Bachelor",
          "Technical Degree",
          "Bachelor",
          "PhD",
          "Technical Degree",
          "PhD",
          "Bachelor",
          "Bachelor",
          "Master",
          "Master",
          "Technical Degree",
          "Technical Degree",
          "Technical Degree",
          "Master",
          "Master",
          "Bachelor",
          "Technical Degree",
          "Master",
          "PhD",
          "PhD",
          "Master",
          "Technical Degree",
          "Bachelor",
          "Technical Degree",
          "Master",
          "Bachelor",
          "Technical Degree",
          "Master",
          "PhD",
          "Master",
          "Technical Degree",
          "Technical Degree",
          "Bachelor",
          "PhD",
          "PhD",
          "Master",
          "Master",
          "Technical Degree",
          "PhD",
          "Technical Degree",
          "Bachelor",
          "Technical Degree",
          "Bachelor",
          "Bachelor",
          "Master",
          "Technical Degree",
          "PhD",
          "PhD",
          "Master",
          "Master",
          "PhD",
          "Master",
          "Master",
          "Technical Degree",
          "Technical Degree",
          "Technical Degree",
          "Technical Degree",
          "Master",
          "PhD",
          "Bachelor",
          "Technical Degree",
          "PhD",
          "Bachelor",
          "Master",
          "Bachelor",
          "Master",
          "Technical Degree",
          "Bachelor",
          "Technical Degree",
          "Technical Degree",
          "Technical Degree",
          "PhD",
          "Bachelor",
          "Technical Degree",
          "Master",
          "Bachelor",
          "PhD",
          "PhD",
          "Master",
          "Master",
          "PhD",
          "PhD",
          "Master",
          "Bachelor",
          "Bachelor",
          "Technical Degree",
          "Master",
          "PhD",
          "Bachelor",
          "Master",
          "Technical Degree",
          "PhD",
          "Technical Degree",
          "PhD",
          "Bachelor",
          "Master",
          "Bachelor",
          "Technical Degree",
          "Technical Degree",
          "Master",
          "Master",
          "PhD",
          "Master",
          "PhD",
          "Master",
          "PhD",
          "Technical Degree",
          "Bachelor",
          "Master",
          "Technical Degree",
          "Master",
          "Master",
          "Technical Degree",
          "Technical Degree",
          "Bachelor",
          "Bachelor",
          "Technical Degree",
          "Technical Degree",
          "PhD",
          "PhD",
          "Master",
          "PhD",
          "Technical Degree",
          "Bachelor",
          "PhD",
          "Technical Degree",
          "Bachelor",
          "Technical Degree",
          "PhD",
          "Master",
          "Master",
          "Master",
          "Bachelor",
          "Bachelor",
          "PhD",
          "Technical Degree",
          "Technical Degree",
          "Bachelor",
          "Bachelor",
          "Bachelor",
          "PhD",
          "Bachelor",
          "Master",
          "PhD",
          "Technical Degree",
          "PhD",
          "Bachelor",
          "PhD",
          "Technical Degree",
          "Master",
          "Master",
          "PhD",
          "Bachelor",
          "Bachelor",
          "PhD",
          "PhD",
          "Technical Degree",
          "Bachelor",
          "Technical Degree",
          "PhD",
          "Technical Degree",
          "Technical Degree",
          "Master",
          "Bachelor",
          "Bachelor",
          "Master",
          "Master",
          "PhD",
          "Technical Degree",
          "PhD",
          "PhD",
          "Technical Degree",
          "PhD",
          "Technical Degree",
          "PhD",
          "PhD",
          "Technical Degree",
          "Master",
          "Master",
          "Technical Degree",
          "PhD",
          "PhD",
          "PhD",
          "Technical Degree",
          "Technical Degree",
          "Bachelor",
          "PhD",
          "Bachelor",
          "Technical Degree",
          "Bachelor",
          "Technical Degree",
          "Technical Degree",
          "Master",
          "Bachelor",
          "Bachelor",
          "Technical Degree",
          "Bachelor",
          "Bachelor",
          "Technical Degree",
          "Master",
          "Master",
          "Technical Degree",
          "Technical Degree",
          "PhD",
          "Master",
          "Master",
          "Bachelor",
          "Technical Degree",
          "Bachelor",
          "Bachelor",
          "Bachelor",
          "Master",
          "Bachelor",
          "Master",
          "Bachelor",
          "Technical Degree",
          "Technical Degree",
          "Bachelor",
          "Bachelor",
          "PhD",
          "Technical Degree",
          "Master",
          "Bachelor",
          "Bachelor",
          "Master",
          "Bachelor",
          "Master",
          "PhD",
          "Technical Degree",
          "PhD",
          "PhD",
          "PhD",
          "Technical Degree",
          "PhD",
          "Technical Degree",
          "Technical Degree",
          "Master",
          "Master",
          "Master",
          "PhD",
          "PhD",
          "PhD",
          "Technical Degree",
          "Bachelor",
          "Bachelor",
          "Technical Degree",
          "Master",
          "PhD",
          "Technical Degree",
          "Technical Degree",
          "PhD",
          "PhD",
          "Technical Degree",
          "Master",
          "Technical Degree",
          "Technical Degree",
          "PhD",
          "Master",
          "Bachelor",
          "Technical Degree",
          "PhD"
         ],
         "xaxis": "x",
         "yaxis": "y"
        }
       ],
       "layout": {
        "barmode": "group",
        "legend": {
         "title": {
          "text": "churn"
         },
         "tracegroupgap": 0
        },
        "template": {
         "data": {
          "bar": [
           {
            "error_x": {
             "color": "#2a3f5f"
            },
            "error_y": {
             "color": "#2a3f5f"
            },
            "marker": {
             "line": {
              "color": "#E5ECF6",
              "width": 0.5
             },
             "pattern": {
              "fillmode": "overlay",
              "size": 10,
              "solidity": 0.2
             }
            },
            "type": "bar"
           }
          ],
          "barpolar": [
           {
            "marker": {
             "line": {
              "color": "#E5ECF6",
              "width": 0.5
             },
             "pattern": {
              "fillmode": "overlay",
              "size": 10,
              "solidity": 0.2
             }
            },
            "type": "barpolar"
           }
          ],
          "carpet": [
           {
            "aaxis": {
             "endlinecolor": "#2a3f5f",
             "gridcolor": "white",
             "linecolor": "white",
             "minorgridcolor": "white",
             "startlinecolor": "#2a3f5f"
            },
            "baxis": {
             "endlinecolor": "#2a3f5f",
             "gridcolor": "white",
             "linecolor": "white",
             "minorgridcolor": "white",
             "startlinecolor": "#2a3f5f"
            },
            "type": "carpet"
           }
          ],
          "choropleth": [
           {
            "colorbar": {
             "outlinewidth": 0,
             "ticks": ""
            },
            "type": "choropleth"
           }
          ],
          "contour": [
           {
            "colorbar": {
             "outlinewidth": 0,
             "ticks": ""
            },
            "colorscale": [
             [
              0,
              "#0d0887"
             ],
             [
              0.1111111111111111,
              "#46039f"
             ],
             [
              0.2222222222222222,
              "#7201a8"
             ],
             [
              0.3333333333333333,
              "#9c179e"
             ],
             [
              0.4444444444444444,
              "#bd3786"
             ],
             [
              0.5555555555555556,
              "#d8576b"
             ],
             [
              0.6666666666666666,
              "#ed7953"
             ],
             [
              0.7777777777777778,
              "#fb9f3a"
             ],
             [
              0.8888888888888888,
              "#fdca26"
             ],
             [
              1,
              "#f0f921"
             ]
            ],
            "type": "contour"
           }
          ],
          "contourcarpet": [
           {
            "colorbar": {
             "outlinewidth": 0,
             "ticks": ""
            },
            "type": "contourcarpet"
           }
          ],
          "heatmap": [
           {
            "colorbar": {
             "outlinewidth": 0,
             "ticks": ""
            },
            "colorscale": [
             [
              0,
              "#0d0887"
             ],
             [
              0.1111111111111111,
              "#46039f"
             ],
             [
              0.2222222222222222,
              "#7201a8"
             ],
             [
              0.3333333333333333,
              "#9c179e"
             ],
             [
              0.4444444444444444,
              "#bd3786"
             ],
             [
              0.5555555555555556,
              "#d8576b"
             ],
             [
              0.6666666666666666,
              "#ed7953"
             ],
             [
              0.7777777777777778,
              "#fb9f3a"
             ],
             [
              0.8888888888888888,
              "#fdca26"
             ],
             [
              1,
              "#f0f921"
             ]
            ],
            "type": "heatmap"
           }
          ],
          "histogram": [
           {
            "marker": {
             "pattern": {
              "fillmode": "overlay",
              "size": 10,
              "solidity": 0.2
             }
            },
            "type": "histogram"
           }
          ],
          "histogram2d": [
           {
            "colorbar": {
             "outlinewidth": 0,
             "ticks": ""
            },
            "colorscale": [
             [
              0,
              "#0d0887"
             ],
             [
              0.1111111111111111,
              "#46039f"
             ],
             [
              0.2222222222222222,
              "#7201a8"
             ],
             [
              0.3333333333333333,
              "#9c179e"
             ],
             [
              0.4444444444444444,
              "#bd3786"
             ],
             [
              0.5555555555555556,
              "#d8576b"
             ],
             [
              0.6666666666666666,
              "#ed7953"
             ],
             [
              0.7777777777777778,
              "#fb9f3a"
             ],
             [
              0.8888888888888888,
              "#fdca26"
             ],
             [
              1,
              "#f0f921"
             ]
            ],
            "type": "histogram2d"
           }
          ],
          "histogram2dcontour": [
           {
            "colorbar": {
             "outlinewidth": 0,
             "ticks": ""
            },
            "colorscale": [
             [
              0,
              "#0d0887"
             ],
             [
              0.1111111111111111,
              "#46039f"
             ],
             [
              0.2222222222222222,
              "#7201a8"
             ],
             [
              0.3333333333333333,
              "#9c179e"
             ],
             [
              0.4444444444444444,
              "#bd3786"
             ],
             [
              0.5555555555555556,
              "#d8576b"
             ],
             [
              0.6666666666666666,
              "#ed7953"
             ],
             [
              0.7777777777777778,
              "#fb9f3a"
             ],
             [
              0.8888888888888888,
              "#fdca26"
             ],
             [
              1,
              "#f0f921"
             ]
            ],
            "type": "histogram2dcontour"
           }
          ],
          "mesh3d": [
           {
            "colorbar": {
             "outlinewidth": 0,
             "ticks": ""
            },
            "type": "mesh3d"
           }
          ],
          "parcoords": [
           {
            "line": {
             "colorbar": {
              "outlinewidth": 0,
              "ticks": ""
             }
            },
            "type": "parcoords"
           }
          ],
          "pie": [
           {
            "automargin": true,
            "type": "pie"
           }
          ],
          "scatter": [
           {
            "fillpattern": {
             "fillmode": "overlay",
             "size": 10,
             "solidity": 0.2
            },
            "type": "scatter"
           }
          ],
          "scatter3d": [
           {
            "line": {
             "colorbar": {
              "outlinewidth": 0,
              "ticks": ""
             }
            },
            "marker": {
             "colorbar": {
              "outlinewidth": 0,
              "ticks": ""
             }
            },
            "type": "scatter3d"
           }
          ],
          "scattercarpet": [
           {
            "marker": {
             "colorbar": {
              "outlinewidth": 0,
              "ticks": ""
             }
            },
            "type": "scattercarpet"
           }
          ],
          "scattergeo": [
           {
            "marker": {
             "colorbar": {
              "outlinewidth": 0,
              "ticks": ""
             }
            },
            "type": "scattergeo"
           }
          ],
          "scattergl": [
           {
            "marker": {
             "colorbar": {
              "outlinewidth": 0,
              "ticks": ""
             }
            },
            "type": "scattergl"
           }
          ],
          "scattermap": [
           {
            "marker": {
             "colorbar": {
              "outlinewidth": 0,
              "ticks": ""
             }
            },
            "type": "scattermap"
           }
          ],
          "scattermapbox": [
           {
            "marker": {
             "colorbar": {
              "outlinewidth": 0,
              "ticks": ""
             }
            },
            "type": "scattermapbox"
           }
          ],
          "scatterpolar": [
           {
            "marker": {
             "colorbar": {
              "outlinewidth": 0,
              "ticks": ""
             }
            },
            "type": "scatterpolar"
           }
          ],
          "scatterpolargl": [
           {
            "marker": {
             "colorbar": {
              "outlinewidth": 0,
              "ticks": ""
             }
            },
            "type": "scatterpolargl"
           }
          ],
          "scatterternary": [
           {
            "marker": {
             "colorbar": {
              "outlinewidth": 0,
              "ticks": ""
             }
            },
            "type": "scatterternary"
           }
          ],
          "surface": [
           {
            "colorbar": {
             "outlinewidth": 0,
             "ticks": ""
            },
            "colorscale": [
             [
              0,
              "#0d0887"
             ],
             [
              0.1111111111111111,
              "#46039f"
             ],
             [
              0.2222222222222222,
              "#7201a8"
             ],
             [
              0.3333333333333333,
              "#9c179e"
             ],
             [
              0.4444444444444444,
              "#bd3786"
             ],
             [
              0.5555555555555556,
              "#d8576b"
             ],
             [
              0.6666666666666666,
              "#ed7953"
             ],
             [
              0.7777777777777778,
              "#fb9f3a"
             ],
             [
              0.8888888888888888,
              "#fdca26"
             ],
             [
              1,
              "#f0f921"
             ]
            ],
            "type": "surface"
           }
          ],
          "table": [
           {
            "cells": {
             "fill": {
              "color": "#EBF0F8"
             },
             "line": {
              "color": "white"
             }
            },
            "header": {
             "fill": {
              "color": "#C8D4E3"
             },
             "line": {
              "color": "white"
             }
            },
            "type": "table"
           }
          ]
         },
         "layout": {
          "annotationdefaults": {
           "arrowcolor": "#2a3f5f",
           "arrowhead": 0,
           "arrowwidth": 1
          },
          "autotypenumbers": "strict",
          "coloraxis": {
           "colorbar": {
            "outlinewidth": 0,
            "ticks": ""
           }
          },
          "colorscale": {
           "diverging": [
            [
             0,
             "#8e0152"
            ],
            [
             0.1,
             "#c51b7d"
            ],
            [
             0.2,
             "#de77ae"
            ],
            [
             0.3,
             "#f1b6da"
            ],
            [
             0.4,
             "#fde0ef"
            ],
            [
             0.5,
             "#f7f7f7"
            ],
            [
             0.6,
             "#e6f5d0"
            ],
            [
             0.7,
             "#b8e186"
            ],
            [
             0.8,
             "#7fbc41"
            ],
            [
             0.9,
             "#4d9221"
            ],
            [
             1,
             "#276419"
            ]
           ],
           "sequential": [
            [
             0,
             "#0d0887"
            ],
            [
             0.1111111111111111,
             "#46039f"
            ],
            [
             0.2222222222222222,
             "#7201a8"
            ],
            [
             0.3333333333333333,
             "#9c179e"
            ],
            [
             0.4444444444444444,
             "#bd3786"
            ],
            [
             0.5555555555555556,
             "#d8576b"
            ],
            [
             0.6666666666666666,
             "#ed7953"
            ],
            [
             0.7777777777777778,
             "#fb9f3a"
            ],
            [
             0.8888888888888888,
             "#fdca26"
            ],
            [
             1,
             "#f0f921"
            ]
           ],
           "sequentialminus": [
            [
             0,
             "#0d0887"
            ],
            [
             0.1111111111111111,
             "#46039f"
            ],
            [
             0.2222222222222222,
             "#7201a8"
            ],
            [
             0.3333333333333333,
             "#9c179e"
            ],
            [
             0.4444444444444444,
             "#bd3786"
            ],
            [
             0.5555555555555556,
             "#d8576b"
            ],
            [
             0.6666666666666666,
             "#ed7953"
            ],
            [
             0.7777777777777778,
             "#fb9f3a"
            ],
            [
             0.8888888888888888,
             "#fdca26"
            ],
            [
             1,
             "#f0f921"
            ]
           ]
          },
          "colorway": [
           "#636efa",
           "#EF553B",
           "#00cc96",
           "#ab63fa",
           "#FFA15A",
           "#19d3f3",
           "#FF6692",
           "#B6E880",
           "#FF97FF",
           "#FECB52"
          ],
          "font": {
           "color": "#2a3f5f"
          },
          "geo": {
           "bgcolor": "white",
           "lakecolor": "white",
           "landcolor": "#E5ECF6",
           "showlakes": true,
           "showland": true,
           "subunitcolor": "white"
          },
          "hoverlabel": {
           "align": "left"
          },
          "hovermode": "closest",
          "mapbox": {
           "style": "light"
          },
          "paper_bgcolor": "white",
          "plot_bgcolor": "#E5ECF6",
          "polar": {
           "angularaxis": {
            "gridcolor": "white",
            "linecolor": "white",
            "ticks": ""
           },
           "bgcolor": "#E5ECF6",
           "radialaxis": {
            "gridcolor": "white",
            "linecolor": "white",
            "ticks": ""
           }
          },
          "scene": {
           "xaxis": {
            "backgroundcolor": "#E5ECF6",
            "gridcolor": "white",
            "gridwidth": 2,
            "linecolor": "white",
            "showbackground": true,
            "ticks": "",
            "zerolinecolor": "white"
           },
           "yaxis": {
            "backgroundcolor": "#E5ECF6",
            "gridcolor": "white",
            "gridwidth": 2,
            "linecolor": "white",
            "showbackground": true,
            "ticks": "",
            "zerolinecolor": "white"
           },
           "zaxis": {
            "backgroundcolor": "#E5ECF6",
            "gridcolor": "white",
            "gridwidth": 2,
            "linecolor": "white",
            "showbackground": true,
            "ticks": "",
            "zerolinecolor": "white"
           }
          },
          "shapedefaults": {
           "line": {
            "color": "#2a3f5f"
           }
          },
          "ternary": {
           "aaxis": {
            "gridcolor": "white",
            "linecolor": "white",
            "ticks": ""
           },
           "baxis": {
            "gridcolor": "white",
            "linecolor": "white",
            "ticks": ""
           },
           "bgcolor": "#E5ECF6",
           "caxis": {
            "gridcolor": "white",
            "linecolor": "white",
            "ticks": ""
           }
          },
          "title": {
           "x": 0.05
          },
          "xaxis": {
           "automargin": true,
           "gridcolor": "white",
           "linecolor": "white",
           "ticks": "",
           "title": {
            "standoff": 15
           },
           "zerolinecolor": "white",
           "zerolinewidth": 2
          },
          "yaxis": {
           "automargin": true,
           "gridcolor": "white",
           "linecolor": "white",
           "ticks": "",
           "title": {
            "standoff": 15
           },
           "zerolinecolor": "white",
           "zerolinewidth": 2
          }
         }
        },
        "title": {
         "text": "Distribuição de educacao por Churn"
        },
        "xaxis": {
         "anchor": "y",
         "domain": [
          0,
          1
         ],
         "title": {
          "text": "educacao"
         }
        },
        "yaxis": {
         "anchor": "x",
         "domain": [
          0,
          1
         ],
         "title": {
          "text": "count"
         }
        }
       }
      }
     },
     "metadata": {},
     "output_type": "display_data"
    },
    {
     "data": {
      "application/vnd.plotly.v1+json": {
       "config": {
        "plotlyServerURL": "https://plot.ly"
       },
       "data": [
        {
         "alignmentgroup": "True",
         "bingroup": "x",
         "hovertemplate": "churn=0<br>regime_trabalho=%{x}<br>count=%{y}<extra></extra>",
         "legendgroup": "0",
         "marker": {
          "color": "#636efa",
          "pattern": {
           "shape": ""
          }
         },
         "name": "0",
         "offsetgroup": "0",
         "orientation": "v",
         "showlegend": true,
         "type": "histogram",
         "x": [
          "Remoto",
          "Remoto",
          "Híbrido",
          "Remoto",
          "Presencial",
          "Híbrido",
          "Remoto",
          "Remoto",
          "Híbrido",
          "Remoto",
          "Híbrido",
          "Presencial",
          "Presencial",
          "Remoto",
          "Presencial",
          "Híbrido",
          "Remoto",
          "Híbrido",
          "Presencial",
          "Remoto",
          "Presencial",
          "Remoto",
          "Presencial",
          "Remoto",
          "Híbrido",
          "Remoto",
          "Híbrido",
          "Híbrido",
          "Híbrido",
          "Presencial",
          "Remoto",
          "Híbrido",
          "Remoto",
          "Remoto",
          "Híbrido",
          "Remoto",
          "Híbrido",
          "Presencial",
          "Híbrido",
          "Presencial",
          "Remoto",
          "Híbrido",
          "Remoto",
          "Híbrido",
          "Híbrido",
          "Híbrido",
          "Presencial",
          "Remoto",
          "Remoto",
          "Remoto",
          "Híbrido",
          "Híbrido",
          "Remoto",
          "Remoto",
          "Híbrido",
          "Remoto",
          "Presencial",
          "Híbrido",
          "Presencial",
          "Presencial",
          "Presencial",
          "Híbrido",
          "Remoto",
          "Presencial",
          "Remoto",
          "Presencial",
          "Remoto",
          "Híbrido",
          "Presencial",
          "Presencial",
          "Remoto",
          "Híbrido",
          "Presencial",
          "Presencial",
          "Presencial",
          "Presencial",
          "Híbrido",
          "Remoto",
          "Híbrido",
          "Híbrido",
          "Remoto",
          "Presencial",
          "Presencial",
          "Híbrido",
          "Presencial",
          "Remoto",
          "Híbrido",
          "Presencial",
          "Híbrido",
          "Remoto",
          "Presencial",
          "Presencial",
          "Híbrido",
          "Presencial",
          "Presencial",
          "Remoto",
          "Remoto",
          "Híbrido",
          "Híbrido",
          "Remoto",
          "Presencial",
          "Híbrido",
          "Híbrido",
          "Remoto",
          "Remoto",
          "Híbrido",
          "Híbrido",
          "Presencial",
          "Presencial",
          "Presencial",
          "Remoto",
          "Presencial",
          "Remoto",
          "Presencial",
          "Híbrido",
          "Presencial",
          "Híbrido",
          "Presencial",
          "Remoto",
          "Presencial",
          "Remoto",
          "Remoto",
          "Presencial",
          "Híbrido",
          "Remoto",
          "Presencial",
          "Presencial",
          "Híbrido",
          "Híbrido",
          "Híbrido",
          "Remoto",
          "Remoto",
          "Presencial",
          "Presencial",
          "Híbrido",
          "Remoto",
          "Híbrido",
          "Remoto",
          "Remoto",
          "Híbrido",
          "Presencial",
          "Híbrido",
          "Presencial",
          "Híbrido",
          "Remoto",
          "Presencial",
          "Remoto",
          "Híbrido",
          "Híbrido",
          "Presencial",
          "Remoto",
          "Presencial",
          "Remoto",
          "Remoto",
          "Presencial",
          "Presencial",
          "Híbrido",
          "Híbrido",
          "Presencial",
          "Presencial",
          "Remoto",
          "Híbrido",
          "Presencial",
          "Híbrido",
          "Remoto",
          "Remoto",
          "Remoto",
          "Híbrido",
          "Presencial",
          "Presencial",
          "Presencial",
          "Remoto",
          "Remoto",
          "Remoto",
          "Híbrido",
          "Presencial",
          "Presencial",
          "Presencial",
          "Híbrido",
          "Híbrido",
          "Remoto",
          "Presencial",
          "Híbrido",
          "Híbrido",
          "Híbrido",
          "Remoto",
          "Remoto",
          "Híbrido",
          "Híbrido",
          "Presencial",
          "Presencial",
          "Presencial",
          "Presencial",
          "Híbrido",
          "Presencial",
          "Remoto",
          "Híbrido",
          "Remoto",
          "Presencial",
          "Híbrido",
          "Híbrido",
          "Híbrido",
          "Híbrido",
          "Híbrido",
          "Presencial",
          "Remoto",
          "Remoto",
          "Híbrido",
          "Remoto",
          "Remoto",
          "Presencial",
          "Remoto",
          "Híbrido",
          "Híbrido",
          "Remoto",
          "Híbrido",
          "Remoto",
          "Presencial",
          "Híbrido",
          "Híbrido",
          "Presencial",
          "Remoto",
          "Híbrido",
          "Híbrido",
          "Híbrido",
          "Presencial",
          "Híbrido",
          "Remoto",
          "Presencial",
          "Híbrido",
          "Presencial",
          "Remoto",
          "Presencial",
          "Presencial",
          "Remoto",
          "Híbrido",
          "Presencial",
          "Presencial",
          "Remoto",
          "Presencial",
          "Presencial",
          "Presencial",
          "Presencial",
          "Remoto",
          "Híbrido",
          "Remoto",
          "Híbrido",
          "Remoto",
          "Remoto",
          "Remoto",
          "Híbrido",
          "Remoto",
          "Remoto",
          "Presencial",
          "Híbrido",
          "Híbrido",
          "Presencial",
          "Remoto",
          "Híbrido",
          "Híbrido",
          "Remoto",
          "Presencial",
          "Presencial",
          "Híbrido",
          "Remoto",
          "Híbrido",
          "Presencial",
          "Presencial",
          "Remoto",
          "Híbrido",
          "Presencial",
          "Presencial",
          "Remoto",
          "Presencial",
          "Híbrido",
          "Presencial",
          "Remoto",
          "Remoto",
          "Presencial",
          "Presencial",
          "Híbrido",
          "Híbrido",
          "Presencial",
          "Presencial",
          "Híbrido",
          "Híbrido",
          "Híbrido",
          "Remoto",
          "Remoto",
          "Presencial",
          "Remoto",
          "Remoto",
          "Híbrido",
          "Presencial",
          "Presencial",
          "Híbrido",
          "Híbrido",
          "Presencial",
          "Híbrido",
          "Presencial",
          "Presencial",
          "Híbrido",
          "Presencial",
          "Híbrido",
          "Remoto",
          "Híbrido",
          "Presencial",
          "Remoto",
          "Remoto",
          "Remoto",
          "Remoto",
          "Híbrido",
          "Híbrido",
          "Remoto",
          "Híbrido",
          "Híbrido",
          "Presencial",
          "Remoto",
          "Remoto",
          "Híbrido",
          "Presencial",
          "Presencial",
          "Presencial",
          "Híbrido",
          "Remoto",
          "Híbrido",
          "Remoto",
          "Híbrido",
          "Remoto",
          "Remoto",
          "Híbrido",
          "Híbrido",
          "Presencial",
          "Remoto",
          "Híbrido",
          "Remoto",
          "Presencial",
          "Remoto",
          "Remoto",
          "Remoto",
          "Presencial",
          "Híbrido",
          "Híbrido",
          "Presencial",
          "Presencial",
          "Presencial",
          "Remoto",
          "Remoto",
          "Híbrido",
          "Híbrido",
          "Híbrido",
          "Remoto",
          "Híbrido",
          "Remoto",
          "Híbrido",
          "Remoto",
          "Presencial",
          "Presencial",
          "Presencial",
          "Remoto",
          "Presencial",
          "Híbrido",
          "Remoto",
          "Presencial",
          "Presencial",
          "Presencial",
          "Remoto",
          "Remoto",
          "Híbrido",
          "Presencial",
          "Presencial",
          "Presencial",
          "Híbrido",
          "Presencial",
          "Híbrido",
          "Híbrido",
          "Remoto",
          "Presencial",
          "Híbrido",
          "Remoto",
          "Remoto",
          "Híbrido",
          "Remoto",
          "Remoto",
          "Presencial",
          "Híbrido",
          "Presencial",
          "Remoto",
          "Presencial",
          "Híbrido",
          "Híbrido",
          "Remoto",
          "Híbrido",
          "Presencial",
          "Híbrido",
          "Remoto",
          "Remoto",
          "Presencial",
          "Híbrido",
          "Híbrido",
          "Híbrido",
          "Híbrido",
          "Remoto",
          "Híbrido",
          "Remoto",
          "Remoto",
          "Remoto",
          "Remoto",
          "Presencial",
          "Presencial",
          "Presencial",
          "Remoto",
          "Remoto",
          "Presencial",
          "Presencial",
          "Híbrido",
          "Híbrido",
          "Híbrido",
          "Híbrido",
          "Remoto",
          "Remoto",
          "Presencial",
          "Híbrido",
          "Remoto",
          "Presencial",
          "Presencial",
          "Presencial",
          "Presencial",
          "Remoto",
          "Remoto",
          "Presencial",
          "Presencial",
          "Presencial",
          "Presencial",
          "Híbrido",
          "Remoto",
          "Remoto",
          "Presencial",
          "Híbrido",
          "Remoto",
          "Híbrido",
          "Híbrido",
          "Remoto",
          "Remoto",
          "Híbrido",
          "Remoto",
          "Híbrido",
          "Presencial",
          "Híbrido",
          "Remoto",
          "Híbrido",
          "Presencial",
          "Híbrido",
          "Híbrido",
          "Remoto",
          "Remoto",
          "Híbrido",
          "Híbrido",
          "Remoto",
          "Presencial",
          "Presencial",
          "Híbrido",
          "Presencial",
          "Presencial",
          "Híbrido",
          "Remoto",
          "Remoto",
          "Híbrido",
          "Remoto",
          "Presencial",
          "Presencial",
          "Híbrido",
          "Híbrido",
          "Híbrido",
          "Presencial",
          "Híbrido",
          "Presencial",
          "Remoto",
          "Presencial",
          "Híbrido",
          "Presencial",
          "Remoto",
          "Híbrido",
          "Remoto",
          "Presencial",
          "Presencial",
          "Remoto",
          "Híbrido",
          "Presencial",
          "Presencial",
          "Remoto",
          "Remoto",
          "Remoto",
          "Híbrido",
          "Híbrido",
          "Híbrido",
          "Híbrido",
          "Remoto",
          "Remoto",
          "Remoto",
          "Remoto",
          "Híbrido",
          "Remoto",
          "Presencial",
          "Remoto",
          "Remoto",
          "Remoto",
          "Híbrido",
          "Presencial",
          "Híbrido",
          "Híbrido",
          "Remoto",
          "Híbrido",
          "Presencial",
          "Híbrido",
          "Remoto",
          "Híbrido",
          "Presencial",
          "Híbrido",
          "Presencial",
          "Remoto",
          "Híbrido",
          "Presencial",
          "Híbrido",
          "Híbrido",
          "Remoto",
          "Presencial",
          "Presencial",
          "Presencial",
          "Presencial",
          "Remoto",
          "Presencial",
          "Remoto",
          "Remoto",
          "Presencial",
          "Híbrido",
          "Remoto",
          "Remoto",
          "Remoto",
          "Remoto",
          "Presencial",
          "Remoto",
          "Remoto",
          "Híbrido",
          "Remoto",
          "Presencial",
          "Híbrido",
          "Remoto",
          "Remoto",
          "Presencial",
          "Presencial",
          "Remoto",
          "Híbrido",
          "Remoto",
          "Presencial",
          "Presencial",
          "Remoto",
          "Remoto",
          "Remoto",
          "Presencial",
          "Remoto",
          "Híbrido",
          "Presencial",
          "Remoto",
          "Remoto",
          "Presencial",
          "Remoto",
          "Remoto",
          "Remoto",
          "Presencial",
          "Híbrido",
          "Remoto",
          "Remoto",
          "Remoto",
          "Remoto",
          "Presencial",
          "Presencial",
          "Híbrido",
          "Remoto",
          "Remoto",
          "Presencial",
          "Remoto",
          "Presencial",
          "Presencial",
          "Presencial",
          "Presencial",
          "Presencial",
          "Presencial",
          "Híbrido",
          "Remoto",
          "Remoto",
          "Híbrido",
          "Híbrido",
          "Híbrido",
          "Remoto",
          "Remoto",
          "Híbrido",
          "Híbrido",
          "Presencial",
          "Presencial",
          "Presencial",
          "Remoto",
          "Presencial",
          "Remoto",
          "Presencial",
          "Remoto",
          "Presencial",
          "Remoto",
          "Remoto",
          "Remoto",
          "Remoto",
          "Híbrido",
          "Presencial",
          "Remoto",
          "Remoto",
          "Presencial",
          "Remoto",
          "Remoto",
          "Híbrido",
          "Híbrido",
          "Remoto",
          "Híbrido",
          "Presencial",
          "Presencial",
          "Híbrido",
          "Híbrido",
          "Híbrido",
          "Híbrido",
          "Presencial",
          "Remoto",
          "Híbrido",
          "Híbrido",
          "Remoto",
          "Híbrido",
          "Presencial",
          "Remoto",
          "Remoto",
          "Presencial",
          "Presencial",
          "Presencial",
          "Presencial",
          "Remoto",
          "Presencial",
          "Remoto",
          "Híbrido",
          "Presencial",
          "Híbrido",
          "Remoto",
          "Remoto",
          "Presencial",
          "Remoto",
          "Remoto",
          "Remoto",
          "Remoto",
          "Presencial",
          "Presencial",
          "Presencial",
          "Híbrido",
          "Remoto",
          "Híbrido",
          "Remoto",
          "Presencial",
          "Híbrido",
          "Presencial",
          "Presencial",
          "Presencial",
          "Híbrido",
          "Híbrido",
          "Presencial",
          "Remoto",
          "Híbrido",
          "Presencial",
          "Remoto",
          "Híbrido",
          "Híbrido",
          "Remoto",
          "Remoto",
          "Presencial",
          "Presencial",
          "Presencial",
          "Presencial",
          "Remoto",
          "Remoto",
          "Presencial",
          "Híbrido",
          "Remoto",
          "Remoto",
          "Híbrido",
          "Presencial",
          "Presencial",
          "Híbrido",
          "Híbrido",
          "Remoto",
          "Híbrido",
          "Presencial",
          "Remoto",
          "Híbrido",
          "Híbrido",
          "Híbrido",
          "Presencial",
          "Remoto",
          "Remoto",
          "Presencial",
          "Híbrido",
          "Remoto",
          "Presencial",
          "Presencial",
          "Presencial",
          "Presencial",
          "Híbrido",
          "Presencial",
          "Remoto",
          "Remoto",
          "Remoto",
          "Remoto",
          "Remoto",
          "Híbrido",
          "Híbrido",
          "Híbrido",
          "Remoto",
          "Híbrido",
          "Presencial",
          "Presencial",
          "Remoto",
          "Híbrido",
          "Híbrido",
          "Híbrido",
          "Híbrido",
          "Remoto",
          "Híbrido",
          "Remoto",
          "Presencial",
          "Remoto",
          "Híbrido",
          "Remoto",
          "Remoto",
          "Presencial",
          "Presencial",
          "Presencial",
          "Híbrido",
          "Presencial",
          "Híbrido",
          "Híbrido",
          "Híbrido",
          "Remoto",
          "Híbrido",
          "Híbrido",
          "Presencial",
          "Presencial",
          "Presencial",
          "Híbrido",
          "Remoto",
          "Híbrido",
          "Híbrido",
          "Remoto",
          "Híbrido",
          "Remoto",
          "Híbrido",
          "Presencial",
          "Híbrido",
          "Presencial",
          "Remoto",
          "Presencial",
          "Presencial",
          "Presencial",
          "Híbrido",
          "Híbrido",
          "Presencial",
          "Híbrido",
          "Híbrido",
          "Presencial",
          "Presencial",
          "Presencial",
          "Remoto",
          "Remoto",
          "Remoto",
          "Remoto",
          "Remoto",
          "Híbrido",
          "Remoto",
          "Remoto",
          "Remoto",
          "Híbrido",
          "Híbrido",
          "Remoto",
          "Híbrido",
          "Híbrido",
          "Presencial",
          "Presencial",
          "Remoto",
          "Presencial",
          "Híbrido",
          "Presencial",
          "Híbrido",
          "Remoto",
          "Presencial",
          "Híbrido",
          "Híbrido",
          "Remoto",
          "Remoto",
          "Remoto",
          "Híbrido",
          "Remoto",
          "Híbrido",
          "Híbrido",
          "Híbrido",
          "Remoto",
          "Presencial",
          "Presencial",
          "Presencial",
          "Remoto",
          "Remoto",
          "Presencial",
          "Remoto",
          "Presencial",
          "Híbrido",
          "Presencial",
          "Presencial",
          "Presencial",
          "Híbrido",
          "Presencial",
          "Presencial",
          "Presencial",
          "Híbrido",
          "Híbrido",
          "Remoto",
          "Híbrido",
          "Presencial",
          "Remoto",
          "Presencial",
          "Presencial",
          "Remoto",
          "Presencial",
          "Híbrido",
          "Remoto",
          "Presencial",
          "Remoto",
          "Remoto",
          "Remoto",
          "Remoto",
          "Híbrido",
          "Remoto",
          "Remoto",
          "Presencial",
          "Presencial",
          "Presencial",
          "Presencial",
          "Presencial",
          "Presencial",
          "Híbrido",
          "Híbrido",
          "Híbrido",
          "Híbrido",
          "Remoto",
          "Remoto",
          "Híbrido",
          "Presencial",
          "Presencial",
          "Híbrido",
          "Presencial",
          "Híbrido",
          "Híbrido",
          "Presencial",
          "Presencial",
          "Presencial",
          "Presencial",
          "Remoto",
          "Remoto",
          "Presencial",
          "Híbrido",
          "Presencial",
          "Remoto",
          "Remoto",
          "Remoto",
          "Presencial",
          "Remoto",
          "Híbrido",
          "Híbrido",
          "Remoto",
          "Presencial",
          "Presencial",
          "Híbrido",
          "Remoto",
          "Híbrido",
          "Presencial",
          "Híbrido",
          "Híbrido",
          "Híbrido",
          "Híbrido",
          "Remoto",
          "Híbrido",
          "Remoto",
          "Híbrido",
          "Remoto",
          "Remoto",
          "Híbrido",
          "Híbrido",
          "Presencial",
          "Remoto",
          "Presencial",
          "Híbrido",
          "Híbrido",
          "Remoto",
          "Remoto",
          "Presencial",
          "Híbrido",
          "Remoto",
          "Presencial",
          "Remoto",
          "Remoto",
          "Presencial",
          "Presencial",
          "Híbrido",
          "Remoto",
          "Presencial",
          "Híbrido",
          "Remoto",
          "Híbrido",
          "Presencial",
          "Híbrido",
          "Híbrido",
          "Presencial",
          "Híbrido",
          "Presencial",
          "Híbrido",
          "Presencial",
          "Híbrido",
          "Híbrido",
          "Híbrido",
          "Remoto",
          "Remoto",
          "Presencial",
          "Presencial",
          "Remoto",
          "Híbrido",
          "Remoto",
          "Presencial",
          "Remoto",
          "Remoto",
          "Remoto",
          "Presencial",
          "Presencial",
          "Presencial",
          "Remoto",
          "Presencial",
          "Remoto",
          "Híbrido",
          "Presencial",
          "Remoto",
          "Híbrido",
          "Remoto",
          "Presencial",
          "Remoto",
          "Presencial",
          "Presencial",
          "Híbrido",
          "Remoto",
          "Remoto",
          "Remoto",
          "Remoto",
          "Remoto",
          "Presencial",
          "Híbrido",
          "Remoto",
          "Remoto",
          "Híbrido",
          "Presencial",
          "Híbrido",
          "Híbrido",
          "Remoto",
          "Remoto",
          "Híbrido",
          "Presencial",
          "Remoto",
          "Híbrido",
          "Presencial",
          "Presencial",
          "Presencial",
          "Presencial",
          "Híbrido",
          "Remoto",
          "Híbrido",
          "Híbrido",
          "Híbrido",
          "Híbrido",
          "Remoto",
          "Híbrido",
          "Presencial",
          "Presencial",
          "Híbrido",
          "Híbrido",
          "Remoto",
          "Presencial",
          "Presencial",
          "Remoto",
          "Remoto",
          "Remoto",
          "Remoto",
          "Presencial",
          "Presencial",
          "Remoto",
          "Híbrido",
          "Híbrido",
          "Presencial",
          "Híbrido",
          "Remoto",
          "Remoto",
          "Presencial",
          "Híbrido",
          "Híbrido",
          "Presencial",
          "Presencial",
          "Remoto",
          "Híbrido",
          "Presencial",
          "Presencial",
          "Híbrido",
          "Presencial",
          "Híbrido",
          "Presencial",
          "Presencial",
          "Remoto",
          "Híbrido",
          "Híbrido",
          "Presencial",
          "Híbrido",
          "Presencial",
          "Híbrido",
          "Presencial",
          "Presencial",
          "Presencial",
          "Remoto",
          "Remoto",
          "Remoto",
          "Híbrido",
          "Presencial",
          "Presencial",
          "Presencial",
          "Remoto",
          "Presencial",
          "Remoto",
          "Remoto",
          "Presencial",
          "Híbrido",
          "Remoto",
          "Híbrido",
          "Híbrido",
          "Híbrido",
          "Presencial",
          "Híbrido",
          "Presencial",
          "Presencial",
          "Presencial",
          "Híbrido",
          "Híbrido",
          "Remoto",
          "Remoto",
          "Remoto",
          "Presencial",
          "Híbrido",
          "Remoto",
          "Remoto",
          "Híbrido",
          "Híbrido",
          "Remoto",
          "Híbrido",
          "Presencial",
          "Híbrido",
          "Híbrido",
          "Remoto",
          "Presencial",
          "Híbrido",
          "Remoto",
          "Híbrido",
          "Presencial",
          "Presencial",
          "Presencial",
          "Híbrido",
          "Presencial",
          "Presencial",
          "Remoto",
          "Remoto",
          "Híbrido",
          "Híbrido",
          "Híbrido",
          "Híbrido",
          "Remoto",
          "Remoto",
          "Híbrido",
          "Híbrido",
          "Remoto",
          "Remoto",
          "Presencial",
          "Híbrido",
          "Remoto",
          "Híbrido",
          "Presencial",
          "Remoto",
          "Presencial",
          "Remoto",
          "Remoto",
          "Remoto",
          "Presencial",
          "Híbrido",
          "Híbrido",
          "Híbrido",
          "Remoto",
          "Presencial",
          "Híbrido",
          "Presencial",
          "Remoto",
          "Híbrido",
          "Remoto",
          "Híbrido",
          "Híbrido",
          "Remoto",
          "Presencial",
          "Remoto",
          "Remoto",
          "Híbrido",
          "Remoto",
          "Presencial",
          "Remoto",
          "Remoto",
          "Híbrido",
          "Remoto",
          "Presencial",
          "Presencial",
          "Remoto",
          "Híbrido",
          "Presencial",
          "Remoto",
          "Híbrido",
          "Presencial",
          "Presencial",
          "Híbrido",
          "Presencial",
          "Remoto",
          "Presencial",
          "Remoto",
          "Remoto",
          "Híbrido",
          "Remoto",
          "Híbrido",
          "Presencial",
          "Híbrido",
          "Híbrido",
          "Remoto",
          "Híbrido",
          "Híbrido",
          "Presencial",
          "Presencial",
          "Híbrido",
          "Híbrido",
          "Híbrido",
          "Remoto",
          "Remoto",
          "Híbrido",
          "Presencial",
          "Presencial",
          "Presencial",
          "Presencial",
          "Híbrido",
          "Presencial",
          "Híbrido",
          "Remoto",
          "Híbrido",
          "Remoto",
          "Remoto",
          "Presencial",
          "Presencial",
          "Remoto",
          "Híbrido",
          "Remoto",
          "Híbrido",
          "Presencial",
          "Remoto",
          "Remoto",
          "Remoto",
          "Híbrido",
          "Presencial",
          "Presencial",
          "Híbrido",
          "Remoto",
          "Remoto",
          "Híbrido",
          "Híbrido",
          "Híbrido",
          "Híbrido",
          "Híbrido",
          "Remoto",
          "Remoto",
          "Remoto",
          "Híbrido",
          "Remoto",
          "Remoto",
          "Presencial",
          "Híbrido",
          "Híbrido",
          "Presencial",
          "Híbrido",
          "Presencial",
          "Remoto",
          "Presencial",
          "Remoto",
          "Presencial",
          "Híbrido",
          "Remoto",
          "Remoto",
          "Híbrido",
          "Híbrido",
          "Remoto",
          "Presencial",
          "Híbrido",
          "Presencial",
          "Presencial",
          "Presencial",
          "Presencial",
          "Híbrido",
          "Presencial",
          "Presencial",
          "Presencial",
          "Presencial",
          "Presencial",
          "Híbrido",
          "Presencial",
          "Presencial",
          "Presencial",
          "Remoto",
          "Presencial",
          "Remoto",
          "Remoto",
          "Presencial",
          "Híbrido",
          "Remoto",
          "Presencial",
          "Híbrido",
          "Híbrido",
          "Presencial",
          "Híbrido",
          "Remoto",
          "Híbrido",
          "Híbrido",
          "Presencial",
          "Remoto",
          "Remoto",
          "Híbrido",
          "Remoto",
          "Presencial",
          "Híbrido",
          "Presencial",
          "Híbrido",
          "Híbrido",
          "Presencial",
          "Presencial",
          "Presencial",
          "Presencial",
          "Presencial",
          "Híbrido",
          "Remoto",
          "Presencial",
          "Presencial",
          "Híbrido",
          "Híbrido",
          "Híbrido",
          "Híbrido",
          "Híbrido",
          "Remoto",
          "Remoto",
          "Presencial",
          "Presencial",
          "Remoto",
          "Presencial",
          "Remoto",
          "Remoto",
          "Remoto",
          "Remoto",
          "Presencial",
          "Presencial",
          "Presencial",
          "Híbrido",
          "Presencial",
          "Presencial",
          "Remoto",
          "Presencial",
          "Híbrido",
          "Híbrido",
          "Híbrido",
          "Remoto",
          "Híbrido",
          "Remoto",
          "Híbrido",
          "Presencial",
          "Híbrido",
          "Híbrido",
          "Híbrido",
          "Presencial",
          "Remoto",
          "Híbrido",
          "Remoto",
          "Remoto",
          "Remoto",
          "Híbrido",
          "Remoto",
          "Presencial",
          "Remoto",
          "Presencial",
          "Presencial",
          "Remoto",
          "Remoto",
          "Remoto",
          "Presencial",
          "Híbrido",
          "Híbrido",
          "Híbrido",
          "Presencial",
          "Híbrido",
          "Remoto",
          "Remoto",
          "Remoto",
          "Presencial",
          "Híbrido",
          "Híbrido",
          "Híbrido",
          "Remoto",
          "Híbrido",
          "Remoto",
          "Presencial",
          "Remoto",
          "Híbrido",
          "Híbrido",
          "Presencial",
          "Presencial",
          "Presencial",
          "Híbrido",
          "Presencial",
          "Presencial",
          "Remoto",
          "Remoto",
          "Híbrido",
          "Híbrido",
          "Presencial",
          "Remoto",
          "Híbrido",
          "Remoto",
          "Remoto",
          "Presencial",
          "Presencial",
          "Remoto",
          "Presencial",
          "Remoto",
          "Híbrido",
          "Presencial",
          "Híbrido",
          "Remoto",
          "Presencial",
          "Híbrido",
          "Presencial",
          "Híbrido",
          "Remoto",
          "Remoto",
          "Híbrido",
          "Remoto",
          "Híbrido",
          "Híbrido",
          "Híbrido",
          "Remoto",
          "Remoto",
          "Remoto",
          "Remoto",
          "Presencial",
          "Presencial",
          "Remoto",
          "Híbrido",
          "Presencial",
          "Remoto",
          "Presencial",
          "Remoto",
          "Presencial",
          "Presencial",
          "Híbrido",
          "Remoto",
          "Remoto",
          "Remoto",
          "Remoto",
          "Remoto",
          "Híbrido",
          "Híbrido",
          "Híbrido",
          "Presencial",
          "Híbrido",
          "Remoto",
          "Presencial",
          "Presencial",
          "Presencial",
          "Presencial",
          "Híbrido",
          "Híbrido",
          "Remoto",
          "Híbrido",
          "Presencial",
          "Remoto",
          "Remoto",
          "Remoto",
          "Remoto",
          "Presencial",
          "Presencial",
          "Remoto",
          "Híbrido",
          "Remoto",
          "Híbrido",
          "Presencial",
          "Remoto",
          "Remoto",
          "Presencial",
          "Remoto",
          "Híbrido",
          "Híbrido",
          "Híbrido",
          "Presencial",
          "Remoto",
          "Híbrido",
          "Remoto",
          "Remoto",
          "Remoto",
          "Presencial",
          "Remoto",
          "Presencial",
          "Presencial",
          "Híbrido",
          "Presencial",
          "Remoto",
          "Remoto",
          "Híbrido",
          "Presencial",
          "Híbrido",
          "Presencial",
          "Remoto",
          "Híbrido",
          "Presencial",
          "Presencial",
          "Híbrido",
          "Presencial",
          "Presencial",
          "Híbrido",
          "Remoto",
          "Híbrido",
          "Remoto",
          "Presencial",
          "Remoto",
          "Presencial",
          "Híbrido",
          "Remoto",
          "Híbrido",
          "Presencial",
          "Presencial",
          "Remoto",
          "Remoto",
          "Presencial",
          "Híbrido",
          "Híbrido",
          "Presencial",
          "Presencial",
          "Remoto",
          "Presencial",
          "Remoto",
          "Híbrido",
          "Remoto",
          "Remoto",
          "Remoto",
          "Remoto",
          "Presencial",
          "Híbrido",
          "Híbrido",
          "Presencial",
          "Presencial",
          "Remoto",
          "Remoto",
          "Híbrido",
          "Remoto",
          "Presencial",
          "Presencial",
          "Híbrido",
          "Presencial",
          "Remoto",
          "Híbrido",
          "Remoto",
          "Remoto",
          "Híbrido",
          "Remoto",
          "Presencial",
          "Presencial",
          "Remoto",
          "Remoto",
          "Presencial",
          "Remoto",
          "Remoto",
          "Remoto",
          "Presencial",
          "Híbrido",
          "Presencial",
          "Híbrido",
          "Híbrido",
          "Presencial",
          "Presencial",
          "Presencial",
          "Híbrido",
          "Remoto",
          "Presencial",
          "Remoto",
          "Remoto",
          "Presencial",
          "Remoto",
          "Presencial",
          "Híbrido",
          "Presencial",
          "Híbrido",
          "Híbrido",
          "Híbrido",
          "Presencial",
          "Presencial",
          "Híbrido",
          "Remoto",
          "Remoto",
          "Presencial",
          "Remoto",
          "Presencial",
          "Híbrido",
          "Presencial",
          "Remoto",
          "Híbrido",
          "Presencial",
          "Presencial",
          "Presencial",
          "Presencial",
          "Híbrido",
          "Presencial",
          "Remoto",
          "Híbrido",
          "Remoto",
          "Presencial",
          "Presencial",
          "Presencial",
          "Presencial",
          "Remoto",
          "Remoto",
          "Remoto",
          "Remoto",
          "Híbrido",
          "Presencial",
          "Presencial",
          "Híbrido",
          "Remoto",
          "Presencial",
          "Presencial",
          "Remoto",
          "Remoto",
          "Presencial",
          "Híbrido",
          "Presencial",
          "Presencial",
          "Remoto",
          "Híbrido",
          "Presencial",
          "Presencial",
          "Remoto",
          "Remoto",
          "Híbrido",
          "Híbrido",
          "Presencial",
          "Híbrido",
          "Híbrido",
          "Híbrido",
          "Híbrido",
          "Híbrido",
          "Remoto",
          "Híbrido",
          "Híbrido",
          "Híbrido",
          "Remoto",
          "Remoto",
          "Híbrido",
          "Híbrido",
          "Presencial",
          "Presencial",
          "Remoto",
          "Presencial",
          "Presencial",
          "Presencial",
          "Remoto",
          "Híbrido",
          "Remoto",
          "Híbrido",
          "Remoto",
          "Híbrido",
          "Presencial",
          "Híbrido",
          "Remoto",
          "Remoto",
          "Presencial",
          "Híbrido",
          "Híbrido",
          "Presencial",
          "Remoto",
          "Híbrido",
          "Remoto",
          "Presencial",
          "Presencial",
          "Presencial",
          "Presencial",
          "Remoto",
          "Remoto",
          "Remoto",
          "Híbrido",
          "Remoto",
          "Presencial",
          "Remoto",
          "Presencial",
          "Híbrido",
          "Híbrido",
          "Presencial",
          "Remoto",
          "Remoto",
          "Híbrido",
          "Presencial",
          "Presencial",
          "Híbrido",
          "Híbrido",
          "Híbrido",
          "Presencial",
          "Híbrido",
          "Remoto",
          "Híbrido",
          "Presencial",
          "Presencial",
          "Remoto",
          "Presencial",
          "Híbrido",
          "Presencial",
          "Presencial",
          "Presencial",
          "Presencial",
          "Híbrido",
          "Presencial",
          "Remoto",
          "Remoto",
          "Presencial",
          "Remoto",
          "Híbrido",
          "Híbrido",
          "Híbrido",
          "Híbrido",
          "Híbrido",
          "Remoto",
          "Remoto",
          "Híbrido",
          "Remoto",
          "Híbrido",
          "Híbrido",
          "Remoto",
          "Híbrido",
          "Remoto",
          "Remoto",
          "Híbrido",
          "Híbrido",
          "Presencial",
          "Híbrido",
          "Híbrido",
          "Presencial",
          "Híbrido",
          "Presencial",
          "Remoto",
          "Híbrido",
          "Híbrido",
          "Remoto",
          "Híbrido",
          "Remoto",
          "Híbrido",
          "Remoto",
          "Híbrido",
          "Híbrido",
          "Presencial",
          "Presencial",
          "Híbrido",
          "Remoto",
          "Presencial",
          "Presencial",
          "Presencial",
          "Presencial",
          "Presencial",
          "Remoto",
          "Híbrido",
          "Remoto",
          "Remoto",
          "Remoto",
          "Remoto",
          "Híbrido",
          "Presencial",
          "Híbrido",
          "Presencial",
          "Remoto",
          "Presencial",
          "Híbrido",
          "Híbrido",
          "Híbrido",
          "Remoto",
          "Presencial",
          "Híbrido",
          "Presencial",
          "Híbrido",
          "Remoto",
          "Presencial",
          "Híbrido",
          "Presencial"
         ],
         "xaxis": "x",
         "yaxis": "y"
        },
        {
         "alignmentgroup": "True",
         "bingroup": "x",
         "hovertemplate": "churn=1<br>regime_trabalho=%{x}<br>count=%{y}<extra></extra>",
         "legendgroup": "1",
         "marker": {
          "color": "#EF553B",
          "pattern": {
           "shape": ""
          }
         },
         "name": "1",
         "offsetgroup": "1",
         "orientation": "v",
         "showlegend": true,
         "type": "histogram",
         "x": [
          "Presencial",
          "Remoto",
          "Híbrido",
          "Remoto",
          "Híbrido",
          "Híbrido",
          "Remoto",
          "Presencial",
          "Híbrido",
          "Presencial",
          "Remoto",
          "Híbrido",
          "Remoto",
          "Híbrido",
          "Presencial",
          "Presencial",
          "Remoto",
          "Híbrido",
          "Híbrido",
          "Híbrido",
          "Híbrido",
          "Remoto",
          "Presencial",
          "Presencial",
          "Híbrido",
          "Presencial",
          "Híbrido",
          "Presencial",
          "Remoto",
          "Remoto",
          "Remoto",
          "Remoto",
          "Híbrido",
          "Remoto",
          "Remoto",
          "Presencial",
          "Híbrido",
          "Híbrido",
          "Remoto",
          "Híbrido",
          "Remoto",
          "Presencial",
          "Presencial",
          "Presencial",
          "Remoto",
          "Presencial",
          "Híbrido",
          "Remoto",
          "Remoto",
          "Presencial",
          "Híbrido",
          "Híbrido",
          "Remoto",
          "Remoto",
          "Híbrido",
          "Presencial",
          "Presencial",
          "Presencial",
          "Remoto",
          "Híbrido",
          "Presencial",
          "Presencial",
          "Remoto",
          "Híbrido",
          "Presencial",
          "Remoto",
          "Remoto",
          "Remoto",
          "Presencial",
          "Remoto",
          "Presencial",
          "Híbrido",
          "Híbrido",
          "Remoto",
          "Presencial",
          "Híbrido",
          "Remoto",
          "Remoto",
          "Híbrido",
          "Remoto",
          "Presencial",
          "Híbrido",
          "Híbrido",
          "Remoto",
          "Remoto",
          "Presencial",
          "Presencial",
          "Híbrido",
          "Remoto",
          "Presencial",
          "Remoto",
          "Presencial",
          "Remoto",
          "Presencial",
          "Híbrido",
          "Híbrido",
          "Híbrido",
          "Presencial",
          "Remoto",
          "Presencial",
          "Presencial",
          "Presencial",
          "Remoto",
          "Remoto",
          "Remoto",
          "Presencial",
          "Híbrido",
          "Híbrido",
          "Híbrido",
          "Presencial",
          "Híbrido",
          "Híbrido",
          "Híbrido",
          "Remoto",
          "Remoto",
          "Híbrido",
          "Híbrido",
          "Remoto",
          "Presencial",
          "Híbrido",
          "Presencial",
          "Remoto",
          "Remoto",
          "Híbrido",
          "Híbrido",
          "Remoto",
          "Híbrido",
          "Remoto",
          "Presencial",
          "Remoto",
          "Remoto",
          "Presencial",
          "Híbrido",
          "Presencial",
          "Híbrido",
          "Híbrido",
          "Presencial",
          "Presencial",
          "Remoto",
          "Presencial",
          "Presencial",
          "Híbrido",
          "Híbrido",
          "Presencial",
          "Presencial",
          "Híbrido",
          "Presencial",
          "Remoto",
          "Presencial",
          "Presencial",
          "Híbrido",
          "Remoto",
          "Presencial",
          "Híbrido",
          "Remoto",
          "Presencial",
          "Híbrido",
          "Presencial",
          "Remoto",
          "Remoto",
          "Híbrido",
          "Remoto",
          "Remoto",
          "Remoto",
          "Presencial",
          "Presencial",
          "Híbrido",
          "Remoto",
          "Híbrido",
          "Remoto",
          "Presencial",
          "Presencial",
          "Híbrido",
          "Presencial",
          "Remoto",
          "Híbrido",
          "Presencial",
          "Presencial",
          "Remoto",
          "Híbrido",
          "Presencial",
          "Híbrido",
          "Híbrido",
          "Presencial",
          "Presencial",
          "Remoto",
          "Remoto",
          "Híbrido",
          "Híbrido",
          "Presencial",
          "Híbrido",
          "Remoto",
          "Presencial",
          "Remoto",
          "Híbrido",
          "Híbrido",
          "Híbrido",
          "Remoto",
          "Híbrido",
          "Presencial",
          "Híbrido",
          "Remoto",
          "Presencial",
          "Remoto",
          "Híbrido",
          "Presencial",
          "Presencial",
          "Remoto",
          "Híbrido",
          "Híbrido",
          "Híbrido",
          "Híbrido",
          "Híbrido",
          "Híbrido",
          "Presencial",
          "Remoto",
          "Remoto",
          "Híbrido",
          "Remoto",
          "Híbrido",
          "Presencial",
          "Presencial",
          "Remoto",
          "Híbrido",
          "Remoto",
          "Presencial",
          "Remoto",
          "Remoto",
          "Híbrido",
          "Remoto",
          "Remoto",
          "Presencial",
          "Híbrido",
          "Remoto",
          "Remoto",
          "Híbrido",
          "Remoto",
          "Presencial",
          "Presencial",
          "Remoto",
          "Remoto",
          "Remoto",
          "Híbrido",
          "Presencial",
          "Híbrido",
          "Remoto",
          "Presencial",
          "Presencial",
          "Híbrido",
          "Híbrido",
          "Híbrido",
          "Remoto",
          "Presencial",
          "Remoto",
          "Híbrido",
          "Presencial",
          "Remoto",
          "Presencial",
          "Remoto",
          "Remoto",
          "Híbrido",
          "Presencial",
          "Híbrido",
          "Remoto",
          "Presencial",
          "Presencial",
          "Presencial",
          "Presencial",
          "Presencial",
          "Híbrido",
          "Presencial",
          "Remoto",
          "Presencial",
          "Remoto",
          "Remoto",
          "Remoto",
          "Híbrido",
          "Presencial",
          "Presencial",
          "Híbrido",
          "Híbrido",
          "Presencial",
          "Híbrido",
          "Remoto",
          "Híbrido",
          "Presencial"
         ],
         "xaxis": "x",
         "yaxis": "y"
        }
       ],
       "layout": {
        "barmode": "group",
        "legend": {
         "title": {
          "text": "churn"
         },
         "tracegroupgap": 0
        },
        "template": {
         "data": {
          "bar": [
           {
            "error_x": {
             "color": "#2a3f5f"
            },
            "error_y": {
             "color": "#2a3f5f"
            },
            "marker": {
             "line": {
              "color": "#E5ECF6",
              "width": 0.5
             },
             "pattern": {
              "fillmode": "overlay",
              "size": 10,
              "solidity": 0.2
             }
            },
            "type": "bar"
           }
          ],
          "barpolar": [
           {
            "marker": {
             "line": {
              "color": "#E5ECF6",
              "width": 0.5
             },
             "pattern": {
              "fillmode": "overlay",
              "size": 10,
              "solidity": 0.2
             }
            },
            "type": "barpolar"
           }
          ],
          "carpet": [
           {
            "aaxis": {
             "endlinecolor": "#2a3f5f",
             "gridcolor": "white",
             "linecolor": "white",
             "minorgridcolor": "white",
             "startlinecolor": "#2a3f5f"
            },
            "baxis": {
             "endlinecolor": "#2a3f5f",
             "gridcolor": "white",
             "linecolor": "white",
             "minorgridcolor": "white",
             "startlinecolor": "#2a3f5f"
            },
            "type": "carpet"
           }
          ],
          "choropleth": [
           {
            "colorbar": {
             "outlinewidth": 0,
             "ticks": ""
            },
            "type": "choropleth"
           }
          ],
          "contour": [
           {
            "colorbar": {
             "outlinewidth": 0,
             "ticks": ""
            },
            "colorscale": [
             [
              0,
              "#0d0887"
             ],
             [
              0.1111111111111111,
              "#46039f"
             ],
             [
              0.2222222222222222,
              "#7201a8"
             ],
             [
              0.3333333333333333,
              "#9c179e"
             ],
             [
              0.4444444444444444,
              "#bd3786"
             ],
             [
              0.5555555555555556,
              "#d8576b"
             ],
             [
              0.6666666666666666,
              "#ed7953"
             ],
             [
              0.7777777777777778,
              "#fb9f3a"
             ],
             [
              0.8888888888888888,
              "#fdca26"
             ],
             [
              1,
              "#f0f921"
             ]
            ],
            "type": "contour"
           }
          ],
          "contourcarpet": [
           {
            "colorbar": {
             "outlinewidth": 0,
             "ticks": ""
            },
            "type": "contourcarpet"
           }
          ],
          "heatmap": [
           {
            "colorbar": {
             "outlinewidth": 0,
             "ticks": ""
            },
            "colorscale": [
             [
              0,
              "#0d0887"
             ],
             [
              0.1111111111111111,
              "#46039f"
             ],
             [
              0.2222222222222222,
              "#7201a8"
             ],
             [
              0.3333333333333333,
              "#9c179e"
             ],
             [
              0.4444444444444444,
              "#bd3786"
             ],
             [
              0.5555555555555556,
              "#d8576b"
             ],
             [
              0.6666666666666666,
              "#ed7953"
             ],
             [
              0.7777777777777778,
              "#fb9f3a"
             ],
             [
              0.8888888888888888,
              "#fdca26"
             ],
             [
              1,
              "#f0f921"
             ]
            ],
            "type": "heatmap"
           }
          ],
          "histogram": [
           {
            "marker": {
             "pattern": {
              "fillmode": "overlay",
              "size": 10,
              "solidity": 0.2
             }
            },
            "type": "histogram"
           }
          ],
          "histogram2d": [
           {
            "colorbar": {
             "outlinewidth": 0,
             "ticks": ""
            },
            "colorscale": [
             [
              0,
              "#0d0887"
             ],
             [
              0.1111111111111111,
              "#46039f"
             ],
             [
              0.2222222222222222,
              "#7201a8"
             ],
             [
              0.3333333333333333,
              "#9c179e"
             ],
             [
              0.4444444444444444,
              "#bd3786"
             ],
             [
              0.5555555555555556,
              "#d8576b"
             ],
             [
              0.6666666666666666,
              "#ed7953"
             ],
             [
              0.7777777777777778,
              "#fb9f3a"
             ],
             [
              0.8888888888888888,
              "#fdca26"
             ],
             [
              1,
              "#f0f921"
             ]
            ],
            "type": "histogram2d"
           }
          ],
          "histogram2dcontour": [
           {
            "colorbar": {
             "outlinewidth": 0,
             "ticks": ""
            },
            "colorscale": [
             [
              0,
              "#0d0887"
             ],
             [
              0.1111111111111111,
              "#46039f"
             ],
             [
              0.2222222222222222,
              "#7201a8"
             ],
             [
              0.3333333333333333,
              "#9c179e"
             ],
             [
              0.4444444444444444,
              "#bd3786"
             ],
             [
              0.5555555555555556,
              "#d8576b"
             ],
             [
              0.6666666666666666,
              "#ed7953"
             ],
             [
              0.7777777777777778,
              "#fb9f3a"
             ],
             [
              0.8888888888888888,
              "#fdca26"
             ],
             [
              1,
              "#f0f921"
             ]
            ],
            "type": "histogram2dcontour"
           }
          ],
          "mesh3d": [
           {
            "colorbar": {
             "outlinewidth": 0,
             "ticks": ""
            },
            "type": "mesh3d"
           }
          ],
          "parcoords": [
           {
            "line": {
             "colorbar": {
              "outlinewidth": 0,
              "ticks": ""
             }
            },
            "type": "parcoords"
           }
          ],
          "pie": [
           {
            "automargin": true,
            "type": "pie"
           }
          ],
          "scatter": [
           {
            "fillpattern": {
             "fillmode": "overlay",
             "size": 10,
             "solidity": 0.2
            },
            "type": "scatter"
           }
          ],
          "scatter3d": [
           {
            "line": {
             "colorbar": {
              "outlinewidth": 0,
              "ticks": ""
             }
            },
            "marker": {
             "colorbar": {
              "outlinewidth": 0,
              "ticks": ""
             }
            },
            "type": "scatter3d"
           }
          ],
          "scattercarpet": [
           {
            "marker": {
             "colorbar": {
              "outlinewidth": 0,
              "ticks": ""
             }
            },
            "type": "scattercarpet"
           }
          ],
          "scattergeo": [
           {
            "marker": {
             "colorbar": {
              "outlinewidth": 0,
              "ticks": ""
             }
            },
            "type": "scattergeo"
           }
          ],
          "scattergl": [
           {
            "marker": {
             "colorbar": {
              "outlinewidth": 0,
              "ticks": ""
             }
            },
            "type": "scattergl"
           }
          ],
          "scattermap": [
           {
            "marker": {
             "colorbar": {
              "outlinewidth": 0,
              "ticks": ""
             }
            },
            "type": "scattermap"
           }
          ],
          "scattermapbox": [
           {
            "marker": {
             "colorbar": {
              "outlinewidth": 0,
              "ticks": ""
             }
            },
            "type": "scattermapbox"
           }
          ],
          "scatterpolar": [
           {
            "marker": {
             "colorbar": {
              "outlinewidth": 0,
              "ticks": ""
             }
            },
            "type": "scatterpolar"
           }
          ],
          "scatterpolargl": [
           {
            "marker": {
             "colorbar": {
              "outlinewidth": 0,
              "ticks": ""
             }
            },
            "type": "scatterpolargl"
           }
          ],
          "scatterternary": [
           {
            "marker": {
             "colorbar": {
              "outlinewidth": 0,
              "ticks": ""
             }
            },
            "type": "scatterternary"
           }
          ],
          "surface": [
           {
            "colorbar": {
             "outlinewidth": 0,
             "ticks": ""
            },
            "colorscale": [
             [
              0,
              "#0d0887"
             ],
             [
              0.1111111111111111,
              "#46039f"
             ],
             [
              0.2222222222222222,
              "#7201a8"
             ],
             [
              0.3333333333333333,
              "#9c179e"
             ],
             [
              0.4444444444444444,
              "#bd3786"
             ],
             [
              0.5555555555555556,
              "#d8576b"
             ],
             [
              0.6666666666666666,
              "#ed7953"
             ],
             [
              0.7777777777777778,
              "#fb9f3a"
             ],
             [
              0.8888888888888888,
              "#fdca26"
             ],
             [
              1,
              "#f0f921"
             ]
            ],
            "type": "surface"
           }
          ],
          "table": [
           {
            "cells": {
             "fill": {
              "color": "#EBF0F8"
             },
             "line": {
              "color": "white"
             }
            },
            "header": {
             "fill": {
              "color": "#C8D4E3"
             },
             "line": {
              "color": "white"
             }
            },
            "type": "table"
           }
          ]
         },
         "layout": {
          "annotationdefaults": {
           "arrowcolor": "#2a3f5f",
           "arrowhead": 0,
           "arrowwidth": 1
          },
          "autotypenumbers": "strict",
          "coloraxis": {
           "colorbar": {
            "outlinewidth": 0,
            "ticks": ""
           }
          },
          "colorscale": {
           "diverging": [
            [
             0,
             "#8e0152"
            ],
            [
             0.1,
             "#c51b7d"
            ],
            [
             0.2,
             "#de77ae"
            ],
            [
             0.3,
             "#f1b6da"
            ],
            [
             0.4,
             "#fde0ef"
            ],
            [
             0.5,
             "#f7f7f7"
            ],
            [
             0.6,
             "#e6f5d0"
            ],
            [
             0.7,
             "#b8e186"
            ],
            [
             0.8,
             "#7fbc41"
            ],
            [
             0.9,
             "#4d9221"
            ],
            [
             1,
             "#276419"
            ]
           ],
           "sequential": [
            [
             0,
             "#0d0887"
            ],
            [
             0.1111111111111111,
             "#46039f"
            ],
            [
             0.2222222222222222,
             "#7201a8"
            ],
            [
             0.3333333333333333,
             "#9c179e"
            ],
            [
             0.4444444444444444,
             "#bd3786"
            ],
            [
             0.5555555555555556,
             "#d8576b"
            ],
            [
             0.6666666666666666,
             "#ed7953"
            ],
            [
             0.7777777777777778,
             "#fb9f3a"
            ],
            [
             0.8888888888888888,
             "#fdca26"
            ],
            [
             1,
             "#f0f921"
            ]
           ],
           "sequentialminus": [
            [
             0,
             "#0d0887"
            ],
            [
             0.1111111111111111,
             "#46039f"
            ],
            [
             0.2222222222222222,
             "#7201a8"
            ],
            [
             0.3333333333333333,
             "#9c179e"
            ],
            [
             0.4444444444444444,
             "#bd3786"
            ],
            [
             0.5555555555555556,
             "#d8576b"
            ],
            [
             0.6666666666666666,
             "#ed7953"
            ],
            [
             0.7777777777777778,
             "#fb9f3a"
            ],
            [
             0.8888888888888888,
             "#fdca26"
            ],
            [
             1,
             "#f0f921"
            ]
           ]
          },
          "colorway": [
           "#636efa",
           "#EF553B",
           "#00cc96",
           "#ab63fa",
           "#FFA15A",
           "#19d3f3",
           "#FF6692",
           "#B6E880",
           "#FF97FF",
           "#FECB52"
          ],
          "font": {
           "color": "#2a3f5f"
          },
          "geo": {
           "bgcolor": "white",
           "lakecolor": "white",
           "landcolor": "#E5ECF6",
           "showlakes": true,
           "showland": true,
           "subunitcolor": "white"
          },
          "hoverlabel": {
           "align": "left"
          },
          "hovermode": "closest",
          "mapbox": {
           "style": "light"
          },
          "paper_bgcolor": "white",
          "plot_bgcolor": "#E5ECF6",
          "polar": {
           "angularaxis": {
            "gridcolor": "white",
            "linecolor": "white",
            "ticks": ""
           },
           "bgcolor": "#E5ECF6",
           "radialaxis": {
            "gridcolor": "white",
            "linecolor": "white",
            "ticks": ""
           }
          },
          "scene": {
           "xaxis": {
            "backgroundcolor": "#E5ECF6",
            "gridcolor": "white",
            "gridwidth": 2,
            "linecolor": "white",
            "showbackground": true,
            "ticks": "",
            "zerolinecolor": "white"
           },
           "yaxis": {
            "backgroundcolor": "#E5ECF6",
            "gridcolor": "white",
            "gridwidth": 2,
            "linecolor": "white",
            "showbackground": true,
            "ticks": "",
            "zerolinecolor": "white"
           },
           "zaxis": {
            "backgroundcolor": "#E5ECF6",
            "gridcolor": "white",
            "gridwidth": 2,
            "linecolor": "white",
            "showbackground": true,
            "ticks": "",
            "zerolinecolor": "white"
           }
          },
          "shapedefaults": {
           "line": {
            "color": "#2a3f5f"
           }
          },
          "ternary": {
           "aaxis": {
            "gridcolor": "white",
            "linecolor": "white",
            "ticks": ""
           },
           "baxis": {
            "gridcolor": "white",
            "linecolor": "white",
            "ticks": ""
           },
           "bgcolor": "#E5ECF6",
           "caxis": {
            "gridcolor": "white",
            "linecolor": "white",
            "ticks": ""
           }
          },
          "title": {
           "x": 0.05
          },
          "xaxis": {
           "automargin": true,
           "gridcolor": "white",
           "linecolor": "white",
           "ticks": "",
           "title": {
            "standoff": 15
           },
           "zerolinecolor": "white",
           "zerolinewidth": 2
          },
          "yaxis": {
           "automargin": true,
           "gridcolor": "white",
           "linecolor": "white",
           "ticks": "",
           "title": {
            "standoff": 15
           },
           "zerolinecolor": "white",
           "zerolinewidth": 2
          }
         }
        },
        "title": {
         "text": "Distribuição de regime_trabalho por Churn"
        },
        "xaxis": {
         "anchor": "y",
         "domain": [
          0,
          1
         ],
         "title": {
          "text": "regime_trabalho"
         }
        },
        "yaxis": {
         "anchor": "x",
         "domain": [
          0,
          1
         ],
         "title": {
          "text": "count"
         }
        }
       }
      }
     },
     "metadata": {},
     "output_type": "display_data"
    },
    {
     "data": {
      "application/vnd.plotly.v1+json": {
       "config": {
        "plotlyServerURL": "https://plot.ly"
       },
       "data": [
        {
         "alignmentgroup": "True",
         "bingroup": "x",
         "hovertemplate": "churn=0<br>tipo_demissao=%{x}<br>count=%{y}<extra></extra>",
         "legendgroup": "0",
         "marker": {
          "color": "#636efa",
          "pattern": {
           "shape": ""
          }
         },
         "name": "0",
         "offsetgroup": "0",
         "orientation": "v",
         "showlegend": true,
         "type": "histogram",
         "x": [
          null,
          null,
          null,
          null,
          null,
          null,
          null,
          null,
          null,
          null,
          null,
          null,
          null,
          null,
          null,
          null,
          null,
          null,
          null,
          null,
          null,
          null,
          null,
          null,
          null,
          null,
          null,
          null,
          null,
          null,
          null,
          null,
          null,
          null,
          null,
          null,
          null,
          null,
          null,
          null,
          null,
          null,
          null,
          null,
          null,
          null,
          null,
          null,
          null,
          null,
          null,
          null,
          null,
          null,
          null,
          null,
          null,
          null,
          null,
          null,
          null,
          null,
          null,
          null,
          null,
          null,
          null,
          null,
          null,
          null,
          null,
          null,
          null,
          null,
          null,
          null,
          null,
          null,
          null,
          null,
          null,
          null,
          null,
          null,
          null,
          null,
          null,
          null,
          null,
          null,
          null,
          null,
          null,
          null,
          null,
          null,
          null,
          null,
          null,
          null,
          null,
          null,
          null,
          null,
          null,
          null,
          null,
          null,
          null,
          null,
          null,
          null,
          null,
          null,
          null,
          null,
          null,
          null,
          null,
          null,
          null,
          null,
          null,
          null,
          null,
          null,
          null,
          null,
          null,
          null,
          null,
          null,
          null,
          null,
          null,
          null,
          null,
          null,
          null,
          null,
          null,
          null,
          null,
          null,
          null,
          null,
          null,
          null,
          null,
          null,
          null,
          null,
          null,
          null,
          null,
          null,
          null,
          null,
          null,
          null,
          null,
          null,
          null,
          null,
          null,
          null,
          null,
          null,
          null,
          null,
          null,
          null,
          null,
          null,
          null,
          null,
          null,
          null,
          null,
          null,
          null,
          null,
          null,
          null,
          null,
          null,
          null,
          null,
          null,
          null,
          null,
          null,
          null,
          null,
          null,
          null,
          null,
          null,
          null,
          null,
          null,
          null,
          null,
          null,
          null,
          null,
          null,
          null,
          null,
          null,
          null,
          null,
          null,
          null,
          null,
          null,
          null,
          null,
          null,
          null,
          null,
          null,
          null,
          null,
          null,
          null,
          null,
          null,
          null,
          null,
          null,
          null,
          null,
          null,
          null,
          null,
          null,
          null,
          null,
          null,
          null,
          null,
          null,
          null,
          null,
          null,
          null,
          null,
          null,
          null,
          null,
          null,
          null,
          null,
          null,
          null,
          null,
          null,
          null,
          null,
          null,
          null,
          null,
          null,
          null,
          null,
          null,
          null,
          null,
          null,
          null,
          null,
          null,
          null,
          null,
          null,
          null,
          null,
          null,
          null,
          null,
          null,
          null,
          null,
          null,
          null,
          null,
          null,
          null,
          null,
          null,
          null,
          null,
          null,
          null,
          null,
          null,
          null,
          null,
          null,
          null,
          null,
          null,
          null,
          null,
          null,
          null,
          null,
          null,
          null,
          null,
          null,
          null,
          null,
          null,
          null,
          null,
          null,
          null,
          null,
          null,
          null,
          null,
          null,
          null,
          null,
          null,
          null,
          null,
          null,
          null,
          null,
          null,
          null,
          null,
          null,
          null,
          null,
          null,
          null,
          null,
          null,
          null,
          null,
          null,
          null,
          null,
          null,
          null,
          null,
          null,
          null,
          null,
          null,
          null,
          null,
          null,
          null,
          null,
          null,
          null,
          null,
          null,
          null,
          null,
          null,
          null,
          null,
          null,
          null,
          null,
          null,
          null,
          null,
          null,
          null,
          null,
          null,
          null,
          null,
          null,
          null,
          null,
          null,
          null,
          null,
          null,
          null,
          null,
          null,
          null,
          null,
          null,
          null,
          null,
          null,
          null,
          null,
          null,
          null,
          null,
          null,
          null,
          null,
          null,
          null,
          null,
          null,
          null,
          null,
          null,
          null,
          null,
          null,
          null,
          null,
          null,
          null,
          null,
          null,
          null,
          null,
          null,
          null,
          null,
          null,
          null,
          null,
          null,
          null,
          null,
          null,
          null,
          null,
          null,
          null,
          null,
          null,
          null,
          null,
          null,
          null,
          null,
          null,
          null,
          null,
          null,
          null,
          null,
          null,
          null,
          null,
          null,
          null,
          null,
          null,
          null,
          null,
          null,
          null,
          null,
          null,
          null,
          null,
          null,
          null,
          null,
          null,
          null,
          null,
          null,
          null,
          null,
          null,
          null,
          null,
          null,
          null,
          null,
          null,
          null,
          null,
          null,
          null,
          null,
          null,
          null,
          null,
          null,
          null,
          null,
          null,
          null,
          null,
          null,
          null,
          null,
          null,
          null,
          null,
          null,
          null,
          null,
          null,
          null,
          null,
          null,
          null,
          null,
          null,
          null,
          null,
          null,
          null,
          null,
          null,
          null,
          null,
          null,
          null,
          null,
          null,
          null,
          null,
          null,
          null,
          null,
          null,
          null,
          null,
          null,
          null,
          null,
          null,
          null,
          null,
          null,
          null,
          null,
          null,
          null,
          null,
          null,
          null,
          null,
          null,
          null,
          null,
          null,
          null,
          null,
          null,
          null,
          null,
          null,
          null,
          null,
          null,
          null,
          null,
          null,
          null,
          null,
          null,
          null,
          null,
          null,
          null,
          null,
          null,
          null,
          null,
          null,
          null,
          null,
          null,
          null,
          null,
          null,
          null,
          null,
          null,
          null,
          null,
          null,
          null,
          null,
          null,
          null,
          null,
          null,
          null,
          null,
          null,
          null,
          null,
          null,
          null,
          null,
          null,
          null,
          null,
          null,
          null,
          null,
          null,
          null,
          null,
          null,
          null,
          null,
          null,
          null,
          null,
          null,
          null,
          null,
          null,
          null,
          null,
          null,
          null,
          null,
          null,
          null,
          null,
          null,
          null,
          null,
          null,
          null,
          null,
          null,
          null,
          null,
          null,
          null,
          null,
          null,
          null,
          null,
          null,
          null,
          null,
          null,
          null,
          null,
          null,
          null,
          null,
          null,
          null,
          null,
          null,
          null,
          null,
          null,
          null,
          null,
          null,
          null,
          null,
          null,
          null,
          null,
          null,
          null,
          null,
          null,
          null,
          null,
          null,
          null,
          null,
          null,
          null,
          null,
          null,
          null,
          null,
          null,
          null,
          null,
          null,
          null,
          null,
          null,
          null,
          null,
          null,
          null,
          null,
          null,
          null,
          null,
          null,
          null,
          null,
          null,
          null,
          null,
          null,
          null,
          null,
          null,
          null,
          null,
          null,
          null,
          null,
          null,
          null,
          null,
          null,
          null,
          null,
          null,
          null,
          null,
          null,
          null,
          null,
          null,
          null,
          null,
          null,
          null,
          null,
          null,
          null,
          null,
          null,
          null,
          null,
          null,
          null,
          null,
          null,
          null,
          null,
          null,
          null,
          null,
          null,
          null,
          null,
          null,
          null,
          null,
          null,
          null,
          null,
          null,
          null,
          null,
          null,
          null,
          null,
          null,
          null,
          null,
          null,
          null,
          null,
          null,
          null,
          null,
          null,
          null,
          null,
          null,
          null,
          null,
          null,
          null,
          null,
          null,
          null,
          null,
          null,
          null,
          null,
          null,
          null,
          null,
          null,
          null,
          null,
          null,
          null,
          null,
          null,
          null,
          null,
          null,
          null,
          null,
          null,
          null,
          null,
          null,
          null,
          null,
          null,
          null,
          null,
          null,
          null,
          null,
          null,
          null,
          null,
          null,
          null,
          null,
          null,
          null,
          null,
          null,
          null,
          null,
          null,
          null,
          null,
          null,
          null,
          null,
          null,
          null,
          null,
          null,
          null,
          null,
          null,
          null,
          null,
          null,
          null,
          null,
          null,
          null,
          null,
          null,
          null,
          null,
          null,
          null,
          null,
          null,
          null,
          null,
          null,
          null,
          null,
          null,
          null,
          null,
          null,
          null,
          null,
          null,
          null,
          null,
          null,
          null,
          null,
          null,
          null,
          null,
          null,
          null,
          null,
          null,
          null,
          null,
          null,
          null,
          null,
          null,
          null,
          null,
          null,
          null,
          null,
          null,
          null,
          null,
          null,
          null,
          null,
          null,
          null,
          null,
          null,
          null,
          null,
          null,
          null,
          null,
          null,
          null,
          null,
          null,
          null,
          null,
          null,
          null,
          null,
          null,
          null,
          null,
          null,
          null,
          null,
          null,
          null,
          null,
          null,
          null,
          null,
          null,
          null,
          null,
          null,
          null,
          null,
          null,
          null,
          null,
          null,
          null,
          null,
          null,
          null,
          null,
          null,
          null,
          null,
          null,
          null,
          null,
          null,
          null,
          null,
          null,
          null,
          null,
          null,
          null,
          null,
          null,
          null,
          null,
          null,
          null,
          null,
          null,
          null,
          null,
          null,
          null,
          null,
          null,
          null,
          null,
          null,
          null,
          null,
          null,
          null,
          null,
          null,
          null,
          null,
          null,
          null,
          null,
          null,
          null,
          null,
          null,
          null,
          null,
          null,
          null,
          null,
          null,
          null,
          null,
          null,
          null,
          null,
          null,
          null,
          null,
          null,
          null,
          null,
          null,
          null,
          null,
          null,
          null,
          null,
          null,
          null,
          null,
          null,
          null,
          null,
          null,
          null,
          null,
          null,
          null,
          null,
          null,
          null,
          null,
          null,
          null,
          null,
          null,
          null,
          null,
          null,
          null,
          null,
          null,
          null,
          null,
          null,
          null,
          null,
          null,
          null,
          null,
          null,
          null,
          null,
          null,
          null,
          null,
          null,
          null,
          null,
          null,
          null,
          null,
          null,
          null,
          null,
          null,
          null,
          null,
          null,
          null,
          null,
          null,
          null,
          null,
          null,
          null,
          null,
          null,
          null,
          null,
          null,
          null,
          null,
          null,
          null,
          null,
          null,
          null,
          null,
          null,
          null,
          null,
          null,
          null,
          null,
          null,
          null,
          null,
          null,
          null,
          null,
          null,
          null,
          null,
          null,
          null,
          null,
          null,
          null,
          null,
          null,
          null,
          null,
          null,
          null,
          null,
          null,
          null,
          null,
          null,
          null,
          null,
          null,
          null,
          null,
          null,
          null,
          null,
          null,
          null,
          null,
          null,
          null,
          null,
          null,
          null,
          null,
          null,
          null,
          null,
          null,
          null,
          null,
          null,
          null,
          null,
          null,
          null,
          null,
          null,
          null,
          null,
          null,
          null,
          null,
          null,
          null,
          null,
          null,
          null,
          null,
          null,
          null,
          null,
          null,
          null,
          null,
          null,
          null,
          null,
          null,
          null,
          null,
          null,
          null,
          null,
          null,
          null,
          null,
          null,
          null,
          null,
          null,
          null,
          null,
          null,
          null,
          null,
          null,
          null,
          null,
          null,
          null,
          null,
          null,
          null,
          null,
          null,
          null,
          null,
          null,
          null,
          null,
          null,
          null,
          null,
          null,
          null,
          null,
          null,
          null,
          null,
          null,
          null,
          null,
          null,
          null,
          null,
          null,
          null,
          null,
          null,
          null,
          null,
          null,
          null,
          null,
          null,
          null,
          null,
          null,
          null,
          null,
          null,
          null,
          null,
          null,
          null,
          null,
          null,
          null,
          null,
          null,
          null,
          null,
          null,
          null,
          null,
          null,
          null,
          null,
          null,
          null,
          null,
          null,
          null,
          null,
          null,
          null,
          null,
          null,
          null,
          null,
          null,
          null,
          null,
          null,
          null,
          null,
          null,
          null,
          null,
          null,
          null,
          null,
          null,
          null,
          null,
          null,
          null,
          null,
          null,
          null,
          null,
          null,
          null,
          null,
          null,
          null,
          null,
          null,
          null,
          null,
          null,
          null,
          null,
          null,
          null,
          null,
          null,
          null,
          null,
          null,
          null,
          null,
          null,
          null,
          null,
          null,
          null,
          null,
          null,
          null,
          null,
          null,
          null,
          null,
          null,
          null,
          null,
          null,
          null,
          null,
          null,
          null,
          null,
          null,
          null,
          null,
          null,
          null,
          null,
          null,
          null,
          null,
          null,
          null,
          null,
          null,
          null,
          null,
          null,
          null,
          null,
          null,
          null,
          null,
          null,
          null,
          null,
          null,
          null,
          null,
          null,
          null,
          null,
          null,
          null,
          null,
          null,
          null,
          null,
          null,
          null,
          null,
          null,
          null,
          null,
          null,
          null,
          null,
          null,
          null,
          null,
          null,
          null,
          null,
          null,
          null,
          null,
          null,
          null,
          null,
          null,
          null,
          null,
          null,
          null,
          null,
          null,
          null,
          null,
          null,
          null,
          null,
          null,
          null,
          null,
          null,
          null,
          null,
          null,
          null,
          null,
          null,
          null,
          null,
          null,
          null,
          null,
          null,
          null,
          null,
          null,
          null,
          null,
          null,
          null,
          null,
          null,
          null,
          null,
          null,
          null,
          null,
          null,
          null,
          null,
          null,
          null,
          null,
          null,
          null,
          null,
          null,
          null,
          null,
          null,
          null,
          null,
          null,
          null,
          null,
          null,
          null,
          null,
          null,
          null,
          null,
          null,
          null,
          null,
          null,
          null,
          null,
          null,
          null,
          null,
          null,
          null,
          null,
          null,
          null,
          null,
          null,
          null,
          null,
          null,
          null,
          null,
          null,
          null,
          null,
          null,
          null,
          null,
          null,
          null,
          null,
          null,
          null,
          null,
          null,
          null,
          null,
          null,
          null,
          null,
          null,
          null,
          null,
          null,
          null,
          null,
          null,
          null,
          null,
          null,
          null,
          null,
          null,
          null,
          null,
          null,
          null,
          null,
          null,
          null,
          null,
          null,
          null,
          null,
          null,
          null,
          null,
          null,
          null,
          null,
          null,
          null,
          null,
          null,
          null,
          null,
          null,
          null,
          null,
          null,
          null,
          null,
          null,
          null,
          null,
          null,
          null,
          null,
          null,
          null,
          null,
          null,
          null,
          null,
          null,
          null,
          null,
          null,
          null,
          null,
          null,
          null,
          null,
          null,
          null,
          null,
          null,
          null,
          null,
          null,
          null,
          null,
          null,
          null,
          null,
          null,
          null,
          null,
          null,
          null,
          null,
          null,
          null,
          null,
          null,
          null,
          null,
          null,
          null,
          null,
          null,
          null,
          null,
          null,
          null,
          null,
          null,
          null,
          null,
          null,
          null,
          null,
          null,
          null,
          null,
          null,
          null,
          null,
          null,
          null,
          null,
          null,
          null,
          null,
          null,
          null,
          null,
          null,
          null,
          null,
          null,
          null,
          null,
          null,
          null,
          null,
          null,
          null,
          null,
          null,
          null,
          null,
          null,
          null,
          null,
          null,
          null,
          null,
          null,
          null,
          null,
          null,
          null,
          null,
          null,
          null,
          null,
          null,
          null,
          null,
          null,
          null,
          null,
          null,
          null,
          null,
          null,
          null,
          null,
          null,
          null,
          null,
          null,
          null,
          null,
          null,
          null,
          null,
          null,
          null,
          null,
          null,
          null,
          null,
          null,
          null,
          null,
          null,
          null,
          null,
          null,
          null,
          null,
          null,
          null,
          null,
          null,
          null,
          null,
          null,
          null,
          null,
          null,
          null,
          null,
          null,
          null,
          null,
          null,
          null,
          null,
          null,
          null,
          null,
          null,
          null,
          null,
          null,
          null,
          null,
          null,
          null,
          null,
          null,
          null,
          null,
          null,
          null,
          null,
          null,
          null,
          null,
          null,
          null,
          null,
          null,
          null,
          null,
          null,
          null,
          null,
          null,
          null,
          null,
          null,
          null,
          null,
          null,
          null
         ],
         "xaxis": "x",
         "yaxis": "y"
        },
        {
         "alignmentgroup": "True",
         "bingroup": "x",
         "hovertemplate": "churn=1<br>tipo_demissao=%{x}<br>count=%{y}<extra></extra>",
         "legendgroup": "1",
         "marker": {
          "color": "#EF553B",
          "pattern": {
           "shape": ""
          }
         },
         "name": "1",
         "offsetgroup": "1",
         "orientation": "v",
         "showlegend": true,
         "type": "histogram",
         "x": [
          "Involuntária",
          "Voluntária",
          "Involuntária",
          "Involuntária",
          "Involuntária",
          "Involuntária",
          "Voluntária",
          "Voluntária",
          "Voluntária",
          "Involuntária",
          "Voluntária",
          "Voluntária",
          "Voluntária",
          "Involuntária",
          "Involuntária",
          "Voluntária",
          "Involuntária",
          "Involuntária",
          "Voluntária",
          "Voluntária",
          "Voluntária",
          "Voluntária",
          "Involuntária",
          "Involuntária",
          "Voluntária",
          "Voluntária",
          "Voluntária",
          "Voluntária",
          "Voluntária",
          "Involuntária",
          "Involuntária",
          "Voluntária",
          "Voluntária",
          "Voluntária",
          "Involuntária",
          "Voluntária",
          "Involuntária",
          "Involuntária",
          "Involuntária",
          "Voluntária",
          "Involuntária",
          "Involuntária",
          "Voluntária",
          "Involuntária",
          "Involuntária",
          "Involuntária",
          "Voluntária",
          "Involuntária",
          "Involuntária",
          "Voluntária",
          "Involuntária",
          "Involuntária",
          "Involuntária",
          "Involuntária",
          "Voluntária",
          "Voluntária",
          "Voluntária",
          "Voluntária",
          "Involuntária",
          "Voluntária",
          "Involuntária",
          "Involuntária",
          "Involuntária",
          "Involuntária",
          "Voluntária",
          "Voluntária",
          "Voluntária",
          "Voluntária",
          "Voluntária",
          "Voluntária",
          "Voluntária",
          "Involuntária",
          "Involuntária",
          "Involuntária",
          "Voluntária",
          "Voluntária",
          "Voluntária",
          "Voluntária",
          "Voluntária",
          "Voluntária",
          "Voluntária",
          "Involuntária",
          "Voluntária",
          "Involuntária",
          "Voluntária",
          "Voluntária",
          "Voluntária",
          "Involuntária",
          "Involuntária",
          "Involuntária",
          "Involuntária",
          "Voluntária",
          "Voluntária",
          "Involuntária",
          "Involuntária",
          "Involuntária",
          "Involuntária",
          "Voluntária",
          "Involuntária",
          "Voluntária",
          "Involuntária",
          "Involuntária",
          "Voluntária",
          "Voluntária",
          "Involuntária",
          "Involuntária",
          "Voluntária",
          "Voluntária",
          "Voluntária",
          "Involuntária",
          "Voluntária",
          "Voluntária",
          "Involuntária",
          "Voluntária",
          "Involuntária",
          "Voluntária",
          "Involuntária",
          "Involuntária",
          "Involuntária",
          "Voluntária",
          "Voluntária",
          "Involuntária",
          "Involuntária",
          "Voluntária",
          "Voluntária",
          "Voluntária",
          "Voluntária",
          "Involuntária",
          "Voluntária",
          "Voluntária",
          "Involuntária",
          "Voluntária",
          "Voluntária",
          "Voluntária",
          "Involuntária",
          "Involuntária",
          "Involuntária",
          "Involuntária",
          "Voluntária",
          "Voluntária",
          "Involuntária",
          "Involuntária",
          "Involuntária",
          "Voluntária",
          "Voluntária",
          "Involuntária",
          "Voluntária",
          "Voluntária",
          "Involuntária",
          "Involuntária",
          "Voluntária",
          "Voluntária",
          "Involuntária",
          "Involuntária",
          "Involuntária",
          "Voluntária",
          "Voluntária",
          "Involuntária",
          "Involuntária",
          "Involuntária",
          "Voluntária",
          "Involuntária",
          "Voluntária",
          "Voluntária",
          "Involuntária",
          "Involuntária",
          "Involuntária",
          "Voluntária",
          "Voluntária",
          "Involuntária",
          "Voluntária",
          "Voluntária",
          "Involuntária",
          "Involuntária",
          "Voluntária",
          "Involuntária",
          "Voluntária",
          "Involuntária",
          "Voluntária",
          "Involuntária",
          "Involuntária",
          "Voluntária",
          "Voluntária",
          "Involuntária",
          "Voluntária",
          "Voluntária",
          "Involuntária",
          "Involuntária",
          "Involuntária",
          "Voluntária",
          "Voluntária",
          "Voluntária",
          "Involuntária",
          "Voluntária",
          "Involuntária",
          "Voluntária",
          "Voluntária",
          "Involuntária",
          "Voluntária",
          "Involuntária",
          "Involuntária",
          "Involuntária",
          "Involuntária",
          "Voluntária",
          "Involuntária",
          "Voluntária",
          "Involuntária",
          "Voluntária",
          "Involuntária",
          "Voluntária",
          "Voluntária",
          "Involuntária",
          "Voluntária",
          "Voluntária",
          "Voluntária",
          "Involuntária",
          "Voluntária",
          "Involuntária",
          "Voluntária",
          "Voluntária",
          "Voluntária",
          "Voluntária",
          "Voluntária",
          "Involuntária",
          "Involuntária",
          "Voluntária",
          "Voluntária",
          "Voluntária",
          "Voluntária",
          "Involuntária",
          "Voluntária",
          "Involuntária",
          "Voluntária",
          "Involuntária",
          "Involuntária",
          "Voluntária",
          "Involuntária",
          "Involuntária",
          "Involuntária",
          "Voluntária",
          "Voluntária",
          "Voluntária",
          "Involuntária",
          "Voluntária",
          "Involuntária",
          "Involuntária",
          "Involuntária",
          "Voluntária",
          "Voluntária",
          "Voluntária",
          "Voluntária",
          "Voluntária",
          "Voluntária",
          "Voluntária",
          "Voluntária",
          "Involuntária",
          "Involuntária",
          "Voluntária",
          "Voluntária",
          "Involuntária",
          "Involuntária",
          "Voluntária",
          "Voluntária",
          "Voluntária",
          "Voluntária",
          "Involuntária",
          "Voluntária",
          "Involuntária",
          "Voluntária",
          "Involuntária",
          "Voluntária",
          "Voluntária",
          "Involuntária",
          "Involuntária",
          "Involuntária",
          "Involuntária",
          "Voluntária",
          "Involuntária",
          "Involuntária",
          "Involuntária",
          "Voluntária",
          "Voluntária",
          "Involuntária",
          "Voluntária",
          "Voluntária",
          "Voluntária"
         ],
         "xaxis": "x",
         "yaxis": "y"
        }
       ],
       "layout": {
        "barmode": "group",
        "legend": {
         "title": {
          "text": "churn"
         },
         "tracegroupgap": 0
        },
        "template": {
         "data": {
          "bar": [
           {
            "error_x": {
             "color": "#2a3f5f"
            },
            "error_y": {
             "color": "#2a3f5f"
            },
            "marker": {
             "line": {
              "color": "#E5ECF6",
              "width": 0.5
             },
             "pattern": {
              "fillmode": "overlay",
              "size": 10,
              "solidity": 0.2
             }
            },
            "type": "bar"
           }
          ],
          "barpolar": [
           {
            "marker": {
             "line": {
              "color": "#E5ECF6",
              "width": 0.5
             },
             "pattern": {
              "fillmode": "overlay",
              "size": 10,
              "solidity": 0.2
             }
            },
            "type": "barpolar"
           }
          ],
          "carpet": [
           {
            "aaxis": {
             "endlinecolor": "#2a3f5f",
             "gridcolor": "white",
             "linecolor": "white",
             "minorgridcolor": "white",
             "startlinecolor": "#2a3f5f"
            },
            "baxis": {
             "endlinecolor": "#2a3f5f",
             "gridcolor": "white",
             "linecolor": "white",
             "minorgridcolor": "white",
             "startlinecolor": "#2a3f5f"
            },
            "type": "carpet"
           }
          ],
          "choropleth": [
           {
            "colorbar": {
             "outlinewidth": 0,
             "ticks": ""
            },
            "type": "choropleth"
           }
          ],
          "contour": [
           {
            "colorbar": {
             "outlinewidth": 0,
             "ticks": ""
            },
            "colorscale": [
             [
              0,
              "#0d0887"
             ],
             [
              0.1111111111111111,
              "#46039f"
             ],
             [
              0.2222222222222222,
              "#7201a8"
             ],
             [
              0.3333333333333333,
              "#9c179e"
             ],
             [
              0.4444444444444444,
              "#bd3786"
             ],
             [
              0.5555555555555556,
              "#d8576b"
             ],
             [
              0.6666666666666666,
              "#ed7953"
             ],
             [
              0.7777777777777778,
              "#fb9f3a"
             ],
             [
              0.8888888888888888,
              "#fdca26"
             ],
             [
              1,
              "#f0f921"
             ]
            ],
            "type": "contour"
           }
          ],
          "contourcarpet": [
           {
            "colorbar": {
             "outlinewidth": 0,
             "ticks": ""
            },
            "type": "contourcarpet"
           }
          ],
          "heatmap": [
           {
            "colorbar": {
             "outlinewidth": 0,
             "ticks": ""
            },
            "colorscale": [
             [
              0,
              "#0d0887"
             ],
             [
              0.1111111111111111,
              "#46039f"
             ],
             [
              0.2222222222222222,
              "#7201a8"
             ],
             [
              0.3333333333333333,
              "#9c179e"
             ],
             [
              0.4444444444444444,
              "#bd3786"
             ],
             [
              0.5555555555555556,
              "#d8576b"
             ],
             [
              0.6666666666666666,
              "#ed7953"
             ],
             [
              0.7777777777777778,
              "#fb9f3a"
             ],
             [
              0.8888888888888888,
              "#fdca26"
             ],
             [
              1,
              "#f0f921"
             ]
            ],
            "type": "heatmap"
           }
          ],
          "histogram": [
           {
            "marker": {
             "pattern": {
              "fillmode": "overlay",
              "size": 10,
              "solidity": 0.2
             }
            },
            "type": "histogram"
           }
          ],
          "histogram2d": [
           {
            "colorbar": {
             "outlinewidth": 0,
             "ticks": ""
            },
            "colorscale": [
             [
              0,
              "#0d0887"
             ],
             [
              0.1111111111111111,
              "#46039f"
             ],
             [
              0.2222222222222222,
              "#7201a8"
             ],
             [
              0.3333333333333333,
              "#9c179e"
             ],
             [
              0.4444444444444444,
              "#bd3786"
             ],
             [
              0.5555555555555556,
              "#d8576b"
             ],
             [
              0.6666666666666666,
              "#ed7953"
             ],
             [
              0.7777777777777778,
              "#fb9f3a"
             ],
             [
              0.8888888888888888,
              "#fdca26"
             ],
             [
              1,
              "#f0f921"
             ]
            ],
            "type": "histogram2d"
           }
          ],
          "histogram2dcontour": [
           {
            "colorbar": {
             "outlinewidth": 0,
             "ticks": ""
            },
            "colorscale": [
             [
              0,
              "#0d0887"
             ],
             [
              0.1111111111111111,
              "#46039f"
             ],
             [
              0.2222222222222222,
              "#7201a8"
             ],
             [
              0.3333333333333333,
              "#9c179e"
             ],
             [
              0.4444444444444444,
              "#bd3786"
             ],
             [
              0.5555555555555556,
              "#d8576b"
             ],
             [
              0.6666666666666666,
              "#ed7953"
             ],
             [
              0.7777777777777778,
              "#fb9f3a"
             ],
             [
              0.8888888888888888,
              "#fdca26"
             ],
             [
              1,
              "#f0f921"
             ]
            ],
            "type": "histogram2dcontour"
           }
          ],
          "mesh3d": [
           {
            "colorbar": {
             "outlinewidth": 0,
             "ticks": ""
            },
            "type": "mesh3d"
           }
          ],
          "parcoords": [
           {
            "line": {
             "colorbar": {
              "outlinewidth": 0,
              "ticks": ""
             }
            },
            "type": "parcoords"
           }
          ],
          "pie": [
           {
            "automargin": true,
            "type": "pie"
           }
          ],
          "scatter": [
           {
            "fillpattern": {
             "fillmode": "overlay",
             "size": 10,
             "solidity": 0.2
            },
            "type": "scatter"
           }
          ],
          "scatter3d": [
           {
            "line": {
             "colorbar": {
              "outlinewidth": 0,
              "ticks": ""
             }
            },
            "marker": {
             "colorbar": {
              "outlinewidth": 0,
              "ticks": ""
             }
            },
            "type": "scatter3d"
           }
          ],
          "scattercarpet": [
           {
            "marker": {
             "colorbar": {
              "outlinewidth": 0,
              "ticks": ""
             }
            },
            "type": "scattercarpet"
           }
          ],
          "scattergeo": [
           {
            "marker": {
             "colorbar": {
              "outlinewidth": 0,
              "ticks": ""
             }
            },
            "type": "scattergeo"
           }
          ],
          "scattergl": [
           {
            "marker": {
             "colorbar": {
              "outlinewidth": 0,
              "ticks": ""
             }
            },
            "type": "scattergl"
           }
          ],
          "scattermap": [
           {
            "marker": {
             "colorbar": {
              "outlinewidth": 0,
              "ticks": ""
             }
            },
            "type": "scattermap"
           }
          ],
          "scattermapbox": [
           {
            "marker": {
             "colorbar": {
              "outlinewidth": 0,
              "ticks": ""
             }
            },
            "type": "scattermapbox"
           }
          ],
          "scatterpolar": [
           {
            "marker": {
             "colorbar": {
              "outlinewidth": 0,
              "ticks": ""
             }
            },
            "type": "scatterpolar"
           }
          ],
          "scatterpolargl": [
           {
            "marker": {
             "colorbar": {
              "outlinewidth": 0,
              "ticks": ""
             }
            },
            "type": "scatterpolargl"
           }
          ],
          "scatterternary": [
           {
            "marker": {
             "colorbar": {
              "outlinewidth": 0,
              "ticks": ""
             }
            },
            "type": "scatterternary"
           }
          ],
          "surface": [
           {
            "colorbar": {
             "outlinewidth": 0,
             "ticks": ""
            },
            "colorscale": [
             [
              0,
              "#0d0887"
             ],
             [
              0.1111111111111111,
              "#46039f"
             ],
             [
              0.2222222222222222,
              "#7201a8"
             ],
             [
              0.3333333333333333,
              "#9c179e"
             ],
             [
              0.4444444444444444,
              "#bd3786"
             ],
             [
              0.5555555555555556,
              "#d8576b"
             ],
             [
              0.6666666666666666,
              "#ed7953"
             ],
             [
              0.7777777777777778,
              "#fb9f3a"
             ],
             [
              0.8888888888888888,
              "#fdca26"
             ],
             [
              1,
              "#f0f921"
             ]
            ],
            "type": "surface"
           }
          ],
          "table": [
           {
            "cells": {
             "fill": {
              "color": "#EBF0F8"
             },
             "line": {
              "color": "white"
             }
            },
            "header": {
             "fill": {
              "color": "#C8D4E3"
             },
             "line": {
              "color": "white"
             }
            },
            "type": "table"
           }
          ]
         },
         "layout": {
          "annotationdefaults": {
           "arrowcolor": "#2a3f5f",
           "arrowhead": 0,
           "arrowwidth": 1
          },
          "autotypenumbers": "strict",
          "coloraxis": {
           "colorbar": {
            "outlinewidth": 0,
            "ticks": ""
           }
          },
          "colorscale": {
           "diverging": [
            [
             0,
             "#8e0152"
            ],
            [
             0.1,
             "#c51b7d"
            ],
            [
             0.2,
             "#de77ae"
            ],
            [
             0.3,
             "#f1b6da"
            ],
            [
             0.4,
             "#fde0ef"
            ],
            [
             0.5,
             "#f7f7f7"
            ],
            [
             0.6,
             "#e6f5d0"
            ],
            [
             0.7,
             "#b8e186"
            ],
            [
             0.8,
             "#7fbc41"
            ],
            [
             0.9,
             "#4d9221"
            ],
            [
             1,
             "#276419"
            ]
           ],
           "sequential": [
            [
             0,
             "#0d0887"
            ],
            [
             0.1111111111111111,
             "#46039f"
            ],
            [
             0.2222222222222222,
             "#7201a8"
            ],
            [
             0.3333333333333333,
             "#9c179e"
            ],
            [
             0.4444444444444444,
             "#bd3786"
            ],
            [
             0.5555555555555556,
             "#d8576b"
            ],
            [
             0.6666666666666666,
             "#ed7953"
            ],
            [
             0.7777777777777778,
             "#fb9f3a"
            ],
            [
             0.8888888888888888,
             "#fdca26"
            ],
            [
             1,
             "#f0f921"
            ]
           ],
           "sequentialminus": [
            [
             0,
             "#0d0887"
            ],
            [
             0.1111111111111111,
             "#46039f"
            ],
            [
             0.2222222222222222,
             "#7201a8"
            ],
            [
             0.3333333333333333,
             "#9c179e"
            ],
            [
             0.4444444444444444,
             "#bd3786"
            ],
            [
             0.5555555555555556,
             "#d8576b"
            ],
            [
             0.6666666666666666,
             "#ed7953"
            ],
            [
             0.7777777777777778,
             "#fb9f3a"
            ],
            [
             0.8888888888888888,
             "#fdca26"
            ],
            [
             1,
             "#f0f921"
            ]
           ]
          },
          "colorway": [
           "#636efa",
           "#EF553B",
           "#00cc96",
           "#ab63fa",
           "#FFA15A",
           "#19d3f3",
           "#FF6692",
           "#B6E880",
           "#FF97FF",
           "#FECB52"
          ],
          "font": {
           "color": "#2a3f5f"
          },
          "geo": {
           "bgcolor": "white",
           "lakecolor": "white",
           "landcolor": "#E5ECF6",
           "showlakes": true,
           "showland": true,
           "subunitcolor": "white"
          },
          "hoverlabel": {
           "align": "left"
          },
          "hovermode": "closest",
          "mapbox": {
           "style": "light"
          },
          "paper_bgcolor": "white",
          "plot_bgcolor": "#E5ECF6",
          "polar": {
           "angularaxis": {
            "gridcolor": "white",
            "linecolor": "white",
            "ticks": ""
           },
           "bgcolor": "#E5ECF6",
           "radialaxis": {
            "gridcolor": "white",
            "linecolor": "white",
            "ticks": ""
           }
          },
          "scene": {
           "xaxis": {
            "backgroundcolor": "#E5ECF6",
            "gridcolor": "white",
            "gridwidth": 2,
            "linecolor": "white",
            "showbackground": true,
            "ticks": "",
            "zerolinecolor": "white"
           },
           "yaxis": {
            "backgroundcolor": "#E5ECF6",
            "gridcolor": "white",
            "gridwidth": 2,
            "linecolor": "white",
            "showbackground": true,
            "ticks": "",
            "zerolinecolor": "white"
           },
           "zaxis": {
            "backgroundcolor": "#E5ECF6",
            "gridcolor": "white",
            "gridwidth": 2,
            "linecolor": "white",
            "showbackground": true,
            "ticks": "",
            "zerolinecolor": "white"
           }
          },
          "shapedefaults": {
           "line": {
            "color": "#2a3f5f"
           }
          },
          "ternary": {
           "aaxis": {
            "gridcolor": "white",
            "linecolor": "white",
            "ticks": ""
           },
           "baxis": {
            "gridcolor": "white",
            "linecolor": "white",
            "ticks": ""
           },
           "bgcolor": "#E5ECF6",
           "caxis": {
            "gridcolor": "white",
            "linecolor": "white",
            "ticks": ""
           }
          },
          "title": {
           "x": 0.05
          },
          "xaxis": {
           "automargin": true,
           "gridcolor": "white",
           "linecolor": "white",
           "ticks": "",
           "title": {
            "standoff": 15
           },
           "zerolinecolor": "white",
           "zerolinewidth": 2
          },
          "yaxis": {
           "automargin": true,
           "gridcolor": "white",
           "linecolor": "white",
           "ticks": "",
           "title": {
            "standoff": 15
           },
           "zerolinecolor": "white",
           "zerolinewidth": 2
          }
         }
        },
        "title": {
         "text": "Distribuição de tipo_demissao por Churn"
        },
        "xaxis": {
         "anchor": "y",
         "domain": [
          0,
          1
         ],
         "title": {
          "text": "tipo_demissao"
         }
        },
        "yaxis": {
         "anchor": "x",
         "domain": [
          0,
          1
         ],
         "title": {
          "text": "count"
         }
        }
       }
      }
     },
     "metadata": {},
     "output_type": "display_data"
    },
    {
     "data": {
      "application/vnd.plotly.v1+json": {
       "config": {
        "plotlyServerURL": "https://plot.ly"
       },
       "data": [
        {
         "alignmentgroup": "True",
         "bingroup": "x",
         "hovertemplate": "churn=0<br>cargo=%{x}<br>count=%{y}<extra></extra>",
         "legendgroup": "0",
         "marker": {
          "color": "#636efa",
          "pattern": {
           "shape": ""
          }
         },
         "name": "0",
         "offsetgroup": "0",
         "orientation": "v",
         "showlegend": true,
         "type": "histogram",
         "x": [
          "Senior Developer",
          "UX Designer",
          "Tech Lead",
          "QA Engineer",
          "Senior Developer",
          "Junior Developer",
          "DevOps Engineer",
          "DevOps Engineer",
          "QA Engineer",
          "Junior Developer",
          "DevOps Engineer",
          "DevOps Engineer",
          "DevOps Engineer",
          "Data Scientist",
          "Junior Developer",
          "UX Designer",
          "DevOps Engineer",
          "Tech Lead",
          "Junior Developer",
          "Data Scientist",
          "DevOps Engineer",
          "Junior Developer",
          "UX Designer",
          "Tech Lead",
          "Tech Lead",
          "QA Engineer",
          "Senior Developer",
          "QA Engineer",
          "UX Designer",
          "UX Designer",
          "Product Manager",
          "DevOps Engineer",
          "Junior Developer",
          "UX Designer",
          "Product Manager",
          "QA Engineer",
          "DevOps Engineer",
          "Data Scientist",
          "Junior Developer",
          "UX Designer",
          "UX Designer",
          "DevOps Engineer",
          "UX Designer",
          "Tech Lead",
          "Senior Developer",
          "Tech Lead",
          "Junior Developer",
          "Data Scientist",
          "Data Scientist",
          "QA Engineer",
          "Tech Lead",
          "Tech Lead",
          "Junior Developer",
          "Data Scientist",
          "Tech Lead",
          "Junior Developer",
          "Product Manager",
          "Junior Developer",
          "QA Engineer",
          "Product Manager",
          "Product Manager",
          "Junior Developer",
          "UX Designer",
          "QA Engineer",
          "Senior Developer",
          "DevOps Engineer",
          "Senior Developer",
          "Product Manager",
          "QA Engineer",
          "Senior Developer",
          "Junior Developer",
          "Tech Lead",
          "Senior Developer",
          "Product Manager",
          "Senior Developer",
          "UX Designer",
          "Data Scientist",
          "DevOps Engineer",
          "DevOps Engineer",
          "Junior Developer",
          "Product Manager",
          "Tech Lead",
          "Senior Developer",
          "QA Engineer",
          "Data Scientist",
          "Junior Developer",
          "Product Manager",
          "QA Engineer",
          "Junior Developer",
          "DevOps Engineer",
          "Data Scientist",
          "Senior Developer",
          "Junior Developer",
          "Product Manager",
          "QA Engineer",
          "QA Engineer",
          "Tech Lead",
          "Senior Developer",
          "QA Engineer",
          "Data Scientist",
          "UX Designer",
          "DevOps Engineer",
          "Junior Developer",
          "DevOps Engineer",
          "QA Engineer",
          "UX Designer",
          "Tech Lead",
          "DevOps Engineer",
          "Tech Lead",
          "QA Engineer",
          "Tech Lead",
          "Tech Lead",
          "Product Manager",
          "Data Scientist",
          "DevOps Engineer",
          "Senior Developer",
          "Product Manager",
          "Data Scientist",
          "Data Scientist",
          "DevOps Engineer",
          "DevOps Engineer",
          "UX Designer",
          "UX Designer",
          "Junior Developer",
          "Senior Developer",
          "UX Designer",
          "Junior Developer",
          "Data Scientist",
          "Senior Developer",
          "QA Engineer",
          "DevOps Engineer",
          "Data Scientist",
          "Tech Lead",
          "Senior Developer",
          "DevOps Engineer",
          "Tech Lead",
          "QA Engineer",
          "Data Scientist",
          "UX Designer",
          "Data Scientist",
          "Tech Lead",
          "QA Engineer",
          "QA Engineer",
          "DevOps Engineer",
          "Senior Developer",
          "Junior Developer",
          "Senior Developer",
          "QA Engineer",
          "DevOps Engineer",
          "DevOps Engineer",
          "Senior Developer",
          "QA Engineer",
          "Junior Developer",
          "DevOps Engineer",
          "Senior Developer",
          "DevOps Engineer",
          "Data Scientist",
          "Junior Developer",
          "UX Designer",
          "Junior Developer",
          "QA Engineer",
          "Product Manager",
          "Senior Developer",
          "Senior Developer",
          "Product Manager",
          "QA Engineer",
          "Senior Developer",
          "Data Scientist",
          "Junior Developer",
          "Senior Developer",
          "QA Engineer",
          "DevOps Engineer",
          "Junior Developer",
          "UX Designer",
          "Product Manager",
          "Data Scientist",
          "QA Engineer",
          "QA Engineer",
          "Data Scientist",
          "DevOps Engineer",
          "Junior Developer",
          "Data Scientist",
          "Tech Lead",
          "Product Manager",
          "QA Engineer",
          "DevOps Engineer",
          "DevOps Engineer",
          "Tech Lead",
          "Data Scientist",
          "Junior Developer",
          "Senior Developer",
          "UX Designer",
          "Junior Developer",
          "UX Designer",
          "Data Scientist",
          "QA Engineer",
          "Data Scientist",
          "Junior Developer",
          "UX Designer",
          "Data Scientist",
          "Tech Lead",
          "Product Manager",
          "QA Engineer",
          "Junior Developer",
          "DevOps Engineer",
          "DevOps Engineer",
          "QA Engineer",
          "Product Manager",
          "Senior Developer",
          "QA Engineer",
          "Data Scientist",
          "Senior Developer",
          "Junior Developer",
          "QA Engineer",
          "Product Manager",
          "UX Designer",
          "Senior Developer",
          "Tech Lead",
          "Junior Developer",
          "QA Engineer",
          "DevOps Engineer",
          "UX Designer",
          "Junior Developer",
          "DevOps Engineer",
          "Junior Developer",
          "Junior Developer",
          "DevOps Engineer",
          "Tech Lead",
          "Data Scientist",
          "Product Manager",
          "DevOps Engineer",
          "Product Manager",
          "Data Scientist",
          "DevOps Engineer",
          "Tech Lead",
          "UX Designer",
          "UX Designer",
          "Product Manager",
          "QA Engineer",
          "Senior Developer",
          "Data Scientist",
          "Senior Developer",
          "Senior Developer",
          "Tech Lead",
          "Senior Developer",
          "Junior Developer",
          "QA Engineer",
          "Data Scientist",
          "Data Scientist",
          "Product Manager",
          "DevOps Engineer",
          "Tech Lead",
          "Data Scientist",
          "Junior Developer",
          "Data Scientist",
          "Tech Lead",
          "QA Engineer",
          "Tech Lead",
          "UX Designer",
          "Tech Lead",
          "QA Engineer",
          "Tech Lead",
          "Senior Developer",
          "Product Manager",
          "DevOps Engineer",
          "Product Manager",
          "QA Engineer",
          "Data Scientist",
          "DevOps Engineer",
          "QA Engineer",
          "QA Engineer",
          "Junior Developer",
          "Product Manager",
          "Tech Lead",
          "Product Manager",
          "UX Designer",
          "DevOps Engineer",
          "DevOps Engineer",
          "QA Engineer",
          "Product Manager",
          "QA Engineer",
          "Junior Developer",
          "DevOps Engineer",
          "Junior Developer",
          "UX Designer",
          "Senior Developer",
          "Product Manager",
          "Tech Lead",
          "Tech Lead",
          "Product Manager",
          "Junior Developer",
          "Tech Lead",
          "Junior Developer",
          "Tech Lead",
          "Tech Lead",
          "UX Designer",
          "Product Manager",
          "Data Scientist",
          "Product Manager",
          "Data Scientist",
          "Senior Developer",
          "Product Manager",
          "UX Designer",
          "Tech Lead",
          "Senior Developer",
          "Tech Lead",
          "QA Engineer",
          "DevOps Engineer",
          "QA Engineer",
          "Product Manager",
          "UX Designer",
          "DevOps Engineer",
          "Data Scientist",
          "UX Designer",
          "Senior Developer",
          "Tech Lead",
          "DevOps Engineer",
          "Junior Developer",
          "Data Scientist",
          "Tech Lead",
          "Senior Developer",
          "Tech Lead",
          "Junior Developer",
          "Junior Developer",
          "Product Manager",
          "Senior Developer",
          "DevOps Engineer",
          "QA Engineer",
          "Junior Developer",
          "Senior Developer",
          "Product Manager",
          "DevOps Engineer",
          "Junior Developer",
          "DevOps Engineer",
          "UX Designer",
          "Tech Lead",
          "Junior Developer",
          "Data Scientist",
          "Tech Lead",
          "Data Scientist",
          "Tech Lead",
          "Junior Developer",
          "Tech Lead",
          "Senior Developer",
          "Data Scientist",
          "QA Engineer",
          "Tech Lead",
          "Data Scientist",
          "QA Engineer",
          "QA Engineer",
          "QA Engineer",
          "DevOps Engineer",
          "Data Scientist",
          "QA Engineer",
          "Tech Lead",
          "Senior Developer",
          "Data Scientist",
          "UX Designer",
          "UX Designer",
          "QA Engineer",
          "Product Manager",
          "Senior Developer",
          "QA Engineer",
          "DevOps Engineer",
          "DevOps Engineer",
          "DevOps Engineer",
          "Product Manager",
          "Product Manager",
          "Senior Developer",
          "Junior Developer",
          "Senior Developer",
          "DevOps Engineer",
          "Junior Developer",
          "UX Designer",
          "Data Scientist",
          "UX Designer",
          "Data Scientist",
          "Tech Lead",
          "Product Manager",
          "QA Engineer",
          "Junior Developer",
          "Junior Developer",
          "QA Engineer",
          "UX Designer",
          "DevOps Engineer",
          "DevOps Engineer",
          "Data Scientist",
          "Product Manager",
          "Data Scientist",
          "Product Manager",
          "DevOps Engineer",
          "Tech Lead",
          "DevOps Engineer",
          "DevOps Engineer",
          "Senior Developer",
          "QA Engineer",
          "Senior Developer",
          "QA Engineer",
          "UX Designer",
          "UX Designer",
          "DevOps Engineer",
          "Data Scientist",
          "UX Designer",
          "QA Engineer",
          "Senior Developer",
          "Junior Developer",
          "Tech Lead",
          "Junior Developer",
          "Senior Developer",
          "Senior Developer",
          "Tech Lead",
          "UX Designer",
          "Product Manager",
          "DevOps Engineer",
          "DevOps Engineer",
          "Tech Lead",
          "Tech Lead",
          "Tech Lead",
          "QA Engineer",
          "Junior Developer",
          "QA Engineer",
          "Tech Lead",
          "Product Manager",
          "QA Engineer",
          "Data Scientist",
          "Junior Developer",
          "DevOps Engineer",
          "Product Manager",
          "UX Designer",
          "QA Engineer",
          "Tech Lead",
          "DevOps Engineer",
          "Tech Lead",
          "Tech Lead",
          "UX Designer",
          "DevOps Engineer",
          "Product Manager",
          "Tech Lead",
          "Junior Developer",
          "Product Manager",
          "Product Manager",
          "Junior Developer",
          "Senior Developer",
          "Product Manager",
          "Data Scientist",
          "Product Manager",
          "Tech Lead",
          "Product Manager",
          "QA Engineer",
          "Junior Developer",
          "Junior Developer",
          "Product Manager",
          "QA Engineer",
          "QA Engineer",
          "Senior Developer",
          "UX Designer",
          "UX Designer",
          "Senior Developer",
          "Product Manager",
          "Junior Developer",
          "QA Engineer",
          "Tech Lead",
          "Product Manager",
          "UX Designer",
          "QA Engineer",
          "Junior Developer",
          "QA Engineer",
          "QA Engineer",
          "Junior Developer",
          "Tech Lead",
          "UX Designer",
          "QA Engineer",
          "Tech Lead",
          "Product Manager",
          "DevOps Engineer",
          "UX Designer",
          "DevOps Engineer",
          "Senior Developer",
          "Junior Developer",
          "UX Designer",
          "Senior Developer",
          "Junior Developer",
          "Data Scientist",
          "Senior Developer",
          "QA Engineer",
          "Data Scientist",
          "Tech Lead",
          "Tech Lead",
          "Tech Lead",
          "UX Designer",
          "Product Manager",
          "Junior Developer",
          "Data Scientist",
          "UX Designer",
          "QA Engineer",
          "DevOps Engineer",
          "QA Engineer",
          "UX Designer",
          "Tech Lead",
          "QA Engineer",
          "Senior Developer",
          "Tech Lead",
          "Senior Developer",
          "QA Engineer",
          "UX Designer",
          "DevOps Engineer",
          "Junior Developer",
          "DevOps Engineer",
          "DevOps Engineer",
          "Tech Lead",
          "DevOps Engineer",
          "Data Scientist",
          "Senior Developer",
          "Product Manager",
          "DevOps Engineer",
          "Senior Developer",
          "Tech Lead",
          "Junior Developer",
          "UX Designer",
          "Senior Developer",
          "UX Designer",
          "Junior Developer",
          "Senior Developer",
          "Tech Lead",
          "Data Scientist",
          "QA Engineer",
          "Tech Lead",
          "Senior Developer",
          "QA Engineer",
          "QA Engineer",
          "DevOps Engineer",
          "Product Manager",
          "Data Scientist",
          "UX Designer",
          "Junior Developer",
          "Senior Developer",
          "UX Designer",
          "Product Manager",
          "DevOps Engineer",
          "Senior Developer",
          "Junior Developer",
          "DevOps Engineer",
          "DevOps Engineer",
          "Junior Developer",
          "Product Manager",
          "QA Engineer",
          "QA Engineer",
          "Junior Developer",
          "Junior Developer",
          "Senior Developer",
          "Senior Developer",
          "QA Engineer",
          "QA Engineer",
          "Product Manager",
          "Product Manager",
          "Senior Developer",
          "Product Manager",
          "Product Manager",
          "QA Engineer",
          "UX Designer",
          "QA Engineer",
          "Senior Developer",
          "QA Engineer",
          "Data Scientist",
          "DevOps Engineer",
          "QA Engineer",
          "Junior Developer",
          "Data Scientist",
          "QA Engineer",
          "Junior Developer",
          "Tech Lead",
          "Senior Developer",
          "UX Designer",
          "Senior Developer",
          "Tech Lead",
          "Product Manager",
          "Data Scientist",
          "UX Designer",
          "Junior Developer",
          "Data Scientist",
          "DevOps Engineer",
          "QA Engineer",
          "DevOps Engineer",
          "Product Manager",
          "DevOps Engineer",
          "Product Manager",
          "UX Designer",
          "Senior Developer",
          "Data Scientist",
          "Product Manager",
          "QA Engineer",
          "Tech Lead",
          "Data Scientist",
          "UX Designer",
          "QA Engineer",
          "Product Manager",
          "UX Designer",
          "Data Scientist",
          "Data Scientist",
          "Junior Developer",
          "UX Designer",
          "Tech Lead",
          "UX Designer",
          "UX Designer",
          "Senior Developer",
          "DevOps Engineer",
          "UX Designer",
          "Product Manager",
          "UX Designer",
          "DevOps Engineer",
          "UX Designer",
          "Tech Lead",
          "Product Manager",
          "DevOps Engineer",
          "UX Designer",
          "Tech Lead",
          "Junior Developer",
          "Tech Lead",
          "Data Scientist",
          "Tech Lead",
          "UX Designer",
          "Product Manager",
          "Tech Lead",
          "QA Engineer",
          "Data Scientist",
          "Product Manager",
          "DevOps Engineer",
          "Junior Developer",
          "Senior Developer",
          "QA Engineer",
          "Data Scientist",
          "UX Designer",
          "Junior Developer",
          "Tech Lead",
          "Tech Lead",
          "Product Manager",
          "Junior Developer",
          "Product Manager",
          "QA Engineer",
          "Product Manager",
          "Product Manager",
          "DevOps Engineer",
          "QA Engineer",
          "Junior Developer",
          "Senior Developer",
          "Junior Developer",
          "Tech Lead",
          "DevOps Engineer",
          "QA Engineer",
          "DevOps Engineer",
          "DevOps Engineer",
          "Senior Developer",
          "DevOps Engineer",
          "Senior Developer",
          "Junior Developer",
          "DevOps Engineer",
          "Product Manager",
          "UX Designer",
          "DevOps Engineer",
          "UX Designer",
          "Senior Developer",
          "Data Scientist",
          "DevOps Engineer",
          "DevOps Engineer",
          "Senior Developer",
          "Junior Developer",
          "Product Manager",
          "QA Engineer",
          "Junior Developer",
          "DevOps Engineer",
          "Junior Developer",
          "Tech Lead",
          "Junior Developer",
          "DevOps Engineer",
          "UX Designer",
          "DevOps Engineer",
          "Product Manager",
          "Data Scientist",
          "Senior Developer",
          "Junior Developer",
          "Product Manager",
          "Data Scientist",
          "Senior Developer",
          "DevOps Engineer",
          "Product Manager",
          "DevOps Engineer",
          "Data Scientist",
          "Product Manager",
          "Data Scientist",
          "Product Manager",
          "Junior Developer",
          "UX Designer",
          "Junior Developer",
          "Product Manager",
          "QA Engineer",
          "DevOps Engineer",
          "Tech Lead",
          "UX Designer",
          "DevOps Engineer",
          "DevOps Engineer",
          "Junior Developer",
          "Data Scientist",
          "Data Scientist",
          "Data Scientist",
          "Senior Developer",
          "QA Engineer",
          "Senior Developer",
          "Senior Developer",
          "Product Manager",
          "Junior Developer",
          "Senior Developer",
          "Data Scientist",
          "Tech Lead",
          "QA Engineer",
          "QA Engineer",
          "Product Manager",
          "Data Scientist",
          "Junior Developer",
          "Senior Developer",
          "QA Engineer",
          "DevOps Engineer",
          "QA Engineer",
          "QA Engineer",
          "Junior Developer",
          "Tech Lead",
          "DevOps Engineer",
          "UX Designer",
          "Tech Lead",
          "DevOps Engineer",
          "QA Engineer",
          "Tech Lead",
          "Junior Developer",
          "QA Engineer",
          "Junior Developer",
          "QA Engineer",
          "Senior Developer",
          "Tech Lead",
          "UX Designer",
          "Tech Lead",
          "Data Scientist",
          "Product Manager",
          "Tech Lead",
          "QA Engineer",
          "UX Designer",
          "DevOps Engineer",
          "Junior Developer",
          "Senior Developer",
          "Junior Developer",
          "Product Manager",
          "Data Scientist",
          "Junior Developer",
          "QA Engineer",
          "QA Engineer",
          "Product Manager",
          "QA Engineer",
          "Data Scientist",
          "Data Scientist",
          "Senior Developer",
          "Senior Developer",
          "Data Scientist",
          "Junior Developer",
          "Senior Developer",
          "Tech Lead",
          "Senior Developer",
          "DevOps Engineer",
          "Product Manager",
          "Tech Lead",
          "DevOps Engineer",
          "Product Manager",
          "Junior Developer",
          "UX Designer",
          "Tech Lead",
          "UX Designer",
          "Product Manager",
          "Tech Lead",
          "Junior Developer",
          "Product Manager",
          "Tech Lead",
          "Product Manager",
          "QA Engineer",
          "Product Manager",
          "Data Scientist",
          "Junior Developer",
          "Product Manager",
          "Tech Lead",
          "UX Designer",
          "Data Scientist",
          "QA Engineer",
          "UX Designer",
          "Senior Developer",
          "Tech Lead",
          "Product Manager",
          "Data Scientist",
          "Data Scientist",
          "Senior Developer",
          "UX Designer",
          "UX Designer",
          "QA Engineer",
          "QA Engineer",
          "Senior Developer",
          "Product Manager",
          "Senior Developer",
          "UX Designer",
          "DevOps Engineer",
          "QA Engineer",
          "Product Manager",
          "Junior Developer",
          "Product Manager",
          "Junior Developer",
          "Tech Lead",
          "Tech Lead",
          "UX Designer",
          "Data Scientist",
          "DevOps Engineer",
          "Junior Developer",
          "Data Scientist",
          "UX Designer",
          "QA Engineer",
          "Data Scientist",
          "QA Engineer",
          "Senior Developer",
          "Junior Developer",
          "Product Manager",
          "Data Scientist",
          "Tech Lead",
          "QA Engineer",
          "Data Scientist",
          "Data Scientist",
          "Tech Lead",
          "Senior Developer",
          "Product Manager",
          "QA Engineer",
          "QA Engineer",
          "DevOps Engineer",
          "UX Designer",
          "Tech Lead",
          "Junior Developer",
          "Junior Developer",
          "DevOps Engineer",
          "Tech Lead",
          "UX Designer",
          "Tech Lead",
          "Tech Lead",
          "Tech Lead",
          "Senior Developer",
          "Senior Developer",
          "Product Manager",
          "Senior Developer",
          "DevOps Engineer",
          "Tech Lead",
          "QA Engineer",
          "Data Scientist",
          "UX Designer",
          "Data Scientist",
          "UX Designer",
          "Senior Developer",
          "QA Engineer",
          "Junior Developer",
          "Product Manager",
          "Junior Developer",
          "Product Manager",
          "Product Manager",
          "Tech Lead",
          "Data Scientist",
          "Tech Lead",
          "Product Manager",
          "Product Manager",
          "DevOps Engineer",
          "UX Designer",
          "Senior Developer",
          "Senior Developer",
          "Tech Lead",
          "Product Manager",
          "Junior Developer",
          "Senior Developer",
          "Data Scientist",
          "Product Manager",
          "Junior Developer",
          "QA Engineer",
          "Product Manager",
          "DevOps Engineer",
          "Junior Developer",
          "DevOps Engineer",
          "Data Scientist",
          "Product Manager",
          "Product Manager",
          "UX Designer",
          "DevOps Engineer",
          "QA Engineer",
          "Data Scientist",
          "Data Scientist",
          "Data Scientist",
          "UX Designer",
          "Product Manager",
          "UX Designer",
          "Senior Developer",
          "Product Manager",
          "Product Manager",
          "Tech Lead",
          "Product Manager",
          "QA Engineer",
          "Tech Lead",
          "DevOps Engineer",
          "UX Designer",
          "Tech Lead",
          "QA Engineer",
          "Product Manager",
          "Junior Developer",
          "Senior Developer",
          "Junior Developer",
          "Junior Developer",
          "Junior Developer",
          "Tech Lead",
          "Product Manager",
          "Product Manager",
          "Senior Developer",
          "Tech Lead",
          "DevOps Engineer",
          "Tech Lead",
          "Product Manager",
          "Product Manager",
          "Junior Developer",
          "Tech Lead",
          "Senior Developer",
          "UX Designer",
          "Data Scientist",
          "Data Scientist",
          "UX Designer",
          "Tech Lead",
          "Data Scientist",
          "Data Scientist",
          "DevOps Engineer",
          "Product Manager",
          "Data Scientist",
          "Junior Developer",
          "UX Designer",
          "Tech Lead",
          "Junior Developer",
          "Junior Developer",
          "Junior Developer",
          "Product Manager",
          "Junior Developer",
          "UX Designer",
          "UX Designer",
          "UX Designer",
          "Senior Developer",
          "DevOps Engineer",
          "Data Scientist",
          "QA Engineer",
          "QA Engineer",
          "DevOps Engineer",
          "Tech Lead",
          "Junior Developer",
          "QA Engineer",
          "Senior Developer",
          "DevOps Engineer",
          "Data Scientist",
          "Data Scientist",
          "Junior Developer",
          "Tech Lead",
          "Tech Lead",
          "DevOps Engineer",
          "Data Scientist",
          "Tech Lead",
          "Senior Developer",
          "QA Engineer",
          "DevOps Engineer",
          "Data Scientist",
          "UX Designer",
          "Junior Developer",
          "QA Engineer",
          "DevOps Engineer",
          "Tech Lead",
          "Junior Developer",
          "QA Engineer",
          "Tech Lead",
          "QA Engineer",
          "Tech Lead",
          "QA Engineer",
          "DevOps Engineer",
          "Junior Developer",
          "Tech Lead",
          "Data Scientist",
          "UX Designer",
          "DevOps Engineer",
          "DevOps Engineer",
          "Junior Developer",
          "QA Engineer",
          "Data Scientist",
          "Product Manager",
          "DevOps Engineer",
          "DevOps Engineer",
          "QA Engineer",
          "Tech Lead",
          "Junior Developer",
          "Data Scientist",
          "QA Engineer",
          "QA Engineer",
          "Senior Developer",
          "Tech Lead",
          "Data Scientist",
          "Senior Developer",
          "Tech Lead",
          "Senior Developer",
          "Product Manager",
          "Senior Developer",
          "Junior Developer",
          "Product Manager",
          "UX Designer",
          "Tech Lead",
          "Product Manager",
          "Data Scientist",
          "QA Engineer",
          "Product Manager",
          "QA Engineer",
          "Product Manager",
          "Tech Lead",
          "DevOps Engineer",
          "DevOps Engineer",
          "Tech Lead",
          "Product Manager",
          "DevOps Engineer",
          "Junior Developer",
          "Tech Lead",
          "UX Designer",
          "Product Manager",
          "Product Manager",
          "UX Designer",
          "Data Scientist",
          "Data Scientist",
          "Senior Developer",
          "Product Manager",
          "QA Engineer",
          "QA Engineer",
          "QA Engineer",
          "Data Scientist",
          "Tech Lead",
          "Junior Developer",
          "Product Manager",
          "UX Designer",
          "UX Designer",
          "DevOps Engineer",
          "QA Engineer",
          "DevOps Engineer",
          "Senior Developer",
          "Data Scientist",
          "Junior Developer",
          "UX Designer",
          "Tech Lead",
          "Junior Developer",
          "Product Manager",
          "DevOps Engineer",
          "Junior Developer",
          "Product Manager",
          "Senior Developer",
          "Junior Developer",
          "Product Manager",
          "Data Scientist",
          "Senior Developer",
          "Junior Developer",
          "UX Designer",
          "Data Scientist",
          "Product Manager",
          "Junior Developer",
          "QA Engineer",
          "Junior Developer",
          "QA Engineer",
          "Data Scientist",
          "Junior Developer",
          "Tech Lead",
          "Product Manager",
          "QA Engineer",
          "QA Engineer",
          "Senior Developer",
          "Senior Developer",
          "Data Scientist",
          "Product Manager",
          "DevOps Engineer",
          "Product Manager",
          "Data Scientist",
          "Senior Developer",
          "QA Engineer",
          "QA Engineer",
          "Data Scientist",
          "UX Designer",
          "DevOps Engineer",
          "Data Scientist",
          "QA Engineer",
          "UX Designer",
          "Senior Developer",
          "Tech Lead",
          "UX Designer",
          "Tech Lead",
          "Senior Developer",
          "Junior Developer",
          "QA Engineer",
          "Data Scientist",
          "Senior Developer",
          "Junior Developer",
          "Junior Developer",
          "Senior Developer",
          "Product Manager",
          "Tech Lead",
          "Junior Developer",
          "DevOps Engineer",
          "Senior Developer",
          "QA Engineer",
          "Product Manager",
          "UX Designer",
          "Junior Developer",
          "Product Manager",
          "QA Engineer",
          "Product Manager",
          "Data Scientist",
          "QA Engineer",
          "Product Manager",
          "DevOps Engineer",
          "UX Designer",
          "Junior Developer",
          "Junior Developer",
          "Tech Lead",
          "QA Engineer",
          "Tech Lead",
          "Data Scientist",
          "QA Engineer",
          "Tech Lead",
          "QA Engineer",
          "Junior Developer",
          "Data Scientist",
          "Data Scientist",
          "Senior Developer",
          "Product Manager",
          "Product Manager",
          "UX Designer",
          "Data Scientist",
          "DevOps Engineer",
          "Senior Developer",
          "DevOps Engineer",
          "Senior Developer",
          "UX Designer",
          "Senior Developer",
          "Senior Developer",
          "Senior Developer",
          "QA Engineer",
          "Junior Developer",
          "Data Scientist",
          "QA Engineer",
          "Product Manager",
          "Data Scientist",
          "DevOps Engineer",
          "UX Designer",
          "UX Designer",
          "Junior Developer",
          "Product Manager",
          "QA Engineer",
          "DevOps Engineer",
          "Junior Developer",
          "Senior Developer",
          "QA Engineer",
          "Junior Developer",
          "Product Manager",
          "Senior Developer",
          "Junior Developer",
          "Tech Lead",
          "Product Manager",
          "Tech Lead",
          "Product Manager",
          "Data Scientist",
          "Senior Developer",
          "Product Manager",
          "Tech Lead",
          "Junior Developer",
          "Junior Developer",
          "UX Designer",
          "Tech Lead",
          "Tech Lead",
          "DevOps Engineer",
          "Tech Lead",
          "QA Engineer",
          "UX Designer",
          "Data Scientist",
          "DevOps Engineer",
          "Junior Developer",
          "Data Scientist",
          "Senior Developer",
          "Data Scientist",
          "Product Manager",
          "Tech Lead",
          "DevOps Engineer",
          "Data Scientist",
          "Senior Developer",
          "Data Scientist",
          "Product Manager",
          "Data Scientist",
          "Product Manager",
          "Data Scientist",
          "Junior Developer",
          "Tech Lead",
          "QA Engineer",
          "Data Scientist",
          "Data Scientist",
          "UX Designer",
          "UX Designer",
          "QA Engineer",
          "QA Engineer",
          "Junior Developer",
          "Product Manager",
          "DevOps Engineer",
          "Senior Developer",
          "Data Scientist",
          "Product Manager",
          "DevOps Engineer",
          "QA Engineer",
          "UX Designer",
          "DevOps Engineer",
          "DevOps Engineer",
          "Data Scientist",
          "Data Scientist",
          "Data Scientist",
          "QA Engineer",
          "Tech Lead",
          "UX Designer",
          "Junior Developer",
          "Junior Developer",
          "Tech Lead",
          "Senior Developer",
          "DevOps Engineer",
          "Junior Developer",
          "Senior Developer",
          "Senior Developer",
          "Data Scientist",
          "Product Manager",
          "Senior Developer",
          "QA Engineer",
          "DevOps Engineer",
          "Product Manager",
          "Junior Developer",
          "Product Manager",
          "Tech Lead",
          "QA Engineer",
          "Senior Developer",
          "UX Designer",
          "Junior Developer",
          "DevOps Engineer",
          "Senior Developer",
          "Data Scientist",
          "Product Manager",
          "Senior Developer",
          "Junior Developer",
          "UX Designer",
          "UX Designer",
          "Senior Developer",
          "DevOps Engineer",
          "Senior Developer",
          "Data Scientist",
          "UX Designer",
          "Data Scientist",
          "Tech Lead",
          "Tech Lead",
          "DevOps Engineer",
          "DevOps Engineer",
          "Product Manager",
          "Junior Developer",
          "Data Scientist",
          "QA Engineer",
          "Tech Lead",
          "QA Engineer",
          "QA Engineer",
          "QA Engineer",
          "Data Scientist",
          "QA Engineer",
          "Junior Developer",
          "Product Manager",
          "Senior Developer",
          "Product Manager",
          "Data Scientist",
          "Tech Lead",
          "Senior Developer",
          "Junior Developer",
          "Product Manager",
          "Tech Lead",
          "DevOps Engineer",
          "Data Scientist",
          "Senior Developer",
          "Senior Developer",
          "Product Manager",
          "Tech Lead",
          "DevOps Engineer",
          "QA Engineer",
          "UX Designer",
          "UX Designer",
          "Senior Developer",
          "Data Scientist",
          "Junior Developer",
          "DevOps Engineer",
          "Data Scientist",
          "Junior Developer",
          "Tech Lead",
          "DevOps Engineer",
          "Product Manager",
          "UX Designer",
          "DevOps Engineer",
          "Senior Developer",
          "Data Scientist",
          "Tech Lead",
          "UX Designer",
          "Product Manager",
          "Junior Developer",
          "Senior Developer",
          "QA Engineer",
          "Junior Developer",
          "Senior Developer",
          "Tech Lead",
          "Product Manager",
          "Product Manager",
          "Senior Developer",
          "Product Manager",
          "Junior Developer",
          "Senior Developer",
          "Data Scientist",
          "Tech Lead",
          "Product Manager",
          "Data Scientist",
          "DevOps Engineer",
          "QA Engineer",
          "DevOps Engineer",
          "Tech Lead",
          "DevOps Engineer",
          "UX Designer",
          "Tech Lead",
          "QA Engineer",
          "Tech Lead",
          "UX Designer",
          "Product Manager",
          "Tech Lead",
          "DevOps Engineer",
          "Tech Lead",
          "Tech Lead",
          "QA Engineer",
          "Senior Developer",
          "Senior Developer",
          "Senior Developer",
          "QA Engineer",
          "UX Designer",
          "UX Designer",
          "Product Manager",
          "Junior Developer",
          "Junior Developer",
          "Junior Developer",
          "UX Designer",
          "QA Engineer",
          "Senior Developer",
          "Product Manager",
          "DevOps Engineer",
          "QA Engineer",
          "Tech Lead",
          "UX Designer",
          "QA Engineer",
          "Data Scientist",
          "UX Designer",
          "Data Scientist",
          "Tech Lead",
          "Junior Developer",
          "Data Scientist",
          "UX Designer",
          "Product Manager",
          "Tech Lead",
          "Junior Developer",
          "DevOps Engineer",
          "DevOps Engineer",
          "UX Designer",
          "DevOps Engineer",
          "QA Engineer",
          "Product Manager",
          "Tech Lead",
          "Data Scientist",
          "QA Engineer",
          "UX Designer",
          "Senior Developer",
          "Tech Lead",
          "Junior Developer",
          "Senior Developer",
          "Junior Developer",
          "Junior Developer",
          "Data Scientist",
          "Tech Lead",
          "Product Manager",
          "Data Scientist",
          "Junior Developer",
          "Data Scientist",
          "Product Manager",
          "UX Designer",
          "DevOps Engineer",
          "DevOps Engineer",
          "Tech Lead",
          "UX Designer",
          "Senior Developer",
          "Junior Developer",
          "QA Engineer",
          "Senior Developer",
          "Junior Developer",
          "DevOps Engineer",
          "QA Engineer",
          "DevOps Engineer",
          "Tech Lead",
          "Tech Lead",
          "Junior Developer",
          "Junior Developer",
          "Senior Developer",
          "Data Scientist",
          "QA Engineer",
          "Tech Lead",
          "DevOps Engineer",
          "Junior Developer",
          "Tech Lead",
          "QA Engineer",
          "Product Manager",
          "UX Designer",
          "QA Engineer",
          "DevOps Engineer",
          "Junior Developer",
          "Data Scientist",
          "DevOps Engineer",
          "Junior Developer",
          "QA Engineer",
          "DevOps Engineer",
          "Junior Developer",
          "Senior Developer",
          "Senior Developer",
          "Senior Developer",
          "Senior Developer",
          "UX Designer",
          "Tech Lead",
          "Product Manager",
          "Junior Developer",
          "Data Scientist",
          "Senior Developer",
          "Tech Lead",
          "Junior Developer",
          "Data Scientist",
          "Senior Developer",
          "Data Scientist",
          "Product Manager",
          "UX Designer",
          "Junior Developer",
          "DevOps Engineer",
          "UX Designer",
          "Data Scientist",
          "UX Designer",
          "Junior Developer",
          "Senior Developer",
          "Tech Lead",
          "Data Scientist",
          "QA Engineer",
          "Junior Developer",
          "Tech Lead",
          "Data Scientist",
          "Data Scientist",
          "QA Engineer",
          "Data Scientist",
          "Data Scientist",
          "QA Engineer",
          "Junior Developer",
          "Tech Lead",
          "Data Scientist",
          "Senior Developer",
          "Data Scientist",
          "QA Engineer",
          "UX Designer",
          "DevOps Engineer",
          "Data Scientist",
          "Senior Developer",
          "Junior Developer",
          "Product Manager",
          "Junior Developer",
          "Product Manager",
          "UX Designer",
          "Junior Developer",
          "Junior Developer",
          "QA Engineer",
          "Junior Developer",
          "Product Manager",
          "Product Manager",
          "DevOps Engineer",
          "Junior Developer",
          "Senior Developer",
          "QA Engineer",
          "QA Engineer",
          "DevOps Engineer",
          "Product Manager",
          "Product Manager",
          "Senior Developer",
          "Junior Developer",
          "Product Manager",
          "DevOps Engineer",
          "Tech Lead",
          "Junior Developer",
          "DevOps Engineer",
          "Tech Lead",
          "Data Scientist",
          "Junior Developer",
          "QA Engineer",
          "Data Scientist",
          "Junior Developer",
          "UX Designer",
          "Tech Lead",
          "QA Engineer",
          "Data Scientist",
          "Tech Lead",
          "Junior Developer",
          "Data Scientist",
          "DevOps Engineer",
          "QA Engineer",
          "DevOps Engineer",
          "DevOps Engineer",
          "DevOps Engineer",
          "Data Scientist",
          "QA Engineer",
          "DevOps Engineer",
          "Product Manager",
          "Product Manager",
          "Junior Developer",
          "Senior Developer",
          "Senior Developer",
          "Data Scientist",
          "QA Engineer",
          "Product Manager",
          "Product Manager",
          "Senior Developer",
          "QA Engineer",
          "Data Scientist",
          "QA Engineer",
          "DevOps Engineer",
          "Data Scientist",
          "DevOps Engineer",
          "Product Manager",
          "Data Scientist",
          "QA Engineer",
          "Junior Developer",
          "Product Manager",
          "Product Manager",
          "Product Manager",
          "Senior Developer",
          "Junior Developer",
          "Tech Lead",
          "DevOps Engineer",
          "Data Scientist",
          "UX Designer",
          "Senior Developer",
          "Data Scientist",
          "QA Engineer",
          "Junior Developer",
          "Senior Developer",
          "Data Scientist",
          "Product Manager",
          "Junior Developer",
          "Junior Developer",
          "Data Scientist",
          "UX Designer",
          "QA Engineer",
          "Data Scientist",
          "Junior Developer",
          "Tech Lead",
          "Junior Developer",
          "Product Manager",
          "Data Scientist",
          "Tech Lead",
          "Data Scientist",
          "Data Scientist",
          "Junior Developer",
          "DevOps Engineer",
          "Tech Lead",
          "UX Designer",
          "Product Manager",
          "DevOps Engineer",
          "Product Manager",
          "Data Scientist",
          "UX Designer",
          "Product Manager",
          "DevOps Engineer",
          "Product Manager",
          "Junior Developer",
          "UX Designer",
          "Product Manager",
          "Product Manager",
          "Tech Lead",
          "DevOps Engineer",
          "UX Designer",
          "Senior Developer",
          "DevOps Engineer",
          "DevOps Engineer",
          "Senior Developer",
          "Product Manager",
          "DevOps Engineer",
          "DevOps Engineer",
          "DevOps Engineer",
          "Junior Developer",
          "UX Designer",
          "QA Engineer",
          "Product Manager",
          "Data Scientist",
          "Product Manager",
          "Data Scientist",
          "UX Designer",
          "QA Engineer",
          "Product Manager",
          "QA Engineer",
          "Tech Lead",
          "DevOps Engineer",
          "DevOps Engineer",
          "UX Designer",
          "Tech Lead",
          "Data Scientist",
          "Product Manager",
          "Product Manager",
          "UX Designer",
          "Senior Developer",
          "DevOps Engineer",
          "Tech Lead",
          "Junior Developer",
          "Tech Lead",
          "Data Scientist",
          "UX Designer",
          "Senior Developer",
          "QA Engineer",
          "UX Designer",
          "Senior Developer",
          "Tech Lead",
          "UX Designer",
          "DevOps Engineer",
          "Data Scientist",
          "DevOps Engineer",
          "DevOps Engineer",
          "Data Scientist",
          "UX Designer",
          "Product Manager",
          "QA Engineer",
          "Senior Developer",
          "UX Designer",
          "UX Designer",
          "Product Manager",
          "QA Engineer",
          "Senior Developer",
          "Tech Lead",
          "Data Scientist",
          "Data Scientist",
          "Junior Developer",
          "Product Manager",
          "QA Engineer",
          "Data Scientist",
          "DevOps Engineer",
          "Senior Developer",
          "UX Designer",
          "Tech Lead",
          "Product Manager",
          "Junior Developer",
          "DevOps Engineer",
          "UX Designer",
          "Senior Developer",
          "DevOps Engineer",
          "Junior Developer",
          "Tech Lead",
          "Data Scientist",
          "Junior Developer",
          "DevOps Engineer",
          "DevOps Engineer",
          "Junior Developer",
          "UX Designer",
          "Data Scientist",
          "Product Manager",
          "Junior Developer",
          "Product Manager",
          "UX Designer",
          "QA Engineer",
          "Junior Developer",
          "Tech Lead",
          "Junior Developer",
          "QA Engineer",
          "Product Manager",
          "Tech Lead",
          "Senior Developer",
          "Senior Developer",
          "Data Scientist",
          "Junior Developer",
          "Data Scientist",
          "Data Scientist",
          "Tech Lead",
          "DevOps Engineer",
          "Data Scientist",
          "Data Scientist",
          "UX Designer",
          "DevOps Engineer",
          "Tech Lead",
          "Data Scientist",
          "DevOps Engineer",
          "QA Engineer",
          "Tech Lead",
          "UX Designer",
          "Tech Lead",
          "Data Scientist",
          "Tech Lead",
          "Senior Developer",
          "Tech Lead",
          "Tech Lead",
          "QA Engineer",
          "Product Manager",
          "QA Engineer",
          "Tech Lead",
          "Product Manager",
          "Product Manager",
          "QA Engineer",
          "Senior Developer",
          "QA Engineer",
          "QA Engineer"
         ],
         "xaxis": "x",
         "yaxis": "y"
        },
        {
         "alignmentgroup": "True",
         "bingroup": "x",
         "hovertemplate": "churn=1<br>cargo=%{x}<br>count=%{y}<extra></extra>",
         "legendgroup": "1",
         "marker": {
          "color": "#EF553B",
          "pattern": {
           "shape": ""
          }
         },
         "name": "1",
         "offsetgroup": "1",
         "orientation": "v",
         "showlegend": true,
         "type": "histogram",
         "x": [
          "Product Manager",
          "Junior Developer",
          "UX Designer",
          "Senior Developer",
          "Product Manager",
          "Senior Developer",
          "QA Engineer",
          "Data Scientist",
          "QA Engineer",
          "Junior Developer",
          "UX Designer",
          "Senior Developer",
          "UX Designer",
          "Product Manager",
          "Senior Developer",
          "Senior Developer",
          "DevOps Engineer",
          "Data Scientist",
          "Tech Lead",
          "DevOps Engineer",
          "Junior Developer",
          "QA Engineer",
          "Junior Developer",
          "Junior Developer",
          "Product Manager",
          "Senior Developer",
          "DevOps Engineer",
          "Tech Lead",
          "Product Manager",
          "Senior Developer",
          "Tech Lead",
          "UX Designer",
          "QA Engineer",
          "Product Manager",
          "QA Engineer",
          "Product Manager",
          "Tech Lead",
          "Data Scientist",
          "Junior Developer",
          "Data Scientist",
          "Tech Lead",
          "QA Engineer",
          "Product Manager",
          "UX Designer",
          "Data Scientist",
          "Product Manager",
          "Data Scientist",
          "Product Manager",
          "Junior Developer",
          "Senior Developer",
          "Product Manager",
          "UX Designer",
          "Tech Lead",
          "QA Engineer",
          "Data Scientist",
          "Data Scientist",
          "Junior Developer",
          "Junior Developer",
          "UX Designer",
          "Data Scientist",
          "QA Engineer",
          "UX Designer",
          "Tech Lead",
          "Product Manager",
          "Data Scientist",
          "DevOps Engineer",
          "Data Scientist",
          "UX Designer",
          "UX Designer",
          "Tech Lead",
          "UX Designer",
          "Tech Lead",
          "UX Designer",
          "Product Manager",
          "Product Manager",
          "DevOps Engineer",
          "Data Scientist",
          "Junior Developer",
          "QA Engineer",
          "Data Scientist",
          "QA Engineer",
          "Tech Lead",
          "UX Designer",
          "UX Designer",
          "Product Manager",
          "Product Manager",
          "Senior Developer",
          "UX Designer",
          "DevOps Engineer",
          "QA Engineer",
          "Product Manager",
          "UX Designer",
          "UX Designer",
          "DevOps Engineer",
          "Junior Developer",
          "Product Manager",
          "Senior Developer",
          "UX Designer",
          "Senior Developer",
          "Senior Developer",
          "UX Designer",
          "Product Manager",
          "DevOps Engineer",
          "DevOps Engineer",
          "Senior Developer",
          "QA Engineer",
          "Tech Lead",
          "Senior Developer",
          "QA Engineer",
          "Tech Lead",
          "DevOps Engineer",
          "DevOps Engineer",
          "Data Scientist",
          "Product Manager",
          "UX Designer",
          "Senior Developer",
          "Junior Developer",
          "Senior Developer",
          "Data Scientist",
          "QA Engineer",
          "QA Engineer",
          "Product Manager",
          "Senior Developer",
          "DevOps Engineer",
          "Senior Developer",
          "QA Engineer",
          "Product Manager",
          "DevOps Engineer",
          "DevOps Engineer",
          "UX Designer",
          "Product Manager",
          "UX Designer",
          "Product Manager",
          "Data Scientist",
          "UX Designer",
          "Junior Developer",
          "Tech Lead",
          "Data Scientist",
          "Tech Lead",
          "QA Engineer",
          "DevOps Engineer",
          "DevOps Engineer",
          "Tech Lead",
          "DevOps Engineer",
          "Junior Developer",
          "UX Designer",
          "Tech Lead",
          "Senior Developer",
          "QA Engineer",
          "Junior Developer",
          "UX Designer",
          "DevOps Engineer",
          "DevOps Engineer",
          "Tech Lead",
          "Junior Developer",
          "DevOps Engineer",
          "QA Engineer",
          "Tech Lead",
          "QA Engineer",
          "Junior Developer",
          "DevOps Engineer",
          "Junior Developer",
          "UX Designer",
          "Data Scientist",
          "Data Scientist",
          "Senior Developer",
          "UX Designer",
          "Data Scientist",
          "QA Engineer",
          "Junior Developer",
          "Product Manager",
          "QA Engineer",
          "Junior Developer",
          "DevOps Engineer",
          "Senior Developer",
          "Junior Developer",
          "UX Designer",
          "Data Scientist",
          "QA Engineer",
          "Junior Developer",
          "QA Engineer",
          "DevOps Engineer",
          "Product Manager",
          "Junior Developer",
          "Senior Developer",
          "UX Designer",
          "Junior Developer",
          "QA Engineer",
          "Junior Developer",
          "Data Scientist",
          "Senior Developer",
          "Product Manager",
          "Senior Developer",
          "Senior Developer",
          "UX Designer",
          "Senior Developer",
          "QA Engineer",
          "Junior Developer",
          "Junior Developer",
          "Senior Developer",
          "Junior Developer",
          "Data Scientist",
          "Tech Lead",
          "QA Engineer",
          "QA Engineer",
          "UX Designer",
          "Tech Lead",
          "Junior Developer",
          "Data Scientist",
          "Product Manager",
          "UX Designer",
          "UX Designer",
          "DevOps Engineer",
          "UX Designer",
          "Senior Developer",
          "Senior Developer",
          "QA Engineer",
          "UX Designer",
          "QA Engineer",
          "Product Manager",
          "Product Manager",
          "Tech Lead",
          "Data Scientist",
          "Data Scientist",
          "DevOps Engineer",
          "DevOps Engineer",
          "Senior Developer",
          "Tech Lead",
          "UX Designer",
          "Data Scientist",
          "Junior Developer",
          "Data Scientist",
          "UX Designer",
          "Senior Developer",
          "QA Engineer",
          "QA Engineer",
          "DevOps Engineer",
          "DevOps Engineer",
          "Tech Lead",
          "Product Manager",
          "Data Scientist",
          "Data Scientist",
          "DevOps Engineer",
          "Senior Developer",
          "Product Manager",
          "QA Engineer",
          "Product Manager",
          "Senior Developer",
          "Senior Developer",
          "Junior Developer",
          "Senior Developer",
          "Product Manager",
          "Junior Developer",
          "Tech Lead",
          "Senior Developer",
          "DevOps Engineer",
          "UX Designer",
          "QA Engineer",
          "Junior Developer",
          "DevOps Engineer",
          "Junior Developer",
          "UX Designer",
          "Data Scientist",
          "Tech Lead",
          "UX Designer",
          "Data Scientist",
          "Tech Lead",
          "Junior Developer",
          "Senior Developer",
          "Product Manager",
          "UX Designer",
          "Junior Developer",
          "Junior Developer",
          "DevOps Engineer",
          "QA Engineer",
          "Tech Lead",
          "Tech Lead",
          "Product Manager",
          "QA Engineer",
          "Junior Developer",
          "QA Engineer",
          "Product Manager",
          "Junior Developer",
          "Tech Lead",
          "UX Designer",
          "Senior Developer"
         ],
         "xaxis": "x",
         "yaxis": "y"
        }
       ],
       "layout": {
        "barmode": "group",
        "legend": {
         "title": {
          "text": "churn"
         },
         "tracegroupgap": 0
        },
        "template": {
         "data": {
          "bar": [
           {
            "error_x": {
             "color": "#2a3f5f"
            },
            "error_y": {
             "color": "#2a3f5f"
            },
            "marker": {
             "line": {
              "color": "#E5ECF6",
              "width": 0.5
             },
             "pattern": {
              "fillmode": "overlay",
              "size": 10,
              "solidity": 0.2
             }
            },
            "type": "bar"
           }
          ],
          "barpolar": [
           {
            "marker": {
             "line": {
              "color": "#E5ECF6",
              "width": 0.5
             },
             "pattern": {
              "fillmode": "overlay",
              "size": 10,
              "solidity": 0.2
             }
            },
            "type": "barpolar"
           }
          ],
          "carpet": [
           {
            "aaxis": {
             "endlinecolor": "#2a3f5f",
             "gridcolor": "white",
             "linecolor": "white",
             "minorgridcolor": "white",
             "startlinecolor": "#2a3f5f"
            },
            "baxis": {
             "endlinecolor": "#2a3f5f",
             "gridcolor": "white",
             "linecolor": "white",
             "minorgridcolor": "white",
             "startlinecolor": "#2a3f5f"
            },
            "type": "carpet"
           }
          ],
          "choropleth": [
           {
            "colorbar": {
             "outlinewidth": 0,
             "ticks": ""
            },
            "type": "choropleth"
           }
          ],
          "contour": [
           {
            "colorbar": {
             "outlinewidth": 0,
             "ticks": ""
            },
            "colorscale": [
             [
              0,
              "#0d0887"
             ],
             [
              0.1111111111111111,
              "#46039f"
             ],
             [
              0.2222222222222222,
              "#7201a8"
             ],
             [
              0.3333333333333333,
              "#9c179e"
             ],
             [
              0.4444444444444444,
              "#bd3786"
             ],
             [
              0.5555555555555556,
              "#d8576b"
             ],
             [
              0.6666666666666666,
              "#ed7953"
             ],
             [
              0.7777777777777778,
              "#fb9f3a"
             ],
             [
              0.8888888888888888,
              "#fdca26"
             ],
             [
              1,
              "#f0f921"
             ]
            ],
            "type": "contour"
           }
          ],
          "contourcarpet": [
           {
            "colorbar": {
             "outlinewidth": 0,
             "ticks": ""
            },
            "type": "contourcarpet"
           }
          ],
          "heatmap": [
           {
            "colorbar": {
             "outlinewidth": 0,
             "ticks": ""
            },
            "colorscale": [
             [
              0,
              "#0d0887"
             ],
             [
              0.1111111111111111,
              "#46039f"
             ],
             [
              0.2222222222222222,
              "#7201a8"
             ],
             [
              0.3333333333333333,
              "#9c179e"
             ],
             [
              0.4444444444444444,
              "#bd3786"
             ],
             [
              0.5555555555555556,
              "#d8576b"
             ],
             [
              0.6666666666666666,
              "#ed7953"
             ],
             [
              0.7777777777777778,
              "#fb9f3a"
             ],
             [
              0.8888888888888888,
              "#fdca26"
             ],
             [
              1,
              "#f0f921"
             ]
            ],
            "type": "heatmap"
           }
          ],
          "histogram": [
           {
            "marker": {
             "pattern": {
              "fillmode": "overlay",
              "size": 10,
              "solidity": 0.2
             }
            },
            "type": "histogram"
           }
          ],
          "histogram2d": [
           {
            "colorbar": {
             "outlinewidth": 0,
             "ticks": ""
            },
            "colorscale": [
             [
              0,
              "#0d0887"
             ],
             [
              0.1111111111111111,
              "#46039f"
             ],
             [
              0.2222222222222222,
              "#7201a8"
             ],
             [
              0.3333333333333333,
              "#9c179e"
             ],
             [
              0.4444444444444444,
              "#bd3786"
             ],
             [
              0.5555555555555556,
              "#d8576b"
             ],
             [
              0.6666666666666666,
              "#ed7953"
             ],
             [
              0.7777777777777778,
              "#fb9f3a"
             ],
             [
              0.8888888888888888,
              "#fdca26"
             ],
             [
              1,
              "#f0f921"
             ]
            ],
            "type": "histogram2d"
           }
          ],
          "histogram2dcontour": [
           {
            "colorbar": {
             "outlinewidth": 0,
             "ticks": ""
            },
            "colorscale": [
             [
              0,
              "#0d0887"
             ],
             [
              0.1111111111111111,
              "#46039f"
             ],
             [
              0.2222222222222222,
              "#7201a8"
             ],
             [
              0.3333333333333333,
              "#9c179e"
             ],
             [
              0.4444444444444444,
              "#bd3786"
             ],
             [
              0.5555555555555556,
              "#d8576b"
             ],
             [
              0.6666666666666666,
              "#ed7953"
             ],
             [
              0.7777777777777778,
              "#fb9f3a"
             ],
             [
              0.8888888888888888,
              "#fdca26"
             ],
             [
              1,
              "#f0f921"
             ]
            ],
            "type": "histogram2dcontour"
           }
          ],
          "mesh3d": [
           {
            "colorbar": {
             "outlinewidth": 0,
             "ticks": ""
            },
            "type": "mesh3d"
           }
          ],
          "parcoords": [
           {
            "line": {
             "colorbar": {
              "outlinewidth": 0,
              "ticks": ""
             }
            },
            "type": "parcoords"
           }
          ],
          "pie": [
           {
            "automargin": true,
            "type": "pie"
           }
          ],
          "scatter": [
           {
            "fillpattern": {
             "fillmode": "overlay",
             "size": 10,
             "solidity": 0.2
            },
            "type": "scatter"
           }
          ],
          "scatter3d": [
           {
            "line": {
             "colorbar": {
              "outlinewidth": 0,
              "ticks": ""
             }
            },
            "marker": {
             "colorbar": {
              "outlinewidth": 0,
              "ticks": ""
             }
            },
            "type": "scatter3d"
           }
          ],
          "scattercarpet": [
           {
            "marker": {
             "colorbar": {
              "outlinewidth": 0,
              "ticks": ""
             }
            },
            "type": "scattercarpet"
           }
          ],
          "scattergeo": [
           {
            "marker": {
             "colorbar": {
              "outlinewidth": 0,
              "ticks": ""
             }
            },
            "type": "scattergeo"
           }
          ],
          "scattergl": [
           {
            "marker": {
             "colorbar": {
              "outlinewidth": 0,
              "ticks": ""
             }
            },
            "type": "scattergl"
           }
          ],
          "scattermap": [
           {
            "marker": {
             "colorbar": {
              "outlinewidth": 0,
              "ticks": ""
             }
            },
            "type": "scattermap"
           }
          ],
          "scattermapbox": [
           {
            "marker": {
             "colorbar": {
              "outlinewidth": 0,
              "ticks": ""
             }
            },
            "type": "scattermapbox"
           }
          ],
          "scatterpolar": [
           {
            "marker": {
             "colorbar": {
              "outlinewidth": 0,
              "ticks": ""
             }
            },
            "type": "scatterpolar"
           }
          ],
          "scatterpolargl": [
           {
            "marker": {
             "colorbar": {
              "outlinewidth": 0,
              "ticks": ""
             }
            },
            "type": "scatterpolargl"
           }
          ],
          "scatterternary": [
           {
            "marker": {
             "colorbar": {
              "outlinewidth": 0,
              "ticks": ""
             }
            },
            "type": "scatterternary"
           }
          ],
          "surface": [
           {
            "colorbar": {
             "outlinewidth": 0,
             "ticks": ""
            },
            "colorscale": [
             [
              0,
              "#0d0887"
             ],
             [
              0.1111111111111111,
              "#46039f"
             ],
             [
              0.2222222222222222,
              "#7201a8"
             ],
             [
              0.3333333333333333,
              "#9c179e"
             ],
             [
              0.4444444444444444,
              "#bd3786"
             ],
             [
              0.5555555555555556,
              "#d8576b"
             ],
             [
              0.6666666666666666,
              "#ed7953"
             ],
             [
              0.7777777777777778,
              "#fb9f3a"
             ],
             [
              0.8888888888888888,
              "#fdca26"
             ],
             [
              1,
              "#f0f921"
             ]
            ],
            "type": "surface"
           }
          ],
          "table": [
           {
            "cells": {
             "fill": {
              "color": "#EBF0F8"
             },
             "line": {
              "color": "white"
             }
            },
            "header": {
             "fill": {
              "color": "#C8D4E3"
             },
             "line": {
              "color": "white"
             }
            },
            "type": "table"
           }
          ]
         },
         "layout": {
          "annotationdefaults": {
           "arrowcolor": "#2a3f5f",
           "arrowhead": 0,
           "arrowwidth": 1
          },
          "autotypenumbers": "strict",
          "coloraxis": {
           "colorbar": {
            "outlinewidth": 0,
            "ticks": ""
           }
          },
          "colorscale": {
           "diverging": [
            [
             0,
             "#8e0152"
            ],
            [
             0.1,
             "#c51b7d"
            ],
            [
             0.2,
             "#de77ae"
            ],
            [
             0.3,
             "#f1b6da"
            ],
            [
             0.4,
             "#fde0ef"
            ],
            [
             0.5,
             "#f7f7f7"
            ],
            [
             0.6,
             "#e6f5d0"
            ],
            [
             0.7,
             "#b8e186"
            ],
            [
             0.8,
             "#7fbc41"
            ],
            [
             0.9,
             "#4d9221"
            ],
            [
             1,
             "#276419"
            ]
           ],
           "sequential": [
            [
             0,
             "#0d0887"
            ],
            [
             0.1111111111111111,
             "#46039f"
            ],
            [
             0.2222222222222222,
             "#7201a8"
            ],
            [
             0.3333333333333333,
             "#9c179e"
            ],
            [
             0.4444444444444444,
             "#bd3786"
            ],
            [
             0.5555555555555556,
             "#d8576b"
            ],
            [
             0.6666666666666666,
             "#ed7953"
            ],
            [
             0.7777777777777778,
             "#fb9f3a"
            ],
            [
             0.8888888888888888,
             "#fdca26"
            ],
            [
             1,
             "#f0f921"
            ]
           ],
           "sequentialminus": [
            [
             0,
             "#0d0887"
            ],
            [
             0.1111111111111111,
             "#46039f"
            ],
            [
             0.2222222222222222,
             "#7201a8"
            ],
            [
             0.3333333333333333,
             "#9c179e"
            ],
            [
             0.4444444444444444,
             "#bd3786"
            ],
            [
             0.5555555555555556,
             "#d8576b"
            ],
            [
             0.6666666666666666,
             "#ed7953"
            ],
            [
             0.7777777777777778,
             "#fb9f3a"
            ],
            [
             0.8888888888888888,
             "#fdca26"
            ],
            [
             1,
             "#f0f921"
            ]
           ]
          },
          "colorway": [
           "#636efa",
           "#EF553B",
           "#00cc96",
           "#ab63fa",
           "#FFA15A",
           "#19d3f3",
           "#FF6692",
           "#B6E880",
           "#FF97FF",
           "#FECB52"
          ],
          "font": {
           "color": "#2a3f5f"
          },
          "geo": {
           "bgcolor": "white",
           "lakecolor": "white",
           "landcolor": "#E5ECF6",
           "showlakes": true,
           "showland": true,
           "subunitcolor": "white"
          },
          "hoverlabel": {
           "align": "left"
          },
          "hovermode": "closest",
          "mapbox": {
           "style": "light"
          },
          "paper_bgcolor": "white",
          "plot_bgcolor": "#E5ECF6",
          "polar": {
           "angularaxis": {
            "gridcolor": "white",
            "linecolor": "white",
            "ticks": ""
           },
           "bgcolor": "#E5ECF6",
           "radialaxis": {
            "gridcolor": "white",
            "linecolor": "white",
            "ticks": ""
           }
          },
          "scene": {
           "xaxis": {
            "backgroundcolor": "#E5ECF6",
            "gridcolor": "white",
            "gridwidth": 2,
            "linecolor": "white",
            "showbackground": true,
            "ticks": "",
            "zerolinecolor": "white"
           },
           "yaxis": {
            "backgroundcolor": "#E5ECF6",
            "gridcolor": "white",
            "gridwidth": 2,
            "linecolor": "white",
            "showbackground": true,
            "ticks": "",
            "zerolinecolor": "white"
           },
           "zaxis": {
            "backgroundcolor": "#E5ECF6",
            "gridcolor": "white",
            "gridwidth": 2,
            "linecolor": "white",
            "showbackground": true,
            "ticks": "",
            "zerolinecolor": "white"
           }
          },
          "shapedefaults": {
           "line": {
            "color": "#2a3f5f"
           }
          },
          "ternary": {
           "aaxis": {
            "gridcolor": "white",
            "linecolor": "white",
            "ticks": ""
           },
           "baxis": {
            "gridcolor": "white",
            "linecolor": "white",
            "ticks": ""
           },
           "bgcolor": "#E5ECF6",
           "caxis": {
            "gridcolor": "white",
            "linecolor": "white",
            "ticks": ""
           }
          },
          "title": {
           "x": 0.05
          },
          "xaxis": {
           "automargin": true,
           "gridcolor": "white",
           "linecolor": "white",
           "ticks": "",
           "title": {
            "standoff": 15
           },
           "zerolinecolor": "white",
           "zerolinewidth": 2
          },
          "yaxis": {
           "automargin": true,
           "gridcolor": "white",
           "linecolor": "white",
           "ticks": "",
           "title": {
            "standoff": 15
           },
           "zerolinecolor": "white",
           "zerolinewidth": 2
          }
         }
        },
        "title": {
         "text": "Distribuição de cargo por Churn"
        },
        "xaxis": {
         "anchor": "y",
         "domain": [
          0,
          1
         ],
         "title": {
          "text": "cargo"
         }
        },
        "yaxis": {
         "anchor": "x",
         "domain": [
          0,
          1
         ],
         "title": {
          "text": "count"
         }
        }
       }
      }
     },
     "metadata": {},
     "output_type": "display_data"
    }
   ],
   "source": [
    "# Gráficos de Barras para variáveis categóricas vc Churn\n",
    "for col in col_cat:\n",
    "    fig = px.histogram(df_employees, x=col, color='churn', barmode='group',\n",
    "                       title=f'Distribuição de {col} por Churn')\n",
    "    fig.show()"
   ]
  },
  {
   "cell_type": "markdown",
   "id": "893e011f",
   "metadata": {},
   "source": [
    "### Preparação dos Dados"
   ]
  },
  {
   "cell_type": "code",
   "execution_count": 63,
   "id": "9203edda",
   "metadata": {},
   "outputs": [],
   "source": [
    "# Separar as Features e Target\n",
    "\n",
    "# Seleção de colunas com base no tipo datetime\n",
    "colunas_data = list(df_employees.select_dtypes(include=['datetime64']).columns)\n",
    "\n",
    "# X e y\n",
    "X = df_employees.drop(columns=['churn', 'tipo_demissao'] + colunas_data, axis=1)\n",
    "y = df_employees['churn']"
   ]
  },
  {
   "cell_type": "code",
   "execution_count": 64,
   "id": "c7f085c1",
   "metadata": {},
   "outputs": [],
   "source": [
    "# Criar um preprocessador\n",
    "\n",
    "# Lista de Colunas por Tipo\n",
    "features_numericas = X.select_dtypes(include=['int64', 'float64']).columns\n",
    "features_categoricas = X.select_dtypes(include=['object']).columns\n",
    "\n",
    "# Preprocessador\n",
    "preprocessor = ColumnTransformer(\n",
    "    transformers=[\n",
    "        ('num', StandardScaler(), features_numericas),\n",
    "        ('cat', OneHotEncoder(handle_unknown='ignore'), features_categoricas)\n",
    "    ]\n",
    ")"
   ]
  },
  {
   "cell_type": "code",
   "execution_count": 67,
   "id": "23d8f3aa",
   "metadata": {},
   "outputs": [
    {
     "name": "stdout",
     "output_type": "stream",
     "text": [
      "(1000, 32) (1000, 32)\n"
     ]
    }
   ],
   "source": [
    "# Dividir os dados entre treino e teste\n",
    "X_train, X_test, y_train, y_test = train_test_split(X, y, test_size=0.5, random_state=51, shuffle=True)\n",
    "\n",
    "# Aplicar o Column Transformer\n",
    "X_train = preprocessor.fit_transform(X_train)\n",
    "X_test = preprocessor.transform(X_test)\n",
    "\n",
    "# Mostrar Conjuntos\n",
    "print(X_train.shape, X_test.shape)\n"
   ]
  },
  {
   "cell_type": "markdown",
   "id": "cc57d12b",
   "metadata": {},
   "source": [
    "### Treinamento do modelo - Baseline"
   ]
  },
  {
   "cell_type": "code",
   "execution_count": 70,
   "id": "f6b3b3de",
   "metadata": {},
   "outputs": [],
   "source": [
    "# Criar modelo de RandomForest\n",
    "rf_model= RandomForestClassifier(\n",
    "    n_estimators=100,\n",
    "    max_depth=20,\n",
    "    min_samples_split=2,\n",
    "    min_samples_leaf=1,\n",
    "    random_state=51,\n",
    "    max_features='sqrt',\n",
    "    # para datasets com classes desbalanceadas (anomalias, churn)\n",
    "    class_weight='balanced'\n",
    ")"
   ]
  },
  {
   "cell_type": "code",
   "execution_count": 72,
   "id": "bbcf8596",
   "metadata": {},
   "outputs": [
    {
     "data": {
      "text/html": [
       "<style>#sk-container-id-2 {\n",
       "  /* Definition of color scheme common for light and dark mode */\n",
       "  --sklearn-color-text: #000;\n",
       "  --sklearn-color-text-muted: #666;\n",
       "  --sklearn-color-line: gray;\n",
       "  /* Definition of color scheme for unfitted estimators */\n",
       "  --sklearn-color-unfitted-level-0: #fff5e6;\n",
       "  --sklearn-color-unfitted-level-1: #f6e4d2;\n",
       "  --sklearn-color-unfitted-level-2: #ffe0b3;\n",
       "  --sklearn-color-unfitted-level-3: chocolate;\n",
       "  /* Definition of color scheme for fitted estimators */\n",
       "  --sklearn-color-fitted-level-0: #f0f8ff;\n",
       "  --sklearn-color-fitted-level-1: #d4ebff;\n",
       "  --sklearn-color-fitted-level-2: #b3dbfd;\n",
       "  --sklearn-color-fitted-level-3: cornflowerblue;\n",
       "\n",
       "  /* Specific color for light theme */\n",
       "  --sklearn-color-text-on-default-background: var(--sg-text-color, var(--theme-code-foreground, var(--jp-content-font-color1, black)));\n",
       "  --sklearn-color-background: var(--sg-background-color, var(--theme-background, var(--jp-layout-color0, white)));\n",
       "  --sklearn-color-border-box: var(--sg-text-color, var(--theme-code-foreground, var(--jp-content-font-color1, black)));\n",
       "  --sklearn-color-icon: #696969;\n",
       "\n",
       "  @media (prefers-color-scheme: dark) {\n",
       "    /* Redefinition of color scheme for dark theme */\n",
       "    --sklearn-color-text-on-default-background: var(--sg-text-color, var(--theme-code-foreground, var(--jp-content-font-color1, white)));\n",
       "    --sklearn-color-background: var(--sg-background-color, var(--theme-background, var(--jp-layout-color0, #111)));\n",
       "    --sklearn-color-border-box: var(--sg-text-color, var(--theme-code-foreground, var(--jp-content-font-color1, white)));\n",
       "    --sklearn-color-icon: #878787;\n",
       "  }\n",
       "}\n",
       "\n",
       "#sk-container-id-2 {\n",
       "  color: var(--sklearn-color-text);\n",
       "}\n",
       "\n",
       "#sk-container-id-2 pre {\n",
       "  padding: 0;\n",
       "}\n",
       "\n",
       "#sk-container-id-2 input.sk-hidden--visually {\n",
       "  border: 0;\n",
       "  clip: rect(1px 1px 1px 1px);\n",
       "  clip: rect(1px, 1px, 1px, 1px);\n",
       "  height: 1px;\n",
       "  margin: -1px;\n",
       "  overflow: hidden;\n",
       "  padding: 0;\n",
       "  position: absolute;\n",
       "  width: 1px;\n",
       "}\n",
       "\n",
       "#sk-container-id-2 div.sk-dashed-wrapped {\n",
       "  border: 1px dashed var(--sklearn-color-line);\n",
       "  margin: 0 0.4em 0.5em 0.4em;\n",
       "  box-sizing: border-box;\n",
       "  padding-bottom: 0.4em;\n",
       "  background-color: var(--sklearn-color-background);\n",
       "}\n",
       "\n",
       "#sk-container-id-2 div.sk-container {\n",
       "  /* jupyter's `normalize.less` sets `[hidden] { display: none; }`\n",
       "     but bootstrap.min.css set `[hidden] { display: none !important; }`\n",
       "     so we also need the `!important` here to be able to override the\n",
       "     default hidden behavior on the sphinx rendered scikit-learn.org.\n",
       "     See: https://github.com/scikit-learn/scikit-learn/issues/21755 */\n",
       "  display: inline-block !important;\n",
       "  position: relative;\n",
       "}\n",
       "\n",
       "#sk-container-id-2 div.sk-text-repr-fallback {\n",
       "  display: none;\n",
       "}\n",
       "\n",
       "div.sk-parallel-item,\n",
       "div.sk-serial,\n",
       "div.sk-item {\n",
       "  /* draw centered vertical line to link estimators */\n",
       "  background-image: linear-gradient(var(--sklearn-color-text-on-default-background), var(--sklearn-color-text-on-default-background));\n",
       "  background-size: 2px 100%;\n",
       "  background-repeat: no-repeat;\n",
       "  background-position: center center;\n",
       "}\n",
       "\n",
       "/* Parallel-specific style estimator block */\n",
       "\n",
       "#sk-container-id-2 div.sk-parallel-item::after {\n",
       "  content: \"\";\n",
       "  width: 100%;\n",
       "  border-bottom: 2px solid var(--sklearn-color-text-on-default-background);\n",
       "  flex-grow: 1;\n",
       "}\n",
       "\n",
       "#sk-container-id-2 div.sk-parallel {\n",
       "  display: flex;\n",
       "  align-items: stretch;\n",
       "  justify-content: center;\n",
       "  background-color: var(--sklearn-color-background);\n",
       "  position: relative;\n",
       "}\n",
       "\n",
       "#sk-container-id-2 div.sk-parallel-item {\n",
       "  display: flex;\n",
       "  flex-direction: column;\n",
       "}\n",
       "\n",
       "#sk-container-id-2 div.sk-parallel-item:first-child::after {\n",
       "  align-self: flex-end;\n",
       "  width: 50%;\n",
       "}\n",
       "\n",
       "#sk-container-id-2 div.sk-parallel-item:last-child::after {\n",
       "  align-self: flex-start;\n",
       "  width: 50%;\n",
       "}\n",
       "\n",
       "#sk-container-id-2 div.sk-parallel-item:only-child::after {\n",
       "  width: 0;\n",
       "}\n",
       "\n",
       "/* Serial-specific style estimator block */\n",
       "\n",
       "#sk-container-id-2 div.sk-serial {\n",
       "  display: flex;\n",
       "  flex-direction: column;\n",
       "  align-items: center;\n",
       "  background-color: var(--sklearn-color-background);\n",
       "  padding-right: 1em;\n",
       "  padding-left: 1em;\n",
       "}\n",
       "\n",
       "\n",
       "/* Toggleable style: style used for estimator/Pipeline/ColumnTransformer box that is\n",
       "clickable and can be expanded/collapsed.\n",
       "- Pipeline and ColumnTransformer use this feature and define the default style\n",
       "- Estimators will overwrite some part of the style using the `sk-estimator` class\n",
       "*/\n",
       "\n",
       "/* Pipeline and ColumnTransformer style (default) */\n",
       "\n",
       "#sk-container-id-2 div.sk-toggleable {\n",
       "  /* Default theme specific background. It is overwritten whether we have a\n",
       "  specific estimator or a Pipeline/ColumnTransformer */\n",
       "  background-color: var(--sklearn-color-background);\n",
       "}\n",
       "\n",
       "/* Toggleable label */\n",
       "#sk-container-id-2 label.sk-toggleable__label {\n",
       "  cursor: pointer;\n",
       "  display: flex;\n",
       "  width: 100%;\n",
       "  margin-bottom: 0;\n",
       "  padding: 0.5em;\n",
       "  box-sizing: border-box;\n",
       "  text-align: center;\n",
       "  align-items: start;\n",
       "  justify-content: space-between;\n",
       "  gap: 0.5em;\n",
       "}\n",
       "\n",
       "#sk-container-id-2 label.sk-toggleable__label .caption {\n",
       "  font-size: 0.6rem;\n",
       "  font-weight: lighter;\n",
       "  color: var(--sklearn-color-text-muted);\n",
       "}\n",
       "\n",
       "#sk-container-id-2 label.sk-toggleable__label-arrow:before {\n",
       "  /* Arrow on the left of the label */\n",
       "  content: \"▸\";\n",
       "  float: left;\n",
       "  margin-right: 0.25em;\n",
       "  color: var(--sklearn-color-icon);\n",
       "}\n",
       "\n",
       "#sk-container-id-2 label.sk-toggleable__label-arrow:hover:before {\n",
       "  color: var(--sklearn-color-text);\n",
       "}\n",
       "\n",
       "/* Toggleable content - dropdown */\n",
       "\n",
       "#sk-container-id-2 div.sk-toggleable__content {\n",
       "  max-height: 0;\n",
       "  max-width: 0;\n",
       "  overflow: hidden;\n",
       "  text-align: left;\n",
       "  /* unfitted */\n",
       "  background-color: var(--sklearn-color-unfitted-level-0);\n",
       "}\n",
       "\n",
       "#sk-container-id-2 div.sk-toggleable__content.fitted {\n",
       "  /* fitted */\n",
       "  background-color: var(--sklearn-color-fitted-level-0);\n",
       "}\n",
       "\n",
       "#sk-container-id-2 div.sk-toggleable__content pre {\n",
       "  margin: 0.2em;\n",
       "  border-radius: 0.25em;\n",
       "  color: var(--sklearn-color-text);\n",
       "  /* unfitted */\n",
       "  background-color: var(--sklearn-color-unfitted-level-0);\n",
       "}\n",
       "\n",
       "#sk-container-id-2 div.sk-toggleable__content.fitted pre {\n",
       "  /* unfitted */\n",
       "  background-color: var(--sklearn-color-fitted-level-0);\n",
       "}\n",
       "\n",
       "#sk-container-id-2 input.sk-toggleable__control:checked~div.sk-toggleable__content {\n",
       "  /* Expand drop-down */\n",
       "  max-height: 200px;\n",
       "  max-width: 100%;\n",
       "  overflow: auto;\n",
       "}\n",
       "\n",
       "#sk-container-id-2 input.sk-toggleable__control:checked~label.sk-toggleable__label-arrow:before {\n",
       "  content: \"▾\";\n",
       "}\n",
       "\n",
       "/* Pipeline/ColumnTransformer-specific style */\n",
       "\n",
       "#sk-container-id-2 div.sk-label input.sk-toggleable__control:checked~label.sk-toggleable__label {\n",
       "  color: var(--sklearn-color-text);\n",
       "  background-color: var(--sklearn-color-unfitted-level-2);\n",
       "}\n",
       "\n",
       "#sk-container-id-2 div.sk-label.fitted input.sk-toggleable__control:checked~label.sk-toggleable__label {\n",
       "  background-color: var(--sklearn-color-fitted-level-2);\n",
       "}\n",
       "\n",
       "/* Estimator-specific style */\n",
       "\n",
       "/* Colorize estimator box */\n",
       "#sk-container-id-2 div.sk-estimator input.sk-toggleable__control:checked~label.sk-toggleable__label {\n",
       "  /* unfitted */\n",
       "  background-color: var(--sklearn-color-unfitted-level-2);\n",
       "}\n",
       "\n",
       "#sk-container-id-2 div.sk-estimator.fitted input.sk-toggleable__control:checked~label.sk-toggleable__label {\n",
       "  /* fitted */\n",
       "  background-color: var(--sklearn-color-fitted-level-2);\n",
       "}\n",
       "\n",
       "#sk-container-id-2 div.sk-label label.sk-toggleable__label,\n",
       "#sk-container-id-2 div.sk-label label {\n",
       "  /* The background is the default theme color */\n",
       "  color: var(--sklearn-color-text-on-default-background);\n",
       "}\n",
       "\n",
       "/* On hover, darken the color of the background */\n",
       "#sk-container-id-2 div.sk-label:hover label.sk-toggleable__label {\n",
       "  color: var(--sklearn-color-text);\n",
       "  background-color: var(--sklearn-color-unfitted-level-2);\n",
       "}\n",
       "\n",
       "/* Label box, darken color on hover, fitted */\n",
       "#sk-container-id-2 div.sk-label.fitted:hover label.sk-toggleable__label.fitted {\n",
       "  color: var(--sklearn-color-text);\n",
       "  background-color: var(--sklearn-color-fitted-level-2);\n",
       "}\n",
       "\n",
       "/* Estimator label */\n",
       "\n",
       "#sk-container-id-2 div.sk-label label {\n",
       "  font-family: monospace;\n",
       "  font-weight: bold;\n",
       "  display: inline-block;\n",
       "  line-height: 1.2em;\n",
       "}\n",
       "\n",
       "#sk-container-id-2 div.sk-label-container {\n",
       "  text-align: center;\n",
       "}\n",
       "\n",
       "/* Estimator-specific */\n",
       "#sk-container-id-2 div.sk-estimator {\n",
       "  font-family: monospace;\n",
       "  border: 1px dotted var(--sklearn-color-border-box);\n",
       "  border-radius: 0.25em;\n",
       "  box-sizing: border-box;\n",
       "  margin-bottom: 0.5em;\n",
       "  /* unfitted */\n",
       "  background-color: var(--sklearn-color-unfitted-level-0);\n",
       "}\n",
       "\n",
       "#sk-container-id-2 div.sk-estimator.fitted {\n",
       "  /* fitted */\n",
       "  background-color: var(--sklearn-color-fitted-level-0);\n",
       "}\n",
       "\n",
       "/* on hover */\n",
       "#sk-container-id-2 div.sk-estimator:hover {\n",
       "  /* unfitted */\n",
       "  background-color: var(--sklearn-color-unfitted-level-2);\n",
       "}\n",
       "\n",
       "#sk-container-id-2 div.sk-estimator.fitted:hover {\n",
       "  /* fitted */\n",
       "  background-color: var(--sklearn-color-fitted-level-2);\n",
       "}\n",
       "\n",
       "/* Specification for estimator info (e.g. \"i\" and \"?\") */\n",
       "\n",
       "/* Common style for \"i\" and \"?\" */\n",
       "\n",
       ".sk-estimator-doc-link,\n",
       "a:link.sk-estimator-doc-link,\n",
       "a:visited.sk-estimator-doc-link {\n",
       "  float: right;\n",
       "  font-size: smaller;\n",
       "  line-height: 1em;\n",
       "  font-family: monospace;\n",
       "  background-color: var(--sklearn-color-background);\n",
       "  border-radius: 1em;\n",
       "  height: 1em;\n",
       "  width: 1em;\n",
       "  text-decoration: none !important;\n",
       "  margin-left: 0.5em;\n",
       "  text-align: center;\n",
       "  /* unfitted */\n",
       "  border: var(--sklearn-color-unfitted-level-1) 1pt solid;\n",
       "  color: var(--sklearn-color-unfitted-level-1);\n",
       "}\n",
       "\n",
       ".sk-estimator-doc-link.fitted,\n",
       "a:link.sk-estimator-doc-link.fitted,\n",
       "a:visited.sk-estimator-doc-link.fitted {\n",
       "  /* fitted */\n",
       "  border: var(--sklearn-color-fitted-level-1) 1pt solid;\n",
       "  color: var(--sklearn-color-fitted-level-1);\n",
       "}\n",
       "\n",
       "/* On hover */\n",
       "div.sk-estimator:hover .sk-estimator-doc-link:hover,\n",
       ".sk-estimator-doc-link:hover,\n",
       "div.sk-label-container:hover .sk-estimator-doc-link:hover,\n",
       ".sk-estimator-doc-link:hover {\n",
       "  /* unfitted */\n",
       "  background-color: var(--sklearn-color-unfitted-level-3);\n",
       "  color: var(--sklearn-color-background);\n",
       "  text-decoration: none;\n",
       "}\n",
       "\n",
       "div.sk-estimator.fitted:hover .sk-estimator-doc-link.fitted:hover,\n",
       ".sk-estimator-doc-link.fitted:hover,\n",
       "div.sk-label-container:hover .sk-estimator-doc-link.fitted:hover,\n",
       ".sk-estimator-doc-link.fitted:hover {\n",
       "  /* fitted */\n",
       "  background-color: var(--sklearn-color-fitted-level-3);\n",
       "  color: var(--sklearn-color-background);\n",
       "  text-decoration: none;\n",
       "}\n",
       "\n",
       "/* Span, style for the box shown on hovering the info icon */\n",
       ".sk-estimator-doc-link span {\n",
       "  display: none;\n",
       "  z-index: 9999;\n",
       "  position: relative;\n",
       "  font-weight: normal;\n",
       "  right: .2ex;\n",
       "  padding: .5ex;\n",
       "  margin: .5ex;\n",
       "  width: min-content;\n",
       "  min-width: 20ex;\n",
       "  max-width: 50ex;\n",
       "  color: var(--sklearn-color-text);\n",
       "  box-shadow: 2pt 2pt 4pt #999;\n",
       "  /* unfitted */\n",
       "  background: var(--sklearn-color-unfitted-level-0);\n",
       "  border: .5pt solid var(--sklearn-color-unfitted-level-3);\n",
       "}\n",
       "\n",
       ".sk-estimator-doc-link.fitted span {\n",
       "  /* fitted */\n",
       "  background: var(--sklearn-color-fitted-level-0);\n",
       "  border: var(--sklearn-color-fitted-level-3);\n",
       "}\n",
       "\n",
       ".sk-estimator-doc-link:hover span {\n",
       "  display: block;\n",
       "}\n",
       "\n",
       "/* \"?\"-specific style due to the `<a>` HTML tag */\n",
       "\n",
       "#sk-container-id-2 a.estimator_doc_link {\n",
       "  float: right;\n",
       "  font-size: 1rem;\n",
       "  line-height: 1em;\n",
       "  font-family: monospace;\n",
       "  background-color: var(--sklearn-color-background);\n",
       "  border-radius: 1rem;\n",
       "  height: 1rem;\n",
       "  width: 1rem;\n",
       "  text-decoration: none;\n",
       "  /* unfitted */\n",
       "  color: var(--sklearn-color-unfitted-level-1);\n",
       "  border: var(--sklearn-color-unfitted-level-1) 1pt solid;\n",
       "}\n",
       "\n",
       "#sk-container-id-2 a.estimator_doc_link.fitted {\n",
       "  /* fitted */\n",
       "  border: var(--sklearn-color-fitted-level-1) 1pt solid;\n",
       "  color: var(--sklearn-color-fitted-level-1);\n",
       "}\n",
       "\n",
       "/* On hover */\n",
       "#sk-container-id-2 a.estimator_doc_link:hover {\n",
       "  /* unfitted */\n",
       "  background-color: var(--sklearn-color-unfitted-level-3);\n",
       "  color: var(--sklearn-color-background);\n",
       "  text-decoration: none;\n",
       "}\n",
       "\n",
       "#sk-container-id-2 a.estimator_doc_link.fitted:hover {\n",
       "  /* fitted */\n",
       "  background-color: var(--sklearn-color-fitted-level-3);\n",
       "}\n",
       "</style><div id=\"sk-container-id-2\" class=\"sk-top-container\"><div class=\"sk-text-repr-fallback\"><pre>RandomForestClassifier(class_weight=&#x27;balanced&#x27;, max_depth=20, random_state=51)</pre><b>In a Jupyter environment, please rerun this cell to show the HTML representation or trust the notebook. <br />On GitHub, the HTML representation is unable to render, please try loading this page with nbviewer.org.</b></div><div class=\"sk-container\" hidden><div class=\"sk-item\"><div class=\"sk-estimator fitted sk-toggleable\"><input class=\"sk-toggleable__control sk-hidden--visually\" id=\"sk-estimator-id-2\" type=\"checkbox\" checked><label for=\"sk-estimator-id-2\" class=\"sk-toggleable__label fitted sk-toggleable__label-arrow\"><div><div>RandomForestClassifier</div></div><div><a class=\"sk-estimator-doc-link fitted\" rel=\"noreferrer\" target=\"_blank\" href=\"https://scikit-learn.org/1.6/modules/generated/sklearn.ensemble.RandomForestClassifier.html\">?<span>Documentation for RandomForestClassifier</span></a><span class=\"sk-estimator-doc-link fitted\">i<span>Fitted</span></span></div></label><div class=\"sk-toggleable__content fitted\"><pre>RandomForestClassifier(class_weight=&#x27;balanced&#x27;, max_depth=20, random_state=51)</pre></div> </div></div></div></div>"
      ],
      "text/plain": [
       "RandomForestClassifier(class_weight='balanced', max_depth=20, random_state=51)"
      ]
     },
     "execution_count": 72,
     "metadata": {},
     "output_type": "execute_result"
    }
   ],
   "source": [
    "# Treinar o Modelo\n",
    "rf_model.fit(X_train, y_train)"
   ]
  },
  {
   "cell_type": "markdown",
   "id": "3a38138f",
   "metadata": {},
   "source": [
    "### Análise dos Resultados - Baseline"
   ]
  },
  {
   "cell_type": "code",
   "execution_count": 73,
   "id": "9c64037e",
   "metadata": {},
   "outputs": [],
   "source": [
    "# Fazer predições (Classificações - 0 ou 1)\n",
    "y_pred = rf_model.predict(X_test)"
   ]
  },
  {
   "cell_type": "code",
   "execution_count": 75,
   "id": "bc5cd544",
   "metadata": {},
   "outputs": [
    {
     "data": {
      "text/plain": [
       "array([0, 0, 0, 0, 0, 1, 0, 0, 0, 0, 0, 0, 0, 0, 0, 0, 0, 0, 0, 0, 1, 0,\n",
       "       0, 0, 0, 0, 0, 0, 0, 0, 0, 0, 0, 0, 0, 0, 0, 0, 0, 0, 0, 0, 0, 0,\n",
       "       0, 0, 1, 1, 0, 0, 0, 0, 0, 1, 0, 0, 0, 0, 0, 0, 0, 0, 0, 0, 0, 0,\n",
       "       0, 0, 0, 0, 0, 0, 0, 0, 0, 0, 0, 0, 0, 0, 0, 0, 0, 1, 0, 0, 0, 0,\n",
       "       0, 0, 0, 0, 0, 0, 1, 0, 0, 0, 0, 0, 0, 0, 0, 0, 0, 0, 0, 0, 0, 1,\n",
       "       0, 0, 0, 0, 0, 0, 0, 0, 0, 0, 0, 0, 0, 0, 0, 0, 0, 0, 0, 0, 0, 0,\n",
       "       0, 0, 1, 1, 0, 0, 0, 0, 0, 0, 0, 0, 0, 0, 0, 0, 0, 0, 1, 0, 0, 0,\n",
       "       0, 0, 0, 0, 0, 0, 0, 0, 0, 0, 0, 0, 0, 0, 0, 0, 0, 0, 0, 1, 0, 0,\n",
       "       0, 0, 0, 0, 0, 0, 0, 0, 0, 0, 1, 0, 0, 0, 0, 0, 0, 0, 0, 0, 0, 0,\n",
       "       0, 0, 0, 0, 0, 0, 0, 0, 0, 1, 0, 0, 0, 0, 1, 0, 0, 0, 0, 0, 0, 0,\n",
       "       0, 0, 0, 0, 0, 0, 0, 0, 0, 0, 0, 0, 0, 0, 0, 0, 0, 0, 0, 0, 0, 0,\n",
       "       0, 0, 1, 1, 0, 0, 0, 0, 0, 0, 0, 1, 0, 0, 0, 0, 0, 0, 0, 0, 0, 0,\n",
       "       0, 0, 0, 0, 0, 0, 0, 1, 0, 0, 0, 0, 0, 0, 0, 0, 0, 0, 0, 0, 0, 0,\n",
       "       0, 0, 0, 0, 0, 0, 0, 0, 0, 1, 0, 0, 0, 0, 0, 0, 0, 0, 0, 0, 0, 0,\n",
       "       0, 0, 0, 0, 0, 0, 0, 1, 0, 0, 0, 0, 0, 0, 0, 0, 0, 0, 0, 0, 0, 0,\n",
       "       0, 0, 0, 0, 0, 1, 1, 0, 0, 0, 1, 0, 0, 0, 0, 0, 0, 0, 0, 0, 0, 0,\n",
       "       0, 0, 0, 0, 0, 0, 0, 0, 0, 0, 0, 0, 0, 0, 0, 0, 0, 0, 0, 0, 0, 0,\n",
       "       0, 0, 0, 1, 0, 1, 0, 0, 0, 0, 0, 0, 0, 0, 0, 0, 0, 1, 0, 0, 1, 0,\n",
       "       0, 0, 0, 0, 0, 1, 0, 0, 0, 0, 0, 0, 0, 0, 1, 0, 0, 0, 0, 0, 0, 0,\n",
       "       0, 0, 0, 0, 0, 0, 0, 1, 0, 0, 0, 0, 0, 0, 0, 0, 0, 0, 0, 0, 0, 0,\n",
       "       0, 0, 0, 0, 0, 0, 0, 0, 0, 0, 0, 0, 0, 0, 0, 0, 0, 1, 0, 0, 0, 0,\n",
       "       0, 0, 0, 1, 0, 0, 0, 0, 0, 0, 1, 0, 0, 0, 0, 0, 0, 0, 0, 0, 1, 0,\n",
       "       0, 0, 0, 0, 1, 0, 0, 0, 0, 0, 0, 0, 0, 0, 0, 0, 0, 0, 0, 0, 0, 0,\n",
       "       0, 0, 0, 0, 0, 0, 0, 0, 0, 0, 0, 1, 0, 0, 0, 0, 0, 0, 0, 0, 0, 0,\n",
       "       0, 0, 0, 0, 0, 0, 0, 0, 1, 0, 0, 0, 0, 0, 0, 0, 0, 0, 0, 0, 0, 0,\n",
       "       0, 0, 0, 0, 0, 0, 0, 0, 0, 0, 0, 0, 1, 0, 0, 0, 0, 0, 0, 0, 0, 0,\n",
       "       0, 0, 0, 0, 0, 0, 0, 0, 1, 0, 0, 0, 0, 0, 0, 0, 1, 0, 0, 1, 0, 0,\n",
       "       0, 0, 0, 0, 0, 0, 0, 0, 0, 0, 0, 0, 0, 0, 1, 0, 0, 0, 0, 0, 0, 0,\n",
       "       0, 0, 0, 0, 0, 0, 0, 0, 0, 0, 1, 0, 0, 0, 0, 0, 0, 1, 0, 0, 0, 0,\n",
       "       0, 0, 0, 0, 0, 0, 0, 0, 0, 0, 0, 1, 0, 0, 0, 0, 0, 1, 0, 0, 0, 0,\n",
       "       0, 0, 0, 0, 0, 1, 1, 0, 0, 0, 0, 1, 0, 0, 0, 0, 0, 0, 0, 0, 0, 0,\n",
       "       0, 0, 0, 0, 0, 0, 0, 0, 1, 0, 0, 0, 0, 0, 0, 0, 0, 1, 0, 0, 0, 0,\n",
       "       0, 0, 0, 0, 0, 0, 0, 0, 0, 0, 0, 0, 0, 0, 0, 0, 0, 0, 0, 0, 0, 0,\n",
       "       0, 0, 0, 0, 0, 1, 0, 0, 0, 0, 1, 0, 0, 0, 0, 0, 0, 0, 0, 0, 0, 0,\n",
       "       0, 0, 0, 0, 0, 0, 0, 0, 1, 0, 0, 0, 0, 0, 0, 0, 0, 0, 0, 0, 0, 0,\n",
       "       0, 0, 0, 0, 0, 0, 0, 0, 0, 0, 0, 1, 0, 0, 0, 0, 1, 0, 0, 0, 0, 0,\n",
       "       0, 0, 0, 0, 0, 0, 0, 0, 0, 0, 0, 0, 0, 0, 0, 0, 0, 0, 0, 0, 0, 0,\n",
       "       0, 0, 0, 0, 0, 0, 0, 0, 0, 1, 0, 0, 0, 0, 0, 0, 0, 0, 0, 0, 0, 0,\n",
       "       0, 0, 0, 0, 0, 0, 0, 0, 0, 0, 0, 0, 1, 0, 0, 0, 0, 0, 0, 0, 1, 0,\n",
       "       0, 0, 0, 0, 0, 0, 0, 0, 0, 0, 0, 0, 0, 0, 0, 0, 0, 0, 0, 0, 0, 0,\n",
       "       0, 0, 0, 0, 0, 0, 0, 0, 0, 0, 0, 0, 0, 1, 0, 0, 0, 0, 0, 0, 0, 0,\n",
       "       0, 0, 0, 0, 0, 0, 0, 0, 0, 0, 0, 0, 0, 0, 0, 0, 0, 0, 0, 0, 1, 0,\n",
       "       0, 0, 0, 0, 0, 0, 1, 0, 1, 0, 0, 0, 0, 0, 0, 0, 0, 0, 0, 0, 0, 0,\n",
       "       0, 0, 0, 0, 0, 0, 0, 0, 0, 0, 0, 0, 0, 0, 1, 0, 0, 1, 0, 0, 0, 0,\n",
       "       1, 0, 0, 0, 0, 0, 0, 0, 1, 0, 0, 0, 0, 0, 0, 0, 0, 0, 0, 0, 0, 0,\n",
       "       0, 0, 0, 0, 0, 0, 0, 0, 1, 0])"
      ]
     },
     "execution_count": 75,
     "metadata": {},
     "output_type": "execute_result"
    }
   ],
   "source": [
    "# Mostrar y_pred\n",
    "y_pred"
   ]
  },
  {
   "cell_type": "code",
   "execution_count": 74,
   "id": "d27257b5",
   "metadata": {},
   "outputs": [],
   "source": [
    "# Retornar as Probabilidades das previsões\n",
    "y_pred_prob = rf_model.predict_proba(X_test)"
   ]
  },
  {
   "cell_type": "code",
   "execution_count": 76,
   "id": "4aad0313",
   "metadata": {},
   "outputs": [
    {
     "data": {
      "text/plain": [
       "array([[1.  , 0.  ],\n",
       "       [0.97, 0.03],\n",
       "       [0.92, 0.08],\n",
       "       ...,\n",
       "       [0.97, 0.03],\n",
       "       [0.48, 0.52],\n",
       "       [0.51, 0.49]])"
      ]
     },
     "execution_count": 76,
     "metadata": {},
     "output_type": "execute_result"
    }
   ],
   "source": [
    "# Mostrar Probabilidades\n",
    "y_pred_prob"
   ]
  },
  {
   "cell_type": "code",
   "execution_count": 77,
   "id": "cdbb55f9",
   "metadata": {},
   "outputs": [
    {
     "name": "stdout",
     "output_type": "stream",
     "text": [
      "Relatório de Classificação\n",
      "              precision    recall  f1-score   support\n",
      "\n",
      "           0       0.92      1.00      0.96       855\n",
      "           1       1.00      0.48      0.64       145\n",
      "\n",
      "    accuracy                           0.92      1000\n",
      "   macro avg       0.96      0.74      0.80      1000\n",
      "weighted avg       0.93      0.92      0.91      1000\n",
      "\n"
     ]
    }
   ],
   "source": [
    "#Avaliação do Modelo\n",
    "print('Relatório de Classificação')\n",
    "print(classification_report(y_test, y_pred))"
   ]
  },
  {
   "cell_type": "code",
   "execution_count": 78,
   "id": "7bc9229c",
   "metadata": {},
   "outputs": [],
   "source": [
    "# Retornar os valores da Curva ROC - TPR vs FPR e Threshould (Pontos de Corte)\n",
    "fpr, tpr, threshoulds = roc_curve(y_test, y_pred_prob[:, 1])"
   ]
  },
  {
   "cell_type": "code",
   "execution_count": 79,
   "id": "3c29bfab",
   "metadata": {},
   "outputs": [],
   "source": [
    "# Calcular AUC (Area Under the Curve)\n",
    "roc_auc = roc_auc_score(y_test, y_pred_prob[:, 1])"
   ]
  },
  {
   "cell_type": "code",
   "execution_count": 88,
   "id": "33b5a5bd",
   "metadata": {},
   "outputs": [
    {
     "data": {
      "application/vnd.plotly.v1+json": {
       "config": {
        "plotlyServerURL": "https://plot.ly"
       },
       "data": [
        {
         "fillpattern": {
          "shape": ""
         },
         "hovertemplate": "False Positive Rate=%{x}<br>True Positive Rate=%{y}<extra></extra>",
         "legendgroup": "",
         "line": {
          "color": "#636efa"
         },
         "marker": {
          "symbol": "circle"
         },
         "mode": "lines",
         "name": "",
         "orientation": "v",
         "showlegend": false,
         "stackgroup": "1",
         "type": "scatter",
         "x": {
          "bdata": "AAAAAAAAAAAAAAAAAAAAAAAAAAAAAAAAAAAAAAAAAAAAAAAAAAAAAAAAAAAAAAAAAAAAAAAAAAAAAAAAAAAAAAAAAAAAAAAAAAAAAAAAAAAAAAAAAAAAAAAAAAAAAAAAAAAAAAAAAAAAAAAAAAAAAAAAAAAAAAAAAAAAAAAAAAAAAAAAAAAAAAAAAAAAAAAAAAAAAAAAAAAAAAAAAAAAAAAAAAAAAAAAAAAAAAAAAAAAAAAAAAAAAAAAAAAAAAAAAAAAAAAAAAAAAAAAAAAAAAAAAAAAAAAAAAAAAAAAAAAAAAAAAAAAAAAAAAAAAAAAAAAAAAAAAAAAAAAAAAAAAAAAAAAAAAAAAAAAAAAAAAAAAAAAAAAAAAAAAAAAAAAAAAAAAAAAAAAAAAAAAAAAAAAAAAAAAAAAmjIBZJ4pYz+aMgFkniljP5oyAWSeKXM/QH8B/QX0dz/tWIEw0o6FP0B/Af0F9Ic/cB/BfQT3kT/ERUFKOFyUPxdswRZswZY/apJB458mmT9wH8F9BPehP1hPYT2F9aQ/UsLhoiAlrD98B/EdxHewP+1YgTDSjrU//5th1uy/uT+sDknUverAPzUwOSdLA8M/dnpxg1+nxz9G2rECYaTNP3MZzWU0l9E/T2E9hfUU1j/wuSVO/Z7bP68IVbztiuA//jfDrNl/4z/deT+0yp3nP3Z6cYNfp+c/YKcXN/h16j9G2rECYaTtPzf4dXpxg+8/AAAAAAAA8D8=",
          "dtype": "f8"
         },
         "xaxis": "x",
         "y": {
          "bdata": "AAAAAAAAAADw+MMBjz98P7T6UkGrL6U/8PjDAY8/rD8OePzhgMevPyW7NlGya7M/0nmLIZ23uD/w+MMBjz+8P5Z7GmG5p8E/Jbs2UbJrwz98GmG5pxHGP0M6bzGk88Y/Kdm1iZJdyz9HWO5phOXOP3qLIZ23GNI/QasvFbT60j/t2kTJrk3UP9DqSwWtvtQ/mApafamg1T98GmG5pxHWPydKdm2iZNc/7mmE5Z5G2D99qaDVlwraPynZtYmSXds/8PjDAY8/3D9/OODxhwPeP2NI5y2GdN4/+cMBjz8c4D/rSwWtvlTgP89bDOm8xeA/lnsaYbmn4T+IAx5/OODhPzMzMzMzM+M/+1JBqy8V5D/t2kTJrk3kP7T6UkGrL+U/poJWXypo5T8nSnZtomTnPxnSeYshnec//OGAxx8O6D/g8YcDHn/oP8QBjz8c8Og/tomSXZso6T+LIZ23GNLpP2G5pxGWe+o/YbmnEZZ76j9huacRlnvqP1NBqy8VtOo/U0GrLxW06j9Fya5NlOzqPzdRsmsTJes/Kdm1iZJd6z8p2bWJkl3rPxphuacRlus//nDA4w8H7D/igMcfDnjsP8aQzlsM6ew/qaDVlwpa7T+NsNzTCMvtP3844PGHA+4/fzjg8YcD7j9xwOMPBzzuP2NI5y2GdO4/R1juaYTl7j844PGHAx7vPzjg8YcDHu8/Dnj84YDH7z8OePzhgMfvPw54/OGAx+8/AAAAAAAA8D8=",
          "dtype": "f8"
         },
         "yaxis": "y"
        }
       ],
       "layout": {
        "height": 500,
        "legend": {
         "tracegroupgap": 0
        },
        "shapes": [
         {
          "line": {
           "dash": "dash"
          },
          "type": "line",
          "x0": 0,
          "x1": 1,
          "y0": 0,
          "y1": 1
         }
        ],
        "template": {
         "data": {
          "bar": [
           {
            "error_x": {
             "color": "#2a3f5f"
            },
            "error_y": {
             "color": "#2a3f5f"
            },
            "marker": {
             "line": {
              "color": "#E5ECF6",
              "width": 0.5
             },
             "pattern": {
              "fillmode": "overlay",
              "size": 10,
              "solidity": 0.2
             }
            },
            "type": "bar"
           }
          ],
          "barpolar": [
           {
            "marker": {
             "line": {
              "color": "#E5ECF6",
              "width": 0.5
             },
             "pattern": {
              "fillmode": "overlay",
              "size": 10,
              "solidity": 0.2
             }
            },
            "type": "barpolar"
           }
          ],
          "carpet": [
           {
            "aaxis": {
             "endlinecolor": "#2a3f5f",
             "gridcolor": "white",
             "linecolor": "white",
             "minorgridcolor": "white",
             "startlinecolor": "#2a3f5f"
            },
            "baxis": {
             "endlinecolor": "#2a3f5f",
             "gridcolor": "white",
             "linecolor": "white",
             "minorgridcolor": "white",
             "startlinecolor": "#2a3f5f"
            },
            "type": "carpet"
           }
          ],
          "choropleth": [
           {
            "colorbar": {
             "outlinewidth": 0,
             "ticks": ""
            },
            "type": "choropleth"
           }
          ],
          "contour": [
           {
            "colorbar": {
             "outlinewidth": 0,
             "ticks": ""
            },
            "colorscale": [
             [
              0,
              "#0d0887"
             ],
             [
              0.1111111111111111,
              "#46039f"
             ],
             [
              0.2222222222222222,
              "#7201a8"
             ],
             [
              0.3333333333333333,
              "#9c179e"
             ],
             [
              0.4444444444444444,
              "#bd3786"
             ],
             [
              0.5555555555555556,
              "#d8576b"
             ],
             [
              0.6666666666666666,
              "#ed7953"
             ],
             [
              0.7777777777777778,
              "#fb9f3a"
             ],
             [
              0.8888888888888888,
              "#fdca26"
             ],
             [
              1,
              "#f0f921"
             ]
            ],
            "type": "contour"
           }
          ],
          "contourcarpet": [
           {
            "colorbar": {
             "outlinewidth": 0,
             "ticks": ""
            },
            "type": "contourcarpet"
           }
          ],
          "heatmap": [
           {
            "colorbar": {
             "outlinewidth": 0,
             "ticks": ""
            },
            "colorscale": [
             [
              0,
              "#0d0887"
             ],
             [
              0.1111111111111111,
              "#46039f"
             ],
             [
              0.2222222222222222,
              "#7201a8"
             ],
             [
              0.3333333333333333,
              "#9c179e"
             ],
             [
              0.4444444444444444,
              "#bd3786"
             ],
             [
              0.5555555555555556,
              "#d8576b"
             ],
             [
              0.6666666666666666,
              "#ed7953"
             ],
             [
              0.7777777777777778,
              "#fb9f3a"
             ],
             [
              0.8888888888888888,
              "#fdca26"
             ],
             [
              1,
              "#f0f921"
             ]
            ],
            "type": "heatmap"
           }
          ],
          "histogram": [
           {
            "marker": {
             "pattern": {
              "fillmode": "overlay",
              "size": 10,
              "solidity": 0.2
             }
            },
            "type": "histogram"
           }
          ],
          "histogram2d": [
           {
            "colorbar": {
             "outlinewidth": 0,
             "ticks": ""
            },
            "colorscale": [
             [
              0,
              "#0d0887"
             ],
             [
              0.1111111111111111,
              "#46039f"
             ],
             [
              0.2222222222222222,
              "#7201a8"
             ],
             [
              0.3333333333333333,
              "#9c179e"
             ],
             [
              0.4444444444444444,
              "#bd3786"
             ],
             [
              0.5555555555555556,
              "#d8576b"
             ],
             [
              0.6666666666666666,
              "#ed7953"
             ],
             [
              0.7777777777777778,
              "#fb9f3a"
             ],
             [
              0.8888888888888888,
              "#fdca26"
             ],
             [
              1,
              "#f0f921"
             ]
            ],
            "type": "histogram2d"
           }
          ],
          "histogram2dcontour": [
           {
            "colorbar": {
             "outlinewidth": 0,
             "ticks": ""
            },
            "colorscale": [
             [
              0,
              "#0d0887"
             ],
             [
              0.1111111111111111,
              "#46039f"
             ],
             [
              0.2222222222222222,
              "#7201a8"
             ],
             [
              0.3333333333333333,
              "#9c179e"
             ],
             [
              0.4444444444444444,
              "#bd3786"
             ],
             [
              0.5555555555555556,
              "#d8576b"
             ],
             [
              0.6666666666666666,
              "#ed7953"
             ],
             [
              0.7777777777777778,
              "#fb9f3a"
             ],
             [
              0.8888888888888888,
              "#fdca26"
             ],
             [
              1,
              "#f0f921"
             ]
            ],
            "type": "histogram2dcontour"
           }
          ],
          "mesh3d": [
           {
            "colorbar": {
             "outlinewidth": 0,
             "ticks": ""
            },
            "type": "mesh3d"
           }
          ],
          "parcoords": [
           {
            "line": {
             "colorbar": {
              "outlinewidth": 0,
              "ticks": ""
             }
            },
            "type": "parcoords"
           }
          ],
          "pie": [
           {
            "automargin": true,
            "type": "pie"
           }
          ],
          "scatter": [
           {
            "fillpattern": {
             "fillmode": "overlay",
             "size": 10,
             "solidity": 0.2
            },
            "type": "scatter"
           }
          ],
          "scatter3d": [
           {
            "line": {
             "colorbar": {
              "outlinewidth": 0,
              "ticks": ""
             }
            },
            "marker": {
             "colorbar": {
              "outlinewidth": 0,
              "ticks": ""
             }
            },
            "type": "scatter3d"
           }
          ],
          "scattercarpet": [
           {
            "marker": {
             "colorbar": {
              "outlinewidth": 0,
              "ticks": ""
             }
            },
            "type": "scattercarpet"
           }
          ],
          "scattergeo": [
           {
            "marker": {
             "colorbar": {
              "outlinewidth": 0,
              "ticks": ""
             }
            },
            "type": "scattergeo"
           }
          ],
          "scattergl": [
           {
            "marker": {
             "colorbar": {
              "outlinewidth": 0,
              "ticks": ""
             }
            },
            "type": "scattergl"
           }
          ],
          "scattermap": [
           {
            "marker": {
             "colorbar": {
              "outlinewidth": 0,
              "ticks": ""
             }
            },
            "type": "scattermap"
           }
          ],
          "scattermapbox": [
           {
            "marker": {
             "colorbar": {
              "outlinewidth": 0,
              "ticks": ""
             }
            },
            "type": "scattermapbox"
           }
          ],
          "scatterpolar": [
           {
            "marker": {
             "colorbar": {
              "outlinewidth": 0,
              "ticks": ""
             }
            },
            "type": "scatterpolar"
           }
          ],
          "scatterpolargl": [
           {
            "marker": {
             "colorbar": {
              "outlinewidth": 0,
              "ticks": ""
             }
            },
            "type": "scatterpolargl"
           }
          ],
          "scatterternary": [
           {
            "marker": {
             "colorbar": {
              "outlinewidth": 0,
              "ticks": ""
             }
            },
            "type": "scatterternary"
           }
          ],
          "surface": [
           {
            "colorbar": {
             "outlinewidth": 0,
             "ticks": ""
            },
            "colorscale": [
             [
              0,
              "#0d0887"
             ],
             [
              0.1111111111111111,
              "#46039f"
             ],
             [
              0.2222222222222222,
              "#7201a8"
             ],
             [
              0.3333333333333333,
              "#9c179e"
             ],
             [
              0.4444444444444444,
              "#bd3786"
             ],
             [
              0.5555555555555556,
              "#d8576b"
             ],
             [
              0.6666666666666666,
              "#ed7953"
             ],
             [
              0.7777777777777778,
              "#fb9f3a"
             ],
             [
              0.8888888888888888,
              "#fdca26"
             ],
             [
              1,
              "#f0f921"
             ]
            ],
            "type": "surface"
           }
          ],
          "table": [
           {
            "cells": {
             "fill": {
              "color": "#EBF0F8"
             },
             "line": {
              "color": "white"
             }
            },
            "header": {
             "fill": {
              "color": "#C8D4E3"
             },
             "line": {
              "color": "white"
             }
            },
            "type": "table"
           }
          ]
         },
         "layout": {
          "annotationdefaults": {
           "arrowcolor": "#2a3f5f",
           "arrowhead": 0,
           "arrowwidth": 1
          },
          "autotypenumbers": "strict",
          "coloraxis": {
           "colorbar": {
            "outlinewidth": 0,
            "ticks": ""
           }
          },
          "colorscale": {
           "diverging": [
            [
             0,
             "#8e0152"
            ],
            [
             0.1,
             "#c51b7d"
            ],
            [
             0.2,
             "#de77ae"
            ],
            [
             0.3,
             "#f1b6da"
            ],
            [
             0.4,
             "#fde0ef"
            ],
            [
             0.5,
             "#f7f7f7"
            ],
            [
             0.6,
             "#e6f5d0"
            ],
            [
             0.7,
             "#b8e186"
            ],
            [
             0.8,
             "#7fbc41"
            ],
            [
             0.9,
             "#4d9221"
            ],
            [
             1,
             "#276419"
            ]
           ],
           "sequential": [
            [
             0,
             "#0d0887"
            ],
            [
             0.1111111111111111,
             "#46039f"
            ],
            [
             0.2222222222222222,
             "#7201a8"
            ],
            [
             0.3333333333333333,
             "#9c179e"
            ],
            [
             0.4444444444444444,
             "#bd3786"
            ],
            [
             0.5555555555555556,
             "#d8576b"
            ],
            [
             0.6666666666666666,
             "#ed7953"
            ],
            [
             0.7777777777777778,
             "#fb9f3a"
            ],
            [
             0.8888888888888888,
             "#fdca26"
            ],
            [
             1,
             "#f0f921"
            ]
           ],
           "sequentialminus": [
            [
             0,
             "#0d0887"
            ],
            [
             0.1111111111111111,
             "#46039f"
            ],
            [
             0.2222222222222222,
             "#7201a8"
            ],
            [
             0.3333333333333333,
             "#9c179e"
            ],
            [
             0.4444444444444444,
             "#bd3786"
            ],
            [
             0.5555555555555556,
             "#d8576b"
            ],
            [
             0.6666666666666666,
             "#ed7953"
            ],
            [
             0.7777777777777778,
             "#fb9f3a"
            ],
            [
             0.8888888888888888,
             "#fdca26"
            ],
            [
             1,
             "#f0f921"
            ]
           ]
          },
          "colorway": [
           "#636efa",
           "#EF553B",
           "#00cc96",
           "#ab63fa",
           "#FFA15A",
           "#19d3f3",
           "#FF6692",
           "#B6E880",
           "#FF97FF",
           "#FECB52"
          ],
          "font": {
           "color": "#2a3f5f"
          },
          "geo": {
           "bgcolor": "white",
           "lakecolor": "white",
           "landcolor": "#E5ECF6",
           "showlakes": true,
           "showland": true,
           "subunitcolor": "white"
          },
          "hoverlabel": {
           "align": "left"
          },
          "hovermode": "closest",
          "mapbox": {
           "style": "light"
          },
          "paper_bgcolor": "white",
          "plot_bgcolor": "#E5ECF6",
          "polar": {
           "angularaxis": {
            "gridcolor": "white",
            "linecolor": "white",
            "ticks": ""
           },
           "bgcolor": "#E5ECF6",
           "radialaxis": {
            "gridcolor": "white",
            "linecolor": "white",
            "ticks": ""
           }
          },
          "scene": {
           "xaxis": {
            "backgroundcolor": "#E5ECF6",
            "gridcolor": "white",
            "gridwidth": 2,
            "linecolor": "white",
            "showbackground": true,
            "ticks": "",
            "zerolinecolor": "white"
           },
           "yaxis": {
            "backgroundcolor": "#E5ECF6",
            "gridcolor": "white",
            "gridwidth": 2,
            "linecolor": "white",
            "showbackground": true,
            "ticks": "",
            "zerolinecolor": "white"
           },
           "zaxis": {
            "backgroundcolor": "#E5ECF6",
            "gridcolor": "white",
            "gridwidth": 2,
            "linecolor": "white",
            "showbackground": true,
            "ticks": "",
            "zerolinecolor": "white"
           }
          },
          "shapedefaults": {
           "line": {
            "color": "#2a3f5f"
           }
          },
          "ternary": {
           "aaxis": {
            "gridcolor": "white",
            "linecolor": "white",
            "ticks": ""
           },
           "baxis": {
            "gridcolor": "white",
            "linecolor": "white",
            "ticks": ""
           },
           "bgcolor": "#E5ECF6",
           "caxis": {
            "gridcolor": "white",
            "linecolor": "white",
            "ticks": ""
           }
          },
          "title": {
           "x": 0.05
          },
          "xaxis": {
           "automargin": true,
           "gridcolor": "white",
           "linecolor": "white",
           "ticks": "",
           "title": {
            "standoff": 15
           },
           "zerolinecolor": "white",
           "zerolinewidth": 2
          },
          "yaxis": {
           "automargin": true,
           "gridcolor": "white",
           "linecolor": "white",
           "ticks": "",
           "title": {
            "standoff": 15
           },
           "zerolinecolor": "white",
           "zerolinewidth": 2
          }
         }
        },
        "title": {
         "text": "Curva ROC (AUC=0.9449)"
        },
        "width": 700,
        "xaxis": {
         "anchor": "y",
         "domain": [
          0,
          1
         ],
         "title": {
          "text": "False Positive Rate"
         }
        },
        "yaxis": {
         "anchor": "x",
         "domain": [
          0,
          1
         ],
         "title": {
          "text": "True Positive Rate"
         }
        }
       }
      }
     },
     "metadata": {},
     "output_type": "display_data"
    }
   ],
   "source": [
    "# Plotar a Curva ROC com valor do AUC\n",
    "fig = px.area(\n",
    "    x=fpr,\n",
    "    y=tpr,\n",
    "    title=f'Curva ROC (AUC={roc_auc:.4f})',\n",
    "    labels=dict(x='False Positive Rate', y='True Positive Rate'),\n",
    "    width= 700,\n",
    "    height=500\n",
    ")\n",
    "\n",
    "fig.add_shape(\n",
    "    type='line', line=dict(dash='dash'),\n",
    "    x0=0, x1=1, y0=0, y1=1\n",
    ")\n",
    "\n",
    "#.update_xaxes(constrain='domain')\n",
    "#fig.update_yaxes(scaleanchor='x', scaleratio=1)\n",
    "fig.show()"
   ]
  },
  {
   "cell_type": "code",
   "execution_count": 94,
   "id": "5233ed49",
   "metadata": {},
   "outputs": [
    {
     "data": {
      "text/plain": [
       "<sklearn.metrics._plot.confusion_matrix.ConfusionMatrixDisplay at 0x1cda071fc50>"
      ]
     },
     "execution_count": 94,
     "metadata": {},
     "output_type": "execute_result"
    },
    {
     "data": {
      "image/png": "[encoded data removed]",
      "text/plain": [
       "<Figure size 640x480 with 2 Axes>"
      ]
     },
     "metadata": {},
     "output_type": "display_data"
    }
   ],
   "source": [
    "# Mostar a Matriz de Confusão\n",
    "conf_matrix = confusion_matrix(y_test, y_pred)\n",
    "fig = ConfusionMatrixDisplay(conf_matrix)\n",
    "fig.plot()"
   ]
  },
  {
   "cell_type": "code",
   "execution_count": 95,
   "id": "ab959cff",
   "metadata": {},
   "outputs": [
    {
     "name": "stdout",
     "output_type": "stream",
     "text": [
      "Log Loss: 0.2371\n"
     ]
    }
   ],
   "source": [
    "# Calcular Log Loss\n",
    "print(f'Log Loss: {log_loss(y_test, y_pred_prob):.4f}')"
   ]
  },
  {
   "cell_type": "code",
   "execution_count": null,
   "id": "e1473c01",
   "metadata": {},
   "outputs": [],
   "source": []
  }
 ],
 "metadata": {
  "kernelspec": {
   "display_name": "ROCKETSEAT-znLm4meT",
   "language": "python",
   "name": "python3"
  },
  "language_info": {
   "codemirror_mode": {
    "name": "ipython",
    "version": 3
   },
   "file_extension": ".py",
   "mimetype": "text/x-python",
   "name": "python",
   "nbconvert_exporter": "python",
   "pygments_lexer": "ipython3",
   "version": "3.12.4"
  }
 },
 "nbformat": 4,
 "nbformat_minor": 5
}
